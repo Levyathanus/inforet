{
 "cells": [
  {
   "cell_type": "markdown",
   "metadata": {},
   "source": [
    "# Word Embeddings\n",
    "Examples on training models and see some applications"
   ]
  },
  {
   "cell_type": "code",
   "execution_count": 1,
   "metadata": {},
   "outputs": [],
   "source": [
    "import numpy as np\n",
    "import pandas as pd\n",
    "from tqdm.notebook import tqdm"
   ]
  },
  {
   "cell_type": "markdown",
   "metadata": {},
   "source": [
    "## Create corpora based on genre"
   ]
  },
  {
   "cell_type": "code",
   "execution_count": 2,
   "metadata": {},
   "outputs": [],
   "source": [
    "genres = ['crime', 'mystery', 'romance', \n",
    "          'thriller', 'action', 'drama', 'comedy']"
   ]
  },
  {
   "cell_type": "code",
   "execution_count": 3,
   "metadata": {},
   "outputs": [],
   "source": [
    "db_name = 'movie-dialogs'\n",
    "collection = 'lines'\n",
    "u = {'$unwind': '$character.movie.genres'}\n",
    "m = {'$match': {'character.movie.genres': None}}\n",
    "p = {'$project': {'_id': 0, 'id': 1, 'text': 1}}"
   ]
  },
  {
   "cell_type": "code",
   "execution_count": 4,
   "metadata": {},
   "outputs": [],
   "source": [
    "from langmodels.corpora.moviedialog import MovieDialogCollection"
   ]
  },
  {
   "cell_type": "code",
   "execution_count": 5,
   "metadata": {},
   "outputs": [
    {
     "data": {
      "application/vnd.jupyter.widget-view+json": {
       "model_id": "0ed96510377443668692cf04170871d8",
       "version_major": 2,
       "version_minor": 0
      },
      "text/plain": [
       "HBox(children=(HTML(value=''), FloatProgress(value=0.0, max=7.0), HTML(value='')))"
      ]
     },
     "metadata": {},
     "output_type": "display_data"
    },
    {
     "name": "stdout",
     "output_type": "stream",
     "text": [
      "\n"
     ]
    }
   ],
   "source": [
    "corpora = {}\n",
    "for genre in tqdm(genres):\n",
    "    w = {'$match': {'character.movie.genres': genre}}\n",
    "    pipeline = [w, u, w, p]\n",
    "    corpora[genre] = MovieDialogCollection(\n",
    "        db_name, collection, use_pos=False, pipeline=pipeline)"
   ]
  },
  {
   "cell_type": "code",
   "execution_count": 6,
   "metadata": {},
   "outputs": [
    {
     "data": {
      "application/vnd.jupyter.widget-view+json": {
       "model_id": "04d985b87cd54038b9bcfc048165937b",
       "version_major": 2,
       "version_minor": 0
      },
      "text/plain": [
       "HBox(children=(HTML(value=''), FloatProgress(value=0.0, max=7.0), HTML(value='')))"
      ]
     },
     "metadata": {},
     "output_type": "display_data"
    },
    {
     "name": "stdout",
     "output_type": "stream",
     "text": [
      "\n"
     ]
    }
   ],
   "source": [
    "sequences = {}\n",
    "for genre in tqdm(genres):\n",
    "    seq = []\n",
    "    for doc, tokens in corpora[genre].get_skip_tokens(n=3, s=2):\n",
    "        for a, b, c in tokens:\n",
    "            seq.append([a, b, c])\n",
    "    sequences[genre] = seq"
   ]
  },
  {
   "cell_type": "markdown",
   "metadata": {},
   "source": [
    "for k, v in sequences.items():\n",
    "    print(k, len(v))"
   ]
  },
  {
   "cell_type": "markdown",
   "metadata": {},
   "source": [
    "## Training models"
   ]
  },
  {
   "cell_type": "code",
   "execution_count": 7,
   "metadata": {},
   "outputs": [],
   "source": [
    "from gensim.models import Word2Vec\n",
    "from gensim.models.keyedvectors import KeyedVectors"
   ]
  },
  {
   "cell_type": "code",
   "execution_count": 8,
   "metadata": {},
   "outputs": [],
   "source": [
    "models = {}\n",
    "for genre, sequence in sequences.items():\n",
    "    models[genre] = Word2Vec(sequences[genre], min_count=50)"
   ]
  },
  {
   "cell_type": "code",
   "execution_count": 11,
   "metadata": {},
   "outputs": [
    {
     "name": "stdout",
     "output_type": "stream",
     "text": [
      "crime [('touch', 0.56), ('trust', 0.55), ('hate', 0.54), ('loved', 0.52), ('believe', 0.51)]\n",
      "mystery [('hate', 0.67), ('remind', 0.62), ('charge', 0.61), ('touch', 0.6), ('believe', 0.6)]\n",
      "romance [('touch', 0.61), ('hate', 0.58), ('interested', 0.51), ('speak', 0.51), ('trusted', 0.47)]\n",
      "thriller [('hate', 0.61), ('touch', 0.55), ('trust', 0.54), ('believe', 0.51), ('happy', 0.51)]\n",
      "action [('hate', 0.61), ('asking', 0.57), ('cry', 0.54), ('watched', 0.53), ('bullshit', 0.53)]\n",
      "drama [('hate', 0.62), ('trust', 0.59), ('touch', 0.54), ('loved', 0.54), ('believe', 0.51)]\n",
      "comedy [('hate', 0.56), ('loved', 0.53), ('contact', 0.52), ('talked', 0.49), ('touch', 0.49)]\n"
     ]
    }
   ],
   "source": [
    "word = 'love'\n",
    "for genre, model in models.items():\n",
    "    print(genre, [(x[0], round(x[1], 2)) for x in \n",
    "                  model.wv.most_similar(positive=word)][:5])"
   ]
  },
  {
   "cell_type": "markdown",
   "metadata": {},
   "source": [
    "## Pre-trained vectors"
   ]
  },
  {
   "cell_type": "code",
   "execution_count": 12,
   "metadata": {},
   "outputs": [],
   "source": [
    "file = '/Users/alfio/Dati/wordembeddings/word2vec/GoogleNews-vectors-negative300.bin'\n",
    "gen = model = KeyedVectors.load_word2vec_format(\n",
    "    file, binary=True)"
   ]
  },
  {
   "cell_type": "code",
   "execution_count": 18,
   "metadata": {},
   "outputs": [
    {
     "data": {
      "text/plain": [
       "[('physician', 0.7806021571159363),\n",
       " ('doctors', 0.7476574182510376),\n",
       " ('gynecologist', 0.6947518587112427),\n",
       " ('surgeon', 0.6793397665023804),\n",
       " ('dentist', 0.6785441637039185),\n",
       " ('pediatrician', 0.664313793182373),\n",
       " ('pharmacist', 0.653485894203186),\n",
       " ('neurologist', 0.6517742872238159),\n",
       " ('cardiologist', 0.635229766368866),\n",
       " ('nurse', 0.6319523453712463)]"
      ]
     },
     "execution_count": 18,
     "metadata": {},
     "output_type": "execute_result"
    }
   ],
   "source": [
    "gen.most_similar('doctor')"
   ]
  },
  {
   "cell_type": "code",
   "execution_count": 16,
   "metadata": {},
   "outputs": [
    {
     "data": {
      "text/plain": [
       "[('basketball', 0.7433048486709595),\n",
       " ('fooball', 0.6796388626098633),\n",
       " ('volleyball', 0.6659425497055054),\n",
       " ('hockey', 0.654636800289154),\n",
       " ('Soccer', 0.6531394720077515),\n",
       " ('baseball', 0.650175929069519),\n",
       " ('softball', 0.6397534012794495),\n",
       " ('baskeball', 0.6388416290283203),\n",
       " ('sports', 0.6365107893943787),\n",
       " ('athletics', 0.6245771646499634)]"
      ]
     },
     "execution_count": 16,
     "metadata": {},
     "output_type": "execute_result"
    }
   ],
   "source": [
    "gen.most_similar(positive=['soccer', 'football', 'rugby', 'tennis'])"
   ]
  },
  {
   "cell_type": "code",
   "execution_count": 17,
   "metadata": {},
   "outputs": [
    {
     "data": {
      "text/plain": [
       "[('queen', 0.7118192911148071),\n",
       " ('monarch', 0.6189674139022827),\n",
       " ('princess', 0.5902431011199951),\n",
       " ('crown_prince', 0.5499460697174072),\n",
       " ('prince', 0.5377321243286133),\n",
       " ('kings', 0.5236844420433044),\n",
       " ('Queen_Consort', 0.5235945582389832),\n",
       " ('queens', 0.518113374710083),\n",
       " ('sultan', 0.5098593235015869),\n",
       " ('monarchy', 0.5087411999702454)]"
      ]
     },
     "execution_count": 17,
     "metadata": {},
     "output_type": "execute_result"
    }
   ],
   "source": [
    "gen.most_similar(positive=['king', 'woman'], negative=['man'])"
   ]
  },
  {
   "cell_type": "code",
   "execution_count": 23,
   "metadata": {},
   "outputs": [],
   "source": [
    "cl = gen.word_vec(word='class')\n",
    "sc = gen.word_vec(word='school')"
   ]
  },
  {
   "cell_type": "code",
   "execution_count": 24,
   "metadata": {},
   "outputs": [
    {
     "data": {
      "text/plain": [
       "[('class', 1.0),\n",
       " ('classes', 0.6023270487785339),\n",
       " ('classs', 0.560172438621521),\n",
       " ('Faithfully_Fit_exercise', 0.5586338043212891),\n",
       " ('Class', 0.5171001553535461),\n",
       " ('Ramla_mixed', 0.48645803332328796),\n",
       " ('grade', 0.4762037992477417),\n",
       " ('middle', 0.46737974882125854),\n",
       " ('IKON_integrates', 0.4630744457244873),\n",
       " ('runic_setup_signifies', 0.45063671469688416)]"
      ]
     },
     "execution_count": 24,
     "metadata": {},
     "output_type": "execute_result"
    }
   ],
   "source": [
    "gen.similar_by_vector(cl)"
   ]
  },
  {
   "cell_type": "code",
   "execution_count": 25,
   "metadata": {},
   "outputs": [
    {
     "data": {
      "text/plain": [
       "[('school', 1.0),\n",
       " ('elementary', 0.7868632078170776),\n",
       " ('schools', 0.7411909103393555),\n",
       " ('shool', 0.6692329049110413),\n",
       " ('elementary_schools', 0.6597154140472412),\n",
       " ('kindergarten', 0.6529810428619385),\n",
       " ('eighth_grade', 0.6488089561462402),\n",
       " ('School', 0.6477997899055481),\n",
       " ('teacher', 0.63824063539505),\n",
       " ('students', 0.6301522850990295)]"
      ]
     },
     "execution_count": 25,
     "metadata": {},
     "output_type": "execute_result"
    }
   ],
   "source": [
    "gen.similar_by_vector(sc)"
   ]
  },
  {
   "cell_type": "code",
   "execution_count": 28,
   "metadata": {},
   "outputs": [],
   "source": [
    "mx = np.array([cl, sc]).mean(axis=0)"
   ]
  },
  {
   "cell_type": "code",
   "execution_count": 31,
   "metadata": {},
   "outputs": [
    {
     "data": {
      "text/plain": [
       "[('school', 0.8400036096572876),\n",
       " ('class', 0.819097101688385),\n",
       " ('elementary', 0.6654949188232422),\n",
       " ('classes', 0.6472808122634888),\n",
       " ('eighth_grade', 0.6427940130233765),\n",
       " ('shool', 0.6210751533508301),\n",
       " ('schools', 0.6050800085067749),\n",
       " ('students', 0.5921556949615479),\n",
       " ('classroom', 0.5894216299057007),\n",
       " ('classs', 0.5824296474456787)]"
      ]
     },
     "execution_count": 31,
     "metadata": {},
     "output_type": "execute_result"
    }
   ],
   "source": [
    "gen.similar_by_vector(mx)"
   ]
  },
  {
   "cell_type": "code",
   "execution_count": 19,
   "metadata": {},
   "outputs": [
    {
     "name": "stdout",
     "output_type": "stream",
     "text": [
      "crime sting\n",
      "mystery beauty\n",
      "romance queen\n",
      "thriller dumper\n",
      "action grail\n",
      "drama child\n",
      "comedy aware\n"
     ]
    }
   ],
   "source": [
    "for genre, model in models.items():\n",
    "    print(genre, model.wv.most_similar(positive=['king', 'woman'], \n",
    "                                    negative=['man'])[0][0])"
   ]
  },
  {
   "cell_type": "code",
   "execution_count": null,
   "metadata": {},
   "outputs": [],
   "source": []
  }
 ],
 "metadata": {
  "kernelspec": {
   "display_name": "Python 3",
   "language": "python",
   "name": "python3"
  },
  "language_info": {
   "codemirror_mode": {
    "name": "ipython",
    "version": 3
   },
   "file_extension": ".py",
   "mimetype": "text/x-python",
   "name": "python",
   "nbconvert_exporter": "python",
   "pygments_lexer": "ipython3",
   "version": "3.7.4"
  },
  "toc": {
   "base_numbering": 1,
   "nav_menu": {},
   "number_sections": true,
   "sideBar": true,
   "skip_h1_title": true,
   "title_cell": "Table of Contents",
   "title_sidebar": "Contents",
   "toc_cell": false,
   "toc_position": {},
   "toc_section_display": true,
   "toc_window_display": false
  }
 },
 "nbformat": 4,
 "nbformat_minor": 2
}
