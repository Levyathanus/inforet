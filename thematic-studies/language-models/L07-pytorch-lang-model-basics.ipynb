{
 "cells": [
  {
   "cell_type": "markdown",
   "metadata": {},
   "source": [
    "# Introduction to Neural Language Models using PyTorch\n",
    "We want to predict\n",
    "\n",
    "$$\\hat{P}(w_i \\mid w_1, \\dots, w_{i-1})$$"
   ]
  },
  {
   "cell_type": "code",
   "execution_count": 2,
   "metadata": {},
   "outputs": [],
   "source": [
    "import numpy as np\n",
    "import pandas as pd\n",
    "from tqdm.notebook import tqdm"
   ]
  },
  {
   "cell_type": "code",
   "execution_count": 3,
   "metadata": {
    "pycharm": {
     "is_executing": false
    }
   },
   "outputs": [],
   "source": [
    "import string\n",
    "import nltk\n",
    "import matplotlib.pyplot as plt"
   ]
  },
  {
   "cell_type": "markdown",
   "metadata": {},
   "source": [
    "## Case study\n",
    "We aim at training a network for a Movie in the Movie-Dialog dataset. Instead of using simple tokens, we create artificial tokens by combining a token with its part-of-speech.\n",
    "\n",
    "**Example**"
   ]
  },
  {
   "cell_type": "code",
   "execution_count": 8,
   "metadata": {
    "pycharm": {
     "is_executing": false
    }
   },
   "outputs": [],
   "source": [
    "from langmodels.corpora.moviedialog import MovieDialogCollection"
   ]
  },
  {
   "cell_type": "code",
   "execution_count": 9,
   "metadata": {
    "pycharm": {
     "is_executing": false
    }
   },
   "outputs": [],
   "source": [
    "db_name = 'movie-dialogs'\n",
    "collection = 'lines'\n",
    "m = {'$match': {'character.movie.id': 'm42'}}\n",
    "p = {'$project': {'_id': 0, 'id': 1, 'text': 1}}\n",
    "pipeline = [m, p]"
   ]
  },
  {
   "cell_type": "code",
   "execution_count": 10,
   "metadata": {},
   "outputs": [],
   "source": [
    "m42 = MovieDialogCollection(db_name, collection, \n",
    "                            use_pos=False, mix_pos=True, pipeline=pipeline)"
   ]
  },
  {
   "cell_type": "code",
   "execution_count": 11,
   "metadata": {},
   "outputs": [],
   "source": [
    "tokens = m42.get_tokens()"
   ]
  },
  {
   "cell_type": "code",
   "execution_count": 12,
   "metadata": {},
   "outputs": [
    {
     "name": "stdout",
     "output_type": "stream",
     "text": [
      "('L119167', ['--_PUNCT', 'he_PRON', \"'s_AUX\", 'just_ADV', 'a_DET', 'lucky_ADJ', 'guy_NOUN', '._PUNCT'])\n"
     ]
    }
   ],
   "source": [
    "print(tokens[0])"
   ]
  },
  {
   "cell_type": "markdown",
   "metadata": {},
   "source": [
    "## Word embeddings\n",
    "Since we do not have single words, but words plus POS, we cannot use a pre-trained word embedding model. Thus, we create one custom model, using a larger corpus (see the [example](https://github.com/afflint/inforet/blob/master/thematic-studies/language-models/L04-wordembeddings.ipynb))"
   ]
  },
  {
   "cell_type": "code",
   "execution_count": 13,
   "metadata": {},
   "outputs": [],
   "source": [
    "ug = {'$unwind': '$character.movie.genres'}\n",
    "mg = {'$match': {'character.movie.genres': {'$in': ['drama']}}}\n",
    "pg = {'$project': {'_id': 0, 'id': 1, 'text': 1}}\n",
    "pipeline = [ug, mg, pg]"
   ]
  },
  {
   "cell_type": "code",
   "execution_count": 14,
   "metadata": {},
   "outputs": [],
   "source": [
    "general = MovieDialogCollection(db_name, collection, \n",
    "                                use_pos=False, \n",
    "                                mix_pos=True, pipeline=pipeline)"
   ]
  },
  {
   "cell_type": "markdown",
   "metadata": {},
   "source": [
    "sequences = []\n",
    "for doc, tokens in general.get_skip_tokens(n=3, s=2):\n",
    "    for a, b, c in tokens:\n",
    "        sequences.append([a, b, c])"
   ]
  },
  {
   "cell_type": "markdown",
   "metadata": {},
   "source": [
    "print(len(sequences), sequences[0])"
   ]
  },
  {
   "cell_type": "code",
   "execution_count": 15,
   "metadata": {},
   "outputs": [],
   "source": [
    "from gensim.models import Word2Vec\n",
    "from gensim.models.keyedvectors import KeyedVectors"
   ]
  },
  {
   "cell_type": "markdown",
   "metadata": {},
   "source": [
    "embedding_model = Word2Vec(sequences, min_count=30)"
   ]
  },
  {
   "cell_type": "markdown",
   "metadata": {},
   "source": [
    "embedding_model.wv.most_similar(positive='can_VERB')[:5]"
   ]
  },
  {
   "cell_type": "markdown",
   "metadata": {},
   "source": [
    "embedding_model.save('langmodels/corpora/token_pos.word2vec')"
   ]
  },
  {
   "cell_type": "markdown",
   "metadata": {},
   "source": [
    "### Load model"
   ]
  },
  {
   "cell_type": "code",
   "execution_count": 17,
   "metadata": {},
   "outputs": [],
   "source": [
    "embedding_model = Word2Vec.load('../../data/token_pos.word2vec')"
   ]
  },
  {
   "cell_type": "markdown",
   "metadata": {},
   "source": [
    "### Create an embedding matrix for feeding the network\n",
    "For each word in dataset’s vocabulary, we check if it is on Word2Vec vocabulary. If it do it, we load its pre-trained word vector. Otherwise, we initialize a random vector. Moreover, we add two special random vectors for the start sentence token `#S` and the end token `#E`."
   ]
  },
  {
   "cell_type": "code",
   "execution_count": 18,
   "metadata": {},
   "outputs": [],
   "source": [
    "V = m42.vocabulary + ['#S', '#E']"
   ]
  },
  {
   "cell_type": "code",
   "execution_count": 19,
   "metadata": {},
   "outputs": [],
   "source": [
    "word2idx = dict([(w, i) for i, w in enumerate(V)])"
   ]
  },
  {
   "cell_type": "code",
   "execution_count": 20,
   "metadata": {},
   "outputs": [],
   "source": [
    "embedding_matrix = np.zeros((len(V), embedding_model.vector_size))\n",
    "for word, i in word2idx.items():\n",
    "    try: \n",
    "        embedding_matrix[i] = embedding_model.wv[word]\n",
    "    except KeyError:\n",
    "        embedding_matrix[i] = np.random.normal(size=(embedding_model.vector_size, ))"
   ]
  },
  {
   "cell_type": "markdown",
   "metadata": {},
   "source": [
    "**Check**"
   ]
  },
  {
   "cell_type": "code",
   "execution_count": 21,
   "metadata": {},
   "outputs": [
    {
     "data": {
      "text/plain": [
       "array([0., 0., 0., 0., 0., 0., 0., 0., 0., 0., 0., 0., 0., 0., 0., 0., 0.,\n",
       "       0., 0., 0., 0., 0., 0., 0., 0., 0., 0., 0., 0., 0., 0., 0., 0., 0.,\n",
       "       0., 0., 0., 0., 0., 0., 0., 0., 0., 0., 0., 0., 0., 0., 0., 0., 0.,\n",
       "       0., 0., 0., 0., 0., 0., 0., 0., 0., 0., 0., 0., 0., 0., 0., 0., 0.,\n",
       "       0., 0., 0., 0., 0., 0., 0., 0., 0., 0., 0., 0., 0., 0., 0., 0., 0.,\n",
       "       0., 0., 0., 0., 0., 0., 0., 0., 0., 0., 0., 0., 0., 0., 0.])"
      ]
     },
     "execution_count": 21,
     "metadata": {},
     "output_type": "execute_result"
    }
   ],
   "source": [
    "embedding_model.wv['he_PRON'] - embedding_matrix[word2idx['he_PRON']]"
   ]
  },
  {
   "cell_type": "markdown",
   "metadata": {},
   "source": [
    "## Create a model embedding layer\n",
    "We now create an embedding layer to be used as input for the network. This is non trainable, because we already have fitted it with the pre-trained word embedding model."
   ]
  },
  {
   "cell_type": "code",
   "execution_count": 22,
   "metadata": {},
   "outputs": [
    {
     "data": {
      "text/plain": [
       "<torch._C.Generator at 0x7fd37e720750>"
      ]
     },
     "execution_count": 22,
     "metadata": {},
     "output_type": "execute_result"
    }
   ],
   "source": [
    "import torch\n",
    "import torch.nn as nn\n",
    "import torch.nn.functional as F\n",
    "import torch.optim as optim\n",
    "\n",
    "torch.manual_seed(42)"
   ]
  },
  {
   "cell_type": "code",
   "execution_count": 23,
   "metadata": {},
   "outputs": [],
   "source": [
    "def create_emb_layer(embedding_matrix, non_trainable=True):\n",
    "    num_embeddings, embedding_dim = embedding_matrix.shape\n",
    "    emb_layer = nn.Embedding(num_embeddings, embedding_dim)\n",
    "    emb_layer.load_state_dict({'weight': torch.tensor(embedding_matrix)})\n",
    "    if non_trainable:\n",
    "        emb_layer.weight.requires_grad = False\n",
    "    return emb_layer, num_embeddings, embedding_dim"
   ]
  },
  {
   "cell_type": "code",
   "execution_count": 24,
   "metadata": {},
   "outputs": [],
   "source": [
    "E = create_emb_layer(embedding_matrix, non_trainable=True)"
   ]
  },
  {
   "cell_type": "markdown",
   "metadata": {},
   "source": [
    "## Create a simple NGram language model\n",
    "Simple example taken from [pytorch tutorials](https://pytorch.org/tutorials/beginner/nlp/word_embeddings_tutorial.html)"
   ]
  },
  {
   "cell_type": "code",
   "execution_count": 25,
   "metadata": {},
   "outputs": [],
   "source": [
    "import nltk"
   ]
  },
  {
   "cell_type": "code",
   "execution_count": 26,
   "metadata": {},
   "outputs": [],
   "source": [
    "class NGLM(nn.Module):\n",
    "\n",
    "    def __init__(self, vocab_size, embedding_matrix, context_size):\n",
    "        super(NGLM, self).__init__()\n",
    "        e, ne, embedding_dim = create_emb_layer(embedding_matrix, non_trainable=True)\n",
    "        self.embeddings = e\n",
    "        self.linear1 = nn.Linear(context_size * embedding_dim, 128)\n",
    "        self.linear2 = nn.Linear(128, vocab_size)\n",
    "\n",
    "    def forward(self, inputs):\n",
    "        embeds = self.embeddings(inputs).view((1, -1))\n",
    "        out = F.relu(self.linear1(embeds))\n",
    "        out = self.linear2(out)\n",
    "        log_probs = F.log_softmax(out, dim=1)\n",
    "        return log_probs"
   ]
  },
  {
   "cell_type": "code",
   "execution_count": 27,
   "metadata": {},
   "outputs": [],
   "source": [
    "losses = []\n",
    "loss_function = nn.NLLLoss()\n",
    "model = NGLM(len(V), embedding_matrix, 2)\n",
    "optimizer = optim.SGD(model.parameters(), lr=0.001)"
   ]
  },
  {
   "cell_type": "code",
   "execution_count": 28,
   "metadata": {},
   "outputs": [],
   "source": [
    "trigrams = []\n",
    "for doc, tokens in m42.get_tokens():\n",
    "    trigrams += [([a, b], c) for a, b, c in nltk.ngrams(['#S'] + tokens + ['#E'], 3)]"
   ]
  },
  {
   "cell_type": "markdown",
   "metadata": {},
   "source": [
    "### Understand the input"
   ]
  },
  {
   "cell_type": "code",
   "execution_count": 31,
   "metadata": {},
   "outputs": [
    {
     "name": "stdout",
     "output_type": "stream",
     "text": [
      "(['#S', '--_PUNCT'], 'he_PRON')\n"
     ]
    }
   ],
   "source": [
    "print(trigrams[0])"
   ]
  },
  {
   "cell_type": "code",
   "execution_count": 32,
   "metadata": {},
   "outputs": [
    {
     "data": {
      "application/vnd.jupyter.widget-view+json": {
       "model_id": "8f4912b58cca4e0dbc9a4576d301d226",
       "version_major": 2,
       "version_minor": 0
      },
      "text/plain": [
       "HBox(children=(HTML(value=''), FloatProgress(value=0.0, max=10.0), HTML(value='')))"
      ]
     },
     "metadata": {},
     "output_type": "display_data"
    },
    {
     "name": "stdout",
     "output_type": "stream",
     "text": [
      "\n"
     ]
    }
   ],
   "source": [
    "epochs = tqdm(list(range(10)))\n",
    "for epoch in epochs:\n",
    "    total_loss = 0\n",
    "    for context, target in trigrams:\n",
    "        # Step 1. Prepare the inputs to be passed to the model (i.e, turn the words\n",
    "        # into integer indices and wrap them in tensors)\n",
    "        context_idxs = torch.tensor([word2idx[w] for w in context], dtype=torch.long)\n",
    "        # Step 2. Recall that torch *accumulates* gradients. Before passing in a\n",
    "        # new instance, you need to zero out the gradients from the old\n",
    "        # instance\n",
    "        model.zero_grad()\n",
    "        # Step 3. Run the forward pass, getting log probabilities over next\n",
    "        # words\n",
    "        log_probs = model(context_idxs)\n",
    "        # Step 4. Compute your loss function. (Again, Torch wants the target\n",
    "        # word wrapped in a tensor)\n",
    "        loss = loss_function(log_probs, torch.tensor([word2idx[target]], dtype=torch.long))\n",
    "        # Step 5. Do the backward pass and update the gradient\n",
    "        loss.backward()\n",
    "        optimizer.step()\n",
    "        # Get the Python number from a 1-element Tensor by calling tensor.item()\n",
    "        total_loss += loss.item()\n",
    "    losses.append(total_loss)"
   ]
  },
  {
   "cell_type": "code",
   "execution_count": 33,
   "metadata": {},
   "outputs": [],
   "source": [
    "import matplotlib.pyplot as plt"
   ]
  },
  {
   "cell_type": "code",
   "execution_count": 34,
   "metadata": {},
   "outputs": [
    {
     "data": {
      "image/png": "[encoded data removed]",
      "text/plain": [
       "<Figure size 864x216 with 1 Axes>"
      ]
     },
     "metadata": {
      "needs_background": "light"
     },
     "output_type": "display_data"
    }
   ],
   "source": [
    "fig, ax = plt.subplots(figsize=(12,3))\n",
    "ax.plot(losses, marker='o')\n",
    "plt.show()"
   ]
  },
  {
   "cell_type": "code",
   "execution_count": 36,
   "metadata": {},
   "outputs": [],
   "source": [
    "prediction = model(torch.tensor([word2idx['he_PRON'], word2idx['wants_VERB']]))"
   ]
  },
  {
   "cell_type": "code",
   "execution_count": 37,
   "metadata": {},
   "outputs": [
    {
     "data": {
      "text/plain": [
       "'to_PART'"
      ]
     },
     "execution_count": 37,
     "metadata": {},
     "output_type": "execute_result"
    }
   ],
   "source": [
    "V[prediction.argmax().item()]"
   ]
  },
  {
   "cell_type": "code",
   "execution_count": 38,
   "metadata": {},
   "outputs": [
    {
     "name": "stdout",
     "output_type": "stream",
     "text": [
      "['#S', '--'] i_PRON\n",
      "['--', 'he'] 's_AUX\n",
      "['he', \"'s\"] not_PART\n",
      "[\"'s\", 'just'] a_DET\n",
      "['just', 'a'] little_ADJ\n",
      "['a', 'lucky'] ._PUNCT\n",
      "['lucky', 'guy'] ._PUNCT\n",
      "['guy', '.'] #E\n",
      "['#S', 'monsieur'] ._PUNCT\n",
      "['monsieur', 'rick'] ,_PUNCT\n"
     ]
    }
   ],
   "source": [
    "for context, c in trigrams[:10]:\n",
    "    p = model(torch.tensor([word2idx[context[0]], word2idx[context[1]]]))\n",
    "    print([context[0].split('_')[0], context[1].split('_')[0]], V[p.argmax().item()])"
   ]
  },
  {
   "cell_type": "markdown",
   "metadata": {},
   "source": [
    "## Evaluate"
   ]
  },
  {
   "cell_type": "code",
   "execution_count": 39,
   "metadata": {},
   "outputs": [],
   "source": [
    "def predict(a, b):\n",
    "    try:\n",
    "        p = model(torch.tensor([word2idx[a], word2idx[b]]))\n",
    "        out = V[p.argmax().item()]\n",
    "    except KeyError:\n",
    "        p = None\n",
    "        out = None\n",
    "    return out, p"
   ]
  },
  {
   "cell_type": "code",
   "execution_count": 40,
   "metadata": {},
   "outputs": [],
   "source": [
    "tp, fp, fn = 0, 0, len(trigrams[:100])\n",
    "for context, c in trigrams[:100]:\n",
    "    w, p = predict(context[0], context[1])\n",
    "    predicted_words = [V[i] for i, e in sorted(enumerate(p[0]), key=lambda x: -x[1])[:5]]\n",
    "    if c in predicted_words:\n",
    "        tp += 1\n",
    "        fn -= 1\n",
    "    else:\n",
    "        fp += 1"
   ]
  },
  {
   "cell_type": "code",
   "execution_count": 41,
   "metadata": {},
   "outputs": [
    {
     "name": "stdout",
     "output_type": "stream",
     "text": [
      "0.54 0.54\n"
     ]
    }
   ],
   "source": [
    "print(tp / (tp + fp), tp / (tp + fn))"
   ]
  },
  {
   "cell_type": "code",
   "execution_count": 42,
   "metadata": {},
   "outputs": [],
   "source": [
    "_, l = predict('#S', 'he_PRON')"
   ]
  },
  {
   "cell_type": "code",
   "execution_count": 43,
   "metadata": {},
   "outputs": [
    {
     "name": "stdout",
     "output_type": "stream",
     "text": [
      "'s_AUX 0.31332284\n",
      "'ll_VERB 0.11027224\n",
      "is_AUX 0.07106118\n",
      "was_AUX 0.057819974\n",
      "does_AUX 0.034147542\n",
      "will_VERB 0.02918039\n",
      "can_VERB 0.018926628\n",
      "would_VERB 0.014084915\n",
      "did_AUX 0.013530875\n",
      "must_VERB 0.012215394\n"
     ]
    }
   ],
   "source": [
    "e = np.exp(l[0].detach().numpy())\n",
    "for i, e in sorted(enumerate(e), key=lambda x: -x[1])[:10]:\n",
    "    print(V[i], e)"
   ]
  },
  {
   "cell_type": "code",
   "execution_count": 46,
   "metadata": {},
   "outputs": [],
   "source": [
    "def generate(start='#S', max_len=10):\n",
    "    text = [start, start]\n",
    "    for w in range(max_len):\n",
    "        w, prediction = predict(text[-2], text[-1])\n",
    "        next_word = np.random.choice(V, p=np.exp(prediction.detach().numpy()[0]))\n",
    "        text.append(next_word)\n",
    "        if next_word == '#E':\n",
    "            break\n",
    "    return text"
   ]
  },
  {
   "cell_type": "code",
   "execution_count": 47,
   "metadata": {},
   "outputs": [
    {
     "data": {
      "text/plain": [
       "['#S',\n",
       " '#S',\n",
       " 'laszlo_PROPN',\n",
       " ',_PUNCT',\n",
       " 'i_PRON',\n",
       " 'speak_VERB',\n",
       " 'strange_ADJ',\n",
       " '._PUNCT',\n",
       " 'louis_PROPN',\n",
       " '._PUNCT',\n",
       " '#E']"
      ]
     },
     "execution_count": 47,
     "metadata": {},
     "output_type": "execute_result"
    }
   ],
   "source": [
    "generate()"
   ]
  },
  {
   "cell_type": "code",
   "execution_count": null,
   "metadata": {},
   "outputs": [],
   "source": []
  }
 ],
 "metadata": {
  "kernelspec": {
   "display_name": "Python 3",
   "language": "python",
   "name": "python3"
  },
  "language_info": {
   "codemirror_mode": {
    "name": "ipython",
    "version": 3
   },
   "file_extension": ".py",
   "mimetype": "text/x-python",
   "name": "python",
   "nbconvert_exporter": "python",
   "pygments_lexer": "ipython3",
   "version": "3.7.4"
  },
  "pycharm": {
   "stem_cell": {
    "cell_type": "raw",
    "metadata": {
     "collapsed": false
    },
    "source": []
   }
  },
  "toc": {
   "base_numbering": 1,
   "nav_menu": {},
   "number_sections": true,
   "sideBar": true,
   "skip_h1_title": true,
   "title_cell": "Table of Contents",
   "title_sidebar": "Contents",
   "toc_cell": false,
   "toc_position": {},
   "toc_section_display": true,
   "toc_window_display": false
  }
 },
 "nbformat": 4,
 "nbformat_minor": 2
}
