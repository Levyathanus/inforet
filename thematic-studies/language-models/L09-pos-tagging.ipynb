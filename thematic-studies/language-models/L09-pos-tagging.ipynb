{
 "cells": [
  {
   "cell_type": "markdown",
   "metadata": {},
   "source": [
    "# Example: part of speech tagging\n",
    "We will create a language model for part-of-speech (POS) tagging.\n",
    "\n",
    "In particular, we want to submit to the network a sequence of words $w_1, \\dots, w_n$ with $w_i \\in V$ and estimate a probability distribution $\\phi(T)$ over the POS tags $T$ for each word $w_1, \\dots, w_n$."
   ]
  },
  {
   "cell_type": "code",
   "execution_count": 79,
   "metadata": {},
   "outputs": [],
   "source": [
    "import numpy as np\n",
    "import pandas as pd\n",
    "from tqdm import tqdm_notebook"
   ]
  },
  {
   "cell_type": "markdown",
   "metadata": {},
   "source": [
    "## Prepare data"
   ]
  },
  {
   "cell_type": "code",
   "execution_count": 80,
   "metadata": {},
   "outputs": [],
   "source": [
    "from langmodels.corpora.moviedialog import MovieDialogCollection"
   ]
  },
  {
   "cell_type": "code",
   "execution_count": 81,
   "metadata": {},
   "outputs": [],
   "source": [
    "db_name = 'movie-dialogs'\n",
    "collection = 'lines'"
   ]
  },
  {
   "cell_type": "code",
   "execution_count": 82,
   "metadata": {},
   "outputs": [],
   "source": [
    "genre = ['western']\n",
    "ug = {'$unwind': '$character.movie.genres'}\n",
    "mg = {'$match': {'character.movie.genres': {'$in': genre}}}\n",
    "pg = {'$project': {'_id': 0, 'id': 1, 'text': 1}}\n",
    "pipeline = [ug, mg, pg]"
   ]
  },
  {
   "cell_type": "code",
   "execution_count": 83,
   "metadata": {},
   "outputs": [],
   "source": [
    "corpus = MovieDialogCollection(db_name, collection, \n",
    "                                use_pos=False, \n",
    "                                mix_pos=True, pipeline=pipeline)"
   ]
  },
  {
   "cell_type": "markdown",
   "metadata": {},
   "source": [
    "## Training set preparation"
   ]
  },
  {
   "cell_type": "code",
   "execution_count": 91,
   "metadata": {},
   "outputs": [],
   "source": [
    "training, V, T = [], set(), set()\n",
    "for doc, tokens in corpus.get_tokens():\n",
    "    parts = [t.split('_') for t in tokens]\n",
    "    words = [p[0] for p in parts]\n",
    "    tags = [p[1] for p in parts]\n",
    "    for w in words:\n",
    "        V.add(w)\n",
    "    for t in tags:\n",
    "        T.add(t)\n",
    "    training.append((words, tags))\n",
    "V = list(V)\n",
    "T = list(T)"
   ]
  },
  {
   "cell_type": "code",
   "execution_count": 92,
   "metadata": {},
   "outputs": [
    {
     "data": {
      "text/plain": [
       "(['now', 'you', 'tell', 'us', '.'], ['ADV', 'PRON', 'VERB', 'PRON', 'PUNCT'])"
      ]
     },
     "execution_count": 92,
     "metadata": {},
     "output_type": "execute_result"
    }
   ],
   "source": [
    "training[0]"
   ]
  },
  {
   "cell_type": "code",
   "execution_count": 93,
   "metadata": {},
   "outputs": [],
   "source": [
    "word2idx = dict([(x, i) for i, x in enumerate(V)])\n",
    "tag2idx = dict([(x, i) for i, x in enumerate(T)])"
   ]
  },
  {
   "cell_type": "markdown",
   "metadata": {},
   "source": [
    "## Model"
   ]
  },
  {
   "cell_type": "code",
   "execution_count": 94,
   "metadata": {},
   "outputs": [
    {
     "data": {
      "text/plain": [
       "<torch._C.Generator at 0x1a27796330>"
      ]
     },
     "execution_count": 94,
     "metadata": {},
     "output_type": "execute_result"
    }
   ],
   "source": [
    "import torch\n",
    "import torch.nn as nn\n",
    "import torch.nn.functional as F\n",
    "import torch.optim as optim\n",
    "\n",
    "torch.manual_seed(42)"
   ]
  },
  {
   "cell_type": "code",
   "execution_count": 95,
   "metadata": {},
   "outputs": [],
   "source": [
    "class LSTMlm(nn.Module):\n",
    "\n",
    "    def __init__(self, embedding_dim, hidden_dim, vocab_size, target_size):\n",
    "        super(LSTMlm, self).__init__()\n",
    "        self.hidden_dim = hidden_dim\n",
    "        self.word_embeddings = nn.Embedding(vocab_size, embedding_dim)\n",
    "\n",
    "        # The LSTM takes word embeddings as inputs, and outputs hidden states\n",
    "        # with dimensionality hidden_dim.\n",
    "        self.lstm = nn.LSTM(embedding_dim, hidden_dim)\n",
    "\n",
    "        # The linear layer that maps from hidden state space to target space\n",
    "        self.hidden2tag = nn.Linear(hidden_dim, target_size)\n",
    "\n",
    "    def forward(self, sentence):\n",
    "        embeds = self.word_embeddings(sentence)\n",
    "        lstm_out, _ = self.lstm(embeds.view(len(sentence), 1, -1))\n",
    "        tag_space = self.hidden2tag(lstm_out.view(len(sentence), -1))\n",
    "        tag_scores = F.log_softmax(tag_space, dim=1)\n",
    "        return tag_scores"
   ]
  },
  {
   "cell_type": "markdown",
   "metadata": {},
   "source": [
    "## Train"
   ]
  },
  {
   "cell_type": "code",
   "execution_count": 96,
   "metadata": {},
   "outputs": [],
   "source": [
    "def sequence(seq, to_ix):\n",
    "    idxs = [to_ix[w] for w in seq if w in to_ix.keys()]\n",
    "    return torch.tensor(idxs, dtype=torch.long)"
   ]
  },
  {
   "cell_type": "code",
   "execution_count": 97,
   "metadata": {},
   "outputs": [],
   "source": [
    "EMBEDDING_DIM, HIDDEN_DIM = 100, 64\n",
    "model = LSTMlm(EMBEDDING_DIM, HIDDEN_DIM, len(V), len(T))\n",
    "loss_function = nn.NLLLoss()\n",
    "optimizer = optim.SGD(model.parameters(), lr=0.1)"
   ]
  },
  {
   "cell_type": "markdown",
   "metadata": {},
   "source": [
    "### Example"
   ]
  },
  {
   "cell_type": "code",
   "execution_count": 98,
   "metadata": {},
   "outputs": [
    {
     "data": {
      "text/plain": [
       "tensor([[-2.7242, -2.9714, -2.7973, -2.8605, -2.9286, -2.9000, -2.8711, -2.8523,\n",
       "         -2.7466, -2.9541, -2.9392, -2.8738, -2.6489, -2.9573, -2.7392, -2.8284,\n",
       "         -2.6587],\n",
       "        [-2.7778, -2.9681, -2.8251, -2.9521, -2.8338, -2.8873, -2.8896, -3.0296,\n",
       "         -2.7647, -2.8975, -2.9781, -2.8586, -2.6336, -2.7665, -2.7590, -2.9270,\n",
       "         -2.5454],\n",
       "        [-2.8889, -2.8260, -2.8010, -2.8261, -2.9033, -2.9624, -2.7400, -3.0105,\n",
       "         -2.8012, -2.9921, -2.9324, -2.9976, -2.6822, -2.8226, -2.5681, -2.8189,\n",
       "         -2.7114],\n",
       "        [-2.9844, -2.9396, -2.8421, -2.7116, -2.8482, -2.9610, -2.6532, -3.1048,\n",
       "         -2.8885, -2.9583, -2.8147, -3.0550, -2.6126, -2.8081, -2.6163, -2.9446,\n",
       "         -2.6192],\n",
       "        [-2.9343, -3.0359, -2.7008, -2.9913, -2.8830, -2.8439, -2.7358, -2.8355,\n",
       "         -2.9294, -2.9245, -2.8909, -3.0296, -2.6302, -2.8414, -2.6242, -2.8425,\n",
       "         -2.6372]], grad_fn=<LogSoftmaxBackward>)"
      ]
     },
     "execution_count": 98,
     "metadata": {},
     "output_type": "execute_result"
    }
   ],
   "source": [
    "x, _ = model.lstm(model.word_embeddings(sequence(training[0][0], word2idx)).view(len(training[0][0]), 1, -1))\n",
    "t = model.hidden2tag(x.view(len(training[0][0]), -1))\n",
    "F.log_softmax(t, dim=1)"
   ]
  },
  {
   "cell_type": "code",
   "execution_count": 99,
   "metadata": {},
   "outputs": [
    {
     "data": {
      "application/vnd.jupyter.widget-view+json": {
       "model_id": "ef68aa3f87744ea58a3134584b101958",
       "version_major": 2,
       "version_minor": 0
      },
      "text/plain": [
       "HBox(children=(IntProgress(value=0, max=10), HTML(value='')))"
      ]
     },
     "metadata": {},
     "output_type": "display_data"
    },
    {
     "name": "stdout",
     "output_type": "stream",
     "text": [
      "\n"
     ]
    }
   ],
   "source": [
    "epochs = tqdm_notebook(list(range(10)))\n",
    "for epoch in epochs:\n",
    "    for sentence, tags in training:\n",
    "        model.zero_grad()\n",
    "        sent = sequence(sentence, word2idx)\n",
    "        target = sequence(tags, tag2idx)\n",
    "        tag_scores = model(sent)\n",
    "        loss = loss_function(tag_scores, target)\n",
    "        loss.backward()\n",
    "        optimizer.step()"
   ]
  },
  {
   "cell_type": "markdown",
   "metadata": {},
   "source": [
    "## Usage"
   ]
  },
  {
   "cell_type": "code",
   "execution_count": 114,
   "metadata": {},
   "outputs": [],
   "source": [
    "test = ['this', 'is', 'a', 'very', 'nice', 'example', 'for', 'sure', '.']\n",
    "s = sequence(test, word2idx)"
   ]
  },
  {
   "cell_type": "code",
   "execution_count": 115,
   "metadata": {},
   "outputs": [],
   "source": [
    "tags = []\n",
    "for tensor in model(s):\n",
    "    tag_index = tensor.argmax().item()\n",
    "    tags.append(T[tag_index])"
   ]
  },
  {
   "cell_type": "code",
   "execution_count": 116,
   "metadata": {},
   "outputs": [
    {
     "name": "stdout",
     "output_type": "stream",
     "text": [
      "this\tis\ta\tvery\tnice\texample\tfor\tsure\t.\n",
      "DET\tVERB\tDET\tADV\tADJ\tNOUN\tADP\tADJ\tPUNCT\n"
     ]
    }
   ],
   "source": [
    "print(\"\\t\".join([V[i] for i in s]))\n",
    "print(\"\\t\".join(tags))"
   ]
  },
  {
   "cell_type": "markdown",
   "metadata": {},
   "source": [
    "## Exercize\n",
    "Define a stategy for evaluating the performances of the network."
   ]
  },
  {
   "cell_type": "code",
   "execution_count": null,
   "metadata": {},
   "outputs": [],
   "source": []
  }
 ],
 "metadata": {
  "kernelspec": {
   "display_name": "Python 3",
   "language": "python",
   "name": "python3"
  },
  "language_info": {
   "codemirror_mode": {
    "name": "ipython",
    "version": 3
   },
   "file_extension": ".py",
   "mimetype": "text/x-python",
   "name": "python",
   "nbconvert_exporter": "python",
   "pygments_lexer": "ipython3",
   "version": "3.7.4"
  },
  "toc": {
   "base_numbering": 1,
   "nav_menu": {},
   "number_sections": true,
   "sideBar": true,
   "skip_h1_title": true,
   "title_cell": "Table of Contents",
   "title_sidebar": "Contents",
   "toc_cell": false,
   "toc_position": {},
   "toc_section_display": true,
   "toc_window_display": false
  }
 },
 "nbformat": 4,
 "nbformat_minor": 2
}
