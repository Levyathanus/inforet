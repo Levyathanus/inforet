{
 "cells": [
  {
   "cell_type": "markdown",
   "metadata": {},
   "source": [
    "# Example: part of speech tagging\n",
    "We will create a language model for part-of-speech (POS) tagging.\n",
    "\n",
    "In particular, we want to submit to the network a sequence of words $w_1, \\dots, w_n$ with $w_i \\in V$ and estimate a probability distribution $\\phi(T)$ over the POS tags $T$ for each word $w_1, \\dots, w_n$."
   ]
  },
  {
   "cell_type": "code",
   "execution_count": 1,
   "metadata": {},
   "outputs": [],
   "source": [
    "import numpy as np\n",
    "import pandas as pd\n",
    "from tqdm.notebook import tqdm"
   ]
  },
  {
   "cell_type": "markdown",
   "metadata": {},
   "source": [
    "## Prepare data"
   ]
  },
  {
   "cell_type": "code",
   "execution_count": 2,
   "metadata": {},
   "outputs": [],
   "source": [
    "from langmodels.corpora.moviedialog import MovieDialogCollection"
   ]
  },
  {
   "cell_type": "code",
   "execution_count": 3,
   "metadata": {},
   "outputs": [],
   "source": [
    "db_name = 'movie-dialogs'\n",
    "collection = 'lines'"
   ]
  },
  {
   "cell_type": "code",
   "execution_count": 4,
   "metadata": {},
   "outputs": [],
   "source": [
    "genre = ['western']\n",
    "ug = {'$unwind': '$character.movie.genres'}\n",
    "mg = {'$match': {'character.movie.genres': {'$in': genre}}}\n",
    "pg = {'$project': {'_id': 0, 'id': 1, 'text': 1}}\n",
    "pipeline = [ug, mg, pg]"
   ]
  },
  {
   "cell_type": "code",
   "execution_count": 5,
   "metadata": {},
   "outputs": [],
   "source": [
    "corpus = MovieDialogCollection(db_name, collection, \n",
    "                                use_pos=False, \n",
    "                                mix_pos=True, pipeline=pipeline)"
   ]
  },
  {
   "cell_type": "markdown",
   "metadata": {},
   "source": [
    "## Training set preparation"
   ]
  },
  {
   "cell_type": "code",
   "execution_count": 6,
   "metadata": {},
   "outputs": [],
   "source": [
    "training, V, T = [], set(), set()\n",
    "for doc, tokens in corpus.get_tokens():\n",
    "    parts = [t.split('_') for t in tokens]\n",
    "    words = [p[0] for p in parts]\n",
    "    tags = [p[1] for p in parts]\n",
    "    for w in words:\n",
    "        V.add(w)\n",
    "    for t in tags:\n",
    "        T.add(t)\n",
    "    training.append((words, tags))\n",
    "V = list(V)\n",
    "T = list(T)"
   ]
  },
  {
   "cell_type": "code",
   "execution_count": 7,
   "metadata": {},
   "outputs": [
    {
     "data": {
      "text/plain": [
       "(['now', 'you', 'tell', 'us', '.'], ['ADV', 'PRON', 'VERB', 'PRON', 'PUNCT'])"
      ]
     },
     "execution_count": 7,
     "metadata": {},
     "output_type": "execute_result"
    }
   ],
   "source": [
    "training[0]"
   ]
  },
  {
   "cell_type": "code",
   "execution_count": 8,
   "metadata": {},
   "outputs": [],
   "source": [
    "word2idx = dict([(x, i) for i, x in enumerate(V)])\n",
    "tag2idx = dict([(x, i) for i, x in enumerate(T)])"
   ]
  },
  {
   "cell_type": "markdown",
   "metadata": {},
   "source": [
    "## Model"
   ]
  },
  {
   "cell_type": "code",
   "execution_count": 9,
   "metadata": {},
   "outputs": [
    {
     "data": {
      "text/plain": [
       "<torch._C.Generator at 0x7ff7f1a12710>"
      ]
     },
     "execution_count": 9,
     "metadata": {},
     "output_type": "execute_result"
    }
   ],
   "source": [
    "import torch\n",
    "import torch.nn as nn\n",
    "import torch.nn.functional as F\n",
    "import torch.optim as optim\n",
    "\n",
    "torch.manual_seed(42)"
   ]
  },
  {
   "cell_type": "code",
   "execution_count": 10,
   "metadata": {},
   "outputs": [],
   "source": [
    "class LSTMlm(nn.Module):\n",
    "\n",
    "    def __init__(self, embedding_dim, hidden_dim, vocab_size, target_size):\n",
    "        super(LSTMlm, self).__init__()\n",
    "        self.hidden_dim = hidden_dim\n",
    "        self.word_embeddings = nn.Embedding(vocab_size, embedding_dim)\n",
    "\n",
    "        # The LSTM takes word embeddings as inputs, and outputs hidden states\n",
    "        # with dimensionality hidden_dim.\n",
    "        self.lstm = nn.LSTM(embedding_dim, hidden_dim)\n",
    "\n",
    "        # The linear layer that maps from hidden state space to target space\n",
    "        self.hidden2tag = nn.Linear(hidden_dim, target_size)\n",
    "\n",
    "    def forward(self, sentence):\n",
    "        embeds = self.word_embeddings(sentence)\n",
    "        lstm_out, _ = self.lstm(embeds.view(len(sentence), 1, -1))\n",
    "        tag_space = self.hidden2tag(lstm_out.view(len(sentence), -1))\n",
    "        tag_scores = F.log_softmax(tag_space, dim=1)\n",
    "        return tag_scores"
   ]
  },
  {
   "cell_type": "markdown",
   "metadata": {},
   "source": [
    "## Train"
   ]
  },
  {
   "cell_type": "code",
   "execution_count": 11,
   "metadata": {},
   "outputs": [],
   "source": [
    "def sequence(seq, to_ix):\n",
    "    idxs = [to_ix[w] for w in seq if w in to_ix.keys()]\n",
    "    return torch.tensor(idxs, dtype=torch.long)"
   ]
  },
  {
   "cell_type": "code",
   "execution_count": 12,
   "metadata": {},
   "outputs": [],
   "source": [
    "EMBEDDING_DIM, HIDDEN_DIM = 100, 64\n",
    "model = LSTMlm(EMBEDDING_DIM, HIDDEN_DIM, len(V), len(T))\n",
    "loss_function = nn.NLLLoss()\n",
    "optimizer = optim.SGD(model.parameters(), lr=0.1)"
   ]
  },
  {
   "cell_type": "markdown",
   "metadata": {},
   "source": [
    "### Example"
   ]
  },
  {
   "cell_type": "code",
   "execution_count": 13,
   "metadata": {},
   "outputs": [
    {
     "data": {
      "text/plain": [
       "tensor([[-2.8374, -2.8072, -2.7428, -2.9349, -3.1515, -2.9466, -2.7810, -2.9349,\n",
       "         -2.7547, -3.0652, -2.8674, -3.0949, -2.8811, -2.7860, -3.0822, -2.8745,\n",
       "         -2.8268, -2.7895],\n",
       "        [-2.8538, -2.8959, -2.7571, -2.9187, -3.0924, -2.9770, -2.9083, -2.9131,\n",
       "         -2.7631, -3.0502, -2.9427, -3.0932, -2.8484, -2.7200, -3.0089, -2.7897,\n",
       "         -2.7450, -2.8636],\n",
       "        [-2.8142, -2.8713, -2.9109, -2.9240, -3.0856, -2.8989, -3.0851, -2.7651,\n",
       "         -2.7207, -3.1799, -2.7715, -3.0318, -2.7937, -2.8357, -3.0370, -2.8234,\n",
       "         -2.6940, -2.9427],\n",
       "        [-2.9595, -3.0556, -2.8244, -2.9722, -3.1392, -2.9502, -2.8556, -2.8936,\n",
       "         -2.7368, -3.0661, -2.7343, -2.9134, -2.6712, -2.8549, -3.0387, -2.8730,\n",
       "         -2.7361, -2.8936],\n",
       "        [-2.9606, -2.7847, -2.9484, -2.8296, -3.2152, -3.0139, -2.9636, -2.8995,\n",
       "         -2.7725, -3.1719, -2.6807, -2.9501, -2.6844, -2.8338, -3.0941, -2.7803,\n",
       "         -2.8170, -2.8196]], grad_fn=<LogSoftmaxBackward>)"
      ]
     },
     "execution_count": 13,
     "metadata": {},
     "output_type": "execute_result"
    }
   ],
   "source": [
    "x, _ = model.lstm(model.word_embeddings(sequence(training[0][0], word2idx)).view(len(training[0][0]), 1, -1))\n",
    "t = model.hidden2tag(x.view(len(training[0][0]), -1))\n",
    "F.log_softmax(t, dim=1)"
   ]
  },
  {
   "cell_type": "code",
   "execution_count": 15,
   "metadata": {},
   "outputs": [
    {
     "data": {
      "application/vnd.jupyter.widget-view+json": {
       "model_id": "acb3cd35f38148a89851bd7c856656d3",
       "version_major": 2,
       "version_minor": 0
      },
      "text/plain": [
       "HBox(children=(HTML(value=''), FloatProgress(value=0.0, max=10.0), HTML(value='')))"
      ]
     },
     "metadata": {},
     "output_type": "display_data"
    },
    {
     "name": "stdout",
     "output_type": "stream",
     "text": [
      "\n"
     ]
    }
   ],
   "source": [
    "epochs = tqdm(list(range(10)))\n",
    "for epoch in epochs:\n",
    "    for sentence, tags in training:\n",
    "        model.zero_grad()\n",
    "        sent = sequence(sentence, word2idx)\n",
    "        target = sequence(tags, tag2idx)\n",
    "        tag_scores = model(sent)\n",
    "        loss = loss_function(tag_scores, target)\n",
    "        loss.backward()\n",
    "        optimizer.step()"
   ]
  },
  {
   "cell_type": "markdown",
   "metadata": {},
   "source": [
    "## Usage"
   ]
  },
  {
   "cell_type": "code",
   "execution_count": 16,
   "metadata": {},
   "outputs": [],
   "source": [
    "test = ['this', 'is', 'a', 'very', 'nice', 'example', 'for', 'sure', '.']\n",
    "s = sequence(test, word2idx)"
   ]
  },
  {
   "cell_type": "code",
   "execution_count": 17,
   "metadata": {},
   "outputs": [],
   "source": [
    "tags = []\n",
    "for tensor in model(s):\n",
    "    tag_index = tensor.argmax().item()\n",
    "    tags.append(T[tag_index])"
   ]
  },
  {
   "cell_type": "code",
   "execution_count": 18,
   "metadata": {},
   "outputs": [
    {
     "name": "stdout",
     "output_type": "stream",
     "text": [
      "this\tis\ta\tvery\tnice\texample\tfor\tsure\t.\n",
      "DET\tAUX\tDET\tADV\tADJ\tNOUN\tADP\tADJ\tPUNCT\n"
     ]
    }
   ],
   "source": [
    "print(\"\\t\".join([V[i] for i in s]))\n",
    "print(\"\\t\".join(tags))"
   ]
  },
  {
   "cell_type": "markdown",
   "metadata": {},
   "source": [
    "## Exercize\n",
    "Define a stategy for evaluating the performances of the network."
   ]
  },
  {
   "cell_type": "code",
   "execution_count": null,
   "metadata": {},
   "outputs": [],
   "source": []
  }
 ],
 "metadata": {
  "kernelspec": {
   "display_name": "Python 3",
   "language": "python",
   "name": "python3"
  },
  "language_info": {
   "codemirror_mode": {
    "name": "ipython",
    "version": 3
   },
   "file_extension": ".py",
   "mimetype": "text/x-python",
   "name": "python",
   "nbconvert_exporter": "python",
   "pygments_lexer": "ipython3",
   "version": "3.7.4"
  },
  "toc": {
   "base_numbering": 1,
   "nav_menu": {},
   "number_sections": true,
   "sideBar": true,
   "skip_h1_title": true,
   "title_cell": "Table of Contents",
   "title_sidebar": "Contents",
   "toc_cell": false,
   "toc_position": {},
   "toc_section_display": true,
   "toc_window_display": false
  }
 },
 "nbformat": 4,
 "nbformat_minor": 2
}
