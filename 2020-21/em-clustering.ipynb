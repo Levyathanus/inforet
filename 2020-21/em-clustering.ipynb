{
 "cells": [
  {
   "cell_type": "markdown",
   "metadata": {},
   "source": [
    "# Toy example for EM clustering"
   ]
  },
  {
   "cell_type": "code",
   "execution_count": 1,
   "metadata": {},
   "outputs": [],
   "source": [
    "import numpy as np\n",
    "import pandas as pd\n",
    "from tqdm.notebook import tqdm"
   ]
  },
  {
   "cell_type": "code",
   "execution_count": 2,
   "metadata": {},
   "outputs": [],
   "source": [
    "dataset = [\n",
    "    ['apple', 'ios', 'mac', 'book'],\n",
    "    ['apple', 'mac', 'book', 'apple', 'store'],\n",
    "    ['microsoft', 'ibm', 'apple', 'oracle'],\n",
    "    ['microsoft', 'book', 'store'],\n",
    "    ['mac', 'book', 'store'],\n",
    "    ['apple', 'banana', 'mango', 'fruit'],\n",
    "    ['apple', 'fruit'],\n",
    "    ['banana', 'apple', 'orange', 'strawberry']\n",
    "]"
   ]
  },
  {
   "cell_type": "code",
   "execution_count": 3,
   "metadata": {},
   "outputs": [],
   "source": [
    "k = 3"
   ]
  },
  {
   "cell_type": "code",
   "execution_count": 4,
   "metadata": {},
   "outputs": [],
   "source": [
    "rnk = []\n",
    "for d in dataset:\n",
    "    assignment = np.random.uniform(size=3)\n",
    "    rnk.append(assignment / assignment.sum())\n",
    "rnk = np.array(rnk)"
   ]
  },
  {
   "cell_type": "code",
   "execution_count": 5,
   "metadata": {},
   "outputs": [
    {
     "data": {
      "text/plain": [
       "array([[0.51655223, 0.05496759, 0.42848018],\n",
       "       [0.75684038, 0.14421493, 0.09894468],\n",
       "       [0.31483127, 0.41412835, 0.27104038],\n",
       "       [0.25709912, 0.5651357 , 0.17776518],\n",
       "       [0.38612159, 0.01269707, 0.60118134],\n",
       "       [0.08142849, 0.87222906, 0.04634245],\n",
       "       [0.20887369, 0.44633589, 0.34479042],\n",
       "       [0.14220663, 0.28354565, 0.57424772]])"
      ]
     },
     "execution_count": 5,
     "metadata": {},
     "output_type": "execute_result"
    }
   ],
   "source": [
    "rnk"
   ]
  },
  {
   "cell_type": "code",
   "execution_count": 25,
   "metadata": {},
   "outputs": [],
   "source": [
    "ak = rnk2.mean(axis=0)"
   ]
  },
  {
   "cell_type": "code",
   "execution_count": 26,
   "metadata": {},
   "outputs": [
    {
     "data": {
      "text/plain": [
       "array([0.00419321, 0.00168429, 0.00108212])"
      ]
     },
     "execution_count": 26,
     "metadata": {},
     "output_type": "execute_result"
    }
   ],
   "source": [
    "ak"
   ]
  },
  {
   "cell_type": "code",
   "execution_count": 27,
   "metadata": {},
   "outputs": [],
   "source": [
    "from collections import defaultdict"
   ]
  },
  {
   "cell_type": "code",
   "execution_count": 28,
   "metadata": {},
   "outputs": [],
   "source": [
    "I = defaultdict(lambda: set())\n",
    "for i, d in enumerate(dataset):\n",
    "    for w in d:\n",
    "        I[w].add(i)\n",
    "I = dict(I)"
   ]
  },
  {
   "cell_type": "code",
   "execution_count": 29,
   "metadata": {},
   "outputs": [],
   "source": [
    "V = list(I.keys())"
   ]
  },
  {
   "cell_type": "code",
   "execution_count": 30,
   "metadata": {},
   "outputs": [
    {
     "data": {
      "text/plain": [
       "{'apple': {0, 1, 2, 5, 6, 7},\n",
       " 'ios': {0},\n",
       " 'mac': {0, 1, 4},\n",
       " 'book': {0, 1, 3, 4},\n",
       " 'store': {1, 3, 4},\n",
       " 'microsoft': {2, 3},\n",
       " 'ibm': {2},\n",
       " 'oracle': {2},\n",
       " 'banana': {5, 7},\n",
       " 'mango': {5},\n",
       " 'fruit': {5, 6},\n",
       " 'orange': {7},\n",
       " 'strawberry': {7}}"
      ]
     },
     "execution_count": 30,
     "metadata": {},
     "output_type": "execute_result"
    }
   ],
   "source": [
    "I"
   ]
  },
  {
   "cell_type": "code",
   "execution_count": 31,
   "metadata": {},
   "outputs": [],
   "source": [
    "qmk = np.zeros((len(V), k))\n",
    "for j, m in enumerate(V):\n",
    "    for cluster in range(k):\n",
    "        sdk = rnk2[:,cluster].sum()\n",
    "        ns = 0\n",
    "        for i, d in enumerate(dataset):\n",
    "            if i in I[m]:\n",
    "                ns += rnk2[i,cluster]\n",
    "            else:\n",
    "                pass\n",
    "        qmk[j,cluster] = ns / sdk"
   ]
  },
  {
   "cell_type": "code",
   "execution_count": 39,
   "metadata": {},
   "outputs": [
    {
     "data": {
      "text/plain": [
       "['apple',\n",
       " 'ios',\n",
       " 'mac',\n",
       " 'book',\n",
       " 'store',\n",
       " 'microsoft',\n",
       " 'ibm',\n",
       " 'oracle',\n",
       " 'banana',\n",
       " 'mango',\n",
       " 'fruit',\n",
       " 'orange',\n",
       " 'strawberry']"
      ]
     },
     "execution_count": 39,
     "metadata": {},
     "output_type": "execute_result"
    }
   ],
   "source": [
    "V"
   ]
  },
  {
   "cell_type": "code",
   "execution_count": 38,
   "metadata": {},
   "outputs": [
    {
     "data": {
      "text/html": [
       "<div>\n",
       "<style scoped>\n",
       "    .dataframe tbody tr th:only-of-type {\n",
       "        vertical-align: middle;\n",
       "    }\n",
       "\n",
       "    .dataframe tbody tr th {\n",
       "        vertical-align: top;\n",
       "    }\n",
       "\n",
       "    .dataframe thead th {\n",
       "        text-align: right;\n",
       "    }\n",
       "</style>\n",
       "<table border=\"1\" class=\"dataframe\">\n",
       "  <thead>\n",
       "    <tr style=\"text-align: right;\">\n",
       "      <th></th>\n",
       "      <th>0</th>\n",
       "      <th>1</th>\n",
       "      <th>2</th>\n",
       "    </tr>\n",
       "  </thead>\n",
       "  <tbody>\n",
       "    <tr>\n",
       "      <th>0</th>\n",
       "      <td>0.77034</td>\n",
       "      <td>0.98242</td>\n",
       "      <td>0.76893</td>\n",
       "    </tr>\n",
       "    <tr>\n",
       "      <th>1</th>\n",
       "      <td>0.13443</td>\n",
       "      <td>0.00051</td>\n",
       "      <td>0.15852</td>\n",
       "    </tr>\n",
       "    <tr>\n",
       "      <th>2</th>\n",
       "      <td>0.95053</td>\n",
       "      <td>0.01173</td>\n",
       "      <td>0.75312</td>\n",
       "    </tr>\n",
       "    <tr>\n",
       "      <th>3</th>\n",
       "      <td>0.98314</td>\n",
       "      <td>0.02699</td>\n",
       "      <td>0.80204</td>\n",
       "    </tr>\n",
       "    <tr>\n",
       "      <th>4</th>\n",
       "      <td>0.84871</td>\n",
       "      <td>0.02648</td>\n",
       "      <td>0.64352</td>\n",
       "    </tr>\n",
       "    <tr>\n",
       "      <th>5</th>\n",
       "      <td>0.03325</td>\n",
       "      <td>0.02846</td>\n",
       "      <td>0.05175</td>\n",
       "    </tr>\n",
       "    <tr>\n",
       "      <th>6</th>\n",
       "      <td>0.00065</td>\n",
       "      <td>0.01320</td>\n",
       "      <td>0.00283</td>\n",
       "    </tr>\n",
       "    <tr>\n",
       "      <th>7</th>\n",
       "      <td>0.00065</td>\n",
       "      <td>0.01320</td>\n",
       "      <td>0.00283</td>\n",
       "    </tr>\n",
       "    <tr>\n",
       "      <th>8</th>\n",
       "      <td>0.00009</td>\n",
       "      <td>0.23845</td>\n",
       "      <td>0.02650</td>\n",
       "    </tr>\n",
       "    <tr>\n",
       "      <th>9</th>\n",
       "      <td>0.00005</td>\n",
       "      <td>0.23118</td>\n",
       "      <td>0.00101</td>\n",
       "    </tr>\n",
       "    <tr>\n",
       "      <th>10</th>\n",
       "      <td>0.01618</td>\n",
       "      <td>0.95254</td>\n",
       "      <td>0.16964</td>\n",
       "    </tr>\n",
       "    <tr>\n",
       "      <th>11</th>\n",
       "      <td>0.00004</td>\n",
       "      <td>0.00727</td>\n",
       "      <td>0.02549</td>\n",
       "    </tr>\n",
       "    <tr>\n",
       "      <th>12</th>\n",
       "      <td>0.00004</td>\n",
       "      <td>0.00727</td>\n",
       "      <td>0.02549</td>\n",
       "    </tr>\n",
       "  </tbody>\n",
       "</table>\n",
       "</div>"
      ],
      "text/plain": [
       "          0        1        2\n",
       "0   0.77034  0.98242  0.76893\n",
       "1   0.13443  0.00051  0.15852\n",
       "2   0.95053  0.01173  0.75312\n",
       "3   0.98314  0.02699  0.80204\n",
       "4   0.84871  0.02648  0.64352\n",
       "5   0.03325  0.02846  0.05175\n",
       "6   0.00065  0.01320  0.00283\n",
       "7   0.00065  0.01320  0.00283\n",
       "8   0.00009  0.23845  0.02650\n",
       "9   0.00005  0.23118  0.00101\n",
       "10  0.01618  0.95254  0.16964\n",
       "11  0.00004  0.00727  0.02549\n",
       "12  0.00004  0.00727  0.02549"
      ]
     },
     "execution_count": 38,
     "metadata": {},
     "output_type": "execute_result"
    }
   ],
   "source": [
    "round(pd.DataFrame(qmk), 5)"
   ]
  },
  {
   "cell_type": "code",
   "execution_count": 33,
   "metadata": {},
   "outputs": [],
   "source": [
    "rnk2 = np.zeros((len(dataset), k))\n",
    "for i, d in enumerate(dataset):\n",
    "    for cluster in range(k):\n",
    "        p = 1\n",
    "        n_p = 1\n",
    "        for z, w in enumerate(V):\n",
    "            if w in d:\n",
    "                p *= qmk[z,cluster]\n",
    "            else:\n",
    "                n_p *= 1 - qmk[z,cluster]\n",
    "        rnk2[i,cluster] = ak[cluster] * p * n_p"
   ]
  },
  {
   "cell_type": "code",
   "execution_count": 34,
   "metadata": {},
   "outputs": [],
   "source": [
    "A = pd.DataFrame(rnk2 / rnk2.sum(axis=0))"
   ]
  },
  {
   "cell_type": "code",
   "execution_count": 37,
   "metadata": {},
   "outputs": [
    {
     "data": {
      "text/html": [
       "<div>\n",
       "<style scoped>\n",
       "    .dataframe tbody tr th:only-of-type {\n",
       "        vertical-align: middle;\n",
       "    }\n",
       "\n",
       "    .dataframe tbody tr th {\n",
       "        vertical-align: top;\n",
       "    }\n",
       "\n",
       "    .dataframe thead th {\n",
       "        text-align: right;\n",
       "    }\n",
       "</style>\n",
       "<table border=\"1\" class=\"dataframe\">\n",
       "  <thead>\n",
       "    <tr style=\"text-align: right;\">\n",
       "      <th></th>\n",
       "      <th>0</th>\n",
       "      <th>1</th>\n",
       "      <th>2</th>\n",
       "    </tr>\n",
       "  </thead>\n",
       "  <tbody>\n",
       "    <tr>\n",
       "      <th>0</th>\n",
       "      <td>2.087317e-02</td>\n",
       "      <td>7.683274e-09</td>\n",
       "      <td>7.352111e-02</td>\n",
       "    </tr>\n",
       "    <tr>\n",
       "      <th>1</th>\n",
       "      <td>7.539523e-01</td>\n",
       "      <td>4.077205e-07</td>\n",
       "      <td>7.045279e-01</td>\n",
       "    </tr>\n",
       "    <tr>\n",
       "      <th>2</th>\n",
       "      <td>1.733253e-12</td>\n",
       "      <td>2.385120e-07</td>\n",
       "      <td>1.388145e-08</td>\n",
       "    </tr>\n",
       "    <tr>\n",
       "      <th>3</th>\n",
       "      <td>4.023783e-04</td>\n",
       "      <td>1.800838e-08</td>\n",
       "      <td>3.787340e-03</td>\n",
       "    </tr>\n",
       "    <tr>\n",
       "      <th>4</th>\n",
       "      <td>2.247702e-01</td>\n",
       "      <td>7.296765e-09</td>\n",
       "      <td>2.117118e-01</td>\n",
       "    </tr>\n",
       "    <tr>\n",
       "      <th>5</th>\n",
       "      <td>7.821161e-15</td>\n",
       "      <td>8.604828e-02</td>\n",
       "      <td>1.776330e-07</td>\n",
       "    </tr>\n",
       "    <tr>\n",
       "      <th>6</th>\n",
       "      <td>1.972801e-06</td>\n",
       "      <td>9.139503e-01</td>\n",
       "      <td>6.451040e-03</td>\n",
       "    </tr>\n",
       "    <tr>\n",
       "      <th>7</th>\n",
       "      <td>1.507706e-17</td>\n",
       "      <td>7.642886e-07</td>\n",
       "      <td>5.878177e-07</td>\n",
       "    </tr>\n",
       "  </tbody>\n",
       "</table>\n",
       "</div>"
      ],
      "text/plain": [
       "              0             1             2\n",
       "0  2.087317e-02  7.683274e-09  7.352111e-02\n",
       "1  7.539523e-01  4.077205e-07  7.045279e-01\n",
       "2  1.733253e-12  2.385120e-07  1.388145e-08\n",
       "3  4.023783e-04  1.800838e-08  3.787340e-03\n",
       "4  2.247702e-01  7.296765e-09  2.117118e-01\n",
       "5  7.821161e-15  8.604828e-02  1.776330e-07\n",
       "6  1.972801e-06  9.139503e-01  6.451040e-03\n",
       "7  1.507706e-17  7.642886e-07  5.878177e-07"
      ]
     },
     "execution_count": 37,
     "metadata": {},
     "output_type": "execute_result"
    }
   ],
   "source": [
    "round(A, 50)"
   ]
  },
  {
   "cell_type": "code",
   "execution_count": null,
   "metadata": {},
   "outputs": [],
   "source": []
  }
 ],
 "metadata": {
  "kernelspec": {
   "display_name": "Python 3",
   "language": "python",
   "name": "python3"
  },
  "language_info": {
   "codemirror_mode": {
    "name": "ipython",
    "version": 3
   },
   "file_extension": ".py",
   "mimetype": "text/x-python",
   "name": "python",
   "nbconvert_exporter": "python",
   "pygments_lexer": "ipython3",
   "version": "3.7.4"
  },
  "toc": {
   "base_numbering": 1,
   "nav_menu": {},
   "number_sections": true,
   "sideBar": true,
   "skip_h1_title": true,
   "title_cell": "Table of Contents",
   "title_sidebar": "Contents",
   "toc_cell": false,
   "toc_position": {},
   "toc_section_display": true,
   "toc_window_display": false
  }
 },
 "nbformat": 4,
 "nbformat_minor": 2
}
