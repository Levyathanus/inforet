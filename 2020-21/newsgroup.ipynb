{
 "cells": [
  {
   "cell_type": "markdown",
   "metadata": {},
   "source": [
    "# Execute the 20news experiment"
   ]
  },
  {
   "cell_type": "code",
   "execution_count": 1,
   "metadata": {},
   "outputs": [],
   "source": [
    "import nltk\n",
    "import warnings\n",
    "import pandas as pd\n",
    "import numpy as np\n",
    "\n",
    "import sklearn.metrics as mtr\n",
    "from sklearn.ensemble import RandomForestClassifier\n",
    "from sklearn.linear_model import LogisticRegression\n",
    "from sklearn.naive_bayes import MultinomialNB\n",
    "from sklearn.neighbors import KNeighborsClassifier\n",
    "from sklearn.svm import SVC\n",
    "from sklearn.tree import DecisionTreeClassifier\n",
    "from sklearn.datasets import fetch_20newsgroups\n",
    "from sklearn.feature_extraction.text import TfidfVectorizer\n",
    "\n",
    "np.random.seed(42)\n",
    "warnings.filterwarnings('ignore')"
   ]
  },
  {
   "cell_type": "markdown",
   "metadata": {},
   "source": [
    "# Download the 20news dataset"
   ]
  },
  {
   "cell_type": "code",
   "execution_count": 2,
   "metadata": {},
   "outputs": [],
   "source": [
    "data_train = fetch_20newsgroups(subset='train')\n",
    "data_test = fetch_20newsgroups(subset='test')"
   ]
  },
  {
   "cell_type": "markdown",
   "metadata": {},
   "source": [
    "# Set up the competing algorithms"
   ]
  },
  {
   "cell_type": "code",
   "execution_count": 3,
   "metadata": {},
   "outputs": [],
   "source": [
    "models = {\n",
    "    'Logistic Regression': LogisticRegression(),\n",
    "    'Support Vector Machine': SVC(),\n",
    "    'Multinomial Naive Bayes': MultinomialNB(),\n",
    "    'Decision Tree': DecisionTreeClassifier(),\n",
    "    'Random Forest': RandomForestClassifier(),\n",
    "    'K-Nearest Neighbors': KNeighborsClassifier()\n",
    "}"
   ]
  },
  {
   "cell_type": "markdown",
   "metadata": {},
   "source": [
    "## Prepare train and test sets\n",
    "\n",
    "Use a simple tokenization with `nltk.word_tokenize` and vectorize with Tf-Idf."
   ]
  },
  {
   "cell_type": "code",
   "execution_count": 4,
   "metadata": {},
   "outputs": [],
   "source": [
    "vectorizer = TfidfVectorizer(tokenizer=nltk.word_tokenize)\n",
    "X_train = vectorizer.fit_transform(data_train.data)\n",
    "X_test = vectorizer.transform(data_test.data)\n",
    "y_train, y_test = data_train.target, data_test.target"
   ]
  },
  {
   "cell_type": "markdown",
   "metadata": {},
   "source": [
    "## Fit"
   ]
  },
  {
   "cell_type": "code",
   "execution_count": 5,
   "metadata": {},
   "outputs": [
    {
     "name": "stdout",
     "output_type": "stream",
     "text": [
      "Training: Logistic Regression\n",
      "Training: Support Vector Machine\n",
      "Training: Multinomial Naive Bayes\n",
      "Training: Decision Tree\n",
      "Training: Random Forest\n",
      "Training: K-Nearest Neighbors\n"
     ]
    }
   ],
   "source": [
    "for model_name, model in models.items():\n",
    "    print(\"Training: {}\".format(model_name))\n",
    "    models[model_name].fit(X_train, y_train)"
   ]
  },
  {
   "cell_type": "markdown",
   "metadata": {},
   "source": [
    "## Predict"
   ]
  },
  {
   "cell_type": "code",
   "execution_count": 6,
   "metadata": {},
   "outputs": [
    {
     "name": "stdout",
     "output_type": "stream",
     "text": [
      "Predicting: Logistic Regression\n",
      "Predicting: Support Vector Machine\n",
      "Predicting: Multinomial Naive Bayes\n",
      "Predicting: Decision Tree\n",
      "Predicting: Random Forest\n",
      "Predicting: K-Nearest Neighbors\n"
     ]
    }
   ],
   "source": [
    "predictions = {}\n",
    "for model_name, model in models.items():\n",
    "    print(\"Predicting: {}\".format(model_name))\n",
    "    predictions[model_name] = model.predict(X_test)"
   ]
  },
  {
   "cell_type": "markdown",
   "metadata": {},
   "source": [
    "# Print evaluation metrics"
   ]
  },
  {
   "cell_type": "code",
   "execution_count": 10,
   "metadata": {},
   "outputs": [],
   "source": [
    "E = []\n",
    "for estimator, y_pred in predictions.items():\n",
    "    report = mtr.classification_report(y_test, y_pred, output_dict=True, zero_division=0)\n",
    "    E.append({\n",
    "        'Model': estimator, 'Accuracy': report['accuracy'],\n",
    "        'Avg Precision (macro)': report['macro avg']['precision'],\n",
    "        'Avg Recall (macro)': report['macro avg']['recall'],\n",
    "        'Avg F1-score (macro)': report['macro avg']['f1-score'],\n",
    "        'Avg Precision (weighted)': report['weighted avg']['precision'],\n",
    "        'Avg Recall (weighted)': report['weighted avg']['recall'],\n",
    "        'Avg F1-score (weighted)': report['weighted avg']['f1-score']\n",
    "    })\n",
    "E = pd.DataFrame(E).set_index('Model', inplace=False)"
   ]
  },
  {
   "cell_type": "code",
   "execution_count": 11,
   "metadata": {},
   "outputs": [
    {
     "data": {
      "text/html": [
       "<div>\n",
       "<style scoped>\n",
       "    .dataframe tbody tr th:only-of-type {\n",
       "        vertical-align: middle;\n",
       "    }\n",
       "\n",
       "    .dataframe tbody tr th {\n",
       "        vertical-align: top;\n",
       "    }\n",
       "\n",
       "    .dataframe thead th {\n",
       "        text-align: right;\n",
       "    }\n",
       "</style>\n",
       "<table border=\"1\" class=\"dataframe\">\n",
       "  <thead>\n",
       "    <tr style=\"text-align: right;\">\n",
       "      <th></th>\n",
       "      <th>Accuracy</th>\n",
       "      <th>Avg Precision (macro)</th>\n",
       "      <th>Avg Recall (macro)</th>\n",
       "      <th>Avg F1-score (macro)</th>\n",
       "      <th>Avg Precision (weighted)</th>\n",
       "      <th>Avg Recall (weighted)</th>\n",
       "      <th>Avg F1-score (weighted)</th>\n",
       "    </tr>\n",
       "    <tr>\n",
       "      <th>Model</th>\n",
       "      <th></th>\n",
       "      <th></th>\n",
       "      <th></th>\n",
       "      <th></th>\n",
       "      <th></th>\n",
       "      <th></th>\n",
       "      <th></th>\n",
       "    </tr>\n",
       "  </thead>\n",
       "  <tbody>\n",
       "    <tr>\n",
       "      <th>Logistic Regression</th>\n",
       "      <td>0.805497</td>\n",
       "      <td>0.807608</td>\n",
       "      <td>0.795480</td>\n",
       "      <td>0.796723</td>\n",
       "      <td>0.810022</td>\n",
       "      <td>0.805497</td>\n",
       "      <td>0.803939</td>\n",
       "    </tr>\n",
       "    <tr>\n",
       "      <th>Support Vector Machine</th>\n",
       "      <td>0.788370</td>\n",
       "      <td>0.798908</td>\n",
       "      <td>0.779376</td>\n",
       "      <td>0.783630</td>\n",
       "      <td>0.801205</td>\n",
       "      <td>0.788370</td>\n",
       "      <td>0.789875</td>\n",
       "    </tr>\n",
       "    <tr>\n",
       "      <th>Multinomial Naive Bayes</th>\n",
       "      <td>0.744158</td>\n",
       "      <td>0.821810</td>\n",
       "      <td>0.724686</td>\n",
       "      <td>0.724273</td>\n",
       "      <td>0.817013</td>\n",
       "      <td>0.744158</td>\n",
       "      <td>0.739516</td>\n",
       "    </tr>\n",
       "    <tr>\n",
       "      <th>Decision Tree</th>\n",
       "      <td>0.549389</td>\n",
       "      <td>0.545602</td>\n",
       "      <td>0.542891</td>\n",
       "      <td>0.543218</td>\n",
       "      <td>0.552772</td>\n",
       "      <td>0.549389</td>\n",
       "      <td>0.550044</td>\n",
       "    </tr>\n",
       "    <tr>\n",
       "      <th>Random Forest</th>\n",
       "      <td>0.738582</td>\n",
       "      <td>0.747812</td>\n",
       "      <td>0.726654</td>\n",
       "      <td>0.725027</td>\n",
       "      <td>0.747611</td>\n",
       "      <td>0.738582</td>\n",
       "      <td>0.732729</td>\n",
       "    </tr>\n",
       "    <tr>\n",
       "      <th>K-Nearest Neighbors</th>\n",
       "      <td>0.529474</td>\n",
       "      <td>0.598623</td>\n",
       "      <td>0.528026</td>\n",
       "      <td>0.538529</td>\n",
       "      <td>0.607524</td>\n",
       "      <td>0.529474</td>\n",
       "      <td>0.544031</td>\n",
       "    </tr>\n",
       "    <tr>\n",
       "      <th>STC-Q</th>\n",
       "      <td>0.863516</td>\n",
       "      <td>0.863040</td>\n",
       "      <td>0.855514</td>\n",
       "      <td>0.855540</td>\n",
       "      <td>0.865961</td>\n",
       "      <td>0.863516</td>\n",
       "      <td>0.861311</td>\n",
       "    </tr>\n",
       "    <tr>\n",
       "      <th>STC-Q (p=1/3)</th>\n",
       "      <td>0.873208</td>\n",
       "      <td>0.871232</td>\n",
       "      <td>0.866238</td>\n",
       "      <td>0.866334</td>\n",
       "      <td>0.874176</td>\n",
       "      <td>0.873208</td>\n",
       "      <td>0.871496</td>\n",
       "    </tr>\n",
       "  </tbody>\n",
       "</table>\n",
       "</div>"
      ],
      "text/plain": [
       "                         Accuracy  Avg Precision (macro)  Avg Recall (macro)  \\\n",
       "Model                                                                          \n",
       "Logistic Regression      0.805497               0.807608            0.795480   \n",
       "Support Vector Machine   0.788370               0.798908            0.779376   \n",
       "Multinomial Naive Bayes  0.744158               0.821810            0.724686   \n",
       "Decision Tree            0.549389               0.545602            0.542891   \n",
       "Random Forest            0.738582               0.747812            0.726654   \n",
       "K-Nearest Neighbors      0.529474               0.598623            0.528026   \n",
       "STC-Q                    0.863516               0.863040            0.855514   \n",
       "STC-Q (p=1/3)            0.873208               0.871232            0.866238   \n",
       "\n",
       "                         Avg F1-score (macro)  Avg Precision (weighted)  \\\n",
       "Model                                                                     \n",
       "Logistic Regression                  0.796723                  0.810022   \n",
       "Support Vector Machine               0.783630                  0.801205   \n",
       "Multinomial Naive Bayes              0.724273                  0.817013   \n",
       "Decision Tree                        0.543218                  0.552772   \n",
       "Random Forest                        0.725027                  0.747611   \n",
       "K-Nearest Neighbors                  0.538529                  0.607524   \n",
       "STC-Q                                0.855540                  0.865961   \n",
       "STC-Q (p=1/3)                        0.866334                  0.874176   \n",
       "\n",
       "                         Avg Recall (weighted)  Avg F1-score (weighted)  \n",
       "Model                                                                    \n",
       "Logistic Regression                   0.805497                 0.803939  \n",
       "Support Vector Machine                0.788370                 0.789875  \n",
       "Multinomial Naive Bayes               0.744158                 0.739516  \n",
       "Decision Tree                         0.549389                 0.550044  \n",
       "Random Forest                         0.738582                 0.732729  \n",
       "K-Nearest Neighbors                   0.529474                 0.544031  \n",
       "STC-Q                                 0.863516                 0.861311  \n",
       "STC-Q (p=1/3)                         0.873208                 0.871496  "
      ]
     },
     "execution_count": 11,
     "metadata": {},
     "output_type": "execute_result"
    }
   ],
   "source": [
    "E"
   ]
  },
  {
   "cell_type": "code",
   "execution_count": null,
   "metadata": {},
   "outputs": [],
   "source": []
  }
 ],
 "metadata": {
  "kernelspec": {
   "display_name": "Python 3",
   "language": "python",
   "name": "python3"
  },
  "language_info": {
   "codemirror_mode": {
    "name": "ipython",
    "version": 3
   },
   "file_extension": ".py",
   "mimetype": "text/x-python",
   "name": "python",
   "nbconvert_exporter": "python",
   "pygments_lexer": "ipython3",
   "version": "3.7.4"
  },
  "toc": {
   "base_numbering": 1,
   "nav_menu": {},
   "number_sections": true,
   "sideBar": true,
   "skip_h1_title": true,
   "title_cell": "Table of Contents",
   "title_sidebar": "Contents",
   "toc_cell": false,
   "toc_position": {},
   "toc_section_display": true,
   "toc_window_display": false
  }
 },
 "nbformat": 4,
 "nbformat_minor": 2
}
