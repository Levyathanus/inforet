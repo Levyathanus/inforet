{
 "cells": [
  {
   "cell_type": "markdown",
   "metadata": {},
   "source": [
    "# Execute the 20news experiment"
   ]
  },
  {
   "cell_type": "code",
   "execution_count": 1,
   "metadata": {},
   "outputs": [],
   "source": [
    "import nltk\n",
    "import warnings\n",
    "import pandas as pd\n",
    "import numpy as np\n",
    "\n",
    "import sklearn.metrics as mtr\n",
    "from sklearn.ensemble import RandomForestClassifier\n",
    "from sklearn.linear_model import LogisticRegression\n",
    "from sklearn.naive_bayes import MultinomialNB\n",
    "from sklearn.neighbors import KNeighborsClassifier\n",
    "from sklearn.svm import SVC\n",
    "from sklearn.tree import DecisionTreeClassifier\n",
    "from sklearn.datasets import fetch_20newsgroups\n",
    "from sklearn.feature_extraction.text import TfidfVectorizer\n",
    "\n",
    "np.random.seed(42)\n",
    "warnings.filterwarnings('ignore')"
   ]
  },
  {
   "cell_type": "markdown",
   "metadata": {},
   "source": [
    "# Download the 20news dataset"
   ]
  },
  {
   "cell_type": "code",
   "execution_count": 15,
   "metadata": {},
   "outputs": [],
   "source": [
    "data_home = '/Users/alfio/Dati/sklearn/'\n",
    "categories = ['alt.atheism', 'soc.religion.christian', \n",
    "              'talk.religion.misc', 'talk.politics.mideast', 'rec.sport.baseball']\n",
    "data_train = fetch_20newsgroups(subset='train', categories=categories, data_home=data_home)\n",
    "data_test = fetch_20newsgroups(subset='test', categories=categories, data_home=data_home)"
   ]
  },
  {
   "cell_type": "markdown",
   "metadata": {},
   "source": [
    "# Set up the competing algorithms"
   ]
  },
  {
   "cell_type": "code",
   "execution_count": 16,
   "metadata": {},
   "outputs": [],
   "source": [
    "models = {\n",
    "    'Logistic Regression': LogisticRegression(),\n",
    "    'Support Vector Machine': SVC(),\n",
    "    'Multinomial Naive Bayes': MultinomialNB(),\n",
    "    'Decision Tree': DecisionTreeClassifier(),\n",
    "    'Random Forest': RandomForestClassifier(),\n",
    "    'K-Nearest Neighbors': KNeighborsClassifier()\n",
    "}"
   ]
  },
  {
   "cell_type": "markdown",
   "metadata": {},
   "source": [
    "## Prepare train and test sets\n",
    "\n",
    "Use a simple tokenization with `nltk.word_tokenize` and vectorize with Tf-Idf."
   ]
  },
  {
   "cell_type": "code",
   "execution_count": 17,
   "metadata": {},
   "outputs": [],
   "source": [
    "vectorizer = TfidfVectorizer(tokenizer=nltk.word_tokenize)\n",
    "X_train = vectorizer.fit_transform(data_train.data)\n",
    "X_test = vectorizer.transform(data_test.data)\n",
    "y_train, y_test = data_train.target, data_test.target"
   ]
  },
  {
   "cell_type": "markdown",
   "metadata": {},
   "source": [
    "## Fit"
   ]
  },
  {
   "cell_type": "code",
   "execution_count": 18,
   "metadata": {},
   "outputs": [
    {
     "name": "stdout",
     "output_type": "stream",
     "text": [
      "Training: Logistic Regression\n",
      "Training: Support Vector Machine\n",
      "Training: Multinomial Naive Bayes\n",
      "Training: Decision Tree\n",
      "Training: Random Forest\n",
      "Training: K-Nearest Neighbors\n"
     ]
    }
   ],
   "source": [
    "for model_name, model in models.items():\n",
    "    print(\"Training: {}\".format(model_name))\n",
    "    models[model_name].fit(X_train, y_train)"
   ]
  },
  {
   "cell_type": "markdown",
   "metadata": {},
   "source": [
    "## Predict"
   ]
  },
  {
   "cell_type": "code",
   "execution_count": 6,
   "metadata": {},
   "outputs": [
    {
     "name": "stdout",
     "output_type": "stream",
     "text": [
      "Predicting: Logistic Regression\n",
      "Predicting: Support Vector Machine\n",
      "Predicting: Multinomial Naive Bayes\n",
      "Predicting: Decision Tree\n",
      "Predicting: Random Forest\n",
      "Predicting: K-Nearest Neighbors\n"
     ]
    }
   ],
   "source": [
    "predictions = {}\n",
    "for model_name, model in models.items():\n",
    "    print(\"Predicting: {}\".format(model_name))\n",
    "    predictions[model_name] = model.predict(X_test)"
   ]
  },
  {
   "cell_type": "markdown",
   "metadata": {},
   "source": [
    "# Print evaluation metrics"
   ]
  },
  {
   "cell_type": "code",
   "execution_count": 13,
   "metadata": {},
   "outputs": [],
   "source": [
    "import matplotlib.pyplot as plt"
   ]
  },
  {
   "cell_type": "code",
   "execution_count": 7,
   "metadata": {},
   "outputs": [],
   "source": [
    "E = []\n",
    "for estimator, y_pred in predictions.items():\n",
    "    report = mtr.classification_report(y_test, y_pred, output_dict=True, zero_division=0)\n",
    "    E.append({\n",
    "        'Model': estimator, 'Accuracy': report['accuracy'],\n",
    "        'Avg Precision (macro)': report['macro avg']['precision'],\n",
    "        'Avg Recall (macro)': report['macro avg']['recall'],\n",
    "        'Avg F1-score (macro)': report['macro avg']['f1-score'],\n",
    "        'Avg Precision (weighted)': report['weighted avg']['precision'],\n",
    "        'Avg Recall (weighted)': report['weighted avg']['recall'],\n",
    "        'Avg F1-score (weighted)': report['weighted avg']['f1-score']\n",
    "    })\n",
    "E = pd.DataFrame(E).set_index('Model', inplace=False)"
   ]
  },
  {
   "cell_type": "code",
   "execution_count": 8,
   "metadata": {},
   "outputs": [
    {
     "data": {
      "text/html": [
       "<div>\n",
       "<style scoped>\n",
       "    .dataframe tbody tr th:only-of-type {\n",
       "        vertical-align: middle;\n",
       "    }\n",
       "\n",
       "    .dataframe tbody tr th {\n",
       "        vertical-align: top;\n",
       "    }\n",
       "\n",
       "    .dataframe thead th {\n",
       "        text-align: right;\n",
       "    }\n",
       "</style>\n",
       "<table border=\"1\" class=\"dataframe\">\n",
       "  <thead>\n",
       "    <tr style=\"text-align: right;\">\n",
       "      <th></th>\n",
       "      <th>Accuracy</th>\n",
       "      <th>Avg Precision (macro)</th>\n",
       "      <th>Avg Recall (macro)</th>\n",
       "      <th>Avg F1-score (macro)</th>\n",
       "      <th>Avg Precision (weighted)</th>\n",
       "      <th>Avg Recall (weighted)</th>\n",
       "      <th>Avg F1-score (weighted)</th>\n",
       "    </tr>\n",
       "    <tr>\n",
       "      <th>Model</th>\n",
       "      <th></th>\n",
       "      <th></th>\n",
       "      <th></th>\n",
       "      <th></th>\n",
       "      <th></th>\n",
       "      <th></th>\n",
       "      <th></th>\n",
       "    </tr>\n",
       "  </thead>\n",
       "  <tbody>\n",
       "    <tr>\n",
       "      <th>Logistic Regression</th>\n",
       "      <td>0.797619</td>\n",
       "      <td>0.811864</td>\n",
       "      <td>0.768384</td>\n",
       "      <td>0.774238</td>\n",
       "      <td>0.810938</td>\n",
       "      <td>0.797619</td>\n",
       "      <td>0.790588</td>\n",
       "    </tr>\n",
       "    <tr>\n",
       "      <th>Support Vector Machine</th>\n",
       "      <td>0.811012</td>\n",
       "      <td>0.817653</td>\n",
       "      <td>0.785500</td>\n",
       "      <td>0.791652</td>\n",
       "      <td>0.820841</td>\n",
       "      <td>0.811012</td>\n",
       "      <td>0.806673</td>\n",
       "    </tr>\n",
       "    <tr>\n",
       "      <th>Multinomial Naive Bayes</th>\n",
       "      <td>0.675595</td>\n",
       "      <td>0.815484</td>\n",
       "      <td>0.615225</td>\n",
       "      <td>0.590462</td>\n",
       "      <td>0.793404</td>\n",
       "      <td>0.675595</td>\n",
       "      <td>0.630711</td>\n",
       "    </tr>\n",
       "    <tr>\n",
       "      <th>Decision Tree</th>\n",
       "      <td>0.711310</td>\n",
       "      <td>0.697761</td>\n",
       "      <td>0.692193</td>\n",
       "      <td>0.690709</td>\n",
       "      <td>0.723983</td>\n",
       "      <td>0.711310</td>\n",
       "      <td>0.713841</td>\n",
       "    </tr>\n",
       "    <tr>\n",
       "      <th>Random Forest</th>\n",
       "      <td>0.767113</td>\n",
       "      <td>0.809010</td>\n",
       "      <td>0.728180</td>\n",
       "      <td>0.733161</td>\n",
       "      <td>0.801316</td>\n",
       "      <td>0.767113</td>\n",
       "      <td>0.753849</td>\n",
       "    </tr>\n",
       "    <tr>\n",
       "      <th>K-Nearest Neighbors</th>\n",
       "      <td>0.637649</td>\n",
       "      <td>0.684749</td>\n",
       "      <td>0.626189</td>\n",
       "      <td>0.627599</td>\n",
       "      <td>0.692063</td>\n",
       "      <td>0.637649</td>\n",
       "      <td>0.639582</td>\n",
       "    </tr>\n",
       "  </tbody>\n",
       "</table>\n",
       "</div>"
      ],
      "text/plain": [
       "                         Accuracy  Avg Precision (macro)  Avg Recall (macro)  \\\n",
       "Model                                                                          \n",
       "Logistic Regression      0.797619               0.811864            0.768384   \n",
       "Support Vector Machine   0.811012               0.817653            0.785500   \n",
       "Multinomial Naive Bayes  0.675595               0.815484            0.615225   \n",
       "Decision Tree            0.711310               0.697761            0.692193   \n",
       "Random Forest            0.767113               0.809010            0.728180   \n",
       "K-Nearest Neighbors      0.637649               0.684749            0.626189   \n",
       "\n",
       "                         Avg F1-score (macro)  Avg Precision (weighted)  \\\n",
       "Model                                                                     \n",
       "Logistic Regression                  0.774238                  0.810938   \n",
       "Support Vector Machine               0.791652                  0.820841   \n",
       "Multinomial Naive Bayes              0.590462                  0.793404   \n",
       "Decision Tree                        0.690709                  0.723983   \n",
       "Random Forest                        0.733161                  0.801316   \n",
       "K-Nearest Neighbors                  0.627599                  0.692063   \n",
       "\n",
       "                         Avg Recall (weighted)  Avg F1-score (weighted)  \n",
       "Model                                                                    \n",
       "Logistic Regression                   0.797619                 0.790588  \n",
       "Support Vector Machine                0.811012                 0.806673  \n",
       "Multinomial Naive Bayes               0.675595                 0.630711  \n",
       "Decision Tree                         0.711310                 0.713841  \n",
       "Random Forest                         0.767113                 0.753849  \n",
       "K-Nearest Neighbors                   0.637649                 0.639582  "
      ]
     },
     "execution_count": 8,
     "metadata": {},
     "output_type": "execute_result"
    }
   ],
   "source": [
    "E"
   ]
  },
  {
   "cell_type": "code",
   "execution_count": 10,
   "metadata": {},
   "outputs": [],
   "source": [
    "p = predictions['Logistic Regression']"
   ]
  },
  {
   "cell_type": "code",
   "execution_count": 11,
   "metadata": {},
   "outputs": [],
   "source": [
    "cm = mtr.confusion_matrix(y_test, p)"
   ]
  },
  {
   "cell_type": "code",
   "execution_count": 14,
   "metadata": {},
   "outputs": [
    {
     "data": {
      "image/png": "[encoded data removed]",
      "text/plain": [
       "<Figure size 1152x720 with 2 Axes>"
      ]
     },
     "metadata": {
      "needs_background": "light"
     },
     "output_type": "display_data"
    }
   ],
   "source": [
    "d = mtr.ConfusionMatrixDisplay(cm, data_test.target_names)\n",
    "fig, ax = plt.subplots(figsize=(16,10))\n",
    "d.plot(ax=ax, cmap='Greens')\n",
    "plt.tight_layout()\n",
    "plt.show()"
   ]
  },
  {
   "cell_type": "code",
   "execution_count": null,
   "metadata": {},
   "outputs": [],
   "source": []
  }
 ],
 "metadata": {
  "kernelspec": {
   "display_name": "Python 3",
   "language": "python",
   "name": "python3"
  },
  "language_info": {
   "codemirror_mode": {
    "name": "ipython",
    "version": 3
   },
   "file_extension": ".py",
   "mimetype": "text/x-python",
   "name": "python",
   "nbconvert_exporter": "python",
   "pygments_lexer": "ipython3",
   "version": "3.7.4"
  },
  "toc": {
   "base_numbering": 1,
   "nav_menu": {},
   "number_sections": true,
   "sideBar": true,
   "skip_h1_title": true,
   "title_cell": "Table of Contents",
   "title_sidebar": "Contents",
   "toc_cell": false,
   "toc_position": {},
   "toc_section_display": true,
   "toc_window_display": false
  }
 },
 "nbformat": 4,
 "nbformat_minor": 2
}
