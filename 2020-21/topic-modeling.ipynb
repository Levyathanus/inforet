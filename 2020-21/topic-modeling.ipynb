{
 "cells": [
  {
   "cell_type": "markdown",
   "metadata": {},
   "source": [
    "# Topic modeling with LSI and LDA\n",
    "Using `Gensim` on real datasets"
   ]
  },
  {
   "cell_type": "code",
   "execution_count": 1,
   "metadata": {},
   "outputs": [],
   "source": [
    "import numpy as np\n",
    "import pandas as pd\n",
    "from tqdm.notebook import tqdm"
   ]
  },
  {
   "cell_type": "code",
   "execution_count": 2,
   "metadata": {},
   "outputs": [],
   "source": [
    "import urllib.request\n",
    "import json\n",
    "import spacy\n",
    "nlp = spacy.load(\"en_core_web_sm\")\n",
    "from wikisearch.retrieval import WikiDataset"
   ]
  },
  {
   "cell_type": "markdown",
   "metadata": {},
   "source": [
    "## Data preprocessing\n",
    "In this example, we work on the wikidataset at the **sentence level**. We work on `NOUN` and `PROPN` only and we skip empty sentences after tokenization. The ground truth is given by wikientities (multi-class labeling).\n",
    "\n",
    "### Exercise\n",
    "Wikipages contain multiple entities (links to wikidata entities). Try to use such information to build a ground truth for multi-label classification."
   ]
  },
  {
   "cell_type": "code",
   "execution_count": 3,
   "metadata": {},
   "outputs": [],
   "source": [
    "from string import punctuation, digits"
   ]
  },
  {
   "cell_type": "code",
   "execution_count": 4,
   "metadata": {},
   "outputs": [],
   "source": [
    "tokenize = lambda text: [x.lemma_.lower() for x in text if x.pos_ in ['NOUN', 'PROPN', 'VERB', 'ADJ', 'ADV']]"
   ]
  },
  {
   "cell_type": "code",
   "execution_count": 5,
   "metadata": {},
   "outputs": [],
   "source": [
    "url = 'http://island.ricerca.di.unimi.it/~alfio/shared/inforet/wikipeople.json'\n",
    "data = WikiDataset(url)"
   ]
  },
  {
   "cell_type": "code",
   "execution_count": 6,
   "metadata": {},
   "outputs": [],
   "source": [
    "entities = list(set(data.entities))"
   ]
  },
  {
   "cell_type": "code",
   "execution_count": null,
   "metadata": {},
   "outputs": [],
   "source": [
    "corpus, assignment = [], []\n",
    "for i, doc in tqdm(list(enumerate(data.documents))):\n",
    "    clean_doc = \"\".join([x for x in doc if x not in punctuation and x not in digits])\n",
    "    for sentence in nlp(clean_doc).sents:\n",
    "        tokens = tokenize(sentence)\n",
    "        if len(tokens) > 0:\n",
    "            corpus.append(tokens)\n",
    "            assignment.append(data.entities[i])"
   ]
  },
  {
   "cell_type": "code",
   "execution_count": 8,
   "metadata": {},
   "outputs": [
    {
     "data": {
      "application/vnd.jupyter.widget-view+json": {
       "model_id": "2005e88fbe9947a3b9cfba7b2aece18a",
       "version_major": 2,
       "version_minor": 0
      },
      "text/plain": [
       "HBox(children=(HTML(value=''), FloatProgress(value=0.0, max=1139.0), HTML(value='')))"
      ]
     },
     "metadata": {},
     "output_type": "display_data"
    },
    {
     "name": "stdout",
     "output_type": "stream",
     "text": [
      "\n"
     ]
    }
   ],
   "source": [
    "corpus, assignment = [], []\n",
    "for i, doc in tqdm(list(enumerate(data.documents))):\n",
    "    clean_doc = \"\".join([x for x in doc if x not in punctuation and x not in digits])\n",
    "    tokens = tokenize(nlp(clean_doc))\n",
    "    if len(tokens) > 0:\n",
    "        corpus.append(tokens)\n",
    "        assignment.append(data.entities[i])"
   ]
  },
  {
   "cell_type": "code",
   "execution_count": 9,
   "metadata": {},
   "outputs": [
    {
     "name": "stdout",
     "output_type": "stream",
     "text": [
      "['city', 'chemnitz', 'consist', 'neighborhood', 'neighborhood', 'einsiedel', 'euba', 'grüna', 'klaffenbach', 'kleinolbersdorfaltenhain', 'mittelbach', 'röhrsdorf', 'wittgensdorf', 'same', 'time', 'locality', 'meaning', 'sections', 'saxon', 'municipal', 'code', 'neighborhood', 'come', 'wake', 'last', 'incorporation', 'wave', 'formerly', 'independent', 'municipality', 'city', 'chemnitz', 'therefore', 'enjoy', 'special', 'position', 'compare', 'other', 'part', 'city', 'locality', 'local', 'council', 'depend', 'number', 'inhabitant', 'locality', 'concern', 'comprise', 'member', 'as', 'well', 'chairman', 'same', 'local', 'council', 'hear', 'important', 'matter', 'concern', 'locality', 'final', 'decision', 'however', 'incumbent', 'city', 'council', 'city', 'chemnitz', 'official', 'identification', 'district', 'number', 'base', 'follow', 'principle', 'start', 'city', 'center', 'neighborhood', 'zentrum', 'schloßchemnitz', 'other', 'part', 'city', 'assign', 'clockwise', 'ascend', 'order', 'tenth', 'place', 'index', 'onedigit', 'award', 'direction', 'city', 'periphery', 'ascend', 'order'] Q2795 Chemnitz (city in Germany)\n"
     ]
    }
   ],
   "source": [
    "example = 345\n",
    "ex_entity = assignment[example]\n",
    "print(corpus[example], ex_entity, data.entity_label[ex_entity])"
   ]
  },
  {
   "cell_type": "markdown",
   "metadata": {},
   "source": [
    "## Prepare data for Gensim"
   ]
  },
  {
   "cell_type": "code",
   "execution_count": 10,
   "metadata": {},
   "outputs": [],
   "source": [
    "from gensim.corpora import Dictionary\n",
    "from collections import defaultdict"
   ]
  },
  {
   "cell_type": "code",
   "execution_count": 11,
   "metadata": {},
   "outputs": [],
   "source": [
    "I = defaultdict(lambda: 0)\n",
    "for doc in corpus:\n",
    "    for word in doc:\n",
    "        I[word] += 1"
   ]
  },
  {
   "cell_type": "code",
   "execution_count": 12,
   "metadata": {},
   "outputs": [],
   "source": [
    "fcorpus = []\n",
    "for doc in corpus:\n",
    "    newdoc = [x for x in doc if I[x] > 10]\n",
    "    fcorpus.append(newdoc)\n",
    "corpus = fcorpus"
   ]
  },
  {
   "cell_type": "code",
   "execution_count": 14,
   "metadata": {},
   "outputs": [],
   "source": [
    "dictionary = Dictionary(corpus)"
   ]
  },
  {
   "cell_type": "code",
   "execution_count": 15,
   "metadata": {},
   "outputs": [
    {
     "data": {
      "text/plain": [
       "[(1, 1), (27, 2)]"
      ]
     },
     "execution_count": 15,
     "metadata": {},
     "output_type": "execute_result"
    }
   ],
   "source": [
    "dictionary.doc2bow(['philosopher', 'philosopher', 'ancient'])"
   ]
  },
  {
   "cell_type": "code",
   "execution_count": 16,
   "metadata": {},
   "outputs": [],
   "source": [
    "C = [dictionary.doc2bow(doc) for doc in corpus]"
   ]
  },
  {
   "cell_type": "code",
   "execution_count": 18,
   "metadata": {},
   "outputs": [],
   "source": [
    "reverse = lambda c, d: [(d[x], y) for x, y in c]"
   ]
  },
  {
   "cell_type": "code",
   "execution_count": 19,
   "metadata": {},
   "outputs": [
    {
     "data": {
      "text/plain": [
       "[('tradition', 1),\n",
       " ('when', 1),\n",
       " ('christian', 1),\n",
       " ('gain', 1),\n",
       " ('name', 1),\n",
       " ('accompany', 2),\n",
       " ('experience', 1),\n",
       " ('say', 1),\n",
       " ('state', 1),\n",
       " ('trade', 1),\n",
       " ('islamic', 1),\n",
       " ('career', 1),\n",
       " ('meet', 1),\n",
       " ('god', 1),\n",
       " ('prophet', 1),\n",
       " ('journey', 1),\n",
       " ('muhammad', 2),\n",
       " ('uncle', 1),\n",
       " ('muhammads', 1),\n",
       " ('meccans', 1)]"
      ]
     },
     "execution_count": 19,
     "metadata": {},
     "output_type": "execute_result"
    }
   ],
   "source": [
    "reverse(C[234], dictionary)"
   ]
  },
  {
   "cell_type": "markdown",
   "metadata": {},
   "source": [
    "## Latent Semantic Indexing"
   ]
  },
  {
   "cell_type": "code",
   "execution_count": 20,
   "metadata": {},
   "outputs": [],
   "source": [
    "from gensim.models import LsiModel"
   ]
  },
  {
   "cell_type": "code",
   "execution_count": 26,
   "metadata": {},
   "outputs": [],
   "source": [
    "model = LsiModel(C, id2word=dictionary, num_topics=10)"
   ]
  },
  {
   "cell_type": "code",
   "execution_count": 27,
   "metadata": {},
   "outputs": [],
   "source": [
    "vectors = model[C]"
   ]
  },
  {
   "cell_type": "code",
   "execution_count": 28,
   "metadata": {},
   "outputs": [
    {
     "data": {
      "text/plain": [
       "gensim.interfaces.TransformedCorpus"
      ]
     },
     "execution_count": 28,
     "metadata": {},
     "output_type": "execute_result"
    }
   ],
   "source": [
    "type(vectors)"
   ]
  },
  {
   "cell_type": "markdown",
   "metadata": {},
   "source": [
    "### Topic vectors"
   ]
  },
  {
   "cell_type": "code",
   "execution_count": 29,
   "metadata": {},
   "outputs": [
    {
     "data": {
      "text/plain": [
       "(10, 1247)"
      ]
     },
     "execution_count": 29,
     "metadata": {},
     "output_type": "execute_result"
    }
   ],
   "source": [
    "topics = model.get_topics()\n",
    "topics.shape"
   ]
  },
  {
   "cell_type": "code",
   "execution_count": 31,
   "metadata": {},
   "outputs": [
    {
     "name": "stdout",
     "output_type": "stream",
     "text": [
      "Topic 0\n",
      "[('jesus', 0.59), ('napoleon', 0.18), ('lincoln', 0.15), ('churchill', 0.14), ('muhammad', 0.13), ('john', 0.12), ('when', 0.12), ('war', 0.11), ('other', 0.11), ('would', 0.1)] \n",
      "\n",
      "Topic 1\n",
      "[('jesus', -0.65), ('napoleon', 0.31), ('lincoln', 0.22), ('churchill', 0.21), ('war', 0.17), ('french', 0.15), ('army', 0.11), ('would', 0.09), ('force', 0.08), ('john', -0.08)] \n",
      "\n",
      "Topic 2\n",
      "[('napoleon', -0.66), ('lincoln', 0.51), ('french', -0.24), ('churchill', 0.16), ('abraham', 0.13), ('army', -0.11), ('lincolns', 0.1), ('france', -0.09), ('battle', -0.08), ('carrier', 0.07)] \n",
      "\n",
      "Topic 3\n",
      "[('muhammad', -0.64), ('lincoln', 0.38), ('napoleon', 0.25), ('jesus', 0.15), ('muslims', -0.13), ('ibn', -0.12), ('medina', -0.12), ('muhammads', -0.11), ('mecca', -0.11), ('french', 0.11)] \n",
      "\n",
      "Topic 4\n",
      "[('churchill', -0.71), ('lincoln', 0.4), ('muhammad', 0.27), ('napoleon', 0.16), ('british', -0.13), ('war', -0.11), ('abraham', 0.11), ('minister', -0.1), ('government', -0.09), ('lincolns', 0.08)] \n",
      "\n",
      "Topic 5\n",
      "[('caesar', 0.64), ('muhammad', -0.28), ('churchill', -0.22), ('play', 0.18), ('brutus', 0.18), ('lincoln', -0.16), ('aristotle', 0.15), ('bc', 0.14), ('film', 0.14), ('caesars', 0.14)] \n",
      "\n",
      "Topic 6\n",
      "[('film', 0.4), ('caesar', -0.39), ('aristotle', 0.37), ('university', 0.14), ('work', 0.13), ('other', 0.13), ('muhammad', -0.12), ('form', 0.11), ('jesus', -0.11), ('also', 0.11)] \n",
      "\n",
      "Topic 7\n",
      "[('film', -0.68), ('aristotle', 0.39), ('form', 0.15), ('play', -0.11), ('muhammad', -0.1), ('john', -0.1), ('abraham', -0.09), ('university', 0.09), ('person', 0.09), ('version', -0.09)] \n",
      "\n",
      "Topic 8\n",
      "[('university', -0.68), ('leipzig', -0.29), ('aristotle', 0.24), ('studies', -0.2), ('city', -0.15), ('american', -0.14), ('german', -0.13), ('th', -0.12), ('year', -0.11), ('when', 0.11)] \n",
      "\n",
      "Topic 9\n",
      "[('abraham', -0.34), ('carrier', -0.33), ('french', -0.22), ('napoleon', 0.19), ('ship', -0.19), ('battle', -0.18), ('group', -0.16), ('strike', -0.16), ('force', -0.15), ('state', 0.15)] \n",
      "\n"
     ]
    }
   ],
   "source": [
    "for topicno in range(10):\n",
    "    print('Topic {}'.format(topicno))\n",
    "    print([(x, round(y, 2)) for x, y in model.show_topic(topicno, topn=10)], '\\n')"
   ]
  },
  {
   "cell_type": "markdown",
   "metadata": {},
   "source": [
    "### Document vectors"
   ]
  },
  {
   "cell_type": "code",
   "execution_count": 32,
   "metadata": {},
   "outputs": [
    {
     "name": "stdout",
     "output_type": "stream",
     "text": [
      "(0, 1.060786828925309)\n",
      "(1, 0.5725640342744063)\n",
      "(2, 0.271922196092288)\n",
      "(3, -0.5747414827050337)\n",
      "(4, -0.06076002347827541)\n",
      "(5, 0.9374538855472313)\n",
      "(6, 1.933458936341755)\n",
      "(7, 1.720639600577701)\n",
      "(8, 0.853552899736879)\n",
      "(9, -0.2604155867322992)\n"
     ]
    }
   ],
   "source": [
    "for v in vectors[10]:\n",
    "    print(v)"
   ]
  },
  {
   "cell_type": "markdown",
   "metadata": {},
   "source": [
    "### Map a new document on the model"
   ]
  },
  {
   "cell_type": "code",
   "execution_count": 33,
   "metadata": {},
   "outputs": [],
   "source": [
    "q = ['abraham', 'lincoln', 'president']\n",
    "qbow = dictionary.doc2bow(q)"
   ]
  },
  {
   "cell_type": "code",
   "execution_count": 34,
   "metadata": {},
   "outputs": [
    {
     "data": {
      "text/plain": [
       "[(781, 1), (1090, 1), (1204, 1)]"
      ]
     },
     "execution_count": 34,
     "metadata": {},
     "output_type": "execute_result"
    }
   ],
   "source": [
    "qbow"
   ]
  },
  {
   "cell_type": "code",
   "execution_count": 35,
   "metadata": {},
   "outputs": [],
   "source": [
    "v = model[qbow]"
   ]
  },
  {
   "cell_type": "code",
   "execution_count": 36,
   "metadata": {},
   "outputs": [
    {
     "data": {
      "text/plain": [
       "array([ 2.20502382e-01,  3.05937274e-01,  7.00335235e-01,  5.02944194e-01,\n",
       "        5.30852142e-01, -2.05203769e-01, -9.59407729e-02, -5.31992735e-02,\n",
       "       -5.93701868e-04, -1.82609826e-01])"
      ]
     },
     "execution_count": 36,
     "metadata": {},
     "output_type": "execute_result"
    }
   ],
   "source": [
    "np.array([y for x, y in v])"
   ]
  },
  {
   "cell_type": "markdown",
   "metadata": {},
   "source": [
    "## LDA"
   ]
  },
  {
   "cell_type": "code",
   "execution_count": 37,
   "metadata": {},
   "outputs": [],
   "source": [
    "from gensim.models import LdaModel"
   ]
  },
  {
   "cell_type": "code",
   "execution_count": 38,
   "metadata": {},
   "outputs": [],
   "source": [
    "lda = LdaModel(C, id2word=dictionary, num_topics=10)"
   ]
  },
  {
   "cell_type": "code",
   "execution_count": 39,
   "metadata": {},
   "outputs": [],
   "source": [
    "lda_vectors = lda[C]"
   ]
  },
  {
   "cell_type": "code",
   "execution_count": 40,
   "metadata": {},
   "outputs": [
    {
     "data": {
      "text/plain": [
       "[(1, 0.4598989), (4, 0.5250003)]"
      ]
     },
     "execution_count": 40,
     "metadata": {},
     "output_type": "execute_result"
    }
   ],
   "source": [
    "lda_vectors[0]"
   ]
  },
  {
   "cell_type": "code",
   "execution_count": 41,
   "metadata": {},
   "outputs": [],
   "source": [
    "lda_topics = lda.get_topics()"
   ]
  },
  {
   "cell_type": "code",
   "execution_count": 42,
   "metadata": {},
   "outputs": [
    {
     "data": {
      "text/plain": [
       "(10, 1247)"
      ]
     },
     "execution_count": 42,
     "metadata": {},
     "output_type": "execute_result"
    }
   ],
   "source": [
    "lda_topics.shape"
   ]
  },
  {
   "cell_type": "code",
   "execution_count": 43,
   "metadata": {},
   "outputs": [
    {
     "name": "stdout",
     "output_type": "stream",
     "text": [
      "Topic 0\n",
      "[('lincoln', 0.02), ('aristotle', 0.01), ('first', 0.01), ('bear', 0.01), ('also', 0.01), ('play', 0.01), ('churchill', 0.01), ('support', 0.01), ('state', 0.01), ('give', 0.01)] \n",
      "\n",
      "Topic 1\n",
      "[('muhammad', 0.02), ('napoleon', 0.01), ('lincoln', 0.01), ('year', 0.01), ('french', 0.01), ('film', 0.01), ('medina', 0.01), ('first', 0.01), ('when', 0.01), ('aristotle', 0.01)] \n",
      "\n",
      "Topic 2\n",
      "[('churchill', 0.02), ('war', 0.01), ('also', 0.01), ('film', 0.01), ('make', 0.01), ('year', 0.01), ('muhammad', 0.01), ('become', 0.01), ('first', 0.01), ('new', 0.01)] \n",
      "\n",
      "Topic 3\n",
      "[('jesus', 0.04), ('napoleon', 0.01), ('churchill', 0.01), ('first', 0.01), ('when', 0.01), ('force', 0.01), ('john', 0.01), ('year', 0.01), ('french', 0.01), ('would', 0.01)] \n",
      "\n",
      "Topic 4\n",
      "[('lincoln', 0.02), ('jesus', 0.01), ('napoleon', 0.01), ('other', 0.01), ('use', 0.01), ('include', 0.01), ('army', 0.01), ('new', 0.01), ('more', 0.01), ('gospel', 0.01)] \n",
      "\n",
      "Topic 5\n",
      "[('jesus', 0.02), ('lincoln', 0.02), ('city', 0.01), ('film', 0.01), ('war', 0.01), ('god', 0.01), ('abraham', 0.01), ('state', 0.01), ('name', 0.01), ('include', 0.01)] \n",
      "\n"
     ]
    }
   ],
   "source": [
    "for topicno in range(6):\n",
    "    print('Topic {}'.format(topicno))\n",
    "    print([(x, round(y, 2)) for x, y in lda.show_topic(topicno, topn=10)], '\\n')"
   ]
  },
  {
   "cell_type": "markdown",
   "metadata": {},
   "source": [
    "### Words to topics"
   ]
  },
  {
   "cell_type": "code",
   "execution_count": 45,
   "metadata": {},
   "outputs": [
    {
     "data": {
      "text/plain": [
       "[(3, 0.040068567), (4, 0.013906933), (5, 0.020271765), (6, 0.014605697)]"
      ]
     },
     "execution_count": 45,
     "metadata": {},
     "output_type": "execute_result"
    }
   ],
   "source": [
    "tid = dictionary.token2id['jesus']\n",
    "lda.get_term_topics(tid)"
   ]
  },
  {
   "cell_type": "markdown",
   "metadata": {},
   "source": [
    "### Experiment: force words in their top topic only"
   ]
  },
  {
   "cell_type": "code",
   "execution_count": 46,
   "metadata": {},
   "outputs": [],
   "source": [
    "from collections import defaultdict"
   ]
  },
  {
   "cell_type": "code",
   "execution_count": 47,
   "metadata": {},
   "outputs": [
    {
     "data": {
      "text/plain": [
       "array([4.0e-04, 4.0e-04, 1.1e-03, 1.0e-04, 9.0e-04, 4.0e-04, 2.0e-04,\n",
       "       3.0e-04, 8.0e-04, 6.0e-04], dtype=float32)"
      ]
     },
     "execution_count": 47,
     "metadata": {},
     "output_type": "execute_result"
    }
   ],
   "source": [
    "np.round(lda_topics[:,8], 4)"
   ]
  },
  {
   "cell_type": "code",
   "execution_count": 48,
   "metadata": {},
   "outputs": [
    {
     "data": {
      "text/plain": [
       "27"
      ]
     },
     "execution_count": 48,
     "metadata": {},
     "output_type": "execute_result"
    }
   ],
   "source": [
    "dictionary.token2id['philosopher']"
   ]
  },
  {
   "cell_type": "code",
   "execution_count": 49,
   "metadata": {},
   "outputs": [
    {
     "data": {
      "text/plain": [
       "[]"
      ]
     },
     "execution_count": 49,
     "metadata": {},
     "output_type": "execute_result"
    }
   ],
   "source": [
    "lda.get_term_topics(8)"
   ]
  },
  {
   "cell_type": "code",
   "execution_count": 50,
   "metadata": {},
   "outputs": [],
   "source": [
    "topic2words = defaultdict(lambda: [])\n",
    "words2topic = {}\n",
    "for word, wid in dictionary.token2id.items():\n",
    "    best_t = np.argmax(lda_topics[:,wid])\n",
    "    best_p = lda_topics[best_t,wid]\n",
    "    topic2words[best_t].append((word, best_p))\n",
    "    words2topic[word] = (best_t, best_p)"
   ]
  },
  {
   "cell_type": "code",
   "execution_count": 51,
   "metadata": {},
   "outputs": [
    {
     "name": "stdout",
     "output_type": "stream",
     "text": [
      "1 ['muhammad', 'year', 'medina', 'take', 'great', 'know', 'slavery', 'bonaparte', 'leave', 'end']\n",
      "4 ['other', 'include', 'army', 'more', 'gospel', 'later', 'bc', 'will', 'life', 'could']\n",
      "0 ['lincoln', 'aristotle', 'bear', 'play', 'support', 'only', 'accord', 'lincolns', 'union', 'animal']\n",
      "9 ['war', 'would', 'french', 'party', 'british', 'day', 'university', 'government', 'france', 'defeat']\n",
      "5 ['city', 'film', 'god', 'abraham', 'state', 'new', 'family', 'prophet', 'father', 'roman']\n",
      "2 ['churchill', 'make', 'become', 'general', 'us', 'victory', 'call', 'begin', 'united', 'minister']\n",
      "7 ['napoleon', 'work', 'battle', 'win', 'brutus', 'caesars', 'history', 'group', 'so', 'rome']\n",
      "6 ['when', 'john', 'give', 'people', 'many', 'man', 'see', 'most', 'aristotles', 'soul']\n",
      "8 ['caesar', 'also', 'then', 'first', 'use', 'name', 'time', 'where', 'house', 'early']\n",
      "3 ['jesus', 'force', 'matthew', 'mark', 'son', 'disciple', 'carrier', 'however', 'such', 'luke']\n"
     ]
    }
   ],
   "source": [
    "for topic, words in topic2words.items():\n",
    "    print(topic, [x for x, _ in sorted(words, key=lambda k: -k[1])[:10]])"
   ]
  },
  {
   "cell_type": "code",
   "execution_count": null,
   "metadata": {},
   "outputs": [],
   "source": [
    "print(words2topic['french'], words2topic['france'])"
   ]
  },
  {
   "cell_type": "markdown",
   "metadata": {},
   "source": [
    "# Exercize\n",
    "1. Exploit lsi and lda models for query purposes\n",
    "2. Exploit lsi and lda models for clustering\n",
    "3. Compare the results against TfIdf vectorization"
   ]
  },
  {
   "cell_type": "code",
   "execution_count": null,
   "metadata": {},
   "outputs": [],
   "source": []
  }
 ],
 "metadata": {
  "kernelspec": {
   "display_name": "Python 3",
   "language": "python",
   "name": "python3"
  },
  "language_info": {
   "codemirror_mode": {
    "name": "ipython",
    "version": 3
   },
   "file_extension": ".py",
   "mimetype": "text/x-python",
   "name": "python",
   "nbconvert_exporter": "python",
   "pygments_lexer": "ipython3",
   "version": "3.7.4"
  },
  "toc": {
   "base_numbering": 1,
   "nav_menu": {},
   "number_sections": true,
   "sideBar": true,
   "skip_h1_title": true,
   "title_cell": "Table of Contents",
   "title_sidebar": "Contents",
   "toc_cell": false,
   "toc_position": {},
   "toc_section_display": true,
   "toc_window_display": false
  }
 },
 "nbformat": 4,
 "nbformat_minor": 2
}
