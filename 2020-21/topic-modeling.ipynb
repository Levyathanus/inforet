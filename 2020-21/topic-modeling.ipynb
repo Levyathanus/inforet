{
 "cells": [
  {
   "cell_type": "markdown",
   "metadata": {},
   "source": [
    "# Topic modeling with LSI and LDA\n",
    "Using `Gensim` on real datasets"
   ]
  },
  {
   "cell_type": "code",
   "execution_count": 1,
   "metadata": {},
   "outputs": [],
   "source": [
    "import numpy as np\n",
    "import pandas as pd\n",
    "from tqdm.notebook import tqdm"
   ]
  },
  {
   "cell_type": "code",
   "execution_count": 2,
   "metadata": {},
   "outputs": [],
   "source": [
    "import urllib.request\n",
    "import json\n",
    "import spacy\n",
    "nlp = spacy.load(\"en_core_web_sm\")\n",
    "from wikisearch.retrieval import WikiDataset"
   ]
  },
  {
   "cell_type": "markdown",
   "metadata": {},
   "source": [
    "## Data preprocessing\n",
    "In this example, we work on the wikidataset at the **sentence level**. We work on `NOUN` and `PROPN` only and we skip empty sentences after tokenization. The ground truth is given by wikientities (multi-class labeling).\n",
    "\n",
    "### Exercise\n",
    "Wikipages contain multiple entities (links to wikidata entities). Try to use such information to build a ground truth for multi-label classification."
   ]
  },
  {
   "cell_type": "code",
   "execution_count": 3,
   "metadata": {},
   "outputs": [],
   "source": [
    "from string import punctuation, digits"
   ]
  },
  {
   "cell_type": "code",
   "execution_count": 4,
   "metadata": {},
   "outputs": [],
   "source": [
    "tokenize = lambda text: [x.lemma_.lower() for x in text if x.pos_ in ['NOUN', 'PROPN']]"
   ]
  },
  {
   "cell_type": "code",
   "execution_count": 5,
   "metadata": {},
   "outputs": [],
   "source": [
    "url = 'http://island.ricerca.di.unimi.it/~alfio/shared/inforet/wikipeople.json'\n",
    "data = WikiDataset(url)"
   ]
  },
  {
   "cell_type": "code",
   "execution_count": 6,
   "metadata": {},
   "outputs": [],
   "source": [
    "entities = list(set(data.entities))"
   ]
  },
  {
   "cell_type": "code",
   "execution_count": 7,
   "metadata": {},
   "outputs": [
    {
     "data": {
      "application/vnd.jupyter.widget-view+json": {
       "model_id": "c6f73b67a23f443dab40f928bb8a98eb",
       "version_major": 2,
       "version_minor": 0
      },
      "text/plain": [
       "HBox(children=(HTML(value=''), FloatProgress(value=0.0, max=1139.0), HTML(value='')))"
      ]
     },
     "metadata": {},
     "output_type": "display_data"
    },
    {
     "name": "stdout",
     "output_type": "stream",
     "text": [
      "\n"
     ]
    }
   ],
   "source": [
    "corpus, assignment = [], []\n",
    "for i, doc in tqdm(list(enumerate(data.documents))):\n",
    "    clean_doc = \"\".join([x for x in doc if x not in punctuation and x not in digits])\n",
    "    for sentence in nlp(clean_doc).sents:\n",
    "        tokens = tokenize(sentence)\n",
    "        if len(tokens) > 0:\n",
    "            corpus.append(tokens)\n",
    "            assignment.append(data.entities[i])"
   ]
  },
  {
   "cell_type": "code",
   "execution_count": 8,
   "metadata": {},
   "outputs": [
    {
     "name": "stdout",
     "output_type": "stream",
     "text": [
      "['day', 'may', 'abraham', 'lincoln', 'field', 'son', 'forest', 'ground'] Q2821841 Abraham Lincoln (grandfather of president Abraham Lincoln)\n"
     ]
    }
   ],
   "source": [
    "example = 2345\n",
    "ex_entity = assignment[example]\n",
    "print(corpus[example], ex_entity, data.entity_label[ex_entity])"
   ]
  },
  {
   "cell_type": "markdown",
   "metadata": {},
   "source": [
    "## Prepare data for Gensim"
   ]
  },
  {
   "cell_type": "code",
   "execution_count": 15,
   "metadata": {},
   "outputs": [],
   "source": [
    "from gensim.corpora import Dictionary"
   ]
  },
  {
   "cell_type": "code",
   "execution_count": 16,
   "metadata": {},
   "outputs": [],
   "source": [
    "dictionary = Dictionary(corpus)\n",
    "C = [dictionary.doc2bow(doc) for doc in corpus]"
   ]
  },
  {
   "cell_type": "code",
   "execution_count": 20,
   "metadata": {},
   "outputs": [],
   "source": [
    "reverse = lambda c, d: [(d[x], y) for x, y in c]"
   ]
  },
  {
   "cell_type": "code",
   "execution_count": 21,
   "metadata": {},
   "outputs": [
    {
     "data": {
      "text/plain": [
       "[('aristotle', 3),\n",
       " ('philosopher', 2),\n",
       " ('philosophy', 1),\n",
       " ('tradition', 1),\n",
       " ('scholar', 2),\n",
       " ('teacher', 2),\n",
       " ('medieval', 1),\n",
       " ('averroes', 1),\n",
       " ('dante', 1),\n",
       " ('exemplar', 1),\n",
       " ('muslim', 1),\n",
       " ('poem', 1),\n",
       " ('title', 1)]"
      ]
     },
     "execution_count": 21,
     "metadata": {},
     "output_type": "execute_result"
    }
   ],
   "source": [
    "reverse(C[234], dictionary)"
   ]
  },
  {
   "cell_type": "markdown",
   "metadata": {},
   "source": [
    "## Latent Semantic Indexing"
   ]
  },
  {
   "cell_type": "code",
   "execution_count": 11,
   "metadata": {},
   "outputs": [],
   "source": [
    "from gensim.models import LsiModel"
   ]
  },
  {
   "cell_type": "code",
   "execution_count": 25,
   "metadata": {},
   "outputs": [],
   "source": [
    "model = LsiModel(C, id2word=dictionary, num_topics=len(entities))"
   ]
  },
  {
   "cell_type": "code",
   "execution_count": 26,
   "metadata": {},
   "outputs": [],
   "source": [
    "vectors = model[C]"
   ]
  },
  {
   "cell_type": "markdown",
   "metadata": {},
   "source": [
    "### Topic vectors"
   ]
  },
  {
   "cell_type": "code",
   "execution_count": 30,
   "metadata": {},
   "outputs": [
    {
     "data": {
      "text/plain": [
       "(33, 8354)"
      ]
     },
     "execution_count": 30,
     "metadata": {},
     "output_type": "execute_result"
    }
   ],
   "source": [
    "topics = model.get_topics()\n",
    "topics.shape"
   ]
  },
  {
   "cell_type": "code",
   "execution_count": 36,
   "metadata": {},
   "outputs": [
    {
     "name": "stdout",
     "output_type": "stream",
     "text": [
      "Topic 0\n",
      "[('jesus', 0.91), ('john', 0.14), ('god', 0.1), ('film', 0.09), ('gospel', 0.08), ('matthew', 0.08), ('luke', 0.08), ('disciple', 0.07), ('scholar', 0.07), ('mark', 0.07)] \n",
      "\n",
      "Topic 1\n",
      "[('napoleon', 0.55), ('lincoln', 0.4), ('churchill', 0.3), ('war', 0.29), ('jesus', -0.18), ('army', 0.15), ('year', 0.12), ('france', 0.11), ('battle', 0.11), ('abraham', 0.1)] \n",
      "\n",
      "Topic 2\n",
      "[('napoleon', 0.65), ('lincoln', -0.64), ('abraham', -0.16), ('churchill', -0.14), ('war', -0.09), ('lincolns', -0.08), ('france', 0.08), ('army', 0.07), ('battle', 0.06), ('john', -0.06)] \n",
      "\n",
      "Topic 3\n",
      "[('churchill', -0.77), ('lincoln', 0.43), ('napoleon', 0.26), ('war', -0.16), ('abraham', 0.12), ('minister', -0.1), ('muhammad', -0.08), ('government', -0.08), ('prime', -0.06), ('year', -0.06)] \n",
      "\n",
      "Topic 4\n",
      "[('muhammad', 0.82), ('churchill', -0.19), ('year', 0.16), ('mecca', 0.15), ('medina', 0.13), ('god', 0.13), ('muslims', 0.12), ('napoleon', -0.11), ('ibn', 0.11), ('jesus', -0.1)] \n",
      "\n",
      "Topic 5\n",
      "[('caesar', -0.77), ('film', -0.21), ('brutus', -0.18), ('bc', -0.16), ('muhammad', 0.16), ('churchill', 0.15), ('caesars', -0.14), ('rome', -0.12), ('lincoln', 0.12), ('napoleon', 0.11)] \n",
      "\n",
      "Topic 6\n",
      "[('film', 0.84), ('caesar', -0.21), ('war', -0.18), ('john', 0.12), ('jesus', -0.1), ('version', 0.09), ('year', 0.08), ('gance', 0.07), ('scene', 0.07), ('new', 0.07)] \n",
      "\n",
      "Topic 7\n",
      "[('war', -0.81), ('churchill', 0.28), ('caesar', 0.2), ('film', -0.17), ('lincoln', 0.12), ('napoleon', 0.12), ('abraham', 0.1), ('year', 0.1), ('john', 0.08), ('world', -0.07)] \n",
      "\n",
      "Topic 8\n",
      "[('aristotle', 0.71), ('year', 0.26), ('caesar', -0.19), ('city', 0.19), ('university', 0.17), ('muhammad', -0.14), ('film', -0.14), ('century', 0.11), ('work', 0.1), ('form', 0.1)] \n",
      "\n",
      "Topic 9\n",
      "[('year', -0.67), ('aristotle', 0.39), ('university', -0.35), ('city', -0.23), ('leipzig', -0.14), ('muhammad', 0.1), ('people', 0.09), ('state', -0.09), ('god', 0.08), ('person', 0.07)] \n",
      "\n",
      "Topic 10\n",
      "[('john', -0.72), ('gospel', -0.26), ('mark', -0.21), ('university', 0.19), ('matthew', -0.17), ('jesus', 0.16), ('luke', -0.15), ('year', -0.11), ('time', 0.11), ('film', 0.1)] \n",
      "\n",
      "Topic 11\n",
      "[('university', -0.63), ('year', 0.48), ('leipzig', -0.24), ('john', -0.23), ('city', -0.15), ('century', -0.14), ('student', -0.1), ('time', 0.1), ('studies', -0.09), ('gospel', -0.08)] \n",
      "\n",
      "Topic 12\n",
      "[('city', 0.78), ('university', -0.33), ('battle', -0.14), ('chemnitz', 0.14), ('year', -0.13), ('army', -0.12), ('family', 0.11), ('centre', 0.1), ('people', 0.09), ('leipzig', -0.09)] \n",
      "\n",
      "Topic 13\n",
      "[('army', 0.55), ('battle', 0.39), ('force', 0.26), ('city', 0.23), ('napoleon', -0.22), ('french', 0.16), ('day', 0.14), ('year', -0.13), ('war', -0.11), ('victory', 0.11)] \n",
      "\n",
      "Topic 14\n",
      "[('abraham', -0.47), ('carrier', -0.35), ('ship', -0.23), ('army', 0.22), ('man', 0.21), ('group', -0.2), ('state', 0.17), ('war', -0.16), ('strike', -0.16), ('party', 0.14)] \n",
      "\n",
      "Topic 15\n",
      "[('god', -0.82), ('muhammad', 0.18), ('son', -0.16), ('prophet', -0.12), ('word', -0.11), ('jesus', 0.11), ('belief', -0.1), ('army', -0.09), ('ibn', 0.09), ('messenger', -0.08)] \n",
      "\n",
      "Topic 16\n",
      "[('man', 0.55), ('son', 0.31), ('mark', 0.26), ('john', -0.26), ('matthew', 0.25), ('state', -0.23), ('luke', 0.23), ('gospel', 0.15), ('scholar', 0.13), ('time', -0.12)] \n",
      "\n",
      "Topic 17\n",
      "[('time', 0.61), ('people', 0.35), ('aristotle', -0.18), ('state', 0.18), ('party', 0.17), ('name', 0.16), ('caesar', -0.14), ('lincoln', -0.14), ('man', 0.13), ('carrier', 0.1)] \n",
      "\n",
      "Topic 18\n",
      "[('state', 0.38), ('time', -0.34), ('name', -0.22), ('party', 0.2), ('man', 0.19), ('government', 0.19), ('army', -0.16), ('people', -0.15), ('france', 0.15), ('lincoln', -0.12)] \n",
      "\n",
      "Topic 19\n",
      "[('man', -0.5), ('john', -0.3), ('gospel', 0.28), ('matthew', 0.26), ('luke', 0.24), ('mark', 0.23), ('source', 0.19), ('scholar', 0.19), ('ad', 0.16), ('people', -0.16)] \n",
      "\n",
      "Topic 20\n",
      "[('people', 0.61), ('time', -0.35), ('army', 0.25), ('man', -0.2), ('battle', -0.19), ('france', 0.15), ('name', -0.14), ('day', -0.14), ('century', -0.12), ('experience', 0.11)] \n",
      "\n",
      "Topic 21\n",
      "[('army', 0.48), ('battle', -0.48), ('people', -0.32), ('french', -0.23), ('day', -0.2), ('man', 0.16), ('force', -0.11), ('abraham', 0.09), ('victory', -0.09), ('house', 0.09)] \n",
      "\n",
      "Topic 22\n",
      "[('name', -0.68), ('time', 0.21), ('century', -0.2), ('death', 0.19), ('state', -0.16), ('france', -0.15), ('house', 0.14), ('party', 0.14), ('life', 0.12), ('leader', 0.1)] \n",
      "\n",
      "Topic 23\n",
      "[('death', 0.31), ('son', 0.28), ('state', 0.28), ('house', 0.2), ('time', -0.19), ('family', 0.18), ('scholar', -0.18), ('day', 0.17), ('france', -0.17), ('name', 0.17)] \n",
      "\n",
      "Topic 24\n",
      "[('family', 0.3), ('death', 0.29), ('life', 0.25), ('century', 0.25), ('person', -0.21), ('state', -0.2), ('france', 0.19), ('dream', -0.16), ('battle', 0.12), ('napoleon', -0.12)] \n",
      "\n",
      "Topic 25\n",
      "[('party', -0.36), ('state', 0.28), ('life', 0.23), ('name', -0.19), ('government', -0.16), ('united', 0.15), ('person', 0.15), ('century', 0.15), ('states', 0.14), ('man', 0.14)] \n",
      "\n",
      "Topic 26\n",
      "[('france', 0.44), ('people', -0.25), ('force', 0.21), ('time', 0.19), ('son', 0.19), ('life', -0.18), ('family', 0.16), ('name', -0.16), ('scholar', -0.13), ('century', -0.13)] \n",
      "\n",
      "Topic 27\n",
      "[('house', -0.66), ('party', 0.25), ('state', 0.19), ('death', 0.15), ('leader', 0.14), ('life', -0.13), ('family', 0.12), ('day', 0.12), ('lincolns', -0.12), ('government', -0.11)] \n",
      "\n",
      "Topic 28\n",
      "[('day', -0.4), ('family', 0.25), ('death', -0.25), ('person', 0.24), ('dream', 0.22), ('slavery', -0.21), ('party', 0.21), ('abraham', 0.14), ('battle', 0.12), ('slave', -0.12)] \n",
      "\n",
      "Topic 29\n",
      "[('day', 0.4), ('person', 0.31), ('dream', 0.28), ('son', -0.25), ('life', 0.2), ('france', 0.19), ('united', -0.18), ('states', -0.17), ('name', 0.15), ('people', -0.13)] \n",
      "\n",
      "Topic 30\n",
      "[('lincolns', 0.38), ('party', 0.34), ('day', 0.28), ('death', -0.28), ('force', -0.23), ('government', -0.22), ('united', 0.19), ('states', 0.17), ('lincoln', -0.13), ('leader', 0.13)] \n",
      "\n",
      "Topic 31\n",
      "[('day', 0.35), ('death', -0.26), ('family', 0.24), ('name', -0.24), ('century', 0.22), ('people', 0.18), ('party', -0.18), ('ibn', -0.15), ('united', -0.15), ('states', -0.14)] \n",
      "\n",
      "Topic 32\n",
      "[('century', -0.41), ('life', 0.32), ('son', -0.24), ('lincolns', 0.17), ('person', -0.17), ('dream', -0.16), ('family', 0.15), ('name', 0.13), ('state', 0.13), ('ibn', -0.13)] \n",
      "\n"
     ]
    }
   ],
   "source": [
    "for topicno in range(len(entities)):\n",
    "    print('Topic {}'.format(topicno))\n",
    "    print([(x, round(y, 2)) for x, y in model.show_topic(topicno, topn=10)], '\\n')"
   ]
  },
  {
   "cell_type": "markdown",
   "metadata": {},
   "source": [
    "### Document vectors"
   ]
  },
  {
   "cell_type": "code",
   "execution_count": 38,
   "metadata": {},
   "outputs": [
    {
     "name": "stdout",
     "output_type": "stream",
     "text": [
      "(0, 0.06146628616438651)\n",
      "(1, 0.07756338994373224)\n",
      "(2, -0.012168671663828566)\n",
      "(3, -0.02733045450509954)\n",
      "(4, 0.08362935097411132)\n",
      "(5, -0.3006005441175099)\n",
      "(6, 0.0066352702618239405)\n",
      "(7, 0.12243976291150545)\n",
      "(8, 0.9393588507114129)\n",
      "(9, 0.4266297113070801)\n",
      "(10, -0.04494656379003664)\n",
      "(11, 0.13074951500076426)\n",
      "(12, -0.18371933733791404)\n",
      "(13, 0.06206086714540601)\n",
      "(14, -0.1135035987605824)\n",
      "(15, 0.07591684031177959)\n",
      "(16, -0.09144335736916245)\n",
      "(17, -0.2070544273795482)\n",
      "(18, 0.05891951156978529)\n",
      "(19, 0.09071300319567417)\n",
      "(20, -0.14895229498404466)\n",
      "(21, 0.07361159522794633)\n",
      "(22, -0.10510853573562373)\n",
      "(23, 0.056676445271941954)\n",
      "(24, -0.030317383929361206)\n",
      "(25, -0.16939201326209224)\n",
      "(26, 0.09593532928812909)\n",
      "(27, 0.05965468423235859)\n",
      "(28, -0.10388720681338377)\n",
      "(29, -0.16863701329086345)\n",
      "(30, -0.04763563079047266)\n",
      "(31, 0.03360323456898951)\n",
      "(32, -0.025998864035574783)\n"
     ]
    }
   ],
   "source": [
    "for v in vectors[0]:\n",
    "    print(v)"
   ]
  },
  {
   "cell_type": "markdown",
   "metadata": {},
   "source": [
    "### Map a new document on the model"
   ]
  },
  {
   "cell_type": "code",
   "execution_count": 39,
   "metadata": {},
   "outputs": [],
   "source": [
    "q = ['abraham', 'lincoln', 'president']\n",
    "v = model[dictionary.doc2bow(q)]"
   ]
  },
  {
   "cell_type": "markdown",
   "metadata": {},
   "source": [
    "## LDA"
   ]
  },
  {
   "cell_type": "code",
   "execution_count": 77,
   "metadata": {},
   "outputs": [],
   "source": [
    "from gensim.models import LdaModel"
   ]
  },
  {
   "cell_type": "code",
   "execution_count": 78,
   "metadata": {},
   "outputs": [],
   "source": [
    "lda = LdaModel(C, id2word=dictionary, num_topics=len(entities))"
   ]
  },
  {
   "cell_type": "code",
   "execution_count": 79,
   "metadata": {},
   "outputs": [],
   "source": [
    "lda_vectors = lda[C]"
   ]
  },
  {
   "cell_type": "code",
   "execution_count": 80,
   "metadata": {},
   "outputs": [
    {
     "data": {
      "text/plain": [
       "[(13, 0.1737541), (14, 0.34003782), (17, 0.4482893)]"
      ]
     },
     "execution_count": 80,
     "metadata": {},
     "output_type": "execute_result"
    }
   ],
   "source": [
    "lda_vectors[2]"
   ]
  },
  {
   "cell_type": "code",
   "execution_count": 81,
   "metadata": {},
   "outputs": [],
   "source": [
    "lda_topics = lda.get_topics()"
   ]
  },
  {
   "cell_type": "code",
   "execution_count": 82,
   "metadata": {},
   "outputs": [
    {
     "data": {
      "text/plain": [
       "(33, 8354)"
      ]
     },
     "execution_count": 82,
     "metadata": {},
     "output_type": "execute_result"
    }
   ],
   "source": [
    "lda_topics.shape"
   ]
  },
  {
   "cell_type": "code",
   "execution_count": 83,
   "metadata": {},
   "outputs": [
    {
     "name": "stdout",
     "output_type": "stream",
     "text": [
      "Topic 0\n",
      "[('abraham', 0.07), ('army', 0.02), ('system', 0.02), ('general', 0.02), ('churchill', 0.01), ('ceremony', 0.01), ('unit', 0.01), ('marshal', 0.01), ('saint', 0.01), ('mile', 0.01)] \n",
      "\n",
      "Topic 1\n",
      "[('war', 0.03), ('family', 0.02), ('man', 0.02), ('france', 0.02), ('size', 0.02), ('charles', 0.02), ('bank', 0.02), ('project', 0.02), ('union', 0.01), ('april', 0.01)] \n",
      "\n",
      "Topic 2\n",
      "[('churchill', 0.02), ('day', 0.02), ('napoleon', 0.02), ('man', 0.01), ('war', 0.01), ('port', 0.01), ('hero', 0.01), ('july', 0.01), ('minute', 0.01), ('house', 0.01)] \n",
      "\n",
      "Topic 3\n",
      "[('russians', 0.02), ('soldier', 0.02), ('court', 0.02), ('english', 0.02), ('us', 0.02), ('time', 0.01), ('abraham', 0.01), ('people', 0.01), ('plot', 0.01), ('century', 0.01)] \n",
      "\n",
      "Topic 4\n",
      "[('song', 0.02), ('london', 0.01), ('churchill', 0.01), ('good', 0.01), ('york', 0.01), ('star', 0.01), ('complexion', 0.01), ('attention', 0.01), ('independence', 0.01), ('health', 0.01)] \n",
      "\n",
      "Topic 5\n",
      "[('french', 0.06), ('austria', 0.02), ('year', 0.02), ('battle', 0.02), ('victory', 0.02), ('war', 0.02), ('army', 0.01), ('boy', 0.01), ('pacific', 0.01), ('defeat', 0.01)] \n",
      "\n",
      "Topic 6\n",
      "[('jesus', 0.03), ('artillery', 0.02), ('states', 0.02), ('plan', 0.01), ('united', 0.01), ('force', 0.01), ('general', 0.01), ('troop', 0.01), ('washington', 0.01), ('battle', 0.01)] \n",
      "\n",
      "Topic 7\n",
      "[('university', 0.04), ('jesus', 0.02), ('brother', 0.02), ('death', 0.01), ('james', 0.01), ('new', 0.01), ('family', 0.01), ('home', 0.01), ('mother', 0.01), ('child', 0.01)] \n",
      "\n",
      "Topic 8\n",
      "[('battle', 0.02), ('army', 0.02), ('force', 0.02), ('us', 0.01), ('war', 0.01), ('language', 0.01), ('effort', 0.01), ('party', 0.01), ('victory', 0.01), ('scene', 0.01)] \n",
      "\n",
      "Topic 9\n",
      "[('film', 0.18), ('caesar', 0.03), ('brutus', 0.03), ('john', 0.02), ('audience', 0.02), ('jesus', 0.02), ('cassius', 0.01), ('speech', 0.01), ('rome', 0.01), ('south', 0.01)] \n",
      "\n",
      "Topic 10\n",
      "[('napoleon', 0.02), ('campaign', 0.02), ('island', 0.02), ('revolution', 0.01), ('jesus', 0.01), ('sarah', 0.01), ('egypt', 0.01), ('war', 0.01), ('mp', 0.01), ('l', 0.01)] \n",
      "\n",
      "Topic 11\n",
      "[('slavery', 0.04), ('union', 0.02), ('war', 0.02), ('treaty', 0.01), ('follower', 0.01), ('coalition', 0.01), ('compromise', 0.01), ('van', 0.01), ('hope', 0.01), ('issue', 0.01)] \n",
      "\n",
      "Topic 12\n",
      "[('france', 0.05), ('napoleon', 0.04), ('paris', 0.04), ('gulf', 0.02), ('team', 0.02), ('jesus', 0.01), ('persian', 0.01), ('department', 0.01), ('april', 0.01), ('hour', 0.01)] \n",
      "\n",
      "Topic 13\n",
      "[('version', 0.04), ('name', 0.02), ('president', 0.02), ('leipzig', 0.01), ('jesus', 0.01), ('bible', 0.01), ('republic', 0.01), ('national', 0.01), ('may', 0.01), ('november', 0.01)] \n",
      "\n",
      "Topic 14\n",
      "[('year', 0.02), ('proclamation', 0.01), ('wife', 0.01), ('age', 0.01), ('muhammad', 0.01), ('aristotle', 0.01), ('course', 0.01), ('medina', 0.01), ('death', 0.01), ('life', 0.01)] \n",
      "\n",
      "Topic 15\n",
      "[('university', 0.07), ('jesus', 0.03), ('nomination', 0.02), ('mi', 0.01), ('year', 0.01), ('student', 0.01), ('km', 0.01), ('boat', 0.01), ('section', 0.01), ('luke', 0.01)] \n",
      "\n",
      "Topic 16\n",
      "[('income', 0.02), ('jesus', 0.02), ('household', 0.02), ('city', 0.02), ('family', 0.01), ('muhammad', 0.01), ('people', 0.01), ('empire', 0.01), ('census', 0.01), ('room', 0.01)] \n",
      "\n",
      "Topic 17\n",
      "[('jesus', 0.03), ('french', 0.02), ('life', 0.01), ('slavery', 0.01), ('birth', 0.01), ('new', 0.01), ('white', 0.01), ('day', 0.01), ('john', 0.01), ('news', 0.01)] \n",
      "\n",
      "Topic 18\n",
      "[('slavery', 0.02), ('louis', 0.02), ('congress', 0.01), ('struggle', 0.01), ('henry', 0.01), ('churchill', 0.01), ('nation', 0.01), ('victory', 0.01), ('elizabeth', 0.01), ('jesus', 0.01)] \n",
      "\n",
      "Topic 19\n",
      "[('jesus', 0.02), ('aristotle', 0.01), ('son', 0.01), ('motion', 0.01), ('foot', 0.01), ('year', 0.01), ('john', 0.01), ('event', 0.01), ('rate', 0.01), ('critic', 0.01)] \n",
      "\n",
      "Topic 20\n",
      "[('caesar', 0.03), ('line', 0.02), ('convention', 0.02), ('julius', 0.02), ('napoleon', 0.02), ('time', 0.02), ('sound', 0.01), ('war', 0.01), ('cabinet', 0.01), ('iii', 0.01)] \n",
      "\n",
      "Topic 21\n",
      "[('play', 0.05), ('strike', 0.03), ('wing', 0.02), ('party', 0.02), ('performance', 0.02), ('production', 0.02), ('revolutionary', 0.01), ('coalition', 0.01), ('group', 0.01), ('squadron', 0.01)] \n",
      "\n",
      "Topic 22\n",
      "[('deployment', 0.02), ('pope', 0.02), ('race', 0.02), ('city', 0.02), ('hall', 0.01), ('troop', 0.01), ('march', 0.01), ('ii', 0.01), ('jesus', 0.01), ('american', 0.01)] \n",
      "\n",
      "Topic 23\n",
      "[('naval', 0.02), ('us', 0.01), ('congress', 0.01), ('regiment', 0.01), ('january', 0.01), ('leader', 0.01), ('fleet', 0.01), ('south', 0.01), ('army', 0.01), ('bed', 0.01)] \n",
      "\n",
      "Topic 24\n",
      "[('confederate', 0.02), ('church', 0.02), ('marriage', 0.01), ('abraham', 0.01), ('france', 0.01), ('muhammad', 0.01), ('book', 0.01), ('death', 0.01), ('address', 0.01), ('month', 0.01)] \n",
      "\n",
      "Topic 25\n",
      "[('state', 0.02), ('year', 0.02), ('ship', 0.01), ('may', 0.01), ('august', 0.01), ('administration', 0.01), ('river', 0.01), ('territory', 0.01), ('us', 0.01), ('station', 0.01)] \n",
      "\n",
      "Topic 26\n",
      "[('napoleon', 0.05), ('ship', 0.03), ('captain', 0.02), ('peace', 0.01), ('aircraft', 0.01), ('music', 0.01), ('history', 0.01), ('god', 0.01), ('royal', 0.01), ('tank', 0.01)] \n",
      "\n",
      "Topic 27\n",
      "[('president', 0.01), ('vienna', 0.01), ('work', 0.01), ('training', 0.01), ('power', 0.01), ('crowd', 0.01), ('love', 0.01), ('festival', 0.01), ('november', 0.01), ('boy', 0.01)] \n",
      "\n",
      "Topic 28\n",
      "[('bonaparte', 0.04), ('napoleon', 0.02), ('age', 0.01), ('churchill', 0.01), ('muhammad', 0.01), ('june', 0.01), ('name', 0.01), ('campaign', 0.01), ('height', 0.01), ('century', 0.01)] \n",
      "\n",
      "Topic 29\n",
      "[('caesar', 0.02), ('stage', 0.02), ('italy', 0.01), ('territory', 0.01), ('series', 0.01), ('troop', 0.01), ('state', 0.01), ('supporter', 0.01), ('leipzig', 0.01), ('germany', 0.01)] \n",
      "\n",
      "Topic 30\n",
      "[('jesus', 0.02), ('fort', 0.02), ('american', 0.01), ('de', 0.01), ('house', 0.01), ('portugal', 0.01), ('france', 0.01), ('troop', 0.01), ('name', 0.01), ('portrait', 0.01)] \n",
      "\n",
      "Topic 31\n",
      "[('jesus', 0.03), ('slave', 0.02), ('code', 0.02), ('john', 0.02), ('state', 0.01), ('mary', 0.01), ('law', 0.01), ('legend', 0.01), ('thomas', 0.01), ('duke', 0.01)] \n",
      "\n",
      "Topic 32\n",
      "[('napoleon', 0.22), ('army', 0.02), ('empire', 0.01), ('man', 0.01), ('emperor', 0.01), ('force', 0.01), ('leipzig', 0.01), ('hundred', 0.01), ('war', 0.01), ('education', 0.01)] \n",
      "\n"
     ]
    }
   ],
   "source": [
    "for topicno in range(len(entities)):\n",
    "    print('Topic {}'.format(topicno))\n",
    "    print([(x, round(y, 2)) for x, y in lda.show_topic(topicno, topn=10)], '\\n')"
   ]
  },
  {
   "cell_type": "markdown",
   "metadata": {},
   "source": [
    "### Words to topics"
   ]
  },
  {
   "cell_type": "code",
   "execution_count": 84,
   "metadata": {},
   "outputs": [
    {
     "data": {
      "text/plain": [
       "[(6, 0.033375844),\n",
       " (7, 0.023949811),\n",
       " (9, 0.014820911),\n",
       " (10, 0.011981268),\n",
       " (12, 0.013095714),\n",
       " (13, 0.010792364),\n",
       " (15, 0.024703098),\n",
       " (16, 0.015780577),\n",
       " (17, 0.03333264),\n",
       " (19, 0.023893114),\n",
       " (30, 0.0157442),\n",
       " (31, 0.024752295)]"
      ]
     },
     "execution_count": 84,
     "metadata": {},
     "output_type": "execute_result"
    }
   ],
   "source": [
    "tid = dictionary.token2id['jesus']\n",
    "lda.get_term_topics(tid)"
   ]
  },
  {
   "cell_type": "markdown",
   "metadata": {},
   "source": [
    "### Experiment: force words in their top topic only"
   ]
  },
  {
   "cell_type": "code",
   "execution_count": 85,
   "metadata": {},
   "outputs": [],
   "source": [
    "from collections import defaultdict"
   ]
  },
  {
   "cell_type": "code",
   "execution_count": 95,
   "metadata": {},
   "outputs": [
    {
     "data": {
      "text/plain": [
       "array([0.    , 0.    , 0.    , 0.0007, 0.0006, 0.    , 0.    , 0.    ,\n",
       "       0.    , 0.    , 0.    , 0.0006, 0.    , 0.    , 0.0006, 0.0016,\n",
       "       0.    , 0.    , 0.    , 0.0047, 0.0023, 0.    , 0.0005, 0.    ,\n",
       "       0.0006, 0.    , 0.0011, 0.    , 0.    , 0.0007, 0.0006, 0.0006,\n",
       "       0.0004], dtype=float32)"
      ]
     },
     "execution_count": 95,
     "metadata": {},
     "output_type": "execute_result"
    }
   ],
   "source": [
    "np.round(lda_topics[:,8], 4)"
   ]
  },
  {
   "cell_type": "code",
   "execution_count": 94,
   "metadata": {},
   "outputs": [
    {
     "data": {
      "text/plain": [
       "8"
      ]
     },
     "execution_count": 94,
     "metadata": {},
     "output_type": "execute_result"
    }
   ],
   "source": [
    "dictionary.token2id['philosopher']"
   ]
  },
  {
   "cell_type": "code",
   "execution_count": 87,
   "metadata": {},
   "outputs": [
    {
     "data": {
      "text/plain": [
       "[]"
      ]
     },
     "execution_count": 87,
     "metadata": {},
     "output_type": "execute_result"
    }
   ],
   "source": [
    "lda.get_term_topics(8)"
   ]
  },
  {
   "cell_type": "code",
   "execution_count": 96,
   "metadata": {},
   "outputs": [],
   "source": [
    "topic2words = defaultdict(lambda: [])\n",
    "words2topic = {}\n",
    "for word, wid in dictionary.token2id.items():\n",
    "    best_t = np.argmax(lda_topics[:,wid])\n",
    "    best_p = lda_topics[best_t,wid]\n",
    "    topic2words[best_t].append((word, best_p))\n",
    "    words2topic[word] = (best_t, best_p)"
   ]
  },
  {
   "cell_type": "code",
   "execution_count": 98,
   "metadata": {},
   "outputs": [
    {
     "name": "stdout",
     "output_type": "stream",
     "text": [
      "19 ['aristotle', 'son', 'motion', 'foot', 'event', 'rate', 'critic', 'parent', 'j', 'argument']\n",
      "24 ['confederate', 'church', 'marriage', 'book', 'address', 'month', 'david', 'copy', 'friend', 'paper']\n",
      "11 ['slavery', 'union', 'treaty', 'follower', 'compromise', 'van', 'hope', 'issue', 'poland', 'freedom']\n",
      "7 ['brother', 'death', 'james', 'new', 'home', 'mother', 'child', 'testament', 'building', 'battlefield']\n",
      "18 ['louis', 'congress', 'struggle', 'henry', 'nation', 'elizabeth', 'october', 'public', 'england', 'minister']\n",
      "13 ['version', 'name', 'president', 'leipzig', 'bible', 'republic', 'national', 'november', 'library', 'america']\n",
      "30 ['fort', 'american', 'de', 'house', 'portugal', 'portrait', 'way', 'number', 'member', 'military']\n",
      "17 ['jesus', 'life', 'birth', 'white', 'news', 'science', 'subject', 'angel', 'father', 'casualty']\n",
      "1 ['war', 'family', 'man', 'size', 'charles', 'bank', 'project', 'april', 'conflict', 'program']\n",
      "14 ['proclamation', 'wife', 'course', 'medina', 'community', 'discipline', 'style', 'householder', 'soil', 'head']\n",
      "3 ['russians', 'soldier', 'court', 'english', 'us', 'people', 'plot', 'century', 'term', 'master']\n",
      "25 ['state', 'may', 'august', 'administration', 'river', 'station', 'constitution', 'air', 'sea', 'pound']\n",
      "0 ['abraham', 'army', 'system', 'general', 'ceremony', 'unit', 'marshal', 'saint', 'mile', 'democrat']\n",
      "8 ['battle', 'force', 'language', 'effort', 'scene', 'francis', 'support', 'c', 'civil', 'debate']\n",
      "26 ['ship', 'captain', 'peace', 'aircraft', 'music', 'history', 'royal', 'tank', 'admiral', 'experience']\n",
      "20 ['line', 'convention', 'julius', 'time', 'sound', 'cabinet', 'iii', 'confederacy', 'letter', 'queen']\n",
      "21 ['play', 'strike', 'wing', 'party', 'performance', 'production', 'revolutionary', 'coalition', 'group', 'squadron']\n",
      "10 ['campaign', 'island', 'revolution', 'sarah', 'egypt', 'mp', 'l', 'school', 'museum', 'children']\n",
      "29 ['stage', 'italy', 'territory', 'series', 'supporter', 'germany', 'memory', 'male', 'authority', 'theatre']\n",
      "16 ['income', 'household', 'muhammad', 'census', 'room', 'god', 'side', 'roman', 'doctor', 'cousin']\n",
      "2 ['churchill', 'day', 'port', 'hero', 'july', 'minute', 'trade', 'failure', 'bill', 'decision']\n",
      "27 ['vienna', 'work', 'training', 'crowd', 'love', 'festival', 'expedition', 'contemporary', 'collection', 'influence']\n",
      "22 ['deployment', 'pope', 'race', 'city', 'hall', 'march', 'ii', 'fathers', 'singapore', 'quarter']\n",
      "23 ['naval', 'regiment', 'january', 'leader', 'fleet', 'south', 'bed', 'neck', 'spelling', 'missouri']\n",
      "28 ['bonaparte', 'age', 'june', 'height', 'winston', 'british', 'husband', 'memoir', 'popularity', 'kg']\n",
      "9 ['film', 'caesar', 'brutus', 'john', 'audience', 'cassius', 'speech', 'rome', 'mark', 'voter']\n",
      "4 ['song', 'london', 'good', 'york', 'star', 'complexion', 'attention', 'independence', 'health', 'contract']\n",
      "5 ['french', 'austria', 'year', 'victory', 'boy', 'pacific', 'defeat', 'enemy', 'southern', 'historian']\n",
      "32 ['napoleon', 'empire', 'emperor', 'hundred', 'education', 'justice', 'policy', 'ambition', 'institution', 'corps']\n",
      "31 ['slave', 'code', 'mary', 'law', 'legend', 'thomas', 'duke', 'joseph', 'railroad', 'body']\n",
      "15 ['university', 'nomination', 'mi', 'student', 'km', 'boat', 'section', 'luke', 'camera', 'property']\n",
      "12 ['france', 'paris', 'gulf', 'team', 'persian', 'department', 'hour', 'capital', 'senate', 'russia']\n",
      "6 ['artillery', 'states', 'plan', 'united', 'troop', 'washington', 'commander', 'europe', 'fact', 'lawyer']\n"
     ]
    }
   ],
   "source": [
    "for topic, words in topic2words.items():\n",
    "    print(topic, [x for x, _ in sorted(words, key=lambda k: -k[1])[:10]])"
   ]
  },
  {
   "cell_type": "code",
   "execution_count": 101,
   "metadata": {},
   "outputs": [
    {
     "name": "stdout",
     "output_type": "stream",
     "text": [
      "(5, 0.060463376) (12, 0.04582151)\n"
     ]
    }
   ],
   "source": [
    "print(words2topic['french'], words2topic['france'])"
   ]
  },
  {
   "cell_type": "markdown",
   "metadata": {},
   "source": [
    "# Exercize\n",
    "1. Exploit lsi and lda models for query purposes\n",
    "2. Exploit lsi and lda models for clustering\n",
    "3. Compare the results against TfIdf vectorization"
   ]
  },
  {
   "cell_type": "code",
   "execution_count": null,
   "metadata": {},
   "outputs": [],
   "source": []
  }
 ],
 "metadata": {
  "kernelspec": {
   "display_name": "Python 3",
   "language": "python",
   "name": "python3"
  },
  "language_info": {
   "codemirror_mode": {
    "name": "ipython",
    "version": 3
   },
   "file_extension": ".py",
   "mimetype": "text/x-python",
   "name": "python",
   "nbconvert_exporter": "python",
   "pygments_lexer": "ipython3",
   "version": "3.7.4"
  },
  "toc": {
   "base_numbering": 1,
   "nav_menu": {},
   "number_sections": true,
   "sideBar": true,
   "skip_h1_title": true,
   "title_cell": "Table of Contents",
   "title_sidebar": "Contents",
   "toc_cell": false,
   "toc_position": {},
   "toc_section_display": true,
   "toc_window_display": false
  }
 },
 "nbformat": 4,
 "nbformat_minor": 2
}
