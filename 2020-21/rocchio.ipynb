{
 "cells": [
  {
   "cell_type": "markdown",
   "metadata": {},
   "source": [
    "# Toy example with the Rocchio algorithm"
   ]
  },
  {
   "cell_type": "code",
   "execution_count": 1,
   "metadata": {},
   "outputs": [],
   "source": [
    "import numpy as np\n",
    "import pandas as pd\n",
    "from tqdm.notebook import tqdm"
   ]
  },
  {
   "cell_type": "code",
   "execution_count": 2,
   "metadata": {},
   "outputs": [],
   "source": [
    "import matplotlib.pyplot as plt"
   ]
  },
  {
   "cell_type": "code",
   "execution_count": 4,
   "metadata": {},
   "outputs": [],
   "source": [
    "from sklearn.datasets import make_blobs"
   ]
  },
  {
   "cell_type": "code",
   "execution_count": 37,
   "metadata": {},
   "outputs": [],
   "source": [
    "X, y = make_blobs(n_samples=100, centers=2, n_features=2, cluster_std=1.0, random_state=0)\n",
    "ri, ni = [i for i, x in enumerate(y) if x==1], [i for i, x in enumerate(y) if x==0]\n",
    "R = X[ri,:]\n",
    "N = X[ni,:]\n",
    "q = X[ri[:20] + ni[:15]].mean(axis=0)"
   ]
  },
  {
   "cell_type": "code",
   "execution_count": 69,
   "metadata": {},
   "outputs": [
    {
     "data": {
      "image/png": "[encoded data removed]",
      "text/plain": [
       "<Figure size 432x432 with 1 Axes>"
      ]
     },
     "metadata": {
      "needs_background": "light"
     },
     "output_type": "display_data"
    }
   ],
   "source": [
    "fig, ax = plt.subplots(figsize=(6, 6))\n",
    "ax.scatter(R[:,0], R[:,1], c=\"#009900\", marker=\"^\", alpha=0.4, label='Relevant')\n",
    "ax.scatter(N[:,0], N[:,1], c=\"#990000\", marker=\"v\", alpha=0.4, label='Non Relevant')\n",
    "ax.scatter(q[0], q[1], c=\"#000099\", marker=\"+\", s=100, label=\"Query\")\n",
    "ax.legend()\n",
    "plt.tight_layout()\n",
    "plt.savefig('/Users/alfio/Teaching/2020-21/inforet/lectures/imgs/rocchio1.png')\n",
    "plt.show()"
   ]
  },
  {
   "cell_type": "code",
   "execution_count": 48,
   "metadata": {},
   "outputs": [],
   "source": [
    "from sklearn.metrics.pairwise import cosine_similarity\n",
    "from sklearn.metrics import precision_recall_fscore_support"
   ]
  },
  {
   "cell_type": "code",
   "execution_count": 43,
   "metadata": {},
   "outputs": [],
   "source": [
    "sigma = cosine_similarity(q.reshape(1, -1), X)"
   ]
  },
  {
   "cell_type": "code",
   "execution_count": 46,
   "metadata": {},
   "outputs": [],
   "source": [
    "results = [i for i, x in sorted(enumerate(sigma[0]), key=lambda z: -z[1])]\n",
    "gtruth = [1 if i in ri else 0 for i in results]"
   ]
  },
  {
   "cell_type": "code",
   "execution_count": 58,
   "metadata": {},
   "outputs": [
    {
     "data": {
      "text/plain": [
       "(0.5, 0.17, 0.2537313432835821, None)"
      ]
     },
     "execution_count": 58,
     "metadata": {},
     "output_type": "execute_result"
    }
   ],
   "source": [
    "precision_recall_fscore_support(np.ones(R.shape[0]), gtruth[:R.shape[0]], average='macro', zero_division=0)"
   ]
  },
  {
   "cell_type": "markdown",
   "metadata": {},
   "source": [
    "## Relevance feedback"
   ]
  },
  {
   "cell_type": "code",
   "execution_count": 59,
   "metadata": {},
   "outputs": [],
   "source": [
    "tp = [x for x in results if x in ri]\n",
    "fp = [x for x in results if x in ni]"
   ]
  },
  {
   "cell_type": "code",
   "execution_count": 62,
   "metadata": {},
   "outputs": [],
   "source": [
    "positive_feedback = X[tp,:]\n",
    "negative_feedback = X[fp,:]"
   ]
  },
  {
   "cell_type": "code",
   "execution_count": 63,
   "metadata": {},
   "outputs": [],
   "source": [
    "def rocchio(q, pos, neg, alpha=0.5, beta=0.25, gamma=0.25):\n",
    "        Pos = pos.mean(axis=0)\n",
    "        Neg = neg.mean(axis=0)\n",
    "        return alpha * q + beta * Pos - gamma * Neg"
   ]
  },
  {
   "cell_type": "code",
   "execution_count": 64,
   "metadata": {},
   "outputs": [],
   "source": [
    "qm = rocchio(q, positive_feedback, negative_feedback)"
   ]
  },
  {
   "cell_type": "code",
   "execution_count": 71,
   "metadata": {},
   "outputs": [
    {
     "data": {
      "image/png": "[encoded data removed]",
      "text/plain": [
       "<Figure size 432x432 with 1 Axes>"
      ]
     },
     "metadata": {
      "needs_background": "light"
     },
     "output_type": "display_data"
    }
   ],
   "source": [
    "fig, ax = plt.subplots(figsize=(6, 6))\n",
    "ax.scatter(R[:,0], R[:,1], c=\"#009900\", marker=\"^\", alpha=0.4, label='Relevant')\n",
    "ax.scatter(N[:,0], N[:,1], c=\"#990000\", marker=\"v\", alpha=0.4, label='Non Relevant')\n",
    "ax.scatter(q[0], q[1], c=\"#000099\", marker=\"+\", s=100, label=\"Query\")\n",
    "ax.scatter(qm[0], qm[1], c=\"#0000aa\", marker=\"o\", s=100, label=\"Revised Query\")\n",
    "ax.legend()\n",
    "plt.tight_layout()\n",
    "plt.savefig('/Users/alfio/Teaching/2020-21/inforet/lectures/imgs/rocchio2.png')\n",
    "plt.show()"
   ]
  },
  {
   "cell_type": "code",
   "execution_count": 66,
   "metadata": {},
   "outputs": [],
   "source": [
    "sigma = cosine_similarity(qm.reshape(1, -1), X)"
   ]
  },
  {
   "cell_type": "code",
   "execution_count": 67,
   "metadata": {},
   "outputs": [],
   "source": [
    "results = [i for i, x in sorted(enumerate(sigma[0]), key=lambda z: -z[1])]\n",
    "gtruth = [1 if i in ri else 0 for i in results]"
   ]
  },
  {
   "cell_type": "code",
   "execution_count": 68,
   "metadata": {},
   "outputs": [
    {
     "data": {
      "text/plain": [
       "(0.5, 0.43, 0.4623655913978495, None)"
      ]
     },
     "execution_count": 68,
     "metadata": {},
     "output_type": "execute_result"
    }
   ],
   "source": [
    "precision_recall_fscore_support(np.ones(R.shape[0]), gtruth[:R.shape[0]], average='macro', zero_division=0)"
   ]
  },
  {
   "cell_type": "code",
   "execution_count": null,
   "metadata": {},
   "outputs": [],
   "source": []
  }
 ],
 "metadata": {
  "kernelspec": {
   "display_name": "Python 3",
   "language": "python",
   "name": "python3"
  },
  "language_info": {
   "codemirror_mode": {
    "name": "ipython",
    "version": 3
   },
   "file_extension": ".py",
   "mimetype": "text/x-python",
   "name": "python",
   "nbconvert_exporter": "python",
   "pygments_lexer": "ipython3",
   "version": "3.7.4"
  },
  "toc": {
   "base_numbering": 1,
   "nav_menu": {},
   "number_sections": true,
   "sideBar": true,
   "skip_h1_title": true,
   "title_cell": "Table of Contents",
   "title_sidebar": "Contents",
   "toc_cell": false,
   "toc_position": {},
   "toc_section_display": true,
   "toc_window_display": false
  }
 },
 "nbformat": 4,
 "nbformat_minor": 2
}
