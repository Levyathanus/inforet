{
 "cells": [
  {
   "cell_type": "markdown",
   "metadata": {},
   "source": [
    "# A primer on text processing for Information Retrieval"
   ]
  },
  {
   "cell_type": "code",
   "execution_count": 1,
   "metadata": {},
   "outputs": [],
   "source": [
    "import numpy as np\n",
    "import pandas as pd\n",
    "from tqdm.notebook import tqdm"
   ]
  },
  {
   "cell_type": "markdown",
   "metadata": {},
   "source": [
    "## Build up a simple dataset to work with"
   ]
  },
  {
   "cell_type": "code",
   "execution_count": 2,
   "metadata": {},
   "outputs": [],
   "source": [
    "import pymongo\n",
    "from IPython.display import display"
   ]
  },
  {
   "cell_type": "code",
   "execution_count": 3,
   "metadata": {},
   "outputs": [],
   "source": [
    "db = pymongo.MongoClient()['nyt']\n",
    "data = db['nyt_key']"
   ]
  },
  {
   "cell_type": "markdown",
   "metadata": {},
   "source": [
    "### Use keywords as queries"
   ]
  },
  {
   "cell_type": "code",
   "execution_count": 4,
   "metadata": {},
   "outputs": [
    {
     "data": {
      "text/plain": [
       "{'_id': ObjectId('5b000b6635f44bd810080ac6'),\n",
       " 'text_id': '4fc0279345c1498b0d18ccaf',\n",
       " 'headline': {'main': 'DISFRANCHISE ALL UNFIT'},\n",
       " 'text': 'DISFRANCHISE ALL UNFIT',\n",
       " 'abstract': 'Voters; Proposition to Disfranchise All Unfit; \"Post Natus\" Letter to Editor',\n",
       " 'web_url': 'http://query.nytimes.com/gst/abstract.html?res=9504EFD9133EE333A25750C2A9649D946197D6CF',\n",
       " 'keywords': {'name': 'subject', 'value': 'POLITICAL'},\n",
       " 'pub_date': datetime.datetime(1900, 12, 23, 0, 0)}"
      ]
     },
     "metadata": {},
     "output_type": "display_data"
    },
    {
     "data": {
      "text/plain": [
       "{'_id': ObjectId('5b000b6635f44bd810080ac7'),\n",
       " 'text_id': '4fc0279345c1498b0d18cce8',\n",
       " 'headline': {'main': \"CITY'S REGISTERED VOTERS; The Enrollment Books Show a Total of 642,034, Decreases in Tammany Strongholds -- Democrats Say These Losses Will Be Made Good Up-Town.\"},\n",
       " 'text': \"CITY'S REGISTERED VOTERS; The Enrollment Books Show a Total of 642,034, Decreases in Tammany Strongholds -- Democrats Say These Losses Will Be Made Good Up-Town.\",\n",
       " 'abstract': 'Registration',\n",
       " 'web_url': 'http://query.nytimes.com/gst/abstract.html?res=9802E5D6173FE433A25751C2A9669D946197D6CF',\n",
       " 'keywords': {'name': 'subject', 'value': 'BROOKLYN (N. Y.) POLITICS'},\n",
       " 'pub_date': datetime.datetime(1900, 10, 22, 0, 0)}"
      ]
     },
     "metadata": {},
     "output_type": "display_data"
    },
    {
     "data": {
      "text/plain": [
       "{'_id': ObjectId('5b000b6635f44bd810080ac8'),\n",
       " 'text_id': '4fc0279345c1498b0d18cce8',\n",
       " 'headline': {'main': \"CITY'S REGISTERED VOTERS; The Enrollment Books Show a Total of 642,034, Decreases in Tammany Strongholds -- Democrats Say These Losses Will Be Made Good Up-Town.\"},\n",
       " 'text': \"CITY'S REGISTERED VOTERS; The Enrollment Books Show a Total of 642,034, Decreases in Tammany Strongholds -- Democrats Say These Losses Will Be Made Good Up-Town.\",\n",
       " 'abstract': 'Registration',\n",
       " 'web_url': 'http://query.nytimes.com/gst/abstract.html?res=9802E5D6173FE433A25751C2A9669D946197D6CF',\n",
       " 'keywords': {'name': 'subject', 'value': 'NEW YORK CITY POLITICS'},\n",
       " 'pub_date': datetime.datetime(1900, 10, 22, 0, 0)}"
      ]
     },
     "metadata": {},
     "output_type": "display_data"
    },
    {
     "data": {
      "text/plain": [
       "{'_id': ObjectId('5b000b6635f44bd810080ac9'),\n",
       " 'text_id': '4fc0279345c1498b0d18ccfc',\n",
       " 'headline': {'main': 'SENAT0R HANNA PLEASED; Comments on China News and the Anti-Imperialists. Attempt to Establish Connection Between Philippine Troubles and the Boxers He Calls Idiocy.'},\n",
       " 'text': 'SENAT0R HANNA PLEASED; Comments on China News and the Anti-Imperialists. Attempt to Establish Connection Between Philippine Troubles and the Boxers He Calls Idiocy.',\n",
       " 'abstract': 'United States Commission; President John R. Proctor Declares that the Public Indorsement Grows in Strength',\n",
       " 'web_url': 'http://query.nytimes.com/gst/abstract.html?res=9E06E0DE173FE433A25752C2A96E9C946197D6CF',\n",
       " 'keywords': {'name': 'subject', 'value': 'CIVIL SERVICE'},\n",
       " 'pub_date': datetime.datetime(1900, 8, 21, 0, 0)}"
      ]
     },
     "metadata": {},
     "output_type": "display_data"
    },
    {
     "data": {
      "text/plain": [
       "{'_id': ObjectId('5b000b6635f44bd810080aca'),\n",
       " 'text_id': '4fc0279345c1498b0d18cd0d',\n",
       " 'headline': {'main': \"CHAIRMAN HANNA'S TALKS; Gov. Roosevelt and Senator Platt Confer with Him. Denies that He Criticised the Gover- nor's St. Paul Speech -- Senator Platt on Advisory Board.\"},\n",
       " 'text': \"CHAIRMAN HANNA'S TALKS; Gov. Roosevelt and Senator Platt Confer with Him. Denies that He Criticised the Gover- nor's St. Paul Speech -- Senator Platt on Advisory Board.\",\n",
       " 'abstract': 'Conference with Republican Leaders',\n",
       " 'web_url': 'http://query.nytimes.com/gst/abstract.html?res=9903E4D6113BEE33A25752C3A9619C946197D6CF',\n",
       " 'keywords': {'name': 'persons', 'value': 'HANNA, SENATOR MARK A.'},\n",
       " 'pub_date': datetime.datetime(1900, 7, 31, 0, 0)}"
      ]
     },
     "metadata": {},
     "output_type": "display_data"
    },
    {
     "data": {
      "text/plain": [
       "{'_id': ObjectId('5b000b6635f44bd810080acb'),\n",
       " 'text_id': '4fc0279345c1498b0d18cd2d',\n",
       " 'headline': {'main': \"THE PARTY NOMINATIONS; Leaders' Choice of Congressmen and State Legislators. THE EDICT OF MR. CROKER He Will Have None But Men Who Are Debaters -- Hopes of the Republicans.\"},\n",
       " 'text': \"THE PARTY NOMINATIONS; Leaders' Choice of Congressmen and State Legislators. THE EDICT OF MR. CROKER He Will Have None But Men Who Are Debaters -- Hopes of the Republicans.\",\n",
       " 'abstract': 'State and Congressional Candidates',\n",
       " 'web_url': 'http://query.nytimes.com/gst/abstract.html?res=9401E6D91039E733A25750C0A96F9C946197D6CF',\n",
       " 'keywords': {'name': 'organizations', 'value': 'TAMMANY HALL'},\n",
       " 'pub_date': datetime.datetime(1900, 9, 3, 0, 0)}"
      ]
     },
     "metadata": {},
     "output_type": "display_data"
    },
    {
     "data": {
      "text/plain": [
       "{'_id': ObjectId('5b000b6635f44bd810080acc'),\n",
       " 'text_id': '4fc0279345c1498b0d18cd2d',\n",
       " 'headline': {'main': \"THE PARTY NOMINATIONS; Leaders' Choice of Congressmen and State Legislators. THE EDICT OF MR. CROKER He Will Have None But Men Who Are Debaters -- Hopes of the Republicans.\"},\n",
       " 'text': \"THE PARTY NOMINATIONS; Leaders' Choice of Congressmen and State Legislators. THE EDICT OF MR. CROKER He Will Have None But Men Who Are Debaters -- Hopes of the Republicans.\",\n",
       " 'abstract': 'State and Congressional Candidates',\n",
       " 'web_url': 'http://query.nytimes.com/gst/abstract.html?res=9401E6D91039E733A25750C0A96F9C946197D6CF',\n",
       " 'keywords': {'name': 'subject', 'value': 'NEW YORK CITY POLITICS'},\n",
       " 'pub_date': datetime.datetime(1900, 9, 3, 0, 0)}"
      ]
     },
     "metadata": {},
     "output_type": "display_data"
    },
    {
     "data": {
      "text/plain": [
       "{'_id': ObjectId('5b000b6635f44bd810080acd'),\n",
       " 'text_id': '4fc0279345c1498b0d18cd2d',\n",
       " 'headline': {'main': \"THE PARTY NOMINATIONS; Leaders' Choice of Congressmen and State Legislators. THE EDICT OF MR. CROKER He Will Have None But Men Who Are Debaters -- Hopes of the Republicans.\"},\n",
       " 'text': \"THE PARTY NOMINATIONS; Leaders' Choice of Congressmen and State Legislators. THE EDICT OF MR. CROKER He Will Have None But Men Who Are Debaters -- Hopes of the Republicans.\",\n",
       " 'abstract': 'State and Congressional Candidates',\n",
       " 'web_url': 'http://query.nytimes.com/gst/abstract.html?res=9401E6D91039E733A25750C0A96F9C946197D6CF',\n",
       " 'keywords': {'name': 'subject', 'value': 'NEW YORK STATE POLITICS'},\n",
       " 'pub_date': datetime.datetime(1900, 9, 3, 0, 0)}"
      ]
     },
     "metadata": {},
     "output_type": "display_data"
    },
    {
     "data": {
      "text/plain": [
       "{'_id': ObjectId('5b000b6635f44bd810080ace'),\n",
       " 'text_id': '4fc0279345c1498b0d18cd2d',\n",
       " 'headline': {'main': \"THE PARTY NOMINATIONS; Leaders' Choice of Congressmen and State Legislators. THE EDICT OF MR. CROKER He Will Have None But Men Who Are Debaters -- Hopes of the Republicans.\"},\n",
       " 'text': \"THE PARTY NOMINATIONS; Leaders' Choice of Congressmen and State Legislators. THE EDICT OF MR. CROKER He Will Have None But Men Who Are Debaters -- Hopes of the Republicans.\",\n",
       " 'abstract': 'State and Congressional Candidates',\n",
       " 'web_url': 'http://query.nytimes.com/gst/abstract.html?res=9401E6D91039E733A25750C0A96F9C946197D6CF',\n",
       " 'keywords': {'name': 'subject', 'value': 'REPUBLICAN'},\n",
       " 'pub_date': datetime.datetime(1900, 9, 3, 0, 0)}"
      ]
     },
     "metadata": {},
     "output_type": "display_data"
    },
    {
     "data": {
      "text/plain": [
       "{'_id': ObjectId('5b000b6635f44bd810080acf'),\n",
       " 'text_id': '4fc0279445c1498b0d18cd61',\n",
       " 'headline': {'main': \"AMBASSADOR WHITE ON GERMANY'S ATTITUDE; Has No Idea, He Thinks, of Assisting in Partition of China. BETTER FEELING FOR AMERICA Some Distrust of Russia -- The Peace Conference, Mr. White Says, Accomplished More than Was Expected.\"},\n",
       " 'text': \"AMBASSADOR WHITE ON GERMANY'S ATTITUDE; Has No Idea, He Thinks, of Assisting in Partition of China. BETTER FEELING FOR AMERICA Some Distrust of Russia -- The Peace Conference, Mr. White Says, Accomplished More than Was Expected.\",\n",
       " 'abstract': \"Arrival from Europe; Interview on China Situation and Kaiser's Speech\",\n",
       " 'web_url': 'http://query.nytimes.com/gst/abstract.html?res=9B05EEDA143DE433A25754C0A96E9C946197D6CF',\n",
       " 'keywords': {'name': 'persons', 'value': 'WHITE, ANDREW D.'},\n",
       " 'pub_date': datetime.datetime(1900, 8, 7, 0, 0)}"
      ]
     },
     "metadata": {},
     "output_type": "display_data"
    }
   ],
   "source": [
    "for record in data.find().limit(10):\n",
    "    display(record)"
   ]
  },
  {
   "cell_type": "markdown",
   "metadata": {},
   "source": [
    "# Inverted index\n",
    "\n",
    "```\n",
    "w1: [list of docs],\n",
    "w2: [list of docs]\n",
    "```\n",
    "\n",
    "$q$ (e.g., `CIVIL SERVICE`)\n",
    "\n",
    "`q: [list of words] [civil, service]`\n",
    "\n",
    "Query strategy: $\\sigma(q, d) \\rightarrow Q \\cap D$\n",
    "\n",
    "### issues\n",
    "1. what is a word?\n",
    "2. do words have the same relevance for docs?\n",
    "3. words are too much diverse\n",
    "\n",
    "### Notes to further develop\n",
    "1. tokenization\n",
    "2. normalization (lemmatization, stemming, bi-/tri-grams and in general compund terms)\n",
    "3. weighting"
   ]
  },
  {
   "cell_type": "code",
   "execution_count": 18,
   "metadata": {},
   "outputs": [],
   "source": [
    "from collections import defaultdict"
   ]
  },
  {
   "cell_type": "code",
   "execution_count": 19,
   "metadata": {},
   "outputs": [],
   "source": [
    "I = defaultdict(lambda: [])"
   ]
  },
  {
   "cell_type": "code",
   "execution_count": 20,
   "metadata": {},
   "outputs": [],
   "source": [
    "for record in data.find().limit(10):\n",
    "    text = \". \".join([record['text'], record['abstract']])\n",
    "    tokens = text.lower().split()\n",
    "    for token in set(tokens):\n",
    "        I[token].append(record['text_id'])"
   ]
  },
  {
   "cell_type": "code",
   "execution_count": null,
   "metadata": {},
   "outputs": [],
   "source": []
  },
  {
   "cell_type": "code",
   "execution_count": 28,
   "metadata": {},
   "outputs": [],
   "source": [
    "q = 'THE TAMMANY HALL'\n",
    "Q = q.lower().split()"
   ]
  },
  {
   "cell_type": "code",
   "execution_count": 29,
   "metadata": {},
   "outputs": [
    {
     "data": {
      "text/plain": [
       "['the', 'tammany', 'hall']"
      ]
     },
     "execution_count": 29,
     "metadata": {},
     "output_type": "execute_result"
    }
   ],
   "source": [
    "Q"
   ]
  },
  {
   "cell_type": "code",
   "execution_count": 30,
   "metadata": {},
   "outputs": [],
   "source": [
    "A = defaultdict(lambda: 0)\n",
    "for qtoken in Q:\n",
    "    docs = I[qtoken]\n",
    "    for d in docs:\n",
    "        A[d] += 1"
   ]
  },
  {
   "cell_type": "code",
   "execution_count": 31,
   "metadata": {},
   "outputs": [
    {
     "data": {
      "text/plain": [
       "defaultdict(<function __main__.<lambda>()>,\n",
       "            {'4fc0279345c1498b0d18cce8': 4,\n",
       "             '4fc0279345c1498b0d18ccfc': 1,\n",
       "             '4fc0279345c1498b0d18cd0d': 1,\n",
       "             '4fc0279345c1498b0d18cd2d': 4,\n",
       "             '4fc0279445c1498b0d18cd61': 1})"
      ]
     },
     "execution_count": 31,
     "metadata": {},
     "output_type": "execute_result"
    }
   ],
   "source": [
    "A"
   ]
  },
  {
   "cell_type": "code",
   "execution_count": null,
   "metadata": {},
   "outputs": [],
   "source": []
  }
 ],
 "metadata": {
  "kernelspec": {
   "display_name": "Python 3",
   "language": "python",
   "name": "python3"
  },
  "language_info": {
   "codemirror_mode": {
    "name": "ipython",
    "version": 3
   },
   "file_extension": ".py",
   "mimetype": "text/x-python",
   "name": "python",
   "nbconvert_exporter": "python",
   "pygments_lexer": "ipython3",
   "version": "3.7.4"
  },
  "toc": {
   "base_numbering": 1,
   "nav_menu": {},
   "number_sections": true,
   "sideBar": true,
   "skip_h1_title": true,
   "title_cell": "Table of Contents",
   "title_sidebar": "Contents",
   "toc_cell": false,
   "toc_position": {},
   "toc_section_display": true,
   "toc_window_display": false
  }
 },
 "nbformat": 4,
 "nbformat_minor": 2
}
