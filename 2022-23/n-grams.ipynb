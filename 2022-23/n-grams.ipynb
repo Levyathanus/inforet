{
 "cells": [
  {
   "cell_type": "markdown",
   "id": "ee016c2a",
   "metadata": {},
   "source": [
    "# Introduction to n-grams\n",
    "\n",
    "The CISI dataset can be donwloaded at the following address: [CISI dataset](https://www.kaggle.com/datasets/dmaso01dsta/cisi-a-dataset-for-information-retrieval/code?select=CISI.REL)\n",
    "\n",
    "In this example, we access a local, parsed version of CISI stored in MongoDb"
   ]
  },
  {
   "cell_type": "code",
   "execution_count": 1,
   "id": "b179d98e",
   "metadata": {},
   "outputs": [],
   "source": [
    "import pandas as pd\n",
    "import numpy as np\n",
    "from tqdm.notebook import tqdm"
   ]
  },
  {
   "cell_type": "code",
   "execution_count": 2,
   "id": "50527065",
   "metadata": {},
   "outputs": [],
   "source": [
    "from pymongo import MongoClient"
   ]
  },
  {
   "cell_type": "code",
   "execution_count": 3,
   "id": "cbd83540",
   "metadata": {},
   "outputs": [],
   "source": [
    "db = MongoClient()['cisi']"
   ]
  },
  {
   "cell_type": "markdown",
   "id": "547bb497",
   "metadata": {},
   "source": [
    "## Get documents, queries and ground truth"
   ]
  },
  {
   "cell_type": "code",
   "execution_count": 4,
   "id": "da0b6a9b",
   "metadata": {},
   "outputs": [],
   "source": [
    "from collections import defaultdict"
   ]
  },
  {
   "cell_type": "code",
   "execution_count": 5,
   "id": "69eb770f",
   "metadata": {},
   "outputs": [],
   "source": [
    "documents = [(r['id'], \". \".join([r['.T'], r['.W']])) for r in db['documents'].find()]\n",
    "queries = [(r['id'], r['.W']) for r in db['queries'].find()]"
   ]
  },
  {
   "cell_type": "code",
   "execution_count": 6,
   "id": "ebc396d4",
   "metadata": {},
   "outputs": [],
   "source": [
    "ground_truth = defaultdict(list)\n",
    "\n",
    "for r in db['rel'].find():\n",
    "    ground_truth[r['query']].append(r['doc'])"
   ]
  },
  {
   "cell_type": "markdown",
   "id": "fa52bad5",
   "metadata": {},
   "source": [
    "## Tokenization and Normalization using spaCy"
   ]
  },
  {
   "cell_type": "code",
   "execution_count": 13,
   "id": "4f06d2ed",
   "metadata": {},
   "outputs": [],
   "source": [
    "import spacy\n",
    "from spacy.displacy import render\n",
    "nlp = spacy.load('en_core_web_lg')"
   ]
  },
  {
   "cell_type": "code",
   "execution_count": 65,
   "id": "5289fddf",
   "metadata": {},
   "outputs": [],
   "source": [
    "def tokenizer(document):\n",
    "    tokens = []\n",
    "    for token in nlp(document):\n",
    "        if token.pos_ in {'PROPN', 'NOUN', 'VERB', 'ADJ', 'ADV'}:\n",
    "            tokens.append(token.lemma_.lower())\n",
    "    return tokens"
   ]
  },
  {
   "cell_type": "code",
   "execution_count": 66,
   "id": "e7a97d60",
   "metadata": {},
   "outputs": [
    {
     "data": {
      "text/plain": [
       "['editions',\n",
       " 'dewey',\n",
       " 'decimal',\n",
       " 'classifications',\n",
       " 'present',\n",
       " 'study',\n",
       " 'history',\n",
       " 'dewey',\n",
       " 'decimal',\n",
       " 'classification']"
      ]
     },
     "execution_count": 66,
     "metadata": {},
     "output_type": "execute_result"
    }
   ],
   "source": [
    "doc_id, doc = documents[0]\n",
    "tokenizer(doc)[:10]"
   ]
  },
  {
   "cell_type": "markdown",
   "id": "f6530bb4",
   "metadata": {},
   "source": [
    "## N-Grams"
   ]
  },
  {
   "cell_type": "code",
   "execution_count": 67,
   "id": "8e0b8b70",
   "metadata": {},
   "outputs": [],
   "source": [
    "import nltk\n",
    "from collections import defaultdict, Counter"
   ]
  },
  {
   "cell_type": "code",
   "execution_count": 68,
   "id": "5f2f0266",
   "metadata": {},
   "outputs": [],
   "source": [
    "def ngrams(tokens, n):\n",
    "    return list(nltk.ngrams(['<SOS>'] + tokens + ['<EOS>'], n=n) )"
   ]
  },
  {
   "cell_type": "code",
   "execution_count": 69,
   "id": "2900bdaf",
   "metadata": {},
   "outputs": [],
   "source": [
    "bi_index = defaultdict(lambda: 0)\n",
    "for doc_id, doc in documents:\n",
    "    tokens = tokenizer(doc)\n",
    "    for a, b in ngrams(tokens, n=2):\n",
    "        bi_index[(a, b)] += 1"
   ]
  },
  {
   "cell_type": "code",
   "execution_count": 70,
   "id": "05750552",
   "metadata": {},
   "outputs": [],
   "source": [
    "Bi = pd.DataFrame([{'w1': a, 'w2': b, 'c': x} for (a, b), x in bi_index.items()])"
   ]
  },
  {
   "cell_type": "code",
   "execution_count": 71,
   "id": "ce529203",
   "metadata": {},
   "outputs": [],
   "source": [
    "Bi['prob'] = Bi['c'] / Bi['c'].sum()"
   ]
  },
  {
   "cell_type": "code",
   "execution_count": 72,
   "id": "76f3e415",
   "metadata": {},
   "outputs": [
    {
     "data": {
      "text/html": [
       "<div>\n",
       "<style scoped>\n",
       "    .dataframe tbody tr th:only-of-type {\n",
       "        vertical-align: middle;\n",
       "    }\n",
       "\n",
       "    .dataframe tbody tr th {\n",
       "        vertical-align: top;\n",
       "    }\n",
       "\n",
       "    .dataframe thead th {\n",
       "        text-align: right;\n",
       "    }\n",
       "</style>\n",
       "<table border=\"1\" class=\"dataframe\">\n",
       "  <thead>\n",
       "    <tr style=\"text-align: right;\">\n",
       "      <th></th>\n",
       "      <th>w1</th>\n",
       "      <th>w2</th>\n",
       "      <th>c</th>\n",
       "      <th>prob</th>\n",
       "    </tr>\n",
       "  </thead>\n",
       "  <tbody>\n",
       "    <tr>\n",
       "      <th>0</th>\n",
       "      <td>&lt;SOS&gt;</td>\n",
       "      <td>editions</td>\n",
       "      <td>1</td>\n",
       "      <td>0.000009</td>\n",
       "    </tr>\n",
       "    <tr>\n",
       "      <th>1</th>\n",
       "      <td>editions</td>\n",
       "      <td>dewey</td>\n",
       "      <td>1</td>\n",
       "      <td>0.000009</td>\n",
       "    </tr>\n",
       "    <tr>\n",
       "      <th>2</th>\n",
       "      <td>dewey</td>\n",
       "      <td>decimal</td>\n",
       "      <td>9</td>\n",
       "      <td>0.000085</td>\n",
       "    </tr>\n",
       "    <tr>\n",
       "      <th>3</th>\n",
       "      <td>decimal</td>\n",
       "      <td>classifications</td>\n",
       "      <td>1</td>\n",
       "      <td>0.000009</td>\n",
       "    </tr>\n",
       "    <tr>\n",
       "      <th>4</th>\n",
       "      <td>classifications</td>\n",
       "      <td>present</td>\n",
       "      <td>1</td>\n",
       "      <td>0.000009</td>\n",
       "    </tr>\n",
       "    <tr>\n",
       "      <th>...</th>\n",
       "      <td>...</td>\n",
       "      <td>...</td>\n",
       "      <td>...</td>\n",
       "      <td>...</td>\n",
       "    </tr>\n",
       "    <tr>\n",
       "      <th>78831</th>\n",
       "      <td>monograph</td>\n",
       "      <td>last</td>\n",
       "      <td>1</td>\n",
       "      <td>0.000009</td>\n",
       "    </tr>\n",
       "    <tr>\n",
       "      <th>78832</th>\n",
       "      <td>average</td>\n",
       "      <td>%</td>\n",
       "      <td>1</td>\n",
       "      <td>0.000009</td>\n",
       "    </tr>\n",
       "    <tr>\n",
       "      <th>78833</th>\n",
       "      <td>year</td>\n",
       "      <td>scientific</td>\n",
       "      <td>1</td>\n",
       "      <td>0.000009</td>\n",
       "    </tr>\n",
       "    <tr>\n",
       "      <th>78834</th>\n",
       "      <td>compound</td>\n",
       "      <td>publish</td>\n",
       "      <td>1</td>\n",
       "      <td>0.000009</td>\n",
       "    </tr>\n",
       "    <tr>\n",
       "      <th>78835</th>\n",
       "      <td>publish</td>\n",
       "      <td>&lt;EOS&gt;</td>\n",
       "      <td>1</td>\n",
       "      <td>0.000009</td>\n",
       "    </tr>\n",
       "  </tbody>\n",
       "</table>\n",
       "<p>78836 rows × 4 columns</p>\n",
       "</div>"
      ],
      "text/plain": [
       "                    w1               w2  c      prob\n",
       "0                <SOS>         editions  1  0.000009\n",
       "1             editions            dewey  1  0.000009\n",
       "2                dewey          decimal  9  0.000085\n",
       "3              decimal  classifications  1  0.000009\n",
       "4      classifications          present  1  0.000009\n",
       "...                ...              ... ..       ...\n",
       "78831        monograph             last  1  0.000009\n",
       "78832          average                %  1  0.000009\n",
       "78833             year       scientific  1  0.000009\n",
       "78834         compound          publish  1  0.000009\n",
       "78835          publish            <EOS>  1  0.000009\n",
       "\n",
       "[78836 rows x 4 columns]"
      ]
     },
     "execution_count": 72,
     "metadata": {},
     "output_type": "execute_result"
    }
   ],
   "source": [
    "Bi"
   ]
  },
  {
   "cell_type": "code",
   "execution_count": 73,
   "id": "376aeb48",
   "metadata": {},
   "outputs": [],
   "source": [
    "uni_count = Bi.groupby('w1').sum()['c']\n",
    "Wp = uni_count / uni_count.sum()"
   ]
  },
  {
   "cell_type": "code",
   "execution_count": 74,
   "id": "dea52918",
   "metadata": {},
   "outputs": [
    {
     "data": {
      "text/plain": [
       "339"
      ]
     },
     "execution_count": 74,
     "metadata": {},
     "output_type": "execute_result"
    }
   ],
   "source": [
    "uni_count['new']"
   ]
  },
  {
   "cell_type": "code",
   "execution_count": 75,
   "id": "04a6f481",
   "metadata": {},
   "outputs": [
    {
     "data": {
      "text/plain": [
       "3.950263385890812e-07"
      ]
     },
     "execution_count": 75,
     "metadata": {},
     "output_type": "execute_result"
    }
   ],
   "source": [
    "Wp['new'] * Wp['york']"
   ]
  },
  {
   "cell_type": "code",
   "execution_count": 76,
   "id": "289ff6fe",
   "metadata": {},
   "outputs": [
    {
     "data": {
      "text/plain": [
       "23470    0.000114\n",
       "Name: prob, dtype: float64"
      ]
     },
     "execution_count": 76,
     "metadata": {},
     "output_type": "execute_result"
    }
   ],
   "source": [
    "Bi[(Bi.w1 == 'new') & (Bi.w2 == 'york')].prob"
   ]
  },
  {
   "cell_type": "code",
   "execution_count": 77,
   "id": "a4071ffc",
   "metadata": {},
   "outputs": [],
   "source": [
    "word1 = Bi.w1.values\n",
    "word2 = Bi.w2.values\n",
    "prob = Bi.prob\n",
    "mi = {}\n",
    "for i, w1 in enumerate(word1):\n",
    "    try:\n",
    "        w2 = word2[i]\n",
    "        if uni_count[w1] > 10 and uni_count[w2] > 10:\n",
    "            p = prob[i]\n",
    "            pw1 = Wp[w1]\n",
    "            pw2 = Wp[w2]\n",
    "            mi[(w1, w2)] = np.log(p / (pw1 * pw2))\n",
    "    except KeyError:\n",
    "        pass\n",
    "S = pd.Series(mi)"
   ]
  },
  {
   "cell_type": "code",
   "execution_count": 78,
   "id": "23007d09",
   "metadata": {},
   "outputs": [
    {
     "data": {
      "text/plain": [
       "cable         television     8.597217\n",
       "gross         gross          7.984112\n",
       "r             d              7.976565\n",
       "numerical     taxonomy       7.916973\n",
       "recon         pilot          7.916973\n",
       "interlibrary  loan           7.738990\n",
       "ca            condensates    7.698626\n",
       "scientists    engineers      7.696430\n",
       "batch         mode           7.655608\n",
       "aslib         cranfield      7.635806\n",
       "at            all            7.606818\n",
       "departmental  prestige       7.606818\n",
       "dewey         decimal        7.562320\n",
       "january       june           7.560298\n",
       "top           priority       7.464988\n",
       "universal     decimal        7.462237\n",
       "above         mention        7.408748\n",
       "hard          copy           7.408748\n",
       "put           forward        7.319136\n",
       "campus        planner        7.297934\n",
       "dtype: float64"
      ]
     },
     "execution_count": 78,
     "metadata": {},
     "output_type": "execute_result"
    }
   ],
   "source": [
    "S.sort_values(ascending=False).head(20)"
   ]
  },
  {
   "cell_type": "code",
   "execution_count": null,
   "id": "7e9561fb",
   "metadata": {},
   "outputs": [],
   "source": []
  }
 ],
 "metadata": {
  "kernelspec": {
   "display_name": "crike",
   "language": "python",
   "name": "crike"
  },
  "language_info": {
   "codemirror_mode": {
    "name": "ipython",
    "version": 3
   },
   "file_extension": ".py",
   "mimetype": "text/x-python",
   "name": "python",
   "nbconvert_exporter": "python",
   "pygments_lexer": "ipython3",
   "version": "3.8.8"
  },
  "toc": {
   "base_numbering": 1,
   "nav_menu": {},
   "number_sections": true,
   "sideBar": true,
   "skip_h1_title": false,
   "title_cell": "Table of Contents",
   "title_sidebar": "Contents",
   "toc_cell": false,
   "toc_position": {},
   "toc_section_display": true,
   "toc_window_display": false
  }
 },
 "nbformat": 4,
 "nbformat_minor": 5
}
