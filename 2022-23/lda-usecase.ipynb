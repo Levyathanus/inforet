{
 "cells": [
  {
   "cell_type": "markdown",
   "id": "eae09b21",
   "metadata": {},
   "source": [
    "# Food.com recipe and interactions\n",
    "\n",
    "For the dataset visit [https://www.kaggle.com/datasets/shuyangli94/food-com-recipes-and-user-interactions](https://www.kaggle.com/datasets/shuyangli94/food-com-recipes-and-user-interactions)"
   ]
  },
  {
   "cell_type": "code",
   "execution_count": 1,
   "id": "b44cf974",
   "metadata": {},
   "outputs": [],
   "source": [
    "import pandas as pd\n",
    "import numpy as np\n",
    "from tqdm.notebook import tqdm"
   ]
  },
  {
   "cell_type": "code",
   "execution_count": 2,
   "id": "f03a320c",
   "metadata": {},
   "outputs": [],
   "source": [
    "from pymongo import MongoClient"
   ]
  },
  {
   "cell_type": "code",
   "execution_count": 3,
   "id": "0b391574",
   "metadata": {},
   "outputs": [],
   "source": [
    "db = MongoClient()['recipes']"
   ]
  },
  {
   "cell_type": "code",
   "execution_count": 4,
   "id": "cb9752fc",
   "metadata": {},
   "outputs": [],
   "source": [
    "rdb = db['recipe']\n",
    "tags = [x['tags'] for x in rdb.find()]\n",
    "ingredients = [x['ingredients'] for x in rdb.find()]"
   ]
  },
  {
   "cell_type": "code",
   "execution_count": 5,
   "id": "b0dd514a",
   "metadata": {},
   "outputs": [
    {
     "data": {
      "text/plain": [
       "231637"
      ]
     },
     "execution_count": 5,
     "metadata": {},
     "output_type": "execute_result"
    }
   ],
   "source": [
    "rdb.count_documents({})"
   ]
  },
  {
   "cell_type": "code",
   "execution_count": 6,
   "id": "fec1c260",
   "metadata": {},
   "outputs": [
    {
     "data": {
      "text/plain": [
       "{'_id': ObjectId('641486dcb890bb76b1765e10'),\n",
       " 'name': 'arriba   baked winter squash mexican style',\n",
       " 'id': 137739,\n",
       " 'minutes': 55,\n",
       " 'contributor_id': 47892,\n",
       " 'submitted': datetime.datetime(2005, 9, 16, 0, 0),\n",
       " 'tags': ['60-minutes-or-less',\n",
       "  'time-to-make',\n",
       "  'course',\n",
       "  'main-ingredient',\n",
       "  'cuisine',\n",
       "  'preparation',\n",
       "  'occasion',\n",
       "  'north-american',\n",
       "  'side-dishes',\n",
       "  'vegetables',\n",
       "  'mexican',\n",
       "  'easy',\n",
       "  'fall',\n",
       "  'holiday-event',\n",
       "  'vegetarian',\n",
       "  'winter',\n",
       "  'dietary',\n",
       "  'christmas',\n",
       "  'seasonal',\n",
       "  'squash'],\n",
       " 'nutrition': [51.5, 0.0, 13.0, 0.0, 2.0, 0.0, 4.0],\n",
       " 'n_steps': 11,\n",
       " 'steps': ['make a choice and proceed with recipe',\n",
       "  'depending on size of squash , cut into half or fourths',\n",
       "  'remove seeds',\n",
       "  'for spicy squash , drizzle olive oil or melted butter over each cut squash piece',\n",
       "  'season with mexican seasoning mix ii',\n",
       "  'for sweet squash , drizzle melted honey , butter , grated piloncillo over each cut squash piece',\n",
       "  'season with sweet mexican spice mix',\n",
       "  'bake at 350 degrees , again depending on size , for 40 minutes up to an hour , until a fork can easily pierce the skin',\n",
       "  'be careful not to burn the squash especially if you opt to use sugar or butter',\n",
       "  'if you feel more comfortable , cover the squash with aluminum foil the first half hour , give or take , of baking',\n",
       "  'if desired , season with salt'],\n",
       " 'description': 'autumn is my favorite time of year to cook! this recipe \\r\\ncan be prepared either spicy or sweet, your choice!\\r\\ntwo of my posted mexican-inspired seasoning mix recipes are offered as suggestions.',\n",
       " 'ingredients': ['winter squash',\n",
       "  'mexican seasoning',\n",
       "  'mixed spice',\n",
       "  'honey',\n",
       "  'butter',\n",
       "  'olive oil',\n",
       "  'salt'],\n",
       " 'n_ingredients': 7}"
      ]
     },
     "execution_count": 6,
     "metadata": {},
     "output_type": "execute_result"
    }
   ],
   "source": [
    "rdb.find_one()"
   ]
  },
  {
   "cell_type": "markdown",
   "id": "bb75dfc1",
   "metadata": {},
   "source": [
    "## LDA for topic discovery"
   ]
  },
  {
   "cell_type": "code",
   "execution_count": 7,
   "id": "57295469",
   "metadata": {},
   "outputs": [],
   "source": [
    "from gensim.corpora.dictionary import Dictionary\n",
    "from gensim.models import LdaModel"
   ]
  },
  {
   "cell_type": "markdown",
   "id": "2e8a3844",
   "metadata": {},
   "source": [
    "### Ingredients"
   ]
  },
  {
   "cell_type": "code",
   "execution_count": 8,
   "id": "b30b2edb",
   "metadata": {},
   "outputs": [],
   "source": [
    "ingredients_dictionary = Dictionary(ingredients)\n",
    "ingredients_corpus = [ingredients_dictionary.doc2bow(text) for text in ingredients]"
   ]
  },
  {
   "cell_type": "code",
   "execution_count": 9,
   "id": "70685c0b",
   "metadata": {},
   "outputs": [],
   "source": [
    "lda = LdaModel(ingredients_corpus, num_topics=50, id2word=ingredients_dictionary)"
   ]
  },
  {
   "cell_type": "code",
   "execution_count": 13,
   "id": "409dc393",
   "metadata": {},
   "outputs": [
    {
     "name": "stdout",
     "output_type": "stream",
     "text": [
      "pineapple juice 0.09785636\n",
      "crushed pineapple 0.08286322\n",
      "baby carrots 0.05818951\n",
      "fresh coarse ground black pepper 0.048560306\n",
      "tuna in water 0.047297843\n",
      "ground red pepper 0.046652816\n",
      "sugar 0.0307647\n",
      "unsweetened cocoa 0.029787276\n",
      "dark sesame oil 0.029043335\n",
      "water 0.028551007\n"
     ]
    }
   ],
   "source": [
    "for word_id, p in lda.get_topic_terms(2):\n",
    "    print(ingredients_dictionary[word_id], p)"
   ]
  },
  {
   "cell_type": "code",
   "execution_count": 14,
   "id": "b382aed0",
   "metadata": {},
   "outputs": [
    {
     "name": "stdout",
     "output_type": "stream",
     "text": [
      "14 0.227*\"unsalted butter\" + 0.106*\"granulated sugar\" + 0.083*\"light brown sugar\" + 0.054*\"peanut butter\" + 0.047*\"vanilla extract\" + 0.037*\"cocoa powder\" + 0.036*\"salt\" + 0.036*\"pure vanilla extract\" + 0.031*\"eggs\" + 0.026*\"sugar\" \n",
      "\n",
      "41 0.134*\"ground turkey\" + 0.120*\"molasses\" + 0.111*\"hot water\" + 0.074*\"ground pepper\" + 0.063*\"apple juice\" + 0.046*\"onion soup mix\" + 0.038*\"corn syrup\" + 0.036*\"great northern beans\" + 0.031*\"corn oil\" + 0.029*\"condensed cream of mushroom soup\" \n",
      "\n",
      "49 0.090*\"frozen chopped spinach\" + 0.061*\"whipped cream\" + 0.060*\"frozen spinach\" + 0.059*\"fresh basil leaf\" + 0.052*\"cottage cheese\" + 0.050*\"parmesan cheese\" + 0.046*\"asparagus\" + 0.037*\"lasagna noodles\" + 0.035*\"whole wheat pastry flour\" + 0.032*\"nutritional yeast\" \n",
      "\n",
      "6 0.177*\"egg whites\" + 0.083*\"red wine\" + 0.079*\"cornmeal\" + 0.076*\"barbecue sauce\" + 0.073*\"basil leaves\" + 0.072*\"coconut\" + 0.062*\"splenda sugar substitute\" + 0.033*\"dried marjoram\" + 0.027*\"vegetable shortening\" + 0.026*\"2% low-fat milk\" \n",
      "\n"
     ]
    }
   ],
   "source": [
    "for topic, words in lda.print_topics()[:4]:\n",
    "    print(topic, words, '\\n')"
   ]
  },
  {
   "cell_type": "markdown",
   "id": "75627abb",
   "metadata": {},
   "source": [
    "### Tags"
   ]
  },
  {
   "cell_type": "code",
   "execution_count": 15,
   "id": "537a74ee",
   "metadata": {},
   "outputs": [],
   "source": [
    "tags_dictionary = Dictionary(tags)\n",
    "tags_corpus = [tags_dictionary.doc2bow(text) for text in tags]"
   ]
  },
  {
   "cell_type": "code",
   "execution_count": 16,
   "id": "465fb732",
   "metadata": {},
   "outputs": [],
   "source": [
    "tag = LdaModel(tags_corpus, num_topics=50, id2word=tags_dictionary)"
   ]
  },
  {
   "cell_type": "code",
   "execution_count": 17,
   "id": "5d46392d",
   "metadata": {},
   "outputs": [
    {
     "name": "stdout",
     "output_type": "stream",
     "text": [
      "6 0.283*\"condiments-etc\" + 0.137*\"sauces\" + 0.086*\"course\" + 0.074*\"time-to-make\" + 0.072*\"preparation\" + 0.051*\"savory-sauces\" + 0.040*\"number-of-servings\" + 0.039*\"15-minutes-or-less\" + 0.039*\"dietary\" + 0.029*\"easy\" \n",
      "\n",
      "43 0.261*\"appetizers\" + 0.096*\"course\" + 0.089*\"time-to-make\" + 0.089*\"preparation\" + 0.070*\"dips\" + 0.064*\"easy\" + 0.044*\"dietary\" + 0.042*\"dinner-party\" + 0.039*\"occasion\" + 0.036*\"15-minutes-or-less\" \n",
      "\n",
      "14 0.357*\"holiday-event\" + 0.164*\"occasion\" + 0.085*\"christmas\" + 0.077*\"dinner-party\" + 0.051*\"thanksgiving\" + 0.048*\"heirloom-historical\" + 0.030*\"valentines-day\" + 0.026*\"independence-day\" + 0.025*\"new-years\" + 0.020*\"easter\" \n",
      "\n",
      "15 0.359*\"european\" + 0.312*\"cuisine\" + 0.030*\"1-day-or-more\" + 0.028*\"english\" + 0.028*\"pizza\" + 0.025*\"preparation\" + 0.025*\"time-to-make\" + 0.022*\"course\" + 0.019*\"scandinavian\" + 0.018*\"canning\" \n",
      "\n"
     ]
    }
   ],
   "source": [
    "for topic, words in tag.print_topics()[:4]:\n",
    "    print(topic, words, '\\n')"
   ]
  },
  {
   "cell_type": "code",
   "execution_count": null,
   "id": "b9e9b956",
   "metadata": {},
   "outputs": [],
   "source": []
  }
 ],
 "metadata": {
  "kernelspec": {
   "display_name": "crike",
   "language": "python",
   "name": "crike"
  },
  "language_info": {
   "codemirror_mode": {
    "name": "ipython",
    "version": 3
   },
   "file_extension": ".py",
   "mimetype": "text/x-python",
   "name": "python",
   "nbconvert_exporter": "python",
   "pygments_lexer": "ipython3",
   "version": "3.8.8"
  },
  "toc": {
   "base_numbering": 1,
   "nav_menu": {},
   "number_sections": true,
   "sideBar": true,
   "skip_h1_title": false,
   "title_cell": "Table of Contents",
   "title_sidebar": "Contents",
   "toc_cell": false,
   "toc_position": {},
   "toc_section_display": true,
   "toc_window_display": false
  }
 },
 "nbformat": 4,
 "nbformat_minor": 5
}
