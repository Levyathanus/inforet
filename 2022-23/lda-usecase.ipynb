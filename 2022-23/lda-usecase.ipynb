{
 "cells": [
  {
   "cell_type": "markdown",
   "id": "eae09b21",
   "metadata": {},
   "source": [
    "# Food.com recipe and interactions\n",
    "\n",
    "For the dataset visit [https://www.kaggle.com/datasets/shuyangli94/food-com-recipes-and-user-interactions](https://www.kaggle.com/datasets/shuyangli94/food-com-recipes-and-user-interactions)"
   ]
  },
  {
   "cell_type": "code",
   "execution_count": 1,
   "id": "b44cf974",
   "metadata": {},
   "outputs": [],
   "source": [
    "import pandas as pd\n",
    "import numpy as np\n",
    "from tqdm.notebook import tqdm"
   ]
  },
  {
   "cell_type": "code",
   "execution_count": 2,
   "id": "f03a320c",
   "metadata": {},
   "outputs": [],
   "source": [
    "from pymongo import MongoClient"
   ]
  },
  {
   "cell_type": "code",
   "execution_count": 3,
   "id": "0b391574",
   "metadata": {},
   "outputs": [],
   "source": [
    "db = MongoClient()['recipes']"
   ]
  },
  {
   "cell_type": "code",
   "execution_count": 4,
   "id": "cb9752fc",
   "metadata": {},
   "outputs": [],
   "source": [
    "rdb = db['recipe']\n",
    "tags = [x['tags'] for x in rdb.find()]\n",
    "ingredients = [x['ingredients'] for x in rdb.find()]"
   ]
  },
  {
   "cell_type": "markdown",
   "id": "bb75dfc1",
   "metadata": {},
   "source": [
    "## LDA for topic discovery"
   ]
  },
  {
   "cell_type": "code",
   "execution_count": 5,
   "id": "57295469",
   "metadata": {},
   "outputs": [],
   "source": [
    "from gensim.corpora.dictionary import Dictionary\n",
    "from gensim.models import LdaModel"
   ]
  },
  {
   "cell_type": "markdown",
   "id": "2e8a3844",
   "metadata": {},
   "source": [
    "### Ingredients"
   ]
  },
  {
   "cell_type": "code",
   "execution_count": 6,
   "id": "b30b2edb",
   "metadata": {},
   "outputs": [],
   "source": [
    "ingredients_dictionary = Dictionary(ingredients)\n",
    "ingredients_corpus = [ingredients_dictionary.doc2bow(text) for text in ingredients]"
   ]
  },
  {
   "cell_type": "code",
   "execution_count": 7,
   "id": "70685c0b",
   "metadata": {},
   "outputs": [],
   "source": [
    "lda = LdaModel(ingredients_corpus, num_topics=50, id2word=ingredients_dictionary)"
   ]
  },
  {
   "cell_type": "code",
   "execution_count": 9,
   "id": "b382aed0",
   "metadata": {},
   "outputs": [
    {
     "name": "stdout",
     "output_type": "stream",
     "text": [
      "42 0.206*\"green onion\" + 0.088*\"ginger\" + 0.070*\"tabasco sauce\" + 0.059*\"spinach\" + 0.054*\"chicken\" + 0.045*\"garlic\" + 0.042*\"dry sherry\" + 0.035*\"firm tofu\" + 0.026*\"oil\" + 0.024*\"oyster sauce\" \n",
      "\n",
      "38 0.269*\"kosher salt\" + 0.065*\"fresh ground black pepper\" + 0.053*\"olive oil\" + 0.044*\"lemons\" + 0.038*\"pork chops\" + 0.032*\"turkey\" + 0.030*\"unbleached flour\" + 0.028*\"fresh flat-leaf parsley\" + 0.027*\"roasted red pepper\" + 0.026*\"prepared horseradish\" \n",
      "\n",
      "16 0.150*\"margarine\" + 0.124*\"dry white wine\" + 0.121*\"cheese\" + 0.119*\"white pepper\" + 0.046*\"cool whip\" + 0.035*\"milk\" + 0.033*\"jalapenos\" + 0.030*\"american cheese\" + 0.029*\"butter\" + 0.029*\"long grain rice\" \n",
      "\n",
      "29 0.131*\"sour cream\" + 0.128*\"cheddar cheese\" + 0.076*\"onion\" + 0.062*\"butter\" + 0.056*\"milk\" + 0.052*\"salt\" + 0.049*\"pepper\" + 0.048*\"eggs\" + 0.042*\"ground beef\" + 0.038*\"monterey jack cheese\" \n",
      "\n"
     ]
    }
   ],
   "source": [
    "for topic, words in lda.print_topics()[:4]:\n",
    "    print(topic, words, '\\n')"
   ]
  },
  {
   "cell_type": "markdown",
   "id": "75627abb",
   "metadata": {},
   "source": [
    "### Tags"
   ]
  },
  {
   "cell_type": "code",
   "execution_count": 10,
   "id": "537a74ee",
   "metadata": {},
   "outputs": [],
   "source": [
    "tags_dictionary = Dictionary(tags)\n",
    "tags_corpus = [tags_dictionary.doc2bow(text) for text in tags]"
   ]
  },
  {
   "cell_type": "code",
   "execution_count": 11,
   "id": "465fb732",
   "metadata": {},
   "outputs": [],
   "source": [
    "tag = LdaModel(tags_corpus, num_topics=50, id2word=tags_dictionary)"
   ]
  },
  {
   "cell_type": "code",
   "execution_count": 12,
   "id": "5d46392d",
   "metadata": {},
   "outputs": [
    {
     "name": "stdout",
     "output_type": "stream",
     "text": [
      "33 0.208*\"fruit\" + 0.125*\"main-ingredient\" + 0.105*\"berries\" + 0.059*\"apples\" + 0.056*\"course\" + 0.056*\"preparation\" + 0.055*\"time-to-make\" + 0.055*\"dietary\" + 0.053*\"desserts\" + 0.045*\"low-in-something\" \n",
      "\n",
      "0 0.149*\"high-in-something\" + 0.147*\"high-protein\" + 0.069*\"low-carb\" + 0.069*\"dietary\" + 0.067*\"low-in-something\" + 0.053*\"main-ingredient\" + 0.052*\"preparation\" + 0.048*\"time-to-make\" + 0.040*\"meat\" + 0.040*\"easy\" \n",
      "\n",
      "4 0.380*\"number-of-servings\" + 0.219*\"for-large-groups\" + 0.077*\"oamc-freezer-make-ahead\" + 0.067*\"4-hours-or-less\" + 0.054*\"preparation\" + 0.050*\"time-to-make\" + 0.041*\"course\" + 0.020*\"weeknight\" + 0.017*\"dietary\" + 0.016*\"coffee-cakes\" \n",
      "\n",
      "6 0.137*\"15-minutes-or-less\" + 0.096*\"low-in-something\" + 0.088*\"easy\" + 0.087*\"low-protein\" + 0.077*\"dietary\" + 0.074*\"preparation\" + 0.074*\"time-to-make\" + 0.073*\"5-ingredients-or-less\" + 0.064*\"course\" + 0.060*\"low-sodium\" \n",
      "\n"
     ]
    }
   ],
   "source": [
    "for topic, words in tag.print_topics()[:4]:\n",
    "    print(topic, words, '\\n')"
   ]
  },
  {
   "cell_type": "code",
   "execution_count": null,
   "id": "b9e9b956",
   "metadata": {},
   "outputs": [],
   "source": []
  }
 ],
 "metadata": {
  "kernelspec": {
   "display_name": "crike",
   "language": "python",
   "name": "crike"
  },
  "language_info": {
   "codemirror_mode": {
    "name": "ipython",
    "version": 3
   },
   "file_extension": ".py",
   "mimetype": "text/x-python",
   "name": "python",
   "nbconvert_exporter": "python",
   "pygments_lexer": "ipython3",
   "version": "3.8.8"
  },
  "toc": {
   "base_numbering": 1,
   "nav_menu": {},
   "number_sections": true,
   "sideBar": true,
   "skip_h1_title": false,
   "title_cell": "Table of Contents",
   "title_sidebar": "Contents",
   "toc_cell": false,
   "toc_position": {},
   "toc_section_display": true,
   "toc_window_display": false
  }
 },
 "nbformat": 4,
 "nbformat_minor": 5
}
