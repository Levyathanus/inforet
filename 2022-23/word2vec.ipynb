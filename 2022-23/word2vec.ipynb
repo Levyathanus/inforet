{
 "cells": [
  {
   "cell_type": "code",
   "execution_count": 1,
   "metadata": {},
   "outputs": [],
   "source": [
    "import re\n",
    "import numpy as np\n",
    "import pandas as pd\n",
    "from collections import Counter\n",
    "from multiprocessing import Pool # waning: it will raise exception if executed in notebook\n",
    "from nltk.corpus import stopwords"
   ]
  },
  {
   "cell_type": "code",
   "execution_count": 2,
   "metadata": {},
   "outputs": [],
   "source": [
    "from tqdm.notebook import tqdm"
   ]
  },
  {
   "cell_type": "code",
   "execution_count": 3,
   "metadata": {},
   "outputs": [],
   "source": [
    "from IPython.display import display, HTML"
   ]
  },
  {
   "cell_type": "code",
   "execution_count": 4,
   "metadata": {},
   "outputs": [],
   "source": [
    "sw = stopwords.words('english')"
   ]
  },
  {
   "cell_type": "markdown",
   "metadata": {},
   "source": [
    "# Text from sentences\n",
    "Example of sentences are taken from `20 newsgroup`"
   ]
  },
  {
   "cell_type": "code",
   "execution_count": 5,
   "metadata": {},
   "outputs": [],
   "source": [
    "import nltk\n",
    "from sklearn.datasets import fetch_20newsgroups"
   ]
  },
  {
   "cell_type": "code",
   "execution_count": 6,
   "metadata": {},
   "outputs": [],
   "source": [
    "train = fetch_20newsgroups(data_home=\"/Users/flint/Data/sklearn/\", subset='train', \n",
    "                           remove=('headers', 'footers', 'quotes'),\n",
    "                           categories=['rec.sport.baseball'])"
   ]
  },
  {
   "cell_type": "code",
   "execution_count": 12,
   "metadata": {},
   "outputs": [
    {
     "name": "stdout",
     "output_type": "stream",
     "text": [
      "\n",
      "I have lived in the Boston area for 15 years now.  They have been talking\n",
      "about a new Boston Garden (hockey/basketball) since I've lived here.  One\n",
      "day the \"last hurdle\" has been overcome, and the next day there's a new\n",
      "hurdle.  Fans have been grumbling about Foxboro Stadium (or whatever it's\n",
      "called this year) for nearly as long, but there are only preliminary\n",
      "proposals for a new stadium.  Local politics prevents anything from being\n",
      "done in a timely fashion.  There will not be a new ballpark in my\n",
      "lifetime.\n",
      "['rec.sport.baseball']\n"
     ]
    }
   ],
   "source": [
    "print(train.data[2])\n",
    "print(train.target_names)"
   ]
  },
  {
   "cell_type": "code",
   "execution_count": 13,
   "metadata": {},
   "outputs": [],
   "source": [
    "sentences = []\n",
    "for doc in train.data:\n",
    "    for s in nltk.tokenize.sent_tokenize(doc):\n",
    "        sentences.append(s.lower())"
   ]
  },
  {
   "cell_type": "code",
   "execution_count": 15,
   "metadata": {},
   "outputs": [
    {
     "name": "stdout",
     "output_type": "stream",
     "text": [
      "\n",
      "so you want to decrease players' salaries?\n"
     ]
    }
   ],
   "source": [
    "print(sentences[1])"
   ]
  },
  {
   "cell_type": "markdown",
   "metadata": {},
   "source": [
    "# One-hot encoding\n",
    "Many current NLP systems and techniques treat words as atomic\n",
    "units - there is no notion of similarity between words, as these are\n",
    "represented as indices in a vocabulary <br/>\n",
    "<i>(Mikolov et al., 2013).</i>\n",
    "\n",
    "<br/>\n",
    "Suppose that the number of different words in the vocabulary (the vocabulary size) is $V$. To obtain the one-hot vector representation for any word with index $i$, we create a length-$V$ vector with all $0$s and set the element at position $i$ to $1$"
   ]
  },
  {
   "cell_type": "code",
   "execution_count": 16,
   "metadata": {},
   "outputs": [],
   "source": [
    "from nltk.tokenize import word_tokenize"
   ]
  },
  {
   "cell_type": "code",
   "execution_count": 17,
   "metadata": {},
   "outputs": [],
   "source": [
    "corpus = sentences\n",
    "V = set()\n",
    "for sentence in corpus:\n",
    "    for word in word_tokenize(sentence):\n",
    "        V.add(word)\n",
    "V = list(V)"
   ]
  },
  {
   "cell_type": "code",
   "execution_count": 18,
   "metadata": {},
   "outputs": [
    {
     "name": "stdout",
     "output_type": "stream",
     "text": [
      "Vocab size: 8723\n"
     ]
    }
   ],
   "source": [
    "# example\n",
    "print('Vocab size:', len(V))"
   ]
  },
  {
   "cell_type": "code",
   "execution_count": 19,
   "metadata": {},
   "outputs": [
    {
     "data": {
      "text/plain": [
       "7354"
      ]
     },
     "execution_count": 19,
     "metadata": {},
     "output_type": "execute_result"
    }
   ],
   "source": [
    "V.index('suppose')"
   ]
  },
  {
   "cell_type": "code",
   "execution_count": 20,
   "metadata": {},
   "outputs": [],
   "source": [
    "def one_hot_encoding(V, word) -> np.array:\n",
    "    \"\"\"Return one-hot encoding\n",
    "    \n",
    "    Args:\n",
    "        V(list): Vocabulary, i.e., word list.\n",
    "        word: word in the vocabulary.\n",
    "    Returns:\n",
    "        one_hot_encoding(np.array)\n",
    "    \"\"\"\n",
    "    vec = np.zeros(len(V))\n",
    "    vec[V.index(word)] = 1.0\n",
    "    return vec"
   ]
  },
  {
   "cell_type": "code",
   "execution_count": 21,
   "metadata": {},
   "outputs": [
    {
     "name": "stdout",
     "output_type": "stream",
     "text": [
      "One-hot Encoding: next: [0. 1. 0. ... 0. 0. 0.]\n",
      "One-hot Encoding: still: [0. 0. 1. ... 0. 0. 0.]\n"
     ]
    }
   ],
   "source": [
    "# example\n",
    "word1, word2 = V[1], V[2]\n",
    "vec1, vec2 = one_hot_encoding(V, word1), one_hot_encoding(V, word2)\n",
    "\n",
    "print(f\"One-hot Encoding: {word1}:\", vec1)\n",
    "print(f\"One-hot Encoding: {word2}:\", vec2)"
   ]
  },
  {
   "cell_type": "markdown",
   "metadata": {},
   "source": [
    "One-hot encoded vectors are orthonormal. <br/>\n",
    "\n",
    "For vectors $x, y \\in \\mathbb{R}^V$ with $x\\ne y$, their _similarity_ is always $0$. \n",
    "\n",
    "On the contrary, for vectors $x, y \\in \\mathbb{R}^V$ with $x = y$, their _similarity_ is always $1$.\n",
    "\n",
    "\\begin{equation*}\n",
    "\\frac{x^T \\ y}{\\|x\\| \\ \\|y\\|} \\in \\{0, 1\\}\n",
    "\\end{equation*}"
   ]
  },
  {
   "cell_type": "code",
   "execution_count": 22,
   "metadata": {},
   "outputs": [],
   "source": [
    "def cosine_similarity(vec1: np.array, vec2: np.array) -> float:\n",
    "    \"\"\"Return cosine similarity between two vectors\n",
    "    \n",
    "    Args:\n",
    "        vec1(np.array): vector 1.\n",
    "        vec2(np.array): vector 2.\n",
    "    Returns:\n",
    "        cosine similarity\n",
    "    \"\"\"\n",
    "    return np.dot(vec1, vec2)/(np.linalg.norm(vec1)*np.linalg.norm(vec2))"
   ]
  },
  {
   "cell_type": "code",
   "execution_count": 23,
   "metadata": {},
   "outputs": [
    {
     "data": {
      "text/html": [
       "<div>\n",
       "<style scoped>\n",
       "    .dataframe tbody tr th:only-of-type {\n",
       "        vertical-align: middle;\n",
       "    }\n",
       "\n",
       "    .dataframe tbody tr th {\n",
       "        vertical-align: top;\n",
       "    }\n",
       "\n",
       "    .dataframe thead th {\n",
       "        text-align: right;\n",
       "    }\n",
       "</style>\n",
       "<table border=\"1\" class=\"dataframe\">\n",
       "  <thead>\n",
       "    <tr style=\"text-align: right;\">\n",
       "      <th></th>\n",
       "      <th>wiped</th>\n",
       "      <th>next</th>\n",
       "      <th>still</th>\n",
       "      <th>power</th>\n",
       "      <th>0.295</th>\n",
       "      <th>again</th>\n",
       "      <th>fox</th>\n",
       "      <th>mound</th>\n",
       "      <th>bodies</th>\n",
       "      <th>yankovic</th>\n",
       "    </tr>\n",
       "  </thead>\n",
       "  <tbody>\n",
       "    <tr>\n",
       "      <th>wiped</th>\n",
       "      <td>1.0</td>\n",
       "      <td>0.0</td>\n",
       "      <td>0.0</td>\n",
       "      <td>0.0</td>\n",
       "      <td>0.0</td>\n",
       "      <td>0.0</td>\n",
       "      <td>0.0</td>\n",
       "      <td>0.0</td>\n",
       "      <td>0.0</td>\n",
       "      <td>0.0</td>\n",
       "    </tr>\n",
       "    <tr>\n",
       "      <th>next</th>\n",
       "      <td>0.0</td>\n",
       "      <td>1.0</td>\n",
       "      <td>0.0</td>\n",
       "      <td>0.0</td>\n",
       "      <td>0.0</td>\n",
       "      <td>0.0</td>\n",
       "      <td>0.0</td>\n",
       "      <td>0.0</td>\n",
       "      <td>0.0</td>\n",
       "      <td>0.0</td>\n",
       "    </tr>\n",
       "    <tr>\n",
       "      <th>still</th>\n",
       "      <td>0.0</td>\n",
       "      <td>0.0</td>\n",
       "      <td>1.0</td>\n",
       "      <td>0.0</td>\n",
       "      <td>0.0</td>\n",
       "      <td>0.0</td>\n",
       "      <td>0.0</td>\n",
       "      <td>0.0</td>\n",
       "      <td>0.0</td>\n",
       "      <td>0.0</td>\n",
       "    </tr>\n",
       "    <tr>\n",
       "      <th>power</th>\n",
       "      <td>0.0</td>\n",
       "      <td>0.0</td>\n",
       "      <td>0.0</td>\n",
       "      <td>1.0</td>\n",
       "      <td>0.0</td>\n",
       "      <td>0.0</td>\n",
       "      <td>0.0</td>\n",
       "      <td>0.0</td>\n",
       "      <td>0.0</td>\n",
       "      <td>0.0</td>\n",
       "    </tr>\n",
       "    <tr>\n",
       "      <th>0.295</th>\n",
       "      <td>0.0</td>\n",
       "      <td>0.0</td>\n",
       "      <td>0.0</td>\n",
       "      <td>0.0</td>\n",
       "      <td>1.0</td>\n",
       "      <td>0.0</td>\n",
       "      <td>0.0</td>\n",
       "      <td>0.0</td>\n",
       "      <td>0.0</td>\n",
       "      <td>0.0</td>\n",
       "    </tr>\n",
       "    <tr>\n",
       "      <th>again</th>\n",
       "      <td>0.0</td>\n",
       "      <td>0.0</td>\n",
       "      <td>0.0</td>\n",
       "      <td>0.0</td>\n",
       "      <td>0.0</td>\n",
       "      <td>1.0</td>\n",
       "      <td>0.0</td>\n",
       "      <td>0.0</td>\n",
       "      <td>0.0</td>\n",
       "      <td>0.0</td>\n",
       "    </tr>\n",
       "    <tr>\n",
       "      <th>fox</th>\n",
       "      <td>0.0</td>\n",
       "      <td>0.0</td>\n",
       "      <td>0.0</td>\n",
       "      <td>0.0</td>\n",
       "      <td>0.0</td>\n",
       "      <td>0.0</td>\n",
       "      <td>1.0</td>\n",
       "      <td>0.0</td>\n",
       "      <td>0.0</td>\n",
       "      <td>0.0</td>\n",
       "    </tr>\n",
       "    <tr>\n",
       "      <th>mound</th>\n",
       "      <td>0.0</td>\n",
       "      <td>0.0</td>\n",
       "      <td>0.0</td>\n",
       "      <td>0.0</td>\n",
       "      <td>0.0</td>\n",
       "      <td>0.0</td>\n",
       "      <td>0.0</td>\n",
       "      <td>1.0</td>\n",
       "      <td>0.0</td>\n",
       "      <td>0.0</td>\n",
       "    </tr>\n",
       "    <tr>\n",
       "      <th>bodies</th>\n",
       "      <td>0.0</td>\n",
       "      <td>0.0</td>\n",
       "      <td>0.0</td>\n",
       "      <td>0.0</td>\n",
       "      <td>0.0</td>\n",
       "      <td>0.0</td>\n",
       "      <td>0.0</td>\n",
       "      <td>0.0</td>\n",
       "      <td>1.0</td>\n",
       "      <td>0.0</td>\n",
       "    </tr>\n",
       "    <tr>\n",
       "      <th>yankovic</th>\n",
       "      <td>0.0</td>\n",
       "      <td>0.0</td>\n",
       "      <td>0.0</td>\n",
       "      <td>0.0</td>\n",
       "      <td>0.0</td>\n",
       "      <td>0.0</td>\n",
       "      <td>0.0</td>\n",
       "      <td>0.0</td>\n",
       "      <td>0.0</td>\n",
       "      <td>1.0</td>\n",
       "    </tr>\n",
       "  </tbody>\n",
       "</table>\n",
       "</div>"
      ],
      "text/plain": [
       "          wiped  next  still  power  0.295  again  fox  mound  bodies  \\\n",
       "wiped       1.0   0.0    0.0    0.0    0.0    0.0  0.0    0.0     0.0   \n",
       "next        0.0   1.0    0.0    0.0    0.0    0.0  0.0    0.0     0.0   \n",
       "still       0.0   0.0    1.0    0.0    0.0    0.0  0.0    0.0     0.0   \n",
       "power       0.0   0.0    0.0    1.0    0.0    0.0  0.0    0.0     0.0   \n",
       "0.295       0.0   0.0    0.0    0.0    1.0    0.0  0.0    0.0     0.0   \n",
       "again       0.0   0.0    0.0    0.0    0.0    1.0  0.0    0.0     0.0   \n",
       "fox         0.0   0.0    0.0    0.0    0.0    0.0  1.0    0.0     0.0   \n",
       "mound       0.0   0.0    0.0    0.0    0.0    0.0  0.0    1.0     0.0   \n",
       "bodies      0.0   0.0    0.0    0.0    0.0    0.0  0.0    0.0     1.0   \n",
       "yankovic    0.0   0.0    0.0    0.0    0.0    0.0  0.0    0.0     0.0   \n",
       "\n",
       "          yankovic  \n",
       "wiped          0.0  \n",
       "next           0.0  \n",
       "still          0.0  \n",
       "power          0.0  \n",
       "0.295          0.0  \n",
       "again          0.0  \n",
       "fox            0.0  \n",
       "mound          0.0  \n",
       "bodies         0.0  \n",
       "yankovic       1.0  "
      ]
     },
     "execution_count": 23,
     "metadata": {},
     "output_type": "execute_result"
    }
   ],
   "source": [
    "# example \n",
    "example_words = [V[i] for i in range(10)]\n",
    "vectors = [one_hot_encoding(V, w) for w in example_words]\n",
    "sigma = dict([(w, {}) for w in example_words])\n",
    "for i, w1 in enumerate(example_words):\n",
    "    for j, w2 in enumerate(example_words):\n",
    "        sigma[w1][w2] = cosine_similarity(vectors[i], vectors[j])\n",
    "pd.DataFrame(sigma)"
   ]
  },
  {
   "cell_type": "code",
   "execution_count": 24,
   "metadata": {},
   "outputs": [],
   "source": [
    "v_play = one_hot_encoding(V, 'play')\n",
    "v_game = one_hot_encoding(V, 'game')"
   ]
  },
  {
   "cell_type": "code",
   "execution_count": 25,
   "metadata": {},
   "outputs": [
    {
     "data": {
      "text/plain": [
       "0.0"
      ]
     },
     "execution_count": 25,
     "metadata": {},
     "output_type": "execute_result"
    }
   ],
   "source": [
    "cosine_similarity(v_play, v_game)"
   ]
  },
  {
   "cell_type": "markdown",
   "metadata": {},
   "source": [
    "# Word2Vec: semantic word representations"
   ]
  },
  {
   "cell_type": "markdown",
   "metadata": {},
   "source": [
    "Word2Vec maps each word to a **low-dimensional continuous vector**, in a way that words that have similar meaning have similar representations.\n",
    "\t\n",
    "Word2Vec is based on a simple but efficient *feed-forward* neural architecture which is trained with language modeling objective. \n",
    "\n",
    "Word2Vec consists of two different architectures: __Skip-gram__ and __Continuous Bag-of-Words__ (CBOW)."
   ]
  },
  {
   "cell_type": "markdown",
   "metadata": {},
   "source": [
    "## Generating variables"
   ]
  },
  {
   "cell_type": "code",
   "execution_count": 26,
   "metadata": {},
   "outputs": [],
   "source": [
    "import string"
   ]
  },
  {
   "cell_type": "code",
   "execution_count": 27,
   "metadata": {},
   "outputs": [],
   "source": [
    "tokens = [[x for x in word_tokenize(t) if x not in sw and x not in string.punctuation] for t in corpus]"
   ]
  },
  {
   "cell_type": "code",
   "execution_count": 28,
   "metadata": {},
   "outputs": [
    {
     "name": "stdout",
     "output_type": "stream",
     "text": [
      "finally, i throw all this into a a formula i call defensive contribution, or\n",
      "dcon :->.\n",
      "\n",
      "['finally', 'throw', 'formula', 'call', 'defensive', 'contribution', 'dcon']\n"
     ]
    }
   ],
   "source": [
    "# example\n",
    "print(corpus[20], end='\\n\\n')\n",
    "print(tokens[20])"
   ]
  },
  {
   "cell_type": "code",
   "execution_count": 29,
   "metadata": {},
   "outputs": [],
   "source": [
    "def build_vocab(token_batches, min_count=15) -> dict:\n",
    "    '''Build vocabulary and filter rare words.\n",
    "    \n",
    "    Args:\n",
    "        token_batches(list): Token batches.\n",
    "        min_count(int, optional, default=15): Minimum frequency threshold.\n",
    "    Returns:\n",
    "        vocab(dict): Dictionary containing token and frequencies.\n",
    "    '''\n",
    "    \n",
    "    counts = Counter([token for tokens in token_batches for token in tokens])\n",
    "    vocab = list(counts.keys())\n",
    "    vocab = {k:v for k, v in counts.items() if v > min_count} # Filtering\n",
    "    return vocab\n",
    "\n",
    "vocab = build_vocab(tokens, min_count=10)\n",
    "vocab_size = len(vocab)"
   ]
  },
  {
   "cell_type": "code",
   "execution_count": 30,
   "metadata": {},
   "outputs": [
    {
     "name": "stdout",
     "output_type": "stream",
     "text": [
      "824 \n",
      "\n",
      "  ...,\n",
      " '7': 76,\n",
      " '70': 12,\n",
      " '8': 36,\n",
      " '80': 14,\n",
      " '89': 11,\n",
      " '9': 47,\n",
      " '92': 12,\n",
      "  ...\n"
     ]
    }
   ],
   "source": [
    "# example\n",
    "print(vocab_size, '\\n')\n",
    "print(f\"  ..., {str({k: vocab[k] for k in sorted(vocab)[100:107]})[1:-1]},  ...\".replace(',', ',\\n'))"
   ]
  },
  {
   "cell_type": "code",
   "execution_count": 31,
   "metadata": {},
   "outputs": [],
   "source": [
    "def mapping(vocab: list) -> tuple:\n",
    "    '''\n",
    "    Generate mapping dictionaries.\n",
    "    \n",
    "    Args:\n",
    "        vocab(dict): Dictionary containing token and frequencies.\n",
    "    Returns:\n",
    "        token_to_id(dict): Mapping token -> id. \n",
    "        id_to_token(dict): Mapping id -> token. \n",
    "    '''\n",
    "    token_to_id = dict()\n",
    "    id_to_token = dict()\n",
    "\n",
    "    for i, token in enumerate(vocab):\n",
    "        token_to_id[token] = i\n",
    "        id_to_token[i] = token\n",
    "\n",
    "    return token_to_id, id_to_token\n",
    "\n",
    "token_to_id, id_to_token = mapping(vocab)"
   ]
  },
  {
   "cell_type": "code",
   "execution_count": 32,
   "metadata": {},
   "outputs": [
    {
     "name": "stdout",
     "output_type": "stream",
     "text": [
      "345 : pitch\n"
     ]
    }
   ],
   "source": [
    "# example\n",
    "print(token_to_id['pitch'],':', id_to_token[token_to_id['pitch']])"
   ]
  },
  {
   "cell_type": "markdown",
   "metadata": {},
   "source": [
    "## Generating training samples"
   ]
  },
  {
   "cell_type": "code",
   "execution_count": 33,
   "metadata": {},
   "outputs": [],
   "source": [
    "def one_hot_encoding(token_id, vocab_size) -> np.array:\n",
    "    '''Return one-hot encoding\n",
    "    \n",
    "    Args:\n",
    "        token_id(int): Token id.\n",
    "        vocab_size(int): Number of token in the dictionary.\n",
    "    Returns:\n",
    "        one_hot_encoding(np.array)\n",
    "    '''\n",
    "    vec = np.zeros(vocab_size)\n",
    "    vec[token_id] = 1.0\n",
    "    return vec"
   ]
  },
  {
   "cell_type": "code",
   "execution_count": 35,
   "metadata": {},
   "outputs": [],
   "source": [
    "def generate_training_samples(tokens: list, token_to_id: dict, id_to_token: dict, window:int=3) -> list:\n",
    "    '''Generate training examples for word2vec algorithm.\n",
    "    \n",
    "    Args:\n",
    "        tokens(list): Batch of tokens.\n",
    "        token_to_id(dict): Mapping token -> id.\n",
    "        id_to_token(dict): Mapping id -> token.\n",
    "        window(int, optional, default=5): Number of left and right context words for each target word.\n",
    "    \n",
    "    Returns:\n",
    "        examples(list).\n",
    "    '''\n",
    "    \n",
    "    examples = list()\n",
    "    n_tokens = len(tokens)\n",
    "\n",
    "    for i in range(n_tokens):\n",
    "        if tokens[i] not in token_to_id: continue\n",
    "            \n",
    "        target = token_to_id[tokens[i]]\n",
    "        new_examples = list()\n",
    "\n",
    "        for j in range(1, window+2):\n",
    "            # right context\n",
    "            if i + j < len(tokens):\n",
    "                if not tokens[i + j] in token_to_id: continue\n",
    "                context = token_to_id[tokens[i + j]]\n",
    "                new_examples.append((target, context))\n",
    "                \n",
    "            # left context\n",
    "            if i - j >= 0:\n",
    "                if not tokens[i - j] in token_to_id: continue\n",
    "                context = token_to_id[tokens[i - j]]\n",
    "                new_examples.append((target, context))\n",
    "            \n",
    "        examples.append(new_examples)\n",
    "\n",
    "    return np.asarray(examples, dtype=object)\n",
    "\n",
    "def generate_multiple_training_samples(token_batches: list, token_to_id: dict, id_to_token: dict, window:int=3, \n",
    "                                   workers:int = 10):\n",
    "    '''Generate training example for word2vec algorithm.\n",
    "    \n",
    "    Args:\n",
    "        tokens(list): Batch of tokens.\n",
    "        token_to_id(dict): Mapping token -> id.\n",
    "        id_to_token(dict): Mapping id -> token.\n",
    "        vocab_size(int): Number of token in the dictionary.\n",
    "        window(int, optional, default=5): Number of left and right context words for each target word.'''\n",
    "    \n",
    "    \n",
    "    with Pool(processes=workers) as p:\n",
    "         res = p.starmap(generate_training_samples, [(tokens, token_to_id, id_to_token, window) for tokens in token_batches])\n",
    "    \n",
    "    return res\n",
    "\n",
    "window = 3\n",
    "#samples = generate_multiple_training_samples(tokens, token_to_id, id_to_token, window=3, workers=10) # not working in notebook\n",
    "samples = [generate_training_samples(t, token_to_id, id_to_token, window=window) for t in tokens]"
   ]
  },
  {
   "cell_type": "code",
   "execution_count": 38,
   "metadata": {},
   "outputs": [
    {
     "name": "stdout",
     "output_type": "stream",
     "text": [
      "['finally', 'throw', 'formula', 'call', 'defensive', 'contribution', 'dcon']\n",
      "[('finally', 'throw'), ('finally', 'call'), ('finally', 'defensive')]\n",
      "[('throw', 'call'), ('throw', 'defensive')]\n",
      "[('call', 'defensive')]\n",
      "[('defensive', 'throw'), ('defensive', 'finally')]\n"
     ]
    }
   ],
   "source": [
    "print(tokens[20])\n",
    "for e in generate_training_samples(tokens[20], token_to_id, id_to_token):\n",
    "    print([(id_to_token[a], id_to_token[b]) for a, b in e])"
   ]
  },
  {
   "cell_type": "code",
   "execution_count": 39,
   "metadata": {},
   "outputs": [],
   "source": [
    "def color(text, color='#990000'):\n",
    "    return \"<span style='color: {};'>{}</span>\".format(color, text)"
   ]
  },
  {
   "cell_type": "code",
   "execution_count": 40,
   "metadata": {
    "scrolled": false
   },
   "outputs": [
    {
     "name": "stdout",
     "output_type": "stream",
     "text": [
      "finally throw formula call defensive contribution dcon\n"
     ]
    },
    {
     "data": {
      "text/html": [
       "0.   <span style='color: #000099;'></span> <span style='color: #990000;'>finally</span> <span style='color: #000099;'>throw formula call</span> defensive contribution dcon"
      ],
      "text/plain": [
       "<IPython.core.display.HTML object>"
      ]
     },
     "metadata": {},
     "output_type": "display_data"
    },
    {
     "data": {
      "text/html": [
       "1.   <span style='color: #000099;'>finally</span> <span style='color: #990000;'>throw</span> <span style='color: #000099;'>formula call defensive</span> contribution dcon"
      ],
      "text/plain": [
       "<IPython.core.display.HTML object>"
      ]
     },
     "metadata": {},
     "output_type": "display_data"
    },
    {
     "data": {
      "text/html": [
       "2.   <span style='color: #000099;'>finally throw</span> <span style='color: #990000;'>formula</span> <span style='color: #000099;'>call defensive contribution</span> dcon"
      ],
      "text/plain": [
       "<IPython.core.display.HTML object>"
      ]
     },
     "metadata": {},
     "output_type": "display_data"
    },
    {
     "data": {
      "text/html": [
       "3.   <span style='color: #000099;'>finally throw formula</span> <span style='color: #990000;'>call</span> <span style='color: #000099;'>defensive contribution dcon</span> "
      ],
      "text/plain": [
       "<IPython.core.display.HTML object>"
      ]
     },
     "metadata": {},
     "output_type": "display_data"
    },
    {
     "data": {
      "text/html": [
       "4.  finally <span style='color: #000099;'>throw formula call</span> <span style='color: #990000;'>defensive</span> <span style='color: #000099;'>contribution dcon</span> "
      ],
      "text/plain": [
       "<IPython.core.display.HTML object>"
      ]
     },
     "metadata": {},
     "output_type": "display_data"
    },
    {
     "data": {
      "text/html": [
       "5.  finally throw <span style='color: #000099;'>formula call defensive</span> <span style='color: #990000;'>contribution</span> <span style='color: #000099;'>dcon</span> "
      ],
      "text/plain": [
       "<IPython.core.display.HTML object>"
      ]
     },
     "metadata": {},
     "output_type": "display_data"
    },
    {
     "name": "stdout",
     "output_type": "stream",
     "text": [
      "Training Example (id, id) - 4:\n",
      "[(71, 72), (71, 73), (71, 45)] \n",
      "\n",
      "\n",
      "Training Example (word, word) - 4:\n",
      "[['finally' 'throw']\n",
      " ['finally' 'call']\n",
      " ['finally' 'defensive']] \n",
      "\n",
      "\n",
      "Training Example (id, id) - 4:\n",
      "[[[0. 0. 0. ... 0. 0. 0.]\n",
      "  [0. 0. 0. ... 0. 0. 0.]]\n",
      "\n",
      " [[0. 0. 0. ... 0. 0. 0.]\n",
      "  [0. 0. 0. ... 0. 0. 0.]]\n",
      "\n",
      " [[0. 0. 0. ... 0. 0. 0.]\n",
      "  [0. 0. 0. ... 0. 0. 0.]]]\n"
     ]
    }
   ],
   "source": [
    "example = 20\n",
    "\n",
    "print(\" \".join(tokens[example]), end='\\n')\n",
    "\n",
    "for i in range(len(tokens[example])):\n",
    "    if i>5: break\n",
    "    before = \" \".join([t for j, t in enumerate(tokens[example]) if j < i-window])\n",
    "    context_l = color(\" \".join(tokens[example][max(i-window,0):i]), '#000099')\n",
    "    target = color(tokens[example][i], '#990000')\n",
    "    context_r = color(\" \".join(tokens[example][i+1:i+window+1]), '#000099')\n",
    "    after = \" \".join(tokens[example][i+window+1:])\n",
    "    html = '{}. '.format(i) + \" \" + before + \" \" + context_l + \" \" + target + \" \" + context_r + \" \" + after\n",
    "    display(HTML(html))\n",
    "\n",
    "training_samples = generate_training_samples(tokens[example], token_to_id, id_to_token, window)[0]\n",
    "\n",
    "print('Training Example (id, id) - 4:')\n",
    "print(str(training_samples), '\\n\\n')\n",
    "\n",
    "print('Training Example (word, word) - 4:')\n",
    "print(str(np.array([[id_to_token[i[0]], id_to_token[i[1]]] for i in training_samples])), '\\n\\n')\n",
    "\n",
    "print('Training Example (id, id) - 4:')\n",
    "print(str(np.array([[one_hot_encoding(i[0], vocab_size), \n",
    "                     one_hot_encoding(i[1], vocab_size)] \n",
    "                    for i in training_samples])))"
   ]
  },
  {
   "cell_type": "markdown",
   "metadata": {},
   "source": [
    "# CBOW"
   ]
  },
  {
   "cell_type": "markdown",
   "metadata": {},
   "source": [
    "## Word2Vec: CBOW"
   ]
  },
  {
   "cell_type": "markdown",
   "metadata": {},
   "source": [
    "_input to hidden_ \n",
    "\n",
    "Input layer: $\\mathbf{x} \\in \\mathbb{R}^{V}$ <br/>\n",
    " \\begin{eqnarray*}\n",
    "\t        \\bar{\\mathbf{x}} = \\frac{1}{C}\\sum^C_{c=1} \\mathbf{x^{(c)}}\n",
    "\t    \\end{eqnarray*}\n",
    "Weights: $W \\in \\mathbb{R}^{V\\times N}$, randomly initialized<br/><br/>\n",
    "Hidden layer: $\\mathbf{h} \\in \\mathbb{R}^{N}$\n",
    "\\begin{eqnarray}\n",
    "\\mathbf{h} = \\frac{1}{C} \\mathbf{W}^T \\sum^C_{c=1}  x^{(c)} = \\mathbf{W}^T \\bar{\\mathbf{x}}\n",
    "\\end{eqnarray}\n",
    "\n",
    "Activation function: $\\mathbb{I}\\text{dentity}$"
   ]
  },
  {
   "cell_type": "markdown",
   "metadata": {},
   "source": [
    "_hidden to output_\n",
    "\n",
    "Weights: $\\mathbf{W'} \\in \\mathbb{R}^{N\\times V}$, randomly initialized\n",
    "\n",
    "Output layer: $\\mathbf{u} \\in \\mathbb{R}^V$\n",
    "\\begin{eqnarray}\n",
    "\\mathbf{u} = \\mathbf{W}'^T \\mathbf{h} = \\frac{1}{C} \\sum^C_{c=1} \\mathbf{W'}^T \\mathbf{W}^T x^{(c)} = \\mathbf{W'}^T \\mathbf{W}^T \\bar{\\mathbf{x}}\n",
    "\\end{eqnarray}\n",
    "\n",
    "Activation function: $\\mathbb{S}\\text{oftmax}$\n",
    "\\begin{eqnarray}\n",
    "\\mathbf{y} = \\mathbb{S}\\text{oftmax}(\\mathbf{u}) = \\mathbb{S}\\text{oftmax}(\\mathbf{W'}^T\\mathbf{W}^T \\bar{\\mathbf{x}})\n",
    "\\end{eqnarray}"
   ]
  },
  {
   "cell_type": "markdown",
   "metadata": {},
   "source": [
    "_Loss Function_\n",
    "\n",
    "\\begin{eqnarray}\n",
    "\\mathcal{L} &=& -\\log \\mathbb{P}(w_O| w_{c,1}, w_{c,2}, ..., w_{c,C})\\\\\n",
    "&=& \\max \\log y_{j^*} \\nonumber\\\\\n",
    "\t\t            &=& \\max \\log \\left(\\frac{\\exp(u_{j^*})}{\\sum^V_{j'=1} \\exp(u_{j'})} \\right) \\nonumber\\\\\n",
    "\t\t            &=& \\max u_{j^*} - \\log \\sum^V_{j' = 1} \\exp(u_{j'}) \\nonumber\\\\\n",
    "\t\t            &=& \\min \\log \\sum^V_{j' = 1} \\exp(u_{j'}) - u_{j^*}\n",
    "\\end{eqnarray}"
   ]
  },
  {
   "cell_type": "markdown",
   "metadata": {},
   "source": [
    "_Gradient descent_\n",
    "\n",
    "\\begin{eqnarray}\n",
    "\t    \\frac{\\partial \\mathcal{L}}{\\partial \\mathbf{W'}} = (\\mathbf{W}^T \\bar{\\mathbf{x}}) \\otimes E \n",
    "\t    \\end{eqnarray}\n",
    "\t    \\begin{eqnarray} \\frac{\\partial \\mathcal{L}}{\\partial \\mathbf{W}} = \\bar{\\mathbf{x}} \\otimes (\\mathbf{W'} E) \n",
    "\t    \\end{eqnarray}\n",
    "        \n",
    "_Backpropagation_\n",
    "\\begin{eqnarray}\n",
    "\\mathbf{v}_{W}^{(new)} &=&  \\mathbf{v}_{W}^{(old)} - \\eta \\cdot \\frac{\\partial \\mathcal{L}}{\\partial W}\n",
    "\\end{eqnarray}\n",
    "                \n",
    "\\begin{eqnarray}\n",
    "    \\mathbf{v}_{W'}^{(new)} &=&  \\mathbf{v}_{W'}^{(old)} - \\eta \\cdot \\frac{\\partial \\mathcal{L}}{\\partial W'}\n",
    "\\end{eqnarray}"
   ]
  },
  {
   "cell_type": "code",
   "execution_count": 41,
   "metadata": {},
   "outputs": [],
   "source": [
    "def softmax(x):\n",
    "    x = x.astype(float)\n",
    "    return np.exp(x) / np.sum(np.exp(x), axis=0)"
   ]
  },
  {
   "cell_type": "code",
   "execution_count": 42,
   "metadata": {},
   "outputs": [],
   "source": [
    "class Word2Vec:\n",
    "    \n",
    "    def __init__(self, sequences:list, vector_size=100):\n",
    "        \"\"\"\n",
    "        Args:\n",
    "            sequences(list): Token batches.\n",
    "        \"\"\"\n",
    "        self.sequences = sequences\n",
    "        self.vector_size = vector_size\n",
    "    \n",
    "    def __init_network__(self):\n",
    "        \"\"\"Initialize the network\"\"\"\n",
    "        \n",
    "        self.model = {\n",
    "            \"W\": np.random.uniform(-1, 1, (self.vocab_size, self.vector_size)),  # input to hidden\n",
    "            \"W'\": np.random.uniform(-1, 1, (self.vector_size, self.vocab_size)) # hidden to output\n",
    "        }\n",
    "        return self.model\n",
    "    \n",
    "    def build_vocab(self, min_count=15) -> dict:\n",
    "        \"\"\"Build vocabulary and filter rare words.\n",
    "\n",
    "        Args:\n",
    "            min_count(int, optional, default=15): Minimum frequency threshold.\n",
    "        Returns:\n",
    "            vocab(dict): Dictionary containing token and frequencies.\n",
    "        \"\"\"\n",
    "\n",
    "        counts = Counter([token for sequence in self.sequences for token in sequence])\n",
    "        vocab = list(counts.keys())\n",
    "        vocab = {k:v for k, v in counts.items() if v > min_count} # Filtering\n",
    "\n",
    "        self.vocab = vocab\n",
    "        self.vocab_size = len(vocab)\n",
    "        \n",
    "        self.token_to_id, self.id_to_token = self.__mapping__()\n",
    "        \n",
    "        return vocab\n",
    "    \n",
    "    def one_hot_encoding(self, token_id) -> np.array:\n",
    "        '''Return one-hot encoding\n",
    "\n",
    "        Args:\n",
    "            token_id(int): Token id.\n",
    "        Returns:\n",
    "            one_hot_encoding(np.array)\n",
    "        '''\n",
    "        vec = np.zeros(self.vocab_size)\n",
    "        vec[token_id] = 1.0\n",
    "        return vec\n",
    "    \n",
    "    def __mapping__(self) -> tuple:\n",
    "        '''\n",
    "        Generate mapping dictionaries.\n",
    "\n",
    "        Returns:\n",
    "            token_to_id(dict): Mapping token -> id. \n",
    "            id_to_token(dict): Mapping id -> token. \n",
    "        '''\n",
    "        token_to_id = dict()\n",
    "        id_to_token = dict()\n",
    "\n",
    "        for i, token in enumerate(self.vocab):\n",
    "            token_to_id[token] = i\n",
    "            id_to_token[i] = token\n",
    "        \n",
    "        return token_to_id, id_to_token\n",
    "\n",
    "    def __generate_training_samples__(self, tokens: list, window:int=3) -> list:\n",
    "        '''Generate training examples for word2vec algorithm.\n",
    "\n",
    "        Args:\n",
    "            tokens(list): Batch of tokens.\n",
    "            window(int, optional, default=3): Number of left and right context words for each target word.\n",
    "\n",
    "        Returns:\n",
    "            examples(list).\n",
    "        '''\n",
    "\n",
    "        examples = list()\n",
    "        n_tokens = len(tokens)\n",
    "\n",
    "        for i in range(n_tokens):\n",
    "            if tokens[i] not in self.token_to_id: continue\n",
    "\n",
    "            target = self.token_to_id[tokens[i]]\n",
    "            X, y = list(), np.array(self.one_hot_encoding(target))\n",
    "\n",
    "            for j in range(1, window+2):\n",
    "                # right context\n",
    "                if i + j < len(tokens):\n",
    "                    if not tokens[i + j] in self.token_to_id: continue\n",
    "                    context = self.token_to_id[tokens[i + j]]\n",
    "                    X.append(self.one_hot_encoding(context))\n",
    "\n",
    "                # left context\n",
    "                if i - j >= 0:\n",
    "                    if not tokens[i - j] in self.token_to_id: continue\n",
    "                    context = self.token_to_id[tokens[i - j]]\n",
    "                    X.append(self.one_hot_encoding(context))\n",
    "\n",
    "            examples.append((np.mean(X, axis=0), y))\n",
    "\n",
    "        return np.asarray(examples, dtype=object)\n",
    "\n",
    "    def __build_training_samples__(self, window:int=3, workers:int = 10):\n",
    "        '''Generate training example for word2vec algorithm.\n",
    "\n",
    "        Args:\n",
    "            vocab_size(int): Number of token in the dictionary.\n",
    "            window(int, optional, default=5): Number of left and right context words for each target word.'''\n",
    "\n",
    "\n",
    "        #with Pool(processes=workers) as p:\n",
    "        #     res = p.starmap(self.__generate_training_samples__, [(tokens, window) for tokens in self.sequences])\n",
    "\n",
    "        #return res\n",
    "        for tokens in self.sequences:\n",
    "            for sample in self.__generate_training_samples__(tokens, window=window):\n",
    "                target, context = sample[1], sample[0]\n",
    "                yield target, context\n",
    "    \n",
    "    def __forward_prop__(self, x):\n",
    "    \n",
    "        h = np.dot(self.model['W'].T, x)\n",
    "        u = np.dot(self.model[\"W'\"].T, h)\n",
    "        y_pred = softmax(u)\n",
    "\n",
    "        return y_pred, h, u\n",
    "    \n",
    "    def __backward_prop__(self, y_pred, h, target, context, learning_rate):\n",
    "        total_error = self.__calculate_error__(y_pred, target)\n",
    "        \n",
    "        derivatives = dict()\n",
    "        derivatives[\"∂L/∂W\"] = np.outer(target, np.dot(self.model[\"W'\"], total_error.T))\n",
    "        derivatives[\"∂L/∂W'\"] = np.outer(h, total_error)\n",
    "\n",
    "        # Update weights\n",
    "        self.model[\"W\"] = self.model[\"W\"] - (learning_rate * derivatives[\"∂L/∂W\"])\n",
    "        self.model[\"W'\"] = self.model[\"W'\"] - (learning_rate * derivatives[\"∂L/∂W'\"])\n",
    "\n",
    "    def __calculate_error__(self, y_pred, y):\n",
    "        return y_pred - y\n",
    "        #return np.sum([y_pred - self.one_hot_encoding(index) for index in np.where(context == 1)[0]], axis=0)\n",
    "    \n",
    "    def __calculate_loss__(self, u, target):\n",
    "        u = u.astype(float)\n",
    "        return -u[target==1][0] + np.log(np.sum(np.exp(u)))\n",
    "        #return -u[context==1].sum() + len(np.where(context==1)[0]) *np.log(np.sum(np.exp(u)))\n",
    "    \n",
    "    def train(self, window:int=3, workers:int=10, epochs:int=25, learning_rate:float=0.01):\n",
    "        \n",
    "        self.__init_network__()\n",
    "\n",
    "        #For analysis purposes\n",
    "        epoch_loss = []\n",
    "        weights_1 = []\n",
    "        weights_2 = []\n",
    "\n",
    "        for epoch in tqdm(range(epochs)):\n",
    "            loss = 0\n",
    "\n",
    "            for target, context in self.__build_training_samples__(window, workers=10):\n",
    "                y_pred, h, u = self.__forward_prop__(target)\n",
    "                self.__backward_prop__(y_pred, h, target, context, learning_rate)\n",
    "\n",
    "                loss_temp = self.__calculate_loss__(u,target)\n",
    "                loss += loss_temp\n",
    "\n",
    "            epoch_loss.append( loss )\n",
    "            weights_1.append(self.model['W'])\n",
    "            weights_2.append(self.model[\"W'\"])\n",
    "\n",
    "        self.epoch_loss = epoch_loss\n",
    "        return epoch_loss, np.array(weights_1), np.array(weights_2)"
   ]
  },
  {
   "cell_type": "code",
   "execution_count": 43,
   "metadata": {},
   "outputs": [
    {
     "data": {
      "application/vnd.jupyter.widget-view+json": {
       "model_id": "c10a8b0d537849449a9b62051fc0c050",
       "version_major": 2,
       "version_minor": 0
      },
      "text/plain": [
       "  0%|          | 0/25 [00:00<?, ?it/s]"
      ]
     },
     "metadata": {},
     "output_type": "display_data"
    }
   ],
   "source": [
    "w = Word2Vec([x for x in tokens if 'game' in x][:50], vector_size=6)\n",
    "\n",
    "w.build_vocab(min_count=0)\n",
    "\n",
    "# fit parameters\n",
    "_ = w.train(window=3, epochs=25, learning_rate=0.01)"
   ]
  },
  {
   "cell_type": "code",
   "execution_count": 44,
   "metadata": {},
   "outputs": [
    {
     "name": "stdout",
     "output_type": "stream",
     "text": [
      "game ['three', '5-2', 'daryl', '5-7/12', 'one', 'function', 'coach', 'true', 'cleveland', 'saw'] \n",
      "\n",
      "bat ['chet', 'baylor', 'determines', 'dibble', 'spelled', 'lead', 'media', 'papa', 'even', '9/21'] \n",
      "\n",
      "play ['catcher', '9/28', 'effort', 'people', 'moving', 'ttacs1.ttu.edu', 'vs.', 'pinch', 'read', 'dinger'] \n",
      "\n"
     ]
    }
   ],
   "source": [
    "from scipy.spatial import distance\n",
    "import numpy as np\n",
    "\n",
    "def get_distance_matrix(wordvecs, metric):\n",
    "    dist_matrix = distance.squareform(distance.pdist(wordvecs, metric))\n",
    "    return dist_matrix\n",
    "\n",
    "def get_k_similar_words(word, dist_matrix, token_to_id, id_to_token, k=10):\n",
    "    idx = token_to_id[word]\n",
    "    dists = dist_matrix[idx]\n",
    "    ind = np.argpartition(dists, k)[:k+1]\n",
    "    ind = ind[np.argsort(dists[ind])][1:]\n",
    "    out = [(i, id_to_token[i], dists[i]) for i in ind]\n",
    "    return out\n",
    "\n",
    "sim_matrix = get_distance_matrix(w.model[\"W\"], 'cosine')\n",
    "for word in ['game', 'bat', 'play']:\n",
    "    print(word, [t[1] for t in get_k_similar_words(word, sim_matrix, w.token_to_id, w.id_to_token)], \"\\n\")"
   ]
  },
  {
   "cell_type": "code",
   "execution_count": 45,
   "metadata": {},
   "outputs": [
    {
     "data": {
      "text/plain": [
       "(495, 6)"
      ]
     },
     "execution_count": 45,
     "metadata": {},
     "output_type": "execute_result"
    }
   ],
   "source": [
    "w.model['W'].shape"
   ]
  },
  {
   "cell_type": "code",
   "execution_count": 48,
   "metadata": {},
   "outputs": [],
   "source": [
    "from sklearn.metrics.pairwise import cosine_similarity"
   ]
  },
  {
   "cell_type": "code",
   "execution_count": 49,
   "metadata": {},
   "outputs": [],
   "source": [
    "sigma = cosine_similarity(w.model['W'], w.model['W'])"
   ]
  },
  {
   "cell_type": "code",
   "execution_count": 54,
   "metadata": {},
   "outputs": [
    {
     "data": {
      "text/plain": [
       "['maybe', 'decent', 'comes', '92', 'swing', '70']"
      ]
     },
     "execution_count": 54,
     "metadata": {},
     "output_type": "execute_result"
    }
   ],
   "source": [
    "[id_to_token[i] for i, x in sorted(enumerate(sigma[0]), key=lambda x: -x[1])][:6]"
   ]
  },
  {
   "cell_type": "code",
   "execution_count": 58,
   "metadata": {},
   "outputs": [],
   "source": [
    "v_game = w.model['W'][token_to_id['game']]\n",
    "v_play = w.model['W'][token_to_id['baseball']]"
   ]
  },
  {
   "cell_type": "code",
   "execution_count": 59,
   "metadata": {},
   "outputs": [
    {
     "data": {
      "text/plain": [
       "-0.04308703916930066"
      ]
     },
     "execution_count": 59,
     "metadata": {},
     "output_type": "execute_result"
    }
   ],
   "source": [
    "np.dot(v_game, v_play)/(np.linalg.norm(v_game)*np.linalg.norm(v_play))"
   ]
  },
  {
   "cell_type": "code",
   "execution_count": 60,
   "metadata": {},
   "outputs": [
    {
     "data": {
      "text/plain": [
       "[<matplotlib.lines.Line2D at 0x7fe9c882b340>]"
      ]
     },
     "execution_count": 60,
     "metadata": {},
     "output_type": "execute_result"
    },
    {
     "data": {
      "image/png": "[encoded data removed]",
      "text/plain": [
       "<Figure size 432x288 with 1 Axes>"
      ]
     },
     "metadata": {
      "needs_background": "light"
     },
     "output_type": "display_data"
    }
   ],
   "source": [
    "import matplotlib.pyplot as plt\n",
    "plt.plot(w.epoch_loss)"
   ]
  },
  {
   "cell_type": "code",
   "execution_count": 61,
   "metadata": {},
   "outputs": [
    {
     "data": {
      "application/vnd.jupyter.widget-view+json": {
       "model_id": "e2ebb3d41a5546c18f02a6c6687e2a00",
       "version_major": 2,
       "version_minor": 0
      },
      "text/plain": [
       "  0%|          | 0/150 [00:00<?, ?it/s]"
      ]
     },
     "metadata": {},
     "output_type": "display_data"
    }
   ],
   "source": [
    "w = Word2Vec([x for x in tokens if 'game' in x][:50], vector_size=6)\n",
    "\n",
    "w.build_vocab(min_count=0)\n",
    "\n",
    "# fit parameters\n",
    "_ = w.train(window=3, epochs=150, learning_rate=0.01)"
   ]
  },
  {
   "cell_type": "code",
   "execution_count": 62,
   "metadata": {},
   "outputs": [
    {
     "name": "stdout",
     "output_type": "stream",
     "text": [
      "game ['days', 'coons', 'suicide', 'popular', 'true', 'baylor', 'beat', 'tigers', 'unlikely', 'straight', 'squeeze', 'dramatic', 'tonight', 'aaron', 'drawn-in', 'dinger', 'torre', 'determines', 'waving', 'read'] \n",
      "\n",
      "bat ['occured', 'problems', '5-2', '3-5', 'david', 'lankford', 'branson', '2', '3-2', 'fans', 'furthermore', 'catcher', 'candy', 'three', 'due', '4-3', 'good', 'even', 'hank', 'monday'] \n",
      "\n",
      "play ['star', 'six-hitter', 'stood', 'league', 'ekdfc', 'gerald', 'suicide', 'morning', 'two', 'expected', 'waving', 'hundley', '20', 'unlikely', '3', 'dramatic', '4th', '18-6', 'seaver', 'phils'] \n",
      "\n"
     ]
    }
   ],
   "source": [
    "from scipy.spatial import distance\n",
    "import numpy as np\n",
    "\n",
    "def get_distance_matrix(wordvecs, metric):\n",
    "    dist_matrix = distance.squareform(distance.pdist(wordvecs, metric))\n",
    "    return dist_matrix\n",
    "\n",
    "def get_k_similar_words(word, dist_matrix, token_to_id, id_to_token, k=20):\n",
    "    idx = token_to_id[word]\n",
    "    dists = dist_matrix[idx]\n",
    "    ind = np.argpartition(dists, k)[:k+1]\n",
    "    ind = ind[np.argsort(dists[ind])][1:]\n",
    "    out = [(i, id_to_token[i], dists[i]) for i in ind]\n",
    "    return out\n",
    "\n",
    "sim_matrix = get_distance_matrix(w.model[\"W\"], 'cosine')\n",
    "for word in ['game', 'bat', 'play']:\n",
    "    print(word, [t[1] for t in get_k_similar_words(word, sim_matrix, w.token_to_id, w.id_to_token)], \"\\n\")"
   ]
  },
  {
   "cell_type": "code",
   "execution_count": 63,
   "metadata": {},
   "outputs": [
    {
     "data": {
      "text/plain": [
       "[<matplotlib.lines.Line2D at 0x7fe9bcce22e0>]"
      ]
     },
     "execution_count": 63,
     "metadata": {},
     "output_type": "execute_result"
    },
    {
     "data": {
      "image/png": "[encoded data removed]",
      "text/plain": [
       "<Figure size 432x288 with 1 Axes>"
      ]
     },
     "metadata": {
      "needs_background": "light"
     },
     "output_type": "display_data"
    }
   ],
   "source": [
    "import matplotlib.pyplot as plt\n",
    "plt.plot(w.epoch_loss)"
   ]
  },
  {
   "cell_type": "code",
   "execution_count": 64,
   "metadata": {},
   "outputs": [
    {
     "data": {
      "application/vnd.jupyter.widget-view+json": {
       "model_id": "c36429a0a86940188707f150d30e6156",
       "version_major": 2,
       "version_minor": 0
      },
      "text/plain": [
       "  0%|          | 0/50 [00:00<?, ?it/s]"
      ]
     },
     "metadata": {},
     "output_type": "display_data"
    }
   ],
   "source": [
    "w = Word2Vec([i for i in tokens if 'game' in i][:50], vector_size=10)\n",
    "\n",
    "w.build_vocab(min_count=0)\n",
    "\n",
    "# fit parameters\n",
    "_ = w.train(window=3, epochs=50, learning_rate=0.03)"
   ]
  },
  {
   "cell_type": "code",
   "execution_count": 65,
   "metadata": {},
   "outputs": [
    {
     "data": {
      "text/plain": [
       "[<matplotlib.lines.Line2D at 0x7fe9bcd10af0>]"
      ]
     },
     "execution_count": 65,
     "metadata": {},
     "output_type": "execute_result"
    },
    {
     "data": {
      "image/png": "[encoded data removed]",
      "text/plain": [
       "<Figure size 432x288 with 1 Axes>"
      ]
     },
     "metadata": {
      "needs_background": "light"
     },
     "output_type": "display_data"
    }
   ],
   "source": [
    "import matplotlib.pyplot as plt\n",
    "plt.plot(w.epoch_loss)"
   ]
  },
  {
   "cell_type": "code",
   "execution_count": 66,
   "metadata": {},
   "outputs": [
    {
     "name": "stdout",
     "output_type": "stream",
     "text": [
      "game ['defensive', 'whew', '12-13', 'calls', 'brewer', 'tying', '9/30', 'jays', 'determines', 'hill', 'tuesday', 'legitimately', \"n't\", 'games', 'would', 'vs.', 'maintain', 'marginal', 'league', 'belcher'] \n",
      "\n",
      "bat ['great', '19-8', 'nights', 'lineup', '9/29', 'joined', 'making', 'outshone', 'two', 'extremely', 'thompson', 'defensive', 'shortstops', 'jumped', 'defined', 'promote', 'coons', 'role', 'squeeze', 'meant'] \n",
      "\n",
      "play ['ken', 'entered', 'think', 'next', 'things', 'hoyt', 'including', 'let', 'occured', 'twin', 'best', 'hundley', '9/25', '2-9', 'defeated', 'three-run', 'time', '10/2', 'jays', 'track'] \n",
      "\n"
     ]
    }
   ],
   "source": [
    "from scipy.spatial import distance\n",
    "import numpy as np\n",
    "\n",
    "def get_distance_matrix(wordvecs, metric):\n",
    "    dist_matrix = distance.squareform(distance.pdist(wordvecs, metric))\n",
    "    return dist_matrix\n",
    "\n",
    "def get_k_similar_words(word, dist_matrix, token_to_id, id_to_token, k=20):\n",
    "    idx = token_to_id[word]\n",
    "    dists = dist_matrix[idx]\n",
    "    ind = np.argpartition(dists, k)[:k+1]\n",
    "    ind = ind[np.argsort(dists[ind])][1:]\n",
    "    out = [(i, id_to_token[i], dists[i]) for i in ind]\n",
    "    return out\n",
    "\n",
    "sim_matrix = get_distance_matrix(w.model[\"W\"], 'cosine')\n",
    "for word in ['game', 'bat', 'play']:\n",
    "    print(word, [t[1] for t in get_k_similar_words(word, sim_matrix, w.token_to_id, w.id_to_token)], \"\\n\")"
   ]
  },
  {
   "cell_type": "markdown",
   "metadata": {},
   "source": [
    "## Gensim"
   ]
  },
  {
   "cell_type": "code",
   "execution_count": 67,
   "metadata": {},
   "outputs": [],
   "source": [
    "from gensim.models import Word2Vec"
   ]
  },
  {
   "cell_type": "code",
   "execution_count": 68,
   "metadata": {},
   "outputs": [],
   "source": [
    "train = fetch_20newsgroups(data_home=\"/Users/flint/Data/sklearn/\", subset='train', \n",
    "                           remove=('headers', 'footers', 'quotes'))"
   ]
  },
  {
   "cell_type": "code",
   "execution_count": 69,
   "metadata": {},
   "outputs": [],
   "source": [
    "sentences = []\n",
    "for doc in train.data:\n",
    "    for s in nltk.tokenize.sent_tokenize(doc):\n",
    "        sentences.append(s.lower())"
   ]
  },
  {
   "cell_type": "code",
   "execution_count": 70,
   "metadata": {},
   "outputs": [],
   "source": [
    "tokens = [[x for x in word_tokenize(t) if x not in sw and x not in \n",
    "           string.punctuation] for t in sentences]"
   ]
  },
  {
   "cell_type": "code",
   "execution_count": 71,
   "metadata": {},
   "outputs": [],
   "source": [
    "model = Word2Vec(sentences=tokens, vector_size=100, \n",
    "                 window=6, epochs=20, min_count=1, workers=4)"
   ]
  },
  {
   "cell_type": "code",
   "execution_count": 72,
   "metadata": {},
   "outputs": [
    {
     "data": {
      "text/plain": [
       "[('handgun', 0.7424942851066589),\n",
       " ('guns', 0.7384911179542542),\n",
       " ('hcikkk', 0.6669428944587708),\n",
       " ('unsurprisingly', 0.6582044363021851),\n",
       " ('control', 0.6468204259872437),\n",
       " ('crime', 0.6425794363021851),\n",
       " ('firearms', 0.6380162239074707),\n",
       " ('assault', 0.6378325819969177),\n",
       " ('owning', 0.637177586555481),\n",
       " ('handguns', 0.6165255308151245)]"
      ]
     },
     "execution_count": 72,
     "metadata": {},
     "output_type": "execute_result"
    }
   ],
   "source": [
    "model.wv.similar_by_word('gun')"
   ]
  },
  {
   "cell_type": "code",
   "execution_count": 73,
   "metadata": {},
   "outputs": [
    {
     "data": {
      "text/plain": [
       "0.6944172"
      ]
     },
     "execution_count": 73,
     "metadata": {},
     "output_type": "execute_result"
    }
   ],
   "source": [
    "model.wv.similarity('play', 'game')"
   ]
  },
  {
   "cell_type": "markdown",
   "metadata": {},
   "source": [
    "### Base model and specialized models\n",
    "Word embedding may be used also to get the specific shift of words among different corpora"
   ]
  },
  {
   "cell_type": "markdown",
   "metadata": {},
   "source": [
    "#### Create a global model"
   ]
  },
  {
   "cell_type": "code",
   "execution_count": null,
   "metadata": {},
   "outputs": [],
   "source": [
    "import copy"
   ]
  },
  {
   "cell_type": "code",
   "execution_count": null,
   "metadata": {},
   "outputs": [],
   "source": [
    "politics = copy.deepcopy(model)\n",
    "religion = copy.deepcopy(model)"
   ]
  },
  {
   "cell_type": "code",
   "execution_count": null,
   "metadata": {},
   "outputs": [],
   "source": [
    "politics_docs = []\n",
    "religion_docs = []\n",
    "for i, text in enumerate(train.data):\n",
    "    class_label = train.target_names[train.target[i]]\n",
    "    if class_label in ['talk.politics.misc', 'talk.religion.misc']:\n",
    "        for sentence in nltk.tokenize.sent_tokenize(text):\n",
    "            tokens = [x for x in word_tokenize(sentence) if x not in sw and x not in string.punctuation]\n",
    "            if class_label == 'talk.politics.misc':\n",
    "                politics_docs.append(tokens)\n",
    "            else:\n",
    "                religion_docs.append(tokens)"
   ]
  },
  {
   "cell_type": "markdown",
   "metadata": {},
   "source": [
    "#### Update the model for specific corpora to obtain specific fine-tuned models"
   ]
  },
  {
   "cell_type": "code",
   "execution_count": null,
   "metadata": {},
   "outputs": [],
   "source": [
    "politics.train(politics_docs, total_examples=model.corpus_count, epochs=model.epochs)"
   ]
  },
  {
   "cell_type": "code",
   "execution_count": null,
   "metadata": {},
   "outputs": [],
   "source": [
    "religion.train(religion_docs, total_examples=model.corpus_count, epochs=model.epochs)"
   ]
  },
  {
   "cell_type": "markdown",
   "metadata": {},
   "source": [
    "#### Compare the models"
   ]
  },
  {
   "cell_type": "code",
   "execution_count": null,
   "metadata": {},
   "outputs": [],
   "source": [
    "politics.wv.most_similar('gun')"
   ]
  },
  {
   "cell_type": "code",
   "execution_count": null,
   "metadata": {},
   "outputs": [],
   "source": [
    "religion.wv.most_similar('gun')"
   ]
  },
  {
   "cell_type": "code",
   "execution_count": null,
   "metadata": {},
   "outputs": [],
   "source": [
    "religion.wv.similarity('church', 'person')"
   ]
  },
  {
   "cell_type": "code",
   "execution_count": null,
   "metadata": {},
   "outputs": [],
   "source": [
    "politics.wv.similarity('church', 'person')"
   ]
  },
  {
   "cell_type": "markdown",
   "metadata": {},
   "source": [
    "## Pre-trained models"
   ]
  },
  {
   "cell_type": "code",
   "execution_count": 74,
   "metadata": {},
   "outputs": [],
   "source": [
    "from gensim.models import Word2Vec, KeyedVectors\n",
    "from gensim.test.utils import datapath"
   ]
  },
  {
   "cell_type": "code",
   "execution_count": 75,
   "metadata": {},
   "outputs": [],
   "source": [
    "wv = KeyedVectors.load_word2vec_format(datapath(\"/Users/flint/Data/word2vec/GoogleNews-vectors-negative300.bin\"), \n",
    "                                       binary=True)"
   ]
  },
  {
   "cell_type": "code",
   "execution_count": 76,
   "metadata": {},
   "outputs": [
    {
     "data": {
      "text/plain": [
       "[('queen', 0.7118193507194519),\n",
       " ('monarch', 0.6189674139022827),\n",
       " ('princess', 0.5902431011199951),\n",
       " ('crown_prince', 0.5499460697174072),\n",
       " ('prince', 0.5377321839332581),\n",
       " ('kings', 0.5236844420433044),\n",
       " ('Queen_Consort', 0.5235945582389832),\n",
       " ('queens', 0.5181134343147278),\n",
       " ('sultan', 0.5098593831062317),\n",
       " ('monarchy', 0.5087411999702454)]"
      ]
     },
     "execution_count": 76,
     "metadata": {},
     "output_type": "execute_result"
    }
   ],
   "source": [
    "wv.most_similar(positive=['king', 'woman'], negative=['man'])"
   ]
  },
  {
   "cell_type": "code",
   "execution_count": 78,
   "metadata": {},
   "outputs": [
    {
     "name": "stdout",
     "output_type": "stream",
     "text": [
      "'car'\t'minivan'\t0.69\n",
      "'car'\t'bicycle'\t0.54\n",
      "'car'\t'airplane'\t0.42\n",
      "'car'\t'cereal'\t0.14\n",
      "'car'\t'communism'\t0.06\n"
     ]
    }
   ],
   "source": [
    "pairs = [\n",
    "    ('car', 'minivan'),   # a minivan is a kind of car\n",
    "    ('car', 'bicycle'),   # still a wheeled vehicle\n",
    "    ('car', 'airplane'),  # ok, no wheels, but still a vehicle\n",
    "    ('car', 'cereal'),    # ... and so on\n",
    "    ('car', 'communism'),\n",
    "]\n",
    "for w1, w2 in pairs:\n",
    "    print('%r\\t%r\\t%.2f' % (w1, w2, wv.similarity(w1, w2)))"
   ]
  },
  {
   "cell_type": "code",
   "execution_count": 79,
   "metadata": {},
   "outputs": [
    {
     "name": "stdout",
     "output_type": "stream",
     "text": [
      "vehicle 0.7821096181869507\n",
      "cars 0.7423831224441528\n",
      "SUV 0.7160962224006653\n",
      "minivan 0.6907036900520325\n",
      "truck 0.6735789775848389\n",
      "Car 0.6677608489990234\n",
      "Ford_Focus 0.667320191860199\n",
      "Honda_Civic 0.6626849174499512\n",
      "Jeep 0.651133120059967\n",
      "pickup_truck 0.6441438794136047\n"
     ]
    }
   ],
   "source": [
    "for x, y in wv.most_similar('car'):\n",
    "    print(x, y)"
   ]
  },
  {
   "cell_type": "code",
   "execution_count": 80,
   "metadata": {},
   "outputs": [],
   "source": [
    "vectors = []\n",
    "for word in ['car', 'minivan', 'bicycle', 'airplane']:\n",
    "    vectors.append(wv.get_vector(word))\n",
    "V = np.array(vectors)"
   ]
  },
  {
   "cell_type": "code",
   "execution_count": 83,
   "metadata": {},
   "outputs": [],
   "source": [
    "v = V.mean(axis=0)\n",
    "#v = v - wv.get_vector('car')"
   ]
  },
  {
   "cell_type": "code",
   "execution_count": 84,
   "metadata": {},
   "outputs": [
    {
     "data": {
      "text/plain": [
       "[('car', 0.852258026599884),\n",
       " ('minivan', 0.8156529664993286),\n",
       " ('vehicle', 0.7754934430122375),\n",
       " ('SUV', 0.7660486698150635),\n",
       " ('bicycle', 0.7264742255210876),\n",
       " ('pickup_truck', 0.723552942276001),\n",
       " ('scooter', 0.7198848724365234),\n",
       " ('truck', 0.7041884064674377),\n",
       " ('Jeep', 0.7000145316123962),\n",
       " ('motorcycle', 0.6802986264228821)]"
      ]
     },
     "execution_count": 84,
     "metadata": {},
     "output_type": "execute_result"
    }
   ],
   "source": [
    "wv.similar_by_vector(v)"
   ]
  },
  {
   "cell_type": "markdown",
   "metadata": {},
   "source": [
    "### Analogy and compositionality\n",
    "\n",
    "FRANCE : PARIS = ITALY : ?\n",
    "\n",
    "PARIS - FRANCE + ITALY"
   ]
  },
  {
   "cell_type": "code",
   "execution_count": 77,
   "metadata": {},
   "outputs": [
    {
     "data": {
      "text/plain": [
       "[('Milan', 0.7222141623497009),\n",
       " ('Rome', 0.702830970287323),\n",
       " ('Palermo_Sicily', 0.5967570543289185),\n",
       " ('Italian', 0.5911272764205933),\n",
       " ('Tuscany', 0.5632812976837158),\n",
       " ('Bologna', 0.5608358383178711),\n",
       " ('Sicily', 0.5596384406089783),\n",
       " ('Bologna_Italy', 0.5470058917999268),\n",
       " ('Berna_Milan', 0.5464027523994446),\n",
       " ('Genoa', 0.5308900475502014)]"
      ]
     },
     "execution_count": 77,
     "metadata": {},
     "output_type": "execute_result"
    }
   ],
   "source": [
    "wv.most_similar(positive=['Paris', 'Italy'], negative=['France'])"
   ]
  },
  {
   "cell_type": "code",
   "execution_count": 85,
   "metadata": {},
   "outputs": [
    {
     "data": {
      "text/plain": [
       "'apple'"
      ]
     },
     "execution_count": 85,
     "metadata": {},
     "output_type": "execute_result"
    }
   ],
   "source": [
    "wv.doesnt_match(\"school professor apple student\".split())"
   ]
  },
  {
   "cell_type": "code",
   "execution_count": 86,
   "metadata": {},
   "outputs": [],
   "source": [
    "vp = wv['school']\n",
    "vr = wv['professor']\n",
    "vx = wv['student']\n",
    "m = (vp + vr + vx) / 3"
   ]
  },
  {
   "cell_type": "code",
   "execution_count": 87,
   "metadata": {},
   "outputs": [
    {
     "data": {
      "text/plain": [
       "[('student', 0.8481254577636719),\n",
       " ('professor', 0.7627506852149963),\n",
       " ('teacher', 0.6942789554595947),\n",
       " ('school', 0.6849855780601501),\n",
       " ('students', 0.6768636703491211),\n",
       " ('lecturer', 0.6700003147125244),\n",
       " ('faculty', 0.645453155040741),\n",
       " ('university', 0.6376535892486572),\n",
       " ('professors', 0.6346085667610168),\n",
       " ('associate_professor', 0.6325882077217102)]"
      ]
     },
     "execution_count": 87,
     "metadata": {},
     "output_type": "execute_result"
    }
   ],
   "source": [
    "wv.similar_by_vector(m)"
   ]
  },
  {
   "cell_type": "code",
   "execution_count": null,
   "metadata": {},
   "outputs": [],
   "source": [
    "pairs = [\n",
    "    ('lecturer', 'school'),\n",
    "    ('lecturer', 'professor'),\n",
    "    ('lecturer', 'student'),\n",
    "    ('lecturer', 'teacher'),\n",
    "]\n",
    "for w1, w2 in pairs:\n",
    "    print('%r\\t%r\\t%.2f' % (w1, w2, wv.similarity(w1, w2)))"
   ]
  },
  {
   "cell_type": "code",
   "execution_count": null,
   "metadata": {},
   "outputs": [],
   "source": [
    "wv.most_similar('buy')"
   ]
  },
  {
   "cell_type": "code",
   "execution_count": null,
   "metadata": {},
   "outputs": [],
   "source": [
    "wv.similarity('buy', 'money')"
   ]
  },
  {
   "cell_type": "code",
   "execution_count": null,
   "metadata": {},
   "outputs": [],
   "source": []
  }
 ],
 "metadata": {
  "kernelspec": {
   "display_name": "crike",
   "language": "python",
   "name": "crike"
  },
  "language_info": {
   "codemirror_mode": {
    "name": "ipython",
    "version": 3
   },
   "file_extension": ".py",
   "mimetype": "text/x-python",
   "name": "python",
   "nbconvert_exporter": "python",
   "pygments_lexer": "ipython3",
   "version": "3.8.8"
  },
  "toc": {
   "base_numbering": 1,
   "nav_menu": {},
   "number_sections": true,
   "sideBar": true,
   "skip_h1_title": false,
   "title_cell": "Table of Contents",
   "title_sidebar": "Contents",
   "toc_cell": false,
   "toc_position": {},
   "toc_section_display": true,
   "toc_window_display": false
  }
 },
 "nbformat": 4,
 "nbformat_minor": 4
}
