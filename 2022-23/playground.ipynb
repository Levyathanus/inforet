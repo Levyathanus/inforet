{
 "cells": [
  {
   "cell_type": "markdown",
   "id": "76329bbe",
   "metadata": {},
   "source": [
    "# Playground for examples"
   ]
  },
  {
   "cell_type": "code",
   "execution_count": 1,
   "id": "fe96b4cd",
   "metadata": {},
   "outputs": [],
   "source": [
    "import pandas as pd\n",
    "import numpy as np\n",
    "from tqdm.notebook import tqdm"
   ]
  },
  {
   "cell_type": "code",
   "execution_count": 2,
   "id": "113abc4f",
   "metadata": {},
   "outputs": [],
   "source": [
    "from pymongo import MongoClient"
   ]
  },
  {
   "cell_type": "code",
   "execution_count": 3,
   "id": "637665b3",
   "metadata": {},
   "outputs": [],
   "source": [
    "db = MongoClient()['twitter']['tweets']"
   ]
  },
  {
   "cell_type": "code",
   "execution_count": 11,
   "id": "c403345c",
   "metadata": {},
   "outputs": [],
   "source": [
    "docs = [x['text'] for x in db.find().limit(10**3)]"
   ]
  },
  {
   "cell_type": "code",
   "execution_count": 15,
   "id": "9d3870c5",
   "metadata": {},
   "outputs": [
    {
     "name": "stdout",
     "output_type": "stream",
     "text": [
      "RT @ftworkcareers: Opinion: The constraints of supply chains, labour shortages, and Brexit are finally making companies rethink. This is go…\n"
     ]
    }
   ],
   "source": [
    "print(docs[10])"
   ]
  },
  {
   "cell_type": "code",
   "execution_count": 17,
   "id": "bb734186",
   "metadata": {},
   "outputs": [],
   "source": [
    "from nltk.tokenize import word_tokenize"
   ]
  },
  {
   "cell_type": "code",
   "execution_count": 18,
   "id": "0196f7b8",
   "metadata": {},
   "outputs": [
    {
     "data": {
      "text/plain": [
       "['RT',\n",
       " '@',\n",
       " 'ftworkcareers',\n",
       " ':',\n",
       " 'Opinion',\n",
       " ':',\n",
       " 'The',\n",
       " 'constraints',\n",
       " 'of',\n",
       " 'supply',\n",
       " 'chains',\n",
       " ',',\n",
       " 'labour',\n",
       " 'shortages',\n",
       " ',',\n",
       " 'and',\n",
       " 'Brexit',\n",
       " 'are',\n",
       " 'finally',\n",
       " 'making',\n",
       " 'companies',\n",
       " 'rethink',\n",
       " '.',\n",
       " 'This',\n",
       " 'is',\n",
       " 'go…']"
      ]
     },
     "execution_count": 18,
     "metadata": {},
     "output_type": "execute_result"
    }
   ],
   "source": [
    "word_tokenize(docs[10])"
   ]
  },
  {
   "cell_type": "code",
   "execution_count": null,
   "id": "627c6ffd",
   "metadata": {},
   "outputs": [],
   "source": []
  }
 ],
 "metadata": {
  "kernelspec": {
   "display_name": "crike",
   "language": "python",
   "name": "crike"
  },
  "language_info": {
   "codemirror_mode": {
    "name": "ipython",
    "version": 3
   },
   "file_extension": ".py",
   "mimetype": "text/x-python",
   "name": "python",
   "nbconvert_exporter": "python",
   "pygments_lexer": "ipython3",
   "version": "3.8.8"
  },
  "toc": {
   "base_numbering": 1,
   "nav_menu": {},
   "number_sections": true,
   "sideBar": true,
   "skip_h1_title": false,
   "title_cell": "Table of Contents",
   "title_sidebar": "Contents",
   "toc_cell": false,
   "toc_position": {},
   "toc_section_display": true,
   "toc_window_display": false
  }
 },
 "nbformat": 4,
 "nbformat_minor": 5
}
