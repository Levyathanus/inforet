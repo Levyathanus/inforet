{
 "cells": [
  {
   "cell_type": "markdown",
   "id": "49565c97",
   "metadata": {},
   "source": [
    "# Supervised classification using classic classifiers"
   ]
  },
  {
   "cell_type": "code",
   "execution_count": 1,
   "id": "2d45afd9",
   "metadata": {},
   "outputs": [],
   "source": [
    "import pandas as pd\n",
    "import numpy as np\n",
    "from tqdm.notebook import tqdm"
   ]
  },
  {
   "cell_type": "markdown",
   "id": "3d512850",
   "metadata": {},
   "source": [
    "## The 20 newsgroup dataset\n",
    "For a description of the dataset, see [https://scikit-learn.org/0.19/datasets/twenty_newsgroups.html](https://scikit-learn.org/0.19/datasets/twenty_newsgroups.html)\n",
    "\n",
    "State of the art results are available [here](https://paperswithcode.com/dataset/20-newsgroups)"
   ]
  },
  {
   "cell_type": "code",
   "execution_count": 2,
   "id": "3ac86505",
   "metadata": {},
   "outputs": [],
   "source": [
    "from sklearn.datasets import fetch_20newsgroups\n",
    "from sklearn.feature_extraction.text import TfidfVectorizer\n",
    "import nltk\n",
    "from nltk.corpus import stopwords\n",
    "from string import punctuation"
   ]
  },
  {
   "cell_type": "code",
   "execution_count": 3,
   "id": "6e78f9ea",
   "metadata": {},
   "outputs": [],
   "source": [
    "train_data = fetch_20newsgroups(data_home='/Users/flint/Data/sklearn/', random_state=42, \n",
    "                          remove=('headers', 'footers', 'quotes'), subset='train')\n",
    "test_data = fetch_20newsgroups(data_home='/Users/flint/Data/sklearn/', random_state=42, \n",
    "                          remove=('headers', 'footers', 'quotes'), subset='test')"
   ]
  },
  {
   "cell_type": "code",
   "execution_count": 4,
   "id": "8165957b",
   "metadata": {},
   "outputs": [
    {
     "name": "stdout",
     "output_type": "stream",
     "text": [
      "11314 7532\n"
     ]
    }
   ],
   "source": [
    "print(len(train_data.data), len(test_data.data))"
   ]
  },
  {
   "cell_type": "markdown",
   "id": "ae1099d5",
   "metadata": {},
   "source": [
    "### Examples of contents"
   ]
  },
  {
   "cell_type": "code",
   "execution_count": 5,
   "id": "3bc6599f",
   "metadata": {},
   "outputs": [],
   "source": [
    "from collections import Counter, defaultdict"
   ]
  },
  {
   "cell_type": "code",
   "execution_count": 6,
   "id": "b88dcda4",
   "metadata": {},
   "outputs": [
    {
     "data": {
      "text/html": [
       "<div>\n",
       "<style scoped>\n",
       "    .dataframe tbody tr th:only-of-type {\n",
       "        vertical-align: middle;\n",
       "    }\n",
       "\n",
       "    .dataframe tbody tr th {\n",
       "        vertical-align: top;\n",
       "    }\n",
       "\n",
       "    .dataframe thead th {\n",
       "        text-align: right;\n",
       "    }\n",
       "</style>\n",
       "<table border=\"1\" class=\"dataframe\">\n",
       "  <thead>\n",
       "    <tr style=\"text-align: right;\">\n",
       "      <th></th>\n",
       "      <th>class_name</th>\n",
       "      <th>size</th>\n",
       "    </tr>\n",
       "  </thead>\n",
       "  <tbody>\n",
       "    <tr>\n",
       "      <th>0</th>\n",
       "      <td>alt.atheism</td>\n",
       "      <td>480</td>\n",
       "    </tr>\n",
       "    <tr>\n",
       "      <th>1</th>\n",
       "      <td>comp.graphics</td>\n",
       "      <td>584</td>\n",
       "    </tr>\n",
       "    <tr>\n",
       "      <th>2</th>\n",
       "      <td>comp.os.ms-windows.misc</td>\n",
       "      <td>591</td>\n",
       "    </tr>\n",
       "    <tr>\n",
       "      <th>3</th>\n",
       "      <td>comp.sys.ibm.pc.hardware</td>\n",
       "      <td>590</td>\n",
       "    </tr>\n",
       "    <tr>\n",
       "      <th>4</th>\n",
       "      <td>comp.sys.mac.hardware</td>\n",
       "      <td>578</td>\n",
       "    </tr>\n",
       "    <tr>\n",
       "      <th>5</th>\n",
       "      <td>comp.windows.x</td>\n",
       "      <td>593</td>\n",
       "    </tr>\n",
       "    <tr>\n",
       "      <th>6</th>\n",
       "      <td>misc.forsale</td>\n",
       "      <td>585</td>\n",
       "    </tr>\n",
       "    <tr>\n",
       "      <th>7</th>\n",
       "      <td>rec.autos</td>\n",
       "      <td>594</td>\n",
       "    </tr>\n",
       "    <tr>\n",
       "      <th>8</th>\n",
       "      <td>rec.motorcycles</td>\n",
       "      <td>598</td>\n",
       "    </tr>\n",
       "    <tr>\n",
       "      <th>9</th>\n",
       "      <td>rec.sport.baseball</td>\n",
       "      <td>597</td>\n",
       "    </tr>\n",
       "    <tr>\n",
       "      <th>10</th>\n",
       "      <td>rec.sport.hockey</td>\n",
       "      <td>600</td>\n",
       "    </tr>\n",
       "    <tr>\n",
       "      <th>11</th>\n",
       "      <td>sci.crypt</td>\n",
       "      <td>595</td>\n",
       "    </tr>\n",
       "    <tr>\n",
       "      <th>12</th>\n",
       "      <td>sci.electronics</td>\n",
       "      <td>591</td>\n",
       "    </tr>\n",
       "    <tr>\n",
       "      <th>13</th>\n",
       "      <td>sci.med</td>\n",
       "      <td>594</td>\n",
       "    </tr>\n",
       "    <tr>\n",
       "      <th>14</th>\n",
       "      <td>sci.space</td>\n",
       "      <td>593</td>\n",
       "    </tr>\n",
       "    <tr>\n",
       "      <th>15</th>\n",
       "      <td>soc.religion.christian</td>\n",
       "      <td>599</td>\n",
       "    </tr>\n",
       "    <tr>\n",
       "      <th>16</th>\n",
       "      <td>talk.politics.guns</td>\n",
       "      <td>546</td>\n",
       "    </tr>\n",
       "    <tr>\n",
       "      <th>17</th>\n",
       "      <td>talk.politics.mideast</td>\n",
       "      <td>564</td>\n",
       "    </tr>\n",
       "    <tr>\n",
       "      <th>18</th>\n",
       "      <td>talk.politics.misc</td>\n",
       "      <td>465</td>\n",
       "    </tr>\n",
       "    <tr>\n",
       "      <th>19</th>\n",
       "      <td>talk.religion.misc</td>\n",
       "      <td>377</td>\n",
       "    </tr>\n",
       "  </tbody>\n",
       "</table>\n",
       "</div>"
      ],
      "text/plain": [
       "                  class_name size\n",
       "0                alt.atheism  480\n",
       "1              comp.graphics  584\n",
       "2    comp.os.ms-windows.misc  591\n",
       "3   comp.sys.ibm.pc.hardware  590\n",
       "4      comp.sys.mac.hardware  578\n",
       "5             comp.windows.x  593\n",
       "6               misc.forsale  585\n",
       "7                  rec.autos  594\n",
       "8            rec.motorcycles  598\n",
       "9         rec.sport.baseball  597\n",
       "10          rec.sport.hockey  600\n",
       "11                 sci.crypt  595\n",
       "12           sci.electronics  591\n",
       "13                   sci.med  594\n",
       "14                 sci.space  593\n",
       "15    soc.religion.christian  599\n",
       "16        talk.politics.guns  546\n",
       "17     talk.politics.mideast  564\n",
       "18        talk.politics.misc  465\n",
       "19        talk.religion.misc  377"
      ]
     },
     "execution_count": 6,
     "metadata": {},
     "output_type": "execute_result"
    }
   ],
   "source": [
    "example = 26\n",
    "class_size = {}\n",
    "for class_label, num_docs in Counter(train_data.target).most_common():\n",
    "    class_size[class_label] = {\n",
    "        'class_name': train_data.target_names[class_label],\n",
    "        'size': num_docs\n",
    "    }\n",
    "K = pd.DataFrame(class_size).T.sort_index()\n",
    "K"
   ]
  },
  {
   "cell_type": "code",
   "execution_count": 7,
   "id": "a29ae55e",
   "metadata": {},
   "outputs": [
    {
     "name": "stdout",
     "output_type": "stream",
     "text": [
      "\n",
      "       Actually, fossil fuel plants run hotter than the usual \n",
      "boiling-water reactor nuclear plants.  (There's a gripe in the industry\n",
      "that nuclear power uses 1900 vintage steam technology).  So it's\n",
      "more important in nuclear plants to get the cold end of the system\n",
      "as cold as possible.  Hence big cooling towers.  \n",
      "\n",
      "       Oil and gas fired steam plants also have condensers, but they\n",
      "usually are sized to get the steam back into hot water, not most of the\n",
      "way down to ambient.  Some plants do cool the condensers with water,\n",
      "rather than air; as one Canadian official, asked about \"thermal \n",
      "pollution\" de-icing a river, said, \"Up here, we view heat as a resource\".  \n",
      "\n",
      "       Everybody runs closed-cycle boilers.  The water used is \n",
      "purified of solids, which otherwise crud up the boiler plumbing when\n",
      "the water boils.  Purifying water for boiler use is a bigger job than \n",
      "cooling it, so the boiler water is recycled.\n"
     ]
    }
   ],
   "source": [
    "print(train_data.data[example])"
   ]
  },
  {
   "cell_type": "code",
   "execution_count": 8,
   "id": "f2ea4a2a",
   "metadata": {},
   "outputs": [
    {
     "name": "stdout",
     "output_type": "stream",
     "text": [
      "12 sci.electronics\n"
     ]
    }
   ],
   "source": [
    "print(train_data.target[example], train_data.target_names[train_data.target[example]])"
   ]
  },
  {
   "cell_type": "markdown",
   "id": "f93787a4",
   "metadata": {},
   "source": [
    "## Tokenizer\n",
    "\n",
    "**Note**: for a more accurate lemmatization use [spaCy](https://spacy.io)\n",
    "\n",
    "**Exercize**: Test with different tokenization strategies"
   ]
  },
  {
   "cell_type": "code",
   "execution_count": 9,
   "id": "6c291024",
   "metadata": {},
   "outputs": [],
   "source": [
    "from nltk.stem import WordNetLemmatizer"
   ]
  },
  {
   "cell_type": "code",
   "execution_count": 10,
   "id": "3e848fa5",
   "metadata": {},
   "outputs": [],
   "source": [
    "lemmatizer = WordNetLemmatizer()\n",
    "stops = stopwords.words('english')"
   ]
  },
  {
   "cell_type": "code",
   "execution_count": 11,
   "id": "f825c1fe",
   "metadata": {},
   "outputs": [
    {
     "data": {
      "text/plain": [
       "'have'"
      ]
     },
     "execution_count": 11,
     "metadata": {},
     "output_type": "execute_result"
    }
   ],
   "source": [
    "lemmatizer.lemmatize('have')"
   ]
  },
  {
   "cell_type": "code",
   "execution_count": 12,
   "id": "64edb603",
   "metadata": {},
   "outputs": [],
   "source": [
    "def tokenize(text):\n",
    "    return [lemmatizer.lemmatize(x.lower()) for x in \n",
    "            nltk.word_tokenize(text) if x not in punctuation and x not in stops]"
   ]
  },
  {
   "cell_type": "code",
   "execution_count": 13,
   "id": "a67cb887",
   "metadata": {},
   "outputs": [
    {
     "data": {
      "text/plain": [
       "['actually', 'fossil', 'fuel', 'plant', 'run', 'hotter']"
      ]
     },
     "execution_count": 13,
     "metadata": {},
     "output_type": "execute_result"
    }
   ],
   "source": [
    "tokenize(train_data.data[example])[:6]"
   ]
  },
  {
   "cell_type": "code",
   "execution_count": 22,
   "id": "c7d5ee57",
   "metadata": {},
   "outputs": [],
   "source": [
    "def doc_vocabulary(doc_id, model, vocabulary, top_w=10):\n",
    "    words_scores = sorted(enumerate(model[doc_id]), key=lambda x: -x[1])\n",
    "    return [(vocabulary[wid], score) for wid, score in words_scores[:top_w]]"
   ]
  },
  {
   "cell_type": "markdown",
   "id": "fda3065e",
   "metadata": {},
   "source": [
    "## Vectorizer\n",
    "**Exercize**: Test with different vectorization strategies"
   ]
  },
  {
   "cell_type": "code",
   "execution_count": 14,
   "id": "8f4bbcd3",
   "metadata": {},
   "outputs": [],
   "source": [
    "tfidf_model = TfidfVectorizer(tokenizer=tokenize, min_df=10)"
   ]
  },
  {
   "cell_type": "code",
   "execution_count": 15,
   "id": "d390e932",
   "metadata": {},
   "outputs": [],
   "source": [
    "X_train_all = tfidf_model.fit_transform(train_data.data)\n",
    "y_train = train_data.target"
   ]
  },
  {
   "cell_type": "code",
   "execution_count": 16,
   "id": "78419b37",
   "metadata": {},
   "outputs": [],
   "source": [
    "X_test_all = tfidf_model.transform(test_data.data)\n",
    "y_test = test_data.target"
   ]
  },
  {
   "cell_type": "code",
   "execution_count": 24,
   "id": "4863ff54",
   "metadata": {},
   "outputs": [
    {
     "data": {
      "text/plain": [
       "[('water', 0.4684782125400617),\n",
       " ('plant', 0.46539663191139213),\n",
       " ('steam', 0.3170650086216689),\n",
       " ('nuclear', 0.26418843251175117),\n",
       " ('cooling', 0.20168453480550946),\n",
       " ('cold', 0.16619243527007663),\n",
       " ('1900', 0.11304554387675865),\n",
       " ('fossil', 0.11304554387675865),\n",
       " ('boil', 0.11082537614999484),\n",
       " ('vintage', 0.11082537614999484)]"
      ]
     },
     "execution_count": 24,
     "metadata": {},
     "output_type": "execute_result"
    }
   ],
   "source": [
    "doc_vocabulary(example, X_train_all.toarray(), tfidf_model.get_feature_names_out())"
   ]
  },
  {
   "cell_type": "markdown",
   "id": "fb93b276",
   "metadata": {},
   "source": [
    "## Feature selection\n",
    "**Exercize**: explore your ideas for feature selection. See [here](https://scikit-learn.org/stable/modules/feature_selection.html) for some of the most common strategies."
   ]
  },
  {
   "cell_type": "code",
   "execution_count": 17,
   "id": "f8272929",
   "metadata": {},
   "outputs": [],
   "source": [
    "from sklearn.feature_selection import SelectKBest\n",
    "from sklearn.feature_selection import chi2"
   ]
  },
  {
   "cell_type": "code",
   "execution_count": 19,
   "id": "178a8473",
   "metadata": {},
   "outputs": [],
   "source": [
    "selector = SelectKBest(chi2, k=2000) \n",
    "X_train = selector.fit_transform(X_train_all, y_train)\n",
    "X_test = selector.transform(X_test_all)"
   ]
  },
  {
   "cell_type": "code",
   "execution_count": 21,
   "id": "f323f38e",
   "metadata": {},
   "outputs": [
    {
     "data": {
      "text/plain": [
       "array(['x0', 'x13', 'x22', ..., 'x9234', 'x9239', 'x9240'], dtype=object)"
      ]
     },
     "execution_count": 21,
     "metadata": {},
     "output_type": "execute_result"
    }
   ],
   "source": [
    "selector.get_feature_names_out()"
   ]
  },
  {
   "cell_type": "code",
   "execution_count": 20,
   "id": "f0d1cb37",
   "metadata": {},
   "outputs": [
    {
     "data": {
      "text/plain": [
       "(11314, 2000)"
      ]
     },
     "execution_count": 20,
     "metadata": {},
     "output_type": "execute_result"
    }
   ],
   "source": [
    "X_train.shape"
   ]
  },
  {
   "cell_type": "code",
   "execution_count": 28,
   "id": "700caf8d",
   "metadata": {},
   "outputs": [
    {
     "data": {
      "text/plain": [
       "[('water', 0.4684782125400617),\n",
       " ('plant', 0.46539663191139213),\n",
       " ('steam', 0.3170650086216689),\n",
       " ('cooling', 0.20168453480550946),\n",
       " ('run', 0.1091293651262685),\n",
       " ('river', 0.0964439833118951),\n",
       " ('tower', 0.0924913842799305),\n",
       " ('fired', 0.09085915865551461),\n",
       " ('fuel', 0.0872395821245216),\n",
       " ('canadian', 0.08627260284473794)]"
      ]
     },
     "execution_count": 28,
     "metadata": {},
     "output_type": "execute_result"
    }
   ],
   "source": [
    "doc_vocabulary(example, X_train.toarray(), selector.get_feature_names_out(\n",
    "    input_features=tfidf_model.get_feature_names_out()))"
   ]
  },
  {
   "cell_type": "markdown",
   "id": "d0e4be91",
   "metadata": {},
   "source": [
    "## Grid search and parameters setting"
   ]
  },
  {
   "cell_type": "code",
   "execution_count": 29,
   "id": "325a4fc4",
   "metadata": {},
   "outputs": [],
   "source": [
    "from sklearn.model_selection import GridSearchCV"
   ]
  },
  {
   "cell_type": "code",
   "execution_count": 30,
   "id": "7cebc662",
   "metadata": {},
   "outputs": [],
   "source": [
    "from sklearn.neighbors import KNeighborsClassifier"
   ]
  },
  {
   "cell_type": "code",
   "execution_count": 31,
   "id": "a7f37897",
   "metadata": {},
   "outputs": [],
   "source": [
    "parameters = {'n_neighbors': (5, 10)}\n",
    "knn = KNeighborsClassifier()\n",
    "gsearch = GridSearchCV(knn, parameters)"
   ]
  },
  {
   "cell_type": "code",
   "execution_count": 32,
   "id": "ac93fb82",
   "metadata": {},
   "outputs": [
    {
     "data": {
      "text/plain": [
       "GridSearchCV(estimator=KNeighborsClassifier(),\n",
       "             param_grid={'n_neighbors': (5, 10)})"
      ]
     },
     "execution_count": 32,
     "metadata": {},
     "output_type": "execute_result"
    }
   ],
   "source": [
    "gsearch.fit(X_train, y_train)"
   ]
  },
  {
   "cell_type": "code",
   "execution_count": 33,
   "id": "18337733",
   "metadata": {},
   "outputs": [
    {
     "name": "stdout",
     "output_type": "stream",
     "text": [
      "mean_fit_time [0.00279889 0.00234227]\n",
      "std_fit_time [0.00113039 0.00037921]\n",
      "mean_score_time [0.56743727 0.52848558]\n",
      "std_score_time [0.01619567 0.02848239]\n",
      "param_n_neighbors [5 10]\n",
      "params [{'n_neighbors': 5}, {'n_neighbors': 10}]\n",
      "split0_test_score [0.34202386 0.33097658]\n",
      "split1_test_score [0.34821034 0.34688467]\n",
      "split2_test_score [0.38311975 0.36809545]\n",
      "split3_test_score [0.37958462 0.35793195]\n",
      "split4_test_score [0.35057471 0.34394341]\n",
      "mean_test_score [0.36070266 0.34956641]\n",
      "std_test_score [0.0171265  0.01263091]\n",
      "rank_test_score [1 2]\n"
     ]
    }
   ],
   "source": [
    "for k, v in gsearch.cv_results_.items():\n",
    "    print(k, v)"
   ]
  },
  {
   "cell_type": "code",
   "execution_count": 35,
   "id": "f297da7a",
   "metadata": {},
   "outputs": [
    {
     "data": {
      "text/plain": [
       "5"
      ]
     },
     "execution_count": 35,
     "metadata": {},
     "output_type": "execute_result"
    }
   ],
   "source": [
    "gsearch.best_estimator_.n_neighbors"
   ]
  },
  {
   "cell_type": "code",
   "execution_count": 36,
   "id": "58746fc3",
   "metadata": {},
   "outputs": [
    {
     "data": {
      "text/plain": [
       "{'n_neighbors': 5}"
      ]
     },
     "execution_count": 36,
     "metadata": {},
     "output_type": "execute_result"
    }
   ],
   "source": [
    "gsearch.best_params_"
   ]
  },
  {
   "cell_type": "markdown",
   "id": "07c52395",
   "metadata": {},
   "source": [
    "## Classify and perform evaluation"
   ]
  },
  {
   "cell_type": "code",
   "execution_count": 43,
   "id": "aa43c06b",
   "metadata": {},
   "outputs": [],
   "source": [
    "import sklearn.metrics as mt"
   ]
  },
  {
   "cell_type": "code",
   "execution_count": 47,
   "id": "ef59caf5",
   "metadata": {},
   "outputs": [],
   "source": [
    "import matplotlib.pyplot as plt"
   ]
  },
  {
   "cell_type": "code",
   "execution_count": 41,
   "id": "04543ae4",
   "metadata": {},
   "outputs": [
    {
     "data": {
      "text/plain": [
       "KNeighborsClassifier()"
      ]
     },
     "execution_count": 41,
     "metadata": {},
     "output_type": "execute_result"
    }
   ],
   "source": [
    "knn_best = gsearch.best_estimator_"
   ]
  },
  {
   "cell_type": "code",
   "execution_count": 42,
   "id": "de381a42",
   "metadata": {},
   "outputs": [],
   "source": [
    "y_pred = knn_best.predict(X_test)"
   ]
  },
  {
   "cell_type": "code",
   "execution_count": 44,
   "id": "2e65d752",
   "metadata": {},
   "outputs": [
    {
     "name": "stdout",
     "output_type": "stream",
     "text": [
      "              precision    recall  f1-score   support\n",
      "\n",
      "           0       0.16      0.46      0.23       319\n",
      "           1       0.17      0.48      0.25       389\n",
      "           2       0.21      0.39      0.27       394\n",
      "           3       0.33      0.29      0.31       392\n",
      "           4       0.32      0.25      0.28       385\n",
      "           5       0.41      0.29      0.34       395\n",
      "           6       0.37      0.19      0.25       390\n",
      "           7       0.32      0.42      0.37       396\n",
      "           8       0.32      0.42      0.37       398\n",
      "           9       0.30      0.25      0.27       397\n",
      "          10       0.44      0.40      0.42       399\n",
      "          11       0.66      0.18      0.28       396\n",
      "          12       0.31      0.21      0.25       393\n",
      "          13       0.31      0.32      0.32       396\n",
      "          14       0.42      0.34      0.38       394\n",
      "          15       0.49      0.29      0.36       398\n",
      "          16       0.53      0.26      0.34       364\n",
      "          17       0.78      0.34      0.47       376\n",
      "          18       0.43      0.19      0.26       310\n",
      "          19       0.18      0.07      0.10       251\n",
      "\n",
      "    accuracy                           0.31      7532\n",
      "   macro avg       0.37      0.30      0.31      7532\n",
      "weighted avg       0.38      0.31      0.31      7532\n",
      "\n"
     ]
    }
   ],
   "source": [
    "report = mt.classification_report(y_true=y_test, y_pred=y_pred, zero_division=0)\n",
    "print(report)"
   ]
  },
  {
   "cell_type": "code",
   "execution_count": 52,
   "id": "4f78424c",
   "metadata": {},
   "outputs": [],
   "source": [
    "cm = mt.confusion_matrix(y_test, y_pred)\n",
    "cmd = mt.ConfusionMatrixDisplay(confusion_matrix=cm, \n",
    "                                display_labels=test_data.target_names)"
   ]
  },
  {
   "cell_type": "code",
   "execution_count": 58,
   "id": "2036719d",
   "metadata": {},
   "outputs": [
    {
     "data": {
      "image/png": "[encoded data removed]",
      "text/plain": [
       "<Figure size 720x720 with 1 Axes>"
      ]
     },
     "metadata": {
      "needs_background": "light"
     },
     "output_type": "display_data"
    }
   ],
   "source": [
    "fig, ax = plt.subplots(figsize=(10, 10))\n",
    "cmd.plot(ax=ax, values_format='d', cmap='Greens', xticks_rotation='vertical', colorbar=False)\n",
    "plt.tight_layout()\n",
    "plt.show()"
   ]
  },
  {
   "cell_type": "code",
   "execution_count": null,
   "id": "4aeb7156",
   "metadata": {},
   "outputs": [],
   "source": []
  }
 ],
 "metadata": {
  "kernelspec": {
   "display_name": "Python 3 (ipykernel)",
   "language": "python",
   "name": "python3"
  },
  "language_info": {
   "codemirror_mode": {
    "name": "ipython",
    "version": 3
   },
   "file_extension": ".py",
   "mimetype": "text/x-python",
   "name": "python",
   "nbconvert_exporter": "python",
   "pygments_lexer": "ipython3",
   "version": "3.8.8"
  },
  "toc": {
   "base_numbering": 1,
   "nav_menu": {},
   "number_sections": true,
   "sideBar": true,
   "skip_h1_title": false,
   "title_cell": "Table of Contents",
   "title_sidebar": "Contents",
   "toc_cell": false,
   "toc_position": {},
   "toc_section_display": true,
   "toc_window_display": false
  }
 },
 "nbformat": 4,
 "nbformat_minor": 5
}
