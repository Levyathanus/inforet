{
 "cells": [
  {
   "cell_type": "markdown",
   "id": "e1578792",
   "metadata": {},
   "source": [
    "# Naive example of Naive Bayes"
   ]
  },
  {
   "cell_type": "code",
   "execution_count": 1,
   "id": "5b98b1cf",
   "metadata": {},
   "outputs": [],
   "source": [
    "import pandas as pd\n",
    "import numpy as np\n",
    "from tqdm.notebook import tqdm"
   ]
  },
  {
   "cell_type": "code",
   "execution_count": 10,
   "id": "ff6c6ec1",
   "metadata": {},
   "outputs": [],
   "source": [
    "docs = [\n",
    "    (['apple', 'ios', 'mac', 'book'], 'E'),\n",
    "    (['apple', 'mac', 'book', 'apple', 'store'], 'E'),\n",
    "    (['mac', 'book', 'ios', 'store'], 'E'),\n",
    "    (['banana', 'mango', 'fruit'], 'F'),\n",
    "    (['apple', 'fruit'], 'F'),\n",
    "    (['orange', 'strawberry', 'banana'], 'F'),\n",
    "    (['apple', 'orange'], 'F')\n",
    "]"
   ]
  },
  {
   "cell_type": "code",
   "execution_count": 11,
   "id": "0008ca49",
   "metadata": {},
   "outputs": [],
   "source": [
    "from collections import defaultdict"
   ]
  },
  {
   "cell_type": "code",
   "execution_count": 12,
   "id": "980111fe",
   "metadata": {},
   "outputs": [],
   "source": [
    "indexing = defaultdict(lambda: defaultdict(lambda: 0))\n",
    "prior_index = defaultdict(lambda: 0)\n",
    "for doc, class_label in docs:\n",
    "    prior_index[class_label] += 1\n",
    "    for word in doc:\n",
    "        indexing[class_label][word] += 1"
   ]
  },
  {
   "cell_type": "code",
   "execution_count": 13,
   "id": "496614da",
   "metadata": {},
   "outputs": [],
   "source": [
    "prior = lambda c: prior_index[c] / len(docs)"
   ]
  },
  {
   "cell_type": "code",
   "execution_count": 28,
   "id": "b3e033e9",
   "metadata": {},
   "outputs": [],
   "source": [
    "likelihood = lambda w, c: (indexing[c][w] / sum(indexing[c].values())) + 0.0001"
   ]
  },
  {
   "cell_type": "code",
   "execution_count": 29,
   "id": "93ee75b2",
   "metadata": {},
   "outputs": [
    {
     "data": {
      "text/plain": [
       "0.23086923076923077"
      ]
     },
     "execution_count": 29,
     "metadata": {},
     "output_type": "execute_result"
    }
   ],
   "source": [
    "likelihood('apple', 'E')"
   ]
  },
  {
   "cell_type": "code",
   "execution_count": 30,
   "id": "50230faa",
   "metadata": {},
   "outputs": [
    {
     "name": "stdout",
     "output_type": "stream",
     "text": [
      "E 0.002344914200961766\n",
      "F 1.1434285714285714e-09\n"
     ]
    }
   ],
   "source": [
    "example = ['apple', 'ios', 'store']\n",
    "for c in prior_index.keys():\n",
    "    likelihood_scores = [likelihood(w, c) for w in example]\n",
    "    p_c_d = prior(c) * np.product(likelihood_scores)\n",
    "    print(c, p_c_d)"
   ]
  },
  {
   "cell_type": "code",
   "execution_count": null,
   "id": "b1aabe2c",
   "metadata": {},
   "outputs": [],
   "source": []
  }
 ],
 "metadata": {
  "kernelspec": {
   "display_name": "Python 3 (ipykernel)",
   "language": "python",
   "name": "python3"
  },
  "language_info": {
   "codemirror_mode": {
    "name": "ipython",
    "version": 3
   },
   "file_extension": ".py",
   "mimetype": "text/x-python",
   "name": "python",
   "nbconvert_exporter": "python",
   "pygments_lexer": "ipython3",
   "version": "3.8.8"
  },
  "toc": {
   "base_numbering": 1,
   "nav_menu": {},
   "number_sections": true,
   "sideBar": true,
   "skip_h1_title": false,
   "title_cell": "Table of Contents",
   "title_sidebar": "Contents",
   "toc_cell": false,
   "toc_position": {},
   "toc_section_display": true,
   "toc_window_display": false
  }
 },
 "nbformat": 4,
 "nbformat_minor": 5
}
