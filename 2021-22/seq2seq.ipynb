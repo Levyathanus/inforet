{
 "cells": [
  {
   "cell_type": "markdown",
   "id": "ffbf11e1",
   "metadata": {},
   "source": [
    "# Tutorial on sequence to sequence learning\n",
    "Taken from **NLP FROM SCRATCH: TRANSLATION WITH A SEQUENCE TO SEQUENCE NETWORK AND ATTENTION** by *Sean Robertson*, available [here](https://pytorch.org/tutorials/intermediate/seq2seq_translation_tutorial.html)"
   ]
  },
  {
   "cell_type": "markdown",
   "id": "05a5477e",
   "metadata": {},
   "source": [
    "## Topic\n",
    "The tutorial example in on language translation. However, this can be taken as an example for training sequence 2 sequence models implementing the **encoder-decoder** approach.\n",
    "\n",
    "- **encoder**: a network that learns to map a ``sequence`` on a ``vector``\n",
    "- **decoder**: a network that learns to map a ``vector`` on a ``sequence``\n",
    "\n",
    "![](seq2seq.png)"
   ]
  },
  {
   "cell_type": "markdown",
   "id": "96b33888",
   "metadata": {},
   "source": [
    "## Data\n",
    "This example is base on language translation. We get the data from [here](https://www.manythings.org/anki/)"
   ]
  },
  {
   "cell_type": "code",
   "execution_count": 1,
   "id": "cfa1b60d",
   "metadata": {},
   "outputs": [],
   "source": [
    "import pandas as pd\n",
    "import numpy as np\n",
    "from tqdm.notebook import tqdm"
   ]
  },
  {
   "cell_type": "code",
   "execution_count": 2,
   "id": "cdea4005",
   "metadata": {},
   "outputs": [],
   "source": [
    "map_file = '/Users/flint/Data/translation/ita-eng/ita.txt'\n",
    "M = pd.read_csv(map_file, sep='\\t', header=None)[[0,1]]\n",
    "M.columns = [['eng', 'ita']]"
   ]
  },
  {
   "cell_type": "code",
   "execution_count": 3,
   "id": "5aeaa721",
   "metadata": {},
   "outputs": [
    {
     "data": {
      "text/html": [
       "<div>\n",
       "<style scoped>\n",
       "    .dataframe tbody tr th:only-of-type {\n",
       "        vertical-align: middle;\n",
       "    }\n",
       "\n",
       "    .dataframe tbody tr th {\n",
       "        vertical-align: top;\n",
       "    }\n",
       "\n",
       "    .dataframe thead tr th {\n",
       "        text-align: left;\n",
       "    }\n",
       "</style>\n",
       "<table border=\"1\" class=\"dataframe\">\n",
       "  <thead>\n",
       "    <tr>\n",
       "      <th></th>\n",
       "      <th>eng</th>\n",
       "      <th>ita</th>\n",
       "    </tr>\n",
       "  </thead>\n",
       "  <tbody>\n",
       "    <tr>\n",
       "      <th>353276</th>\n",
       "      <td>I know that adding sentences only in your nati...</td>\n",
       "      <td>So che aggiungere frasi soltanto nella sua lin...</td>\n",
       "    </tr>\n",
       "    <tr>\n",
       "      <th>353277</th>\n",
       "      <td>I know that adding sentences only in your nati...</td>\n",
       "      <td>So che aggiungere frasi solamente nella sua li...</td>\n",
       "    </tr>\n",
       "    <tr>\n",
       "      <th>353278</th>\n",
       "      <td>I know that adding sentences only in your nati...</td>\n",
       "      <td>So che aggiungere frasi solamente nella sua li...</td>\n",
       "    </tr>\n",
       "    <tr>\n",
       "      <th>353279</th>\n",
       "      <td>Doubtless there exists in this world precisely...</td>\n",
       "      <td>Senza dubbio esiste in questo mondo proprio la...</td>\n",
       "    </tr>\n",
       "    <tr>\n",
       "      <th>353280</th>\n",
       "      <td>Doubtless there exists in this world precisely...</td>\n",
       "      <td>Senza dubbio esiste in questo mondo proprio la...</td>\n",
       "    </tr>\n",
       "  </tbody>\n",
       "</table>\n",
       "</div>"
      ],
      "text/plain": [
       "                                                      eng  \\\n",
       "353276  I know that adding sentences only in your nati...   \n",
       "353277  I know that adding sentences only in your nati...   \n",
       "353278  I know that adding sentences only in your nati...   \n",
       "353279  Doubtless there exists in this world precisely...   \n",
       "353280  Doubtless there exists in this world precisely...   \n",
       "\n",
       "                                                      ita  \n",
       "353276  So che aggiungere frasi soltanto nella sua lin...  \n",
       "353277  So che aggiungere frasi solamente nella sua li...  \n",
       "353278  So che aggiungere frasi solamente nella sua li...  \n",
       "353279  Senza dubbio esiste in questo mondo proprio la...  \n",
       "353280  Senza dubbio esiste in questo mondo proprio la...  "
      ]
     },
     "execution_count": 3,
     "metadata": {},
     "output_type": "execute_result"
    }
   ],
   "source": [
    "M.tail()"
   ]
  },
  {
   "cell_type": "markdown",
   "id": "0a69cf10",
   "metadata": {},
   "source": [
    "### Vectorize text using one-hot encoding"
   ]
  },
  {
   "cell_type": "code",
   "execution_count": 4,
   "id": "e0ae84c7",
   "metadata": {},
   "outputs": [],
   "source": [
    "from nltk import word_tokenize"
   ]
  },
  {
   "cell_type": "code",
   "execution_count": 5,
   "id": "7a5093fd",
   "metadata": {},
   "outputs": [],
   "source": [
    "SOS_token = 0\n",
    "EOS_token = 1\n",
    "\n",
    "\n",
    "class Dictionary:\n",
    "    def __init__(self, name):\n",
    "        self.name = name\n",
    "        self.word2index = {}\n",
    "        self.word2count = {}\n",
    "        self.index2word = {SOS_token: \"SOS\", SOS_token: \"EOS\"}\n",
    "        self.n_words = 2  # Count SOS and EOS\n",
    "\n",
    "    def add_sentence(self, sentence):\n",
    "        for word in word_tokenize(sentence):\n",
    "            self.add_word(word)\n",
    "\n",
    "    def add_word(self, word):\n",
    "        if word not in self.word2index:\n",
    "            self.word2index[word] = self.n_words\n",
    "            self.word2count[word] = 1\n",
    "            self.index2word[self.n_words] = word\n",
    "            self.n_words += 1\n",
    "        else:\n",
    "            self.word2count[word] += 1"
   ]
  },
  {
   "cell_type": "markdown",
   "id": "7cc916dd",
   "metadata": {},
   "source": [
    "## Over simplify data to have a simple example\n",
    "We keep only small sentences starting with specific prefixes (and in the original [tutorial](https://pytorch.org/tutorials/intermediate/seq2seq_translation_tutorial.html))"
   ]
  },
  {
   "cell_type": "code",
   "execution_count": 6,
   "id": "d42bf889",
   "metadata": {},
   "outputs": [],
   "source": [
    "MAX_LEN = 10\n",
    "prefixes = (\"i am \", \"i m \",\n",
    "    \"he is\", \"he s \",\n",
    "    \"she is\", \"she s \",\n",
    "    \"you are\", \"you re \",\n",
    "    \"we are\", \"we re \",\n",
    "    \"they are\", \"they re \")"
   ]
  },
  {
   "cell_type": "code",
   "execution_count": 7,
   "id": "1eb21bb0",
   "metadata": {},
   "outputs": [],
   "source": [
    "ENG = Dictionary('english')\n",
    "ITA = Dictionary('italian')\n",
    "pairs = []\n",
    "\n",
    "for v in M.itertuples():\n",
    "    e, i = v[1].lower(), v[2].lower()\n",
    "    if len(word_tokenize(e)) < MAX_LEN and e.startswith(prefixes):\n",
    "        ENG.add_sentence(e)\n",
    "        ITA.add_sentence(i)\n",
    "        pairs.append((e, i))\n",
    "    else:\n",
    "        pass"
   ]
  },
  {
   "cell_type": "code",
   "execution_count": 8,
   "id": "0f0e93c2",
   "metadata": {},
   "outputs": [
    {
     "data": {
      "text/plain": [
       "5129"
      ]
     },
     "execution_count": 8,
     "metadata": {},
     "output_type": "execute_result"
    }
   ],
   "source": [
    "len(pairs)"
   ]
  },
  {
   "cell_type": "code",
   "execution_count": 10,
   "id": "19e53981",
   "metadata": {},
   "outputs": [
    {
     "data": {
      "text/plain": [
       "('i am a cook.', 'sono una cuoca.')"
      ]
     },
     "execution_count": 10,
     "metadata": {},
     "output_type": "execute_result"
    }
   ],
   "source": [
    "pairs[100]"
   ]
  },
  {
   "cell_type": "markdown",
   "id": "a9049f3a",
   "metadata": {},
   "source": [
    "## Encoder and decoder"
   ]
  },
  {
   "cell_type": "code",
   "execution_count": 11,
   "id": "de0523b3",
   "metadata": {},
   "outputs": [],
   "source": [
    "import torch\n",
    "import torch.nn as nn\n",
    "from torch import optim\n",
    "import torch.nn.functional as F\n",
    "\n",
    "device = torch.device(\"cuda\" if torch.cuda.is_available() else \"cpu\")"
   ]
  },
  {
   "cell_type": "markdown",
   "id": "ad1df9e6",
   "metadata": {},
   "source": [
    "### Encoder\n",
    "The encoder is a RNN (GRU or LSTM) that outputs some value for every word from the input sentence. For every input word the encoder outputs a vector and a hidden state, and uses the hidden state for the next input word.\n",
    "![](encoder-network.png)"
   ]
  },
  {
   "cell_type": "code",
   "execution_count": 24,
   "id": "bd05416a",
   "metadata": {},
   "outputs": [],
   "source": [
    "class EncoderRNN(nn.Module):\n",
    "    def __init__(self, input_size, hidden_size):\n",
    "        super(EncoderRNN, self).__init__()\n",
    "        self.hidden_size = hidden_size\n",
    "\n",
    "        self.embedding = nn.Embedding(input_size, hidden_size)\n",
    "        self.gru = nn.GRU(hidden_size, hidden_size)\n",
    "\n",
    "    def forward(self, input, hidden):\n",
    "        embedded = self.embedding(input).view(1, 1, -1)\n",
    "        output = embedded\n",
    "        output, hidden = self.gru(output, hidden)\n",
    "        return output, hidden\n",
    "\n",
    "    def initHidden(self):\n",
    "        return torch.zeros(1, 1, self.hidden_size, device=device)"
   ]
  },
  {
   "cell_type": "markdown",
   "id": "d015a973",
   "metadata": {},
   "source": [
    "### Decoder\n",
    "In the simplest seq2seq decoder we use only last output of the encoder. This last output is sometimes called the context vector as it encodes context from the entire sequence. This context vector is used as the initial hidden state of the decoder.\n",
    "\n",
    "At every step of decoding, the decoder is given an input token and hidden state. The initial input token is the start-of-string `<SOS>` token, and the first hidden state is the context vector (the encoder's last hidden state).\n",
    "\n",
    "![](decoder-network.png)"
   ]
  },
  {
   "cell_type": "code",
   "execution_count": 12,
   "id": "57c079d5",
   "metadata": {},
   "outputs": [],
   "source": [
    "class DecoderRNN(nn.Module):\n",
    "    def __init__(self, hidden_size, output_size):\n",
    "        super(DecoderRNN, self).__init__()\n",
    "        self.hidden_size = hidden_size\n",
    "\n",
    "        self.embedding = nn.Embedding(output_size, hidden_size)\n",
    "        self.gru = nn.GRU(hidden_size, hidden_size)\n",
    "        self.out = nn.Linear(hidden_size, output_size)\n",
    "        self.softmax = nn.LogSoftmax(dim=1)\n",
    "\n",
    "    def forward(self, input, hidden):\n",
    "        output = self.embedding(input).view(1, 1, -1)\n",
    "        output = F.relu(output)\n",
    "        output, hidden = self.gru(output, hidden)\n",
    "        output = self.softmax(self.out(output[0]))\n",
    "        return output, hidden\n",
    "\n",
    "    def initHidden(self):\n",
    "        return torch.zeros(1, 1, self.hidden_size, device=device)"
   ]
  },
  {
   "cell_type": "markdown",
   "id": "68cb05cf",
   "metadata": {},
   "source": [
    "## Training"
   ]
  },
  {
   "cell_type": "code",
   "execution_count": 13,
   "id": "40a014aa",
   "metadata": {},
   "outputs": [],
   "source": [
    "def indexes_from_sentence(lang, sentence):\n",
    "    return [lang.word2index[word] for word in word_tokenize(sentence)]\n",
    "\n",
    "def tensor_from_sentence(lang, sentence):\n",
    "    indexes = indexes_from_sentence(lang, sentence)\n",
    "    indexes.append(EOS_token)\n",
    "    return torch.tensor(\n",
    "        indexes, dtype=torch.long, device=device).view(-1, 1)\n",
    "\n",
    "def tensors_from_pair(pair, input_lang, output_lang):\n",
    "    input_tensor = tensor_from_sentence(input_lang, pair[0])\n",
    "    target_tensor = tensor_from_sentence(output_lang, pair[1])\n",
    "    return (input_tensor, target_tensor)"
   ]
  },
  {
   "cell_type": "code",
   "execution_count": 15,
   "id": "3bbb5a0e",
   "metadata": {},
   "outputs": [
    {
     "name": "stdout",
     "output_type": "stream",
     "text": [
      "i am tom.\n",
      "['i', 'am', 'tom', '.']\n",
      "[2, 3, 4, 5]\n"
     ]
    },
    {
     "data": {
      "text/plain": [
       "[2, 3, 4, 5]"
      ]
     },
     "execution_count": 15,
     "metadata": {},
     "output_type": "execute_result"
    }
   ],
   "source": [
    "print(pairs[0][0])\n",
    "print(word_tokenize(pairs[0][0]))\n",
    "print([ENG.word2index[x] for x in word_tokenize(pairs[0][0])])\n",
    "indexes_from_sentence(ENG, pairs[0][0])"
   ]
  },
  {
   "cell_type": "code",
   "execution_count": 16,
   "id": "9b8ae765",
   "metadata": {},
   "outputs": [
    {
     "data": {
      "text/plain": [
       "tensor([[2],\n",
       "        [3],\n",
       "        [4],\n",
       "        [5],\n",
       "        [1]])"
      ]
     },
     "execution_count": 16,
     "metadata": {},
     "output_type": "execute_result"
    }
   ],
   "source": [
    "\n",
    "tensor_from_sentence(ENG, pairs[0][0])"
   ]
  },
  {
   "cell_type": "code",
   "execution_count": 18,
   "id": "67106ed7",
   "metadata": {},
   "outputs": [
    {
     "name": "stdout",
     "output_type": "stream",
     "text": [
      "('i am tom.', 'sono tom.')\n"
     ]
    },
    {
     "data": {
      "text/plain": [
       "(tensor([[2],\n",
       "         [3],\n",
       "         [4],\n",
       "         [5],\n",
       "         [1]]),\n",
       " tensor([[2],\n",
       "         [3],\n",
       "         [4],\n",
       "         [1]]))"
      ]
     },
     "execution_count": 18,
     "metadata": {},
     "output_type": "execute_result"
    }
   ],
   "source": [
    "print(pairs[0])\n",
    "tensors_from_pair(pairs[0], ENG, ITA)"
   ]
  },
  {
   "cell_type": "markdown",
   "id": "be919682",
   "metadata": {},
   "source": [
    "### Training procedure\n",
    "\n",
    "To train we run the input sentence through the encoder, and keep track of every output and the latest hidden state. Then the decoder is given the `<SOS>` token as its first input, and the last hidden state of the encoder as its first hidden state.\n",
    "\n",
    "*Teacher forcing* is the concept of using the real target outputs as each next input, instead of using the decoder’s guess as the next input. Using teacher forcing causes it to converge faster but when the trained network is exploited, it may exhibit instability.\n",
    "\n",
    "You can observe outputs of teacher-forced networks that read with coherent grammar but wander far from the correct translation - intuitively it has learned to represent the output grammar and can “pick up” the meaning once the teacher tells it the first few words, but it has not properly learned how to create the sentence from the translation in the first place.\n",
    "\n",
    "Because of the freedom PyTorch’s autograd gives us, we can randomly choose to use teacher forcing or not with a simple if statement. Turn teacher_forcing_ratio up to use more of it."
   ]
  },
  {
   "cell_type": "code",
   "execution_count": 19,
   "id": "110d6079",
   "metadata": {},
   "outputs": [],
   "source": [
    "import random"
   ]
  },
  {
   "cell_type": "code",
   "execution_count": 20,
   "id": "27000a31",
   "metadata": {},
   "outputs": [],
   "source": [
    "teacher_forcing_ratio = 0.5\n",
    "\n",
    "\n",
    "def train(input_tensor, target_tensor, \n",
    "          encoder, decoder, \n",
    "          encoder_optimizer, decoder_optimizer, \n",
    "          criterion, max_length=MAX_LEN):\n",
    "    \n",
    "    encoder_hidden = encoder.initHidden()\n",
    "\n",
    "    encoder_optimizer.zero_grad()\n",
    "    decoder_optimizer.zero_grad()\n",
    "\n",
    "    input_length = input_tensor.size(0)\n",
    "    target_length = target_tensor.size(0)\n",
    "\n",
    "    encoder_outputs = torch.zeros(\n",
    "        max_length, encoder.hidden_size, device=device)\n",
    "\n",
    "    loss = 0\n",
    "\n",
    "    for ei in range(input_length):\n",
    "        encoder_output, encoder_hidden = encoder(\n",
    "            input_tensor[ei], encoder_hidden)\n",
    "        encoder_outputs[ei] = encoder_output[0, 0]\n",
    "\n",
    "    decoder_input = torch.tensor([[SOS_token]], device=device)\n",
    "\n",
    "    decoder_hidden = encoder_hidden\n",
    "\n",
    "    use_teacher_forcing = True if random.random() < teacher_forcing_ratio else False\n",
    "\n",
    "    if use_teacher_forcing:\n",
    "        # Teacher forcing: Feed the target as the next input\n",
    "        for di in range(target_length):\n",
    "            decoder_output, decoder_hidden = decoder(\n",
    "                decoder_input, decoder_hidden)\n",
    "            loss += criterion(decoder_output, target_tensor[di])\n",
    "            decoder_input = target_tensor[di]  # Teacher forcing\n",
    "\n",
    "    else:\n",
    "        # Without teacher forcing: use its own predictions as the next input\n",
    "        for di in range(target_length):\n",
    "            decoder_output, decoder_hidden = decoder(\n",
    "                decoder_input, decoder_hidden)\n",
    "            topv, topi = decoder_output.topk(1)\n",
    "            decoder_input = topi.squeeze().detach()  # detach from history as input\n",
    "\n",
    "            loss += criterion(decoder_output, target_tensor[di])\n",
    "            if decoder_input.item() == EOS_token:\n",
    "                break\n",
    "\n",
    "    loss.backward()\n",
    "\n",
    "    encoder_optimizer.step()\n",
    "    decoder_optimizer.step()\n",
    "\n",
    "    return loss.item() / target_length"
   ]
  },
  {
   "cell_type": "markdown",
   "id": "eca4bf8f",
   "metadata": {},
   "source": [
    "### Training procedure"
   ]
  },
  {
   "cell_type": "code",
   "execution_count": 21,
   "id": "e9829d2a",
   "metadata": {},
   "outputs": [],
   "source": [
    "import time\n",
    "import random"
   ]
  },
  {
   "cell_type": "code",
   "execution_count": 22,
   "id": "5f044791",
   "metadata": {},
   "outputs": [],
   "source": [
    "def train_iters(encoder, decoder, input_lang, output_lang,\n",
    "                n_iters, print_every=1000, \n",
    "                plot_every=100, learning_rate=0.01):\n",
    "    start = time.time()\n",
    "    plot_losses = []\n",
    "    print_loss_total = 0  # Reset every print_every\n",
    "    plot_loss_total = 0  # Reset every plot_every\n",
    "\n",
    "    encoder_optimizer = optim.SGD(\n",
    "        encoder.parameters(), lr=learning_rate)\n",
    "    decoder_optimizer = optim.SGD(\n",
    "        decoder.parameters(), lr=learning_rate)\n",
    "    training_pairs = [tensors_from_pair(\n",
    "        random.choice(pairs), input_lang, output_lang)\n",
    "                      for i in range(n_iters)]\n",
    "    criterion = nn.NLLLoss()\n",
    "    \n",
    "    run = tqdm(list(range(1, n_iters + 1)))\n",
    "\n",
    "    for iter in run:\n",
    "        training_pair = training_pairs[iter - 1]\n",
    "        input_tensor = training_pair[0]\n",
    "        target_tensor = training_pair[1]\n",
    "\n",
    "        loss = train(input_tensor, target_tensor, \n",
    "                     encoder, decoder, \n",
    "                     encoder_optimizer, decoder_optimizer, \n",
    "                     criterion)\n",
    "        print_loss_total += loss\n",
    "        plot_loss_total += loss\n",
    "\n",
    "        if iter % plot_every == 0:\n",
    "            plot_loss_avg = plot_loss_total / plot_every\n",
    "            plot_losses.append(plot_loss_avg)\n",
    "            plot_loss_total = 0\n",
    "    return plot_losses"
   ]
  },
  {
   "cell_type": "code",
   "execution_count": 25,
   "id": "45347f27",
   "metadata": {},
   "outputs": [
    {
     "data": {
      "application/vnd.jupyter.widget-view+json": {
       "model_id": "947c920825e04cf886367c1d988db2a5",
       "version_major": 2,
       "version_minor": 0
      },
      "text/plain": [
       "  0%|          | 0/1000 [00:00<?, ?it/s]"
      ]
     },
     "metadata": {},
     "output_type": "display_data"
    }
   ],
   "source": [
    "hidden_size = 256\n",
    "encoder1 = EncoderRNN(ENG.n_words, hidden_size).to(device)\n",
    "decoder1 = DecoderRNN(hidden_size, ITA.n_words).to(device)\n",
    "\n",
    "plot_losses = train_iters(encoder1, decoder1, ENG, ITA, 1000)"
   ]
  },
  {
   "cell_type": "markdown",
   "id": "cf89cd07",
   "metadata": {},
   "source": [
    "## Usage"
   ]
  },
  {
   "cell_type": "code",
   "execution_count": 26,
   "id": "656b8081",
   "metadata": {},
   "outputs": [],
   "source": [
    "def evaluate(encoder, decoder, input_lang, output_lang, \n",
    "             sentence, max_length=MAX_LEN):\n",
    "    with torch.no_grad():\n",
    "        input_tensor = tensor_from_sentence(input_lang, sentence)\n",
    "        input_length = input_tensor.size()[0]\n",
    "        encoder_hidden = encoder.initHidden()\n",
    "\n",
    "        encoder_outputs = torch.zeros(\n",
    "            max_length, encoder.hidden_size, device=device)\n",
    "\n",
    "        for ei in range(input_length):\n",
    "            encoder_output, encoder_hidden = encoder(\n",
    "                input_tensor[ei], encoder_hidden)\n",
    "            encoder_outputs[ei] += encoder_output[0, 0]\n",
    "\n",
    "        decoder_input = torch.tensor(\n",
    "            [[SOS_token]], device=device)  # SOS\n",
    "\n",
    "        decoder_hidden = encoder_hidden\n",
    "\n",
    "        decoded_words = []\n",
    "\n",
    "        for di in range(max_length):\n",
    "            decoder_output, decoder_hidden = decoder(\n",
    "                decoder_input, decoder_hidden)\n",
    "            topv, topi = decoder_output.data.topk(1)\n",
    "            if topi.item() == EOS_token:\n",
    "                decoded_words.append('<EOS>')\n",
    "                break\n",
    "            else:\n",
    "                decoded_words.append(\n",
    "                    output_lang.index2word[topi.item()])\n",
    "            decoder_input = topi.squeeze().detach()\n",
    "\n",
    "        return decoded_words"
   ]
  },
  {
   "cell_type": "code",
   "execution_count": 27,
   "id": "0092bd17",
   "metadata": {},
   "outputs": [
    {
     "name": "stdout",
     "output_type": "stream",
     "text": [
      "i am very interested in french.\n",
      "correct:\t io sono molto interessato al francese.\n",
      "predicted:\t sono sono una . <EOS>\n",
      "\n",
      "she is already married.\n",
      "correct:\t è già sposata.\n",
      "predicted:\t non è è . . <EOS>\n",
      "\n",
      "you are very brave.\n",
      "correct:\t è molto coraggiosa.\n",
      "predicted:\t non sono sono . <EOS>\n",
      "\n",
      "i am a teacher, too.\n",
      "correct:\t anche io sono un professore.\n",
      "predicted:\t sono sono una . <EOS>\n",
      "\n",
      "he is old enough to travel alone.\n",
      "correct:\t lui è abbastanza grande per viaggiare da solo.\n",
      "predicted:\t sono sono una . <EOS>\n",
      "\n",
      "they are content with things as they are.\n",
      "correct:\t loro sono contente delle cose così come sono.\n",
      "predicted:\t non sono sono . <EOS>\n",
      "\n",
      "you are the backing group.\n",
      "correct:\t siete il gruppo di spalla.\n",
      "predicted:\t sono sono una . <EOS>\n",
      "\n",
      "he is good for nothing.\n",
      "correct:\t lui è buono a nulla.\n",
      "predicted:\t non è è . . <EOS>\n",
      "\n",
      "she is someone you can trust.\n",
      "correct:\t lei è una persona di cui ci si può fidare.\n",
      "predicted:\t non sono è . <EOS>\n",
      "\n",
      "you aren't very smart.\n",
      "correct:\t non siete molto intelligenti.\n",
      "predicted:\t non sono sono . <EOS>\n",
      "\n"
     ]
    }
   ],
   "source": [
    "for i in np.random.choice(range(len(pairs)), size=(10), replace=False):\n",
    "    eng, ita = pairs[i]\n",
    "    print(eng)\n",
    "    print('correct:\\t', ita)\n",
    "    output_words = evaluate(encoder1, decoder1, ENG, ITA, eng)\n",
    "    output_sentence = ' '.join(output_words)\n",
    "    print('predicted:\\t', output_sentence)\n",
    "    print()"
   ]
  },
  {
   "cell_type": "code",
   "execution_count": null,
   "id": "24bcda02",
   "metadata": {},
   "outputs": [],
   "source": []
  }
 ],
 "metadata": {
  "kernelspec": {
   "display_name": "Python 3 (ipykernel)",
   "language": "python",
   "name": "python3"
  },
  "language_info": {
   "codemirror_mode": {
    "name": "ipython",
    "version": 3
   },
   "file_extension": ".py",
   "mimetype": "text/x-python",
   "name": "python",
   "nbconvert_exporter": "python",
   "pygments_lexer": "ipython3",
   "version": "3.8.8"
  },
  "toc": {
   "base_numbering": 1,
   "nav_menu": {},
   "number_sections": true,
   "sideBar": true,
   "skip_h1_title": false,
   "title_cell": "Table of Contents",
   "title_sidebar": "Contents",
   "toc_cell": false,
   "toc_position": {},
   "toc_section_display": true,
   "toc_window_display": false
  }
 },
 "nbformat": 4,
 "nbformat_minor": 5
}
