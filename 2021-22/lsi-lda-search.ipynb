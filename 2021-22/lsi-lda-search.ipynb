{
 "cells": [
  {
   "cell_type": "markdown",
   "id": "a7804892",
   "metadata": {},
   "source": [
    "# LSI and LDA for search"
   ]
  },
  {
   "cell_type": "markdown",
   "id": "dc87c351",
   "metadata": {},
   "source": [
    "## The standard IR system as baseline"
   ]
  },
  {
   "cell_type": "code",
   "execution_count": 1,
   "id": "215ebb8a",
   "metadata": {},
   "outputs": [],
   "source": [
    "import pandas as pd\n",
    "import numpy as np\n",
    "from tqdm.notebook import tqdm"
   ]
  },
  {
   "cell_type": "code",
   "execution_count": 2,
   "id": "c1099747",
   "metadata": {},
   "outputs": [],
   "source": [
    "import pymongo\n",
    "from twitter import TwitterDataset, ENTITY, DOMAIN\n",
    "from nltk.tokenize import TweetTokenizer\n",
    "from nltk.corpus import stopwords\n",
    "from string import punctuation"
   ]
  },
  {
   "cell_type": "code",
   "execution_count": 3,
   "id": "b4344557",
   "metadata": {},
   "outputs": [],
   "source": [
    "db = pymongo.MongoClient()['twitter']['tweets']\n",
    "tdata = TwitterDataset(db)"
   ]
  },
  {
   "cell_type": "code",
   "execution_count": 4,
   "id": "e607dfa8",
   "metadata": {},
   "outputs": [],
   "source": [
    "estats = tdata.entity_queries_stats\n",
    "dstats = tdata.domain_queries_stats"
   ]
  },
  {
   "cell_type": "code",
   "execution_count": 7,
   "id": "fdfd1432",
   "metadata": {},
   "outputs": [],
   "source": [
    "stopw = set(stopwords.words('english'))\n",
    "tokenizer = TweetTokenizer()\n",
    "tokenize = lambda text: [word for word in tokenizer.tokenize(text.lower()) \n",
    "                         if word not in punctuation and word not in stopw and not word.startswith('http')] "
   ]
  },
  {
   "cell_type": "markdown",
   "id": "ff603799",
   "metadata": {},
   "source": [
    "### Naive search engine"
   ]
  },
  {
   "cell_type": "code",
   "execution_count": 8,
   "id": "37eed332",
   "metadata": {},
   "outputs": [],
   "source": [
    "from search import TfIdfSearchEngine"
   ]
  },
  {
   "cell_type": "code",
   "execution_count": 9,
   "id": "11940ffd",
   "metadata": {},
   "outputs": [],
   "source": [
    "E = TfIdfSearchEngine(tdata.search_base, tokenize)"
   ]
  },
  {
   "cell_type": "code",
   "execution_count": 201,
   "id": "7693d194",
   "metadata": {},
   "outputs": [],
   "source": [
    "query = 'Christmas'\n",
    "query_text = 'Christmas'\n",
    "ground_truth = tdata.ground_truth(query, query_type=ENTITY)\n",
    "ranking = E.search(query_text)"
   ]
  },
  {
   "cell_type": "code",
   "execution_count": 202,
   "id": "7feda041",
   "metadata": {},
   "outputs": [],
   "source": [
    "tp, fp, fn, tn = TfIdfSearchEngine.feedback(ranking, \n",
    "                                            ground_truth, top_k=4500)"
   ]
  },
  {
   "cell_type": "code",
   "execution_count": 203,
   "id": "6bacf1ca",
   "metadata": {},
   "outputs": [
    {
     "name": "stdout",
     "output_type": "stream",
     "text": [
      "401 4099 73 17777\n",
      "precision 0.08911111111111111\n",
      "recall 0.8459915611814346\n"
     ]
    }
   ],
   "source": [
    "print(len(tp), len(fp), len(fn), len(tn))\n",
    "print('precision', len(tp) / (len(tp) + len(fp)))\n",
    "print('recall', len(tp) / (len(tp) + len(fn)))"
   ]
  },
  {
   "cell_type": "code",
   "execution_count": 204,
   "id": "4f9b9197",
   "metadata": {},
   "outputs": [],
   "source": [
    "ranking_map = dict([(tweet_id, score) for _, tweet_id, score in ranking])\n",
    "document_ids = [x for x, y in tdata.search_base]\n",
    "y_true = [1 if x in ground_truth else 0 for x in document_ids]\n",
    "scores = [ranking_map[x] if x in ranking_map.keys() else 0 for x in document_ids]\n",
    "y_pred = [1 if ranking_map[x] > 0 else 0 for x in document_ids]"
   ]
  },
  {
   "cell_type": "markdown",
   "id": "04ae828c",
   "metadata": {},
   "source": [
    "## Evaluate"
   ]
  },
  {
   "cell_type": "code",
   "execution_count": 205,
   "id": "56ef2d34",
   "metadata": {},
   "outputs": [],
   "source": [
    "import matplotlib.pyplot as plt"
   ]
  },
  {
   "cell_type": "code",
   "execution_count": 206,
   "id": "87d44057",
   "metadata": {},
   "outputs": [],
   "source": [
    "import sklearn.metrics as mt"
   ]
  },
  {
   "cell_type": "code",
   "execution_count": 207,
   "id": "1c3bfeac",
   "metadata": {},
   "outputs": [],
   "source": [
    "precision, recall, thresholds = mt.precision_recall_curve(y_true, scores)\n",
    "intp = [max(precision[:i+1]) for i in range(len(precision))]"
   ]
  },
  {
   "cell_type": "code",
   "execution_count": 208,
   "id": "6bc48f79",
   "metadata": {},
   "outputs": [],
   "source": [
    "cm = mt.confusion_matrix(y_true, y_pred)\n",
    "cmd = mt.ConfusionMatrixDisplay(confusion_matrix=cm)"
   ]
  },
  {
   "cell_type": "code",
   "execution_count": 209,
   "id": "3fc73be5",
   "metadata": {},
   "outputs": [
    {
     "data": {
      "image/png": "[encoded data removed]",
      "text/plain": [
       "<Figure size 864x432 with 3 Axes>"
      ]
     },
     "metadata": {
      "needs_background": "light"
     },
     "output_type": "display_data"
    }
   ],
   "source": [
    "fig, ax = plt.subplots(figsize=(12, 6), ncols=2)\n",
    "ax[0].plot(recall, intp, label='tfidf')\n",
    "cmd.plot(ax=ax[1], values_format='d')\n",
    "ax[0].legend()\n",
    "plt.tight_layout()\n",
    "plt.show()"
   ]
  },
  {
   "cell_type": "markdown",
   "id": "b1455912",
   "metadata": {},
   "source": [
    "## Prepare for gensim"
   ]
  },
  {
   "cell_type": "code",
   "execution_count": 210,
   "id": "25b562b0",
   "metadata": {},
   "outputs": [],
   "source": [
    "from gensim.corpora.textcorpus import TextCorpus\n",
    "from gensim.corpora import Dictionary"
   ]
  },
  {
   "cell_type": "code",
   "execution_count": 211,
   "id": "292b0147",
   "metadata": {},
   "outputs": [],
   "source": [
    "class TweetsCorpus(object):\n",
    "    def __init__(self, documents):\n",
    "        self.documents = documents\n",
    "    def get_texts(self):\n",
    "        for doc in self.documents:\n",
    "            yield [word for word in tokenize(doc)]\n",
    "    def __len__(self):\n",
    "        return sum(1 for _ in self.get_texts())"
   ]
  },
  {
   "cell_type": "code",
   "execution_count": 212,
   "id": "50690bba",
   "metadata": {},
   "outputs": [],
   "source": [
    "tweets_corpus = TweetsCorpus([y for x, y in tdata.search_base])"
   ]
  },
  {
   "cell_type": "code",
   "execution_count": 213,
   "id": "8a7fb205",
   "metadata": {},
   "outputs": [],
   "source": [
    "dictionary = Dictionary(tweets_corpus.get_texts())\n",
    "corpus = [dictionary.doc2bow(text) for text in tweets_corpus.get_texts()]"
   ]
  },
  {
   "cell_type": "markdown",
   "id": "caf2deda",
   "metadata": {},
   "source": [
    "## LSI"
   ]
  },
  {
   "cell_type": "code",
   "execution_count": 214,
   "id": "8fcd7677",
   "metadata": {},
   "outputs": [],
   "source": [
    "from gensim.models import LsiModel"
   ]
  },
  {
   "cell_type": "code",
   "execution_count": 215,
   "id": "2165d0f8",
   "metadata": {},
   "outputs": [],
   "source": [
    "model = LsiModel(corpus, id2word=dictionary, num_topics=dstats.shape[0])"
   ]
  },
  {
   "cell_type": "code",
   "execution_count": 216,
   "id": "35ff9f2a",
   "metadata": {},
   "outputs": [],
   "source": [
    "vectorized_corpus = model[corpus]"
   ]
  },
  {
   "cell_type": "code",
   "execution_count": 217,
   "id": "68cbd71e",
   "metadata": {},
   "outputs": [
    {
     "name": "stdout",
     "output_type": "stream",
     "text": [
      "53\n",
      "[(0, 0.18828636845352342), (1, 0.3542253523649559)]\n"
     ]
    }
   ],
   "source": [
    "print(len(vectorized_corpus[0]))\n",
    "print(vectorized_corpus[0][:2])"
   ]
  },
  {
   "cell_type": "markdown",
   "id": "7c8c530b",
   "metadata": {},
   "source": [
    "### Query to vector"
   ]
  },
  {
   "cell_type": "code",
   "execution_count": 218,
   "id": "f8520877",
   "metadata": {},
   "outputs": [],
   "source": [
    "q_vector = model[dictionary.doc2bow(tokenize(query_text))]"
   ]
  },
  {
   "cell_type": "code",
   "execution_count": 219,
   "id": "59a1f0ba",
   "metadata": {},
   "outputs": [
    {
     "data": {
      "text/plain": [
       "[(0, 0.04362150986412014), (1, 0.11279840441864698)]"
      ]
     },
     "execution_count": 219,
     "metadata": {},
     "output_type": "execute_result"
    }
   ],
   "source": [
    "q_vector[:2]"
   ]
  },
  {
   "cell_type": "code",
   "execution_count": 220,
   "id": "c8d70f9a",
   "metadata": {},
   "outputs": [],
   "source": [
    "LSI = np.zeros((len(vectorized_corpus), model.num_topics))\n",
    "for i, vector in enumerate(vectorized_corpus):\n",
    "    for topic_id, score in vector:\n",
    "        LSI[i, topic_id] = score"
   ]
  },
  {
   "cell_type": "code",
   "execution_count": 221,
   "id": "3f044d60",
   "metadata": {},
   "outputs": [],
   "source": [
    "Q = np.array([y for x, y in q_vector]).reshape(1, -1)"
   ]
  },
  {
   "cell_type": "markdown",
   "id": "e3f1c365",
   "metadata": {},
   "source": [
    "### Match"
   ]
  },
  {
   "cell_type": "code",
   "execution_count": 222,
   "id": "d38b84b4",
   "metadata": {},
   "outputs": [],
   "source": [
    "from sklearn.metrics.pairwise import cosine_similarity"
   ]
  },
  {
   "cell_type": "code",
   "execution_count": 223,
   "id": "400e54a9",
   "metadata": {},
   "outputs": [],
   "source": [
    "S = cosine_similarity(Q, LSI)"
   ]
  },
  {
   "cell_type": "code",
   "execution_count": 224,
   "id": "3b29ff19",
   "metadata": {},
   "outputs": [],
   "source": [
    "lsi_scores = S[0]\n",
    "lsi_pred = [1 if x > 0 else 0 for x in lsi_scores]"
   ]
  },
  {
   "cell_type": "code",
   "execution_count": 225,
   "id": "6ce8af22",
   "metadata": {},
   "outputs": [],
   "source": [
    "lsi_precision, lsi_recall, lsi_thresholds = mt.precision_recall_curve(y_true, lsi_scores)\n",
    "lsi_intp = [max(lsi_precision[:i+1]) for i in range(len(lsi_precision))]"
   ]
  },
  {
   "cell_type": "code",
   "execution_count": 226,
   "id": "c339bdf1",
   "metadata": {},
   "outputs": [],
   "source": [
    "lsi_cm = mt.confusion_matrix(y_true, lsi_pred)\n",
    "lsi_cmd = mt.ConfusionMatrixDisplay(confusion_matrix=lsi_cm)"
   ]
  },
  {
   "cell_type": "code",
   "execution_count": 227,
   "id": "cbc9dea8",
   "metadata": {},
   "outputs": [
    {
     "data": {
      "image/png": "[encoded data removed]",
      "text/plain": [
       "<Figure size 864x288 with 5 Axes>"
      ]
     },
     "metadata": {
      "needs_background": "light"
     },
     "output_type": "display_data"
    }
   ],
   "source": [
    "fig, ax = plt.subplots(figsize=(12, 4), ncols=3)\n",
    "ax[0].plot(recall, intp, label='tfidf')\n",
    "ax[0].plot(lsi_recall, lsi_intp, label='LSI')\n",
    "cmd.plot(ax=ax[1], values_format='d')\n",
    "lsi_cmd.plot(ax=ax[2], values_format='d')\n",
    "ax[0].legend()\n",
    "plt.tight_layout()\n",
    "plt.show()"
   ]
  },
  {
   "cell_type": "markdown",
   "id": "eef2c5ab",
   "metadata": {},
   "source": [
    "## Exercize\n",
    "- Discuss the different nature of errors from FN to FP\n",
    "- Try with a domain generic query like `TV Shows`"
   ]
  },
  {
   "cell_type": "code",
   "execution_count": null,
   "id": "3e7fa395",
   "metadata": {},
   "outputs": [],
   "source": []
  }
 ],
 "metadata": {
  "kernelspec": {
   "display_name": "Python 3 (ipykernel)",
   "language": "python",
   "name": "python3"
  },
  "language_info": {
   "codemirror_mode": {
    "name": "ipython",
    "version": 3
   },
   "file_extension": ".py",
   "mimetype": "text/x-python",
   "name": "python",
   "nbconvert_exporter": "python",
   "pygments_lexer": "ipython3",
   "version": "3.8.8"
  },
  "toc": {
   "base_numbering": 1,
   "nav_menu": {},
   "number_sections": true,
   "sideBar": true,
   "skip_h1_title": false,
   "title_cell": "Table of Contents",
   "title_sidebar": "Contents",
   "toc_cell": false,
   "toc_position": {},
   "toc_section_display": true,
   "toc_window_display": false
  }
 },
 "nbformat": 4,
 "nbformat_minor": 5
}
