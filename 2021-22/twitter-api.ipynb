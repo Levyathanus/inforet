{
 "cells": [
  {
   "cell_type": "markdown",
   "id": "4d91c44b",
   "metadata": {},
   "source": [
    "# Example of code to acquire data from Twitter\n",
    "See the [Twitter Developer Program](https://developer.twitter.com/en/docs/developer-portal/overview)"
   ]
  },
  {
   "cell_type": "code",
   "execution_count": 1,
   "id": "2078a297",
   "metadata": {},
   "outputs": [],
   "source": [
    "import pandas as pd\n",
    "import numpy as np\n",
    "from tqdm.notebook import tqdm"
   ]
  },
  {
   "cell_type": "code",
   "execution_count": 2,
   "id": "9adae6c2",
   "metadata": {},
   "outputs": [],
   "source": [
    "import requests\n",
    "import os\n",
    "import json"
   ]
  },
  {
   "cell_type": "markdown",
   "id": "95e0aac6",
   "metadata": {},
   "source": [
    "## Access tokens\n",
    "The bearer is the user specific key for accessing the API. Substitute the path here with your own token."
   ]
  },
  {
   "cell_type": "code",
   "execution_count": 3,
   "id": "3687f4ed",
   "metadata": {},
   "outputs": [],
   "source": [
    "with open('/Users/flint/Data/twitter/tokens/bearer', 'r') as bfile:\n",
    "    bearer_token = bfile.read().rstrip('\\n')\n",
    "search_url = \"https://api.twitter.com/2/tweets/search/all\""
   ]
  },
  {
   "cell_type": "markdown",
   "id": "24cecdac",
   "metadata": {},
   "source": [
    "## Query composition\n",
    "This is an example of a query for getting data from a timeline with time bounds."
   ]
  },
  {
   "cell_type": "code",
   "execution_count": 4,
   "id": "260fffb6",
   "metadata": {},
   "outputs": [],
   "source": [
    "from datetime import datetime, timedelta"
   ]
  },
  {
   "cell_type": "code",
   "execution_count": 5,
   "id": "47e95e8c",
   "metadata": {},
   "outputs": [],
   "source": [
    "time2str = lambda x: x.strftime(\"%Y-%m-%dT%H:%M:%S.00Z\")"
   ]
  },
  {
   "cell_type": "code",
   "execution_count": 6,
   "id": "99dd49f7",
   "metadata": {},
   "outputs": [],
   "source": [
    "def query(timeline, starting_time, hour_delta=4, max_results=100):\n",
    "    return {\n",
    "        'query': 'from:{}'.format(timeline),\n",
    "        'tweet.fields': 'author_id,public_metrics,created_at,context_annotations,conversation_id,geo',\n",
    "        'start_time': time2str(starting_time),\n",
    "        'end_time': time2str(starting_time + timedelta(hours=hour_delta)),\n",
    "        'max_results': '{}'.format(max_results)\n",
    "    }"
   ]
  },
  {
   "cell_type": "code",
   "execution_count": 7,
   "id": "0fa11c79",
   "metadata": {},
   "outputs": [
    {
     "data": {
      "text/plain": [
       "{'query': 'from:guardian',\n",
       " 'tweet.fields': 'author_id,public_metrics,created_at,context_annotations,conversation_id,geo',\n",
       " 'start_time': '2022-06-30T13:17:13.00Z',\n",
       " 'end_time': '2022-06-30T17:17:13.00Z',\n",
       " 'max_results': '100'}"
      ]
     },
     "execution_count": 7,
     "metadata": {},
     "output_type": "execute_result"
    }
   ],
   "source": [
    "query('guardian', datetime.now(), hour_delta=4)"
   ]
  },
  {
   "cell_type": "markdown",
   "id": "5ac24fc3",
   "metadata": {},
   "source": [
    "## Request"
   ]
  },
  {
   "cell_type": "code",
   "execution_count": 8,
   "id": "b3d35444",
   "metadata": {},
   "outputs": [],
   "source": [
    "def bearer_oauth(r):\n",
    "    r.headers[\"Authorization\"] = f\"Bearer {bearer_token}\"\n",
    "    r.headers[\"User-Agent\"] = \"v2FullArchiveSearchPython\"\n",
    "    return r\n",
    "\n",
    "def connect_to_endpoint(url, params):\n",
    "    response = requests.request(\"GET\", search_url, auth=bearer_oauth, params=params)\n",
    "    if response.status_code != 200:\n",
    "        raise Exception(response.status_code, response.text)\n",
    "    return response.json()\n",
    "\n",
    "def timeline_search(timeline, starting_time, hour_delta=4, max_results=100):\n",
    "    return connect_to_endpoint(search_url, query(\n",
    "        timeline, starting_time, hour_delta=hour_delta, max_results=max_results))"
   ]
  },
  {
   "cell_type": "code",
   "execution_count": 9,
   "id": "59ee7c00",
   "metadata": {},
   "outputs": [
    {
     "data": {
      "text/plain": [
       "{'context_annotations': [{'domain': {'id': '47',\n",
       "    'name': 'Brand',\n",
       "    'description': 'Brands and Companies'},\n",
       "   'entity': {'id': '1066122339568386048',\n",
       "    'name': 'The Guardian',\n",
       "    'description': 'The Guardian'}},\n",
       "  {'domain': {'id': '29',\n",
       "    'name': 'Events [Entity Service]',\n",
       "    'description': 'Entity Service related Events domain'},\n",
       "   'entity': {'id': '1448744041105944600', 'name': 'Breaking News'}}],\n",
       " 'id': '1542164297182330880',\n",
       " 'text': 'El Salvador to escalate its security crackdown after death of police officers https://t.co/lQv9GKRF0U',\n",
       " 'public_metrics': {'retweet_count': 7,\n",
       "  'reply_count': 3,\n",
       "  'like_count': 21,\n",
       "  'quote_count': 3},\n",
       " 'created_at': '2022-06-29T15:13:15.000Z',\n",
       " 'author_id': '87818409',\n",
       " 'conversation_id': '1542164297182330880'}"
      ]
     },
     "execution_count": 9,
     "metadata": {},
     "output_type": "execute_result"
    }
   ],
   "source": [
    "from_date = datetime.now() - timedelta(hours=24)\n",
    "sample = timeline_search('guardian', from_date, hour_delta=2, max_results=10)\n",
    "sample['data'][0]"
   ]
  },
  {
   "cell_type": "markdown",
   "id": "19d2e6c8",
   "metadata": {},
   "source": [
    "## Download\n",
    "Massive download for multiple timelines. Saves data into MongoDb. Use sleep to take care of the query rate for twitter (120 queries per minute).\n",
    "\n",
    "**For this sample dataset we collect the last 100 days of news from the top UK newspapers by number of followers, plus BBC**"
   ]
  },
  {
   "cell_type": "code",
   "execution_count": 10,
   "id": "5c0ea81b",
   "metadata": {},
   "outputs": [],
   "source": [
    "import time\n",
    "import dateutil.parser"
   ]
  },
  {
   "cell_type": "code",
   "execution_count": 11,
   "id": "ff42a4e1",
   "metadata": {},
   "outputs": [],
   "source": [
    "uk_news = ['FinancialTimes', 'guardiannews', 'MailOnline', 'DailyMailUK', 'Telegraph', \n",
    "           'TheSun', 'thetimes', 'DailyMirror', 'Daily_Express', 'BBC']\n",
    "\n",
    "it_news = ['Corriere', 'Agenzia_Ansa', 'Adnkronos', 'ilmessaggeroit', \n",
    "           'sole24ore', 'repubblica', 'LaStampa', 'Gazzetta_it', 'Avvenire_Nei', 'qn_carlino',\n",
    "           'CorSport', 'fattoquotidiano', 'ilgiornale', 'tuttosport', 'mattinodinapoli', 'ItaliaOggi',\n",
    "           'Libero_official', 'LaVeritaWeb'\n",
    "          ]\n",
    "\n",
    "recipes = ['RecipesIdeas', 'OldFashRecipes', 'simplyrecipes', 'GTKrecipes', 'My_Recipes',\n",
    "          'RecipeGirl', 'BestRecipesUK', 'EclecticRecipes']"
   ]
  },
  {
   "cell_type": "code",
   "execution_count": 12,
   "id": "5a9a22be",
   "metadata": {},
   "outputs": [],
   "source": [
    "starting_date = datetime.now() - timedelta(hours=24*100)"
   ]
  },
  {
   "cell_type": "code",
   "execution_count": 13,
   "id": "c5e490e3",
   "metadata": {},
   "outputs": [
    {
     "data": {
      "application/vnd.jupyter.widget-view+json": {
       "model_id": "aa88558d021a470995aa7f17aa5c59fb",
       "version_major": 2,
       "version_minor": 0
      },
      "text/plain": [
       "  0%|          | 0/101 [00:00<?, ?it/s]"
      ]
     },
     "metadata": {},
     "output_type": "display_data"
    }
   ],
   "source": [
    "delta = 24\n",
    "failed_queries = []\n",
    "records = []\n",
    "time_limit, query_count = 100, 0\n",
    "run = list(range(0, 24*100 + 1, delta))\n",
    "timelines = it_news\n",
    "\n",
    "for deltas in tqdm(run):\n",
    "    search_date = starting_date + timedelta(hours=deltas)\n",
    "    for timeline in timelines:\n",
    "        query_count += 1\n",
    "        try:\n",
    "            data = timeline_search(timeline, search_date, hour_delta=delta, max_results=100)\n",
    "            for record in data['data']:\n",
    "                r = record\n",
    "                r['created_at'] = dateutil.parser.parse(record['created_at'])\n",
    "                r['timeline'] = timeline\n",
    "                records.append(r)\n",
    "        except:\n",
    "            failed_queries.append((timeline, search_date, delta))\n",
    "            pass\n",
    "        if query_count == time_limit:\n",
    "            query_count = 0\n",
    "            time.sleep(120)"
   ]
  },
  {
   "cell_type": "code",
   "execution_count": 14,
   "id": "b752b459",
   "metadata": {},
   "outputs": [
    {
     "data": {
      "text/plain": [
       "(17070, 1516)"
      ]
     },
     "execution_count": 14,
     "metadata": {},
     "output_type": "execute_result"
    }
   ],
   "source": [
    "len(records), len(failed_queries)"
   ]
  },
  {
   "cell_type": "markdown",
   "id": "62fa18e1",
   "metadata": {},
   "source": [
    "### Save and re-run failed queries"
   ]
  },
  {
   "cell_type": "code",
   "execution_count": 15,
   "id": "f7928a05",
   "metadata": {},
   "outputs": [],
   "source": [
    "import pymongo"
   ]
  },
  {
   "cell_type": "code",
   "execution_count": 16,
   "id": "6a7cbdd8",
   "metadata": {},
   "outputs": [],
   "source": [
    "db = pymongo.MongoClient()['twitter']['tweets']"
   ]
  },
  {
   "cell_type": "code",
   "execution_count": 17,
   "id": "e85758c5",
   "metadata": {},
   "outputs": [
    {
     "data": {
      "text/plain": [
       "<pymongo.results.InsertManyResult at 0x7f8251f47f80>"
      ]
     },
     "execution_count": 17,
     "metadata": {},
     "output_type": "execute_result"
    }
   ],
   "source": [
    "db.insert_many(records)"
   ]
  },
  {
   "cell_type": "code",
   "execution_count": 18,
   "id": "a052b734",
   "metadata": {},
   "outputs": [
    {
     "data": {
      "application/vnd.jupyter.widget-view+json": {
       "model_id": "7720a1461a72403b87cf83b63bcd22ca",
       "version_major": 2,
       "version_minor": 0
      },
      "text/plain": [
       "  0%|          | 0/1516 [00:00<?, ?it/s]"
      ]
     },
     "metadata": {},
     "output_type": "display_data"
    }
   ],
   "source": [
    "time_limit, query_count = 100, 0\n",
    "records = []\n",
    "for timeline, search_date, delta in tqdm(failed_queries):\n",
    "    query_count += 1\n",
    "    try:\n",
    "        data = timeline_search(timeline, search_date, hour_delta=delta, max_results=100)\n",
    "        for record in data['data']:\n",
    "            r = record\n",
    "            r['created_at'] = dateutil.parser.parse(record['created_at'])\n",
    "            r['timeline'] = timeline\n",
    "            records.append(r)\n",
    "    except:\n",
    "        pass\n",
    "    if query_count == time_limit:\n",
    "        query_count = 0\n",
    "        time.sleep(120)"
   ]
  },
  {
   "cell_type": "code",
   "execution_count": 19,
   "id": "ebedda52",
   "metadata": {},
   "outputs": [
    {
     "data": {
      "text/plain": [
       "18779"
      ]
     },
     "execution_count": 19,
     "metadata": {},
     "output_type": "execute_result"
    }
   ],
   "source": [
    "len(records)"
   ]
  },
  {
   "cell_type": "code",
   "execution_count": 20,
   "id": "c16b048e",
   "metadata": {},
   "outputs": [
    {
     "data": {
      "text/plain": [
       "<pymongo.results.InsertManyResult at 0x7f825235ffc0>"
      ]
     },
     "execution_count": 20,
     "metadata": {},
     "output_type": "execute_result"
    }
   ],
   "source": [
    "db.insert_many(records)"
   ]
  },
  {
   "cell_type": "code",
   "execution_count": null,
   "id": "33f8ae34",
   "metadata": {},
   "outputs": [],
   "source": []
  }
 ],
 "metadata": {
  "kernelspec": {
   "display_name": "Python 3 (ipykernel)",
   "language": "python",
   "name": "python3"
  },
  "language_info": {
   "codemirror_mode": {
    "name": "ipython",
    "version": 3
   },
   "file_extension": ".py",
   "mimetype": "text/x-python",
   "name": "python",
   "nbconvert_exporter": "python",
   "pygments_lexer": "ipython3",
   "version": "3.8.8"
  },
  "toc": {
   "base_numbering": 1,
   "nav_menu": {},
   "number_sections": true,
   "sideBar": true,
   "skip_h1_title": false,
   "title_cell": "Table of Contents",
   "title_sidebar": "Contents",
   "toc_cell": false,
   "toc_position": {},
   "toc_section_display": true,
   "toc_window_display": false
  }
 },
 "nbformat": 4,
 "nbformat_minor": 5
}
