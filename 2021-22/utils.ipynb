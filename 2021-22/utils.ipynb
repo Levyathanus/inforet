{
 "cells": [
  {
   "cell_type": "code",
   "execution_count": null,
   "metadata": {
    "collapsed": true
   },
   "outputs": [],
   "source": [
    "def to_table(M, rows, cols, r=3):\n",
    "    table = \"<table>\"\n",
    "    head = \"<tr><th></th>\" + \"\".join([\"<th>{}</th>\".format(str(c)) for c in cols]) + \"</tr>\"\n",
    "    table += head\n",
    "    for i, row in enumerate(rows):\n",
    "        j = \"<tr><td><strong>{}</strong></td>\".format(str(row))\n",
    "        if len(rows) > 1:\n",
    "            j += \"\".join([\"<td>{}</td>\".format(round(x, r)) for x in M[i,:]]) + \"</tr>\"\n",
    "        else:\n",
    "            j += \"\".join([\"<td>{}</td>\".format(round(x, r)) for x in M]) + \"</tr>\"\n",
    "        table += j\n",
    "    table += \"</table>\"\n",
    "    return table"
   ]
  }
 ],
 "metadata": {
  "kernelspec": {
   "display_name": "Python 2",
   "language": "python",
   "name": "python2"
  },
  "language_info": {
   "codemirror_mode": {
    "name": "ipython",
    "version": 2
   },
   "file_extension": ".py",
   "mimetype": "text/x-python",
   "name": "python",
   "nbconvert_exporter": "python",
   "pygments_lexer": "ipython2",
   "version": "2.7.13"
  }
 },
 "nbformat": 4,
 "nbformat_minor": 2
}
