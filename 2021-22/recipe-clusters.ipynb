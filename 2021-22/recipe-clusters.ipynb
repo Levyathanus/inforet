{
 "cells": [
  {
   "cell_type": "markdown",
   "id": "641c8e23",
   "metadata": {},
   "source": [
    "# Exploration of Recipe1M+ using clustering\n",
    "For the subset of recipes used in this example, see the [Recipe1M+](http://pic2recipe.csail.mit.edu/) dataset.\n",
    "> Marin, J., Biswas, A., Ofli, F., Hynes, N., Salvador, A., Aytar, Y., ... & Torralba, A. (2019). Recipe1m+: A dataset for learning cross-modal embeddings for cooking recipes and food images. IEEE transactions on pattern analysis and machine intelligence, 43(1), 187-203.\n",
    "\n",
    "See the extracted dataset sample [here](https://unimi2013.sharepoint.com/:u:/s/InformationRetrieval/EaL7kid2qzdCmAA8RO-m5iQBsvCl5cuNIdn0rsJN1FUhSg?e=fdXkkB)"
   ]
  },
  {
   "cell_type": "code",
   "execution_count": null,
   "id": "8b0dbe6c",
   "metadata": {},
   "outputs": [],
   "source": [
    "import pandas as pd\n",
    "import numpy as np\n",
    "from tqdm.notebook import tqdm"
   ]
  },
  {
   "cell_type": "code",
   "execution_count": null,
   "id": "a854e72b",
   "metadata": {},
   "outputs": [],
   "source": [
    "import os\n",
    "import nltk"
   ]
  },
  {
   "cell_type": "code",
   "execution_count": null,
   "id": "2a3aca60",
   "metadata": {},
   "outputs": [],
   "source": [
    "folder = \"/Users/flint/Data/recipe/text-sample/\"\n",
    "files = [f for f in os.listdir(folder) if f.endswith('.txt')]\n",
    "recipes = []\n",
    "for file in files:\n",
    "    with open(os.path.join(folder, file), 'r') as data:\n",
    "        recipes.append(data.read())"
   ]
  },
  {
   "cell_type": "markdown",
   "id": "62c5debd",
   "metadata": {},
   "source": [
    "## Extract ingredients to create a pseudo doc with the ingredients only"
   ]
  },
  {
   "cell_type": "code",
   "execution_count": null,
   "id": "f71bdf9b",
   "metadata": {},
   "outputs": [],
   "source": [
    "import re\n",
    "from string import punctuation"
   ]
  },
  {
   "cell_type": "code",
   "execution_count": null,
   "id": "532ad978",
   "metadata": {},
   "outputs": [],
   "source": [
    "def ingredient_tokenizer(recipe, pattern=r'-(.*?)\\n'):\n",
    "    pattern = re.compile(pattern)\n",
    "    ingredients = []\n",
    "    for ingredient_line in pattern.findall(recipe):\n",
    "        parts = ingredient_line.split(', ')\n",
    "        main_ingredient = parts[0].split('of ')[-1]\n",
    "        tokens = [\"\".join([x for x in main_ingredient if x not in punctuation])]\n",
    "        for token in parts[1:]:\n",
    "            tokens.append(\"\".join(x for x in token if x not in punctuation))\n",
    "        ingredients += tokens\n",
    "    return ingredients"
   ]
  },
  {
   "cell_type": "code",
   "execution_count": null,
   "id": "274a9998",
   "metadata": {},
   "outputs": [],
   "source": [
    "corpus = [ingredient_tokenizer(r) for r in recipes]"
   ]
  },
  {
   "cell_type": "markdown",
   "id": "3db8f202",
   "metadata": {},
   "source": [
    "## Vectorize\n",
    "Try vectorizing the documents by TfIdf and by LDA"
   ]
  },
  {
   "cell_type": "code",
   "execution_count": null,
   "id": "95d2b587",
   "metadata": {},
   "outputs": [],
   "source": [
    "from sklearn.feature_extraction.text import TfidfVectorizer\n",
    "from sklearn.decomposition import LatentDirichletAllocation"
   ]
  },
  {
   "cell_type": "code",
   "execution_count": null,
   "id": "aab86037",
   "metadata": {},
   "outputs": [],
   "source": [
    "tfidf_vec = TfidfVectorizer(tokenizer=lambda x: x.split())\n",
    "tfidf = tfidf_vec.fit_transform([\" \".join(x) for x in corpus]).toarray()"
   ]
  },
  {
   "cell_type": "code",
   "execution_count": null,
   "id": "c624ecbb",
   "metadata": {},
   "outputs": [],
   "source": [
    "lda_vec = LatentDirichletAllocation(n_components=20)\n",
    "lda = lda_vec.fit_transform(tfidf)"
   ]
  },
  {
   "cell_type": "markdown",
   "id": "355e44c2",
   "metadata": {},
   "source": [
    "### Explore topics"
   ]
  },
  {
   "cell_type": "code",
   "execution_count": null,
   "id": "6708f501",
   "metadata": {},
   "outputs": [],
   "source": [
    "n_top_words = 6\n",
    "description = []\n",
    "feature_names = tfidf_vec.get_feature_names_out()\n",
    "for topic_idx, topic in enumerate(lda_vec.components_):\n",
    "    top_features_ind = topic.argsort()[: -n_top_words - 1 : -1]\n",
    "    top_features = [feature_names[i] for i in top_features_ind]\n",
    "    weights = topic[top_features_ind]\n",
    "    for j, f in enumerate(top_features_ind):\n",
    "        description.append({\n",
    "            'topic': \"T{}\".format(topic_idx),\n",
    "            'word': top_features[j],\n",
    "            'score': round(weights[j], 3)\n",
    "        })\n",
    "T = pd.DataFrame(description)"
   ]
  },
  {
   "cell_type": "code",
   "execution_count": null,
   "id": "39a27f4b",
   "metadata": {},
   "outputs": [],
   "source": [
    "T[T.topic=='T0']"
   ]
  },
  {
   "cell_type": "markdown",
   "id": "43922bc3",
   "metadata": {},
   "source": [
    "### Visualize documents"
   ]
  },
  {
   "cell_type": "code",
   "execution_count": null,
   "id": "196afff6",
   "metadata": {},
   "outputs": [],
   "source": [
    "from sklearn.decomposition import PCA"
   ]
  },
  {
   "cell_type": "code",
   "execution_count": null,
   "id": "50dea97f",
   "metadata": {},
   "outputs": [],
   "source": [
    "import matplotlib.pyplot as plt"
   ]
  },
  {
   "cell_type": "code",
   "execution_count": null,
   "id": "1448b0b2",
   "metadata": {},
   "outputs": [],
   "source": [
    "pca_tfidf = PCA(n_components=2)\n",
    "Xtfidf = pca_tfidf.fit_transform(tfidf)\n",
    "pca_lda = PCA(n_components=2)\n",
    "Xlda = pca_lda.fit_transform(lda)"
   ]
  },
  {
   "cell_type": "code",
   "execution_count": null,
   "id": "9e77be67",
   "metadata": {},
   "outputs": [],
   "source": [
    "fig, ax = plt.subplots(figsize=(14, 7), ncols=2)\n",
    "ax[0].scatter(Xtfidf[:,0], Xtfidf[:,1], alpha=0.2, c='#999999')\n",
    "ax[1].scatter(Xlda[:,0], Xlda[:,1], alpha=0.2, c='#999999')\n",
    "ax[0].set_title('TfIdf')\n",
    "ax[1].set_title('LDA')\n",
    "plt.tight_layout()\n",
    "plt.show()"
   ]
  },
  {
   "cell_type": "markdown",
   "id": "4f45d32f",
   "metadata": {},
   "source": [
    "## Clustering"
   ]
  },
  {
   "cell_type": "code",
   "execution_count": null,
   "id": "5ca4555b",
   "metadata": {},
   "outputs": [],
   "source": [
    "from sklearn.cluster import KMeans, AgglomerativeClustering"
   ]
  },
  {
   "cell_type": "code",
   "execution_count": null,
   "id": "bdadbded",
   "metadata": {},
   "outputs": [],
   "source": [
    "models = {\n",
    "    'Kmeans': (KMeans, {'n_clusters': 10}),\n",
    "    'Agglomerative': (AgglomerativeClustering, {'n_clusters': 10})\n",
    "}"
   ]
  },
  {
   "cell_type": "code",
   "execution_count": null,
   "id": "384b64df",
   "metadata": {},
   "outputs": [],
   "source": [
    "run = list(models.items())"
   ]
  },
  {
   "cell_type": "code",
   "execution_count": null,
   "id": "5b679132",
   "metadata": {},
   "outputs": [],
   "source": [
    "tfidf_clustering = {}\n",
    "for k, (model, params) in tqdm(run):\n",
    "    m = model(**params)\n",
    "    tfidf_clustering[k] = m.fit_predict(tfidf)"
   ]
  },
  {
   "cell_type": "code",
   "execution_count": null,
   "id": "09d8d342",
   "metadata": {},
   "outputs": [],
   "source": [
    "lda_clustering = {}\n",
    "for k, (model, params) in tqdm(run):\n",
    "    m = model(**params)\n",
    "    lda_clustering[k] = m.fit_predict(lda)"
   ]
  },
  {
   "cell_type": "code",
   "execution_count": null,
   "id": "87ce35dd",
   "metadata": {},
   "outputs": [],
   "source": [
    "for model in models.keys():\n",
    "    fig, ax = plt.subplots(figsize=(14, 7), ncols=2)\n",
    "    fig.suptitle(model, fontsize=16)\n",
    "    ax[0].scatter(Xtfidf[:,0], Xtfidf[:,1], alpha=0.2, c=tfidf_clustering[model])\n",
    "    ax[1].scatter(Xlda[:,0], Xlda[:,1], alpha=0.2, c=lda_clustering[model])\n",
    "    ax[0].set_title('TfIdf')\n",
    "    ax[1].set_title('LDA')\n",
    "    plt.tight_layout()\n",
    "    plt.show()"
   ]
  },
  {
   "cell_type": "markdown",
   "id": "37b144e4",
   "metadata": {},
   "source": [
    "## Cluster interpretation\n",
    "**Exercize:** describe clusters by selecting the **top 10 specific and representative** features of each cluster."
   ]
  },
  {
   "cell_type": "code",
   "execution_count": null,
   "id": "e44d221e",
   "metadata": {},
   "outputs": [],
   "source": [
    "from collections import defaultdict"
   ]
  },
  {
   "cell_type": "code",
   "execution_count": null,
   "id": "d4cba563",
   "metadata": {},
   "outputs": [],
   "source": [
    "assignment = tfidf_clustering['Kmeans']\n",
    "assignment"
   ]
  },
  {
   "cell_type": "code",
   "execution_count": null,
   "id": "097a558e",
   "metadata": {},
   "outputs": [],
   "source": []
  }
 ],
 "metadata": {
  "kernelspec": {
   "display_name": "Python 3 (ipykernel)",
   "language": "python",
   "name": "python3"
  },
  "language_info": {
   "codemirror_mode": {
    "name": "ipython",
    "version": 3
   },
   "file_extension": ".py",
   "mimetype": "text/x-python",
   "name": "python",
   "nbconvert_exporter": "python",
   "pygments_lexer": "ipython3",
   "version": "3.8.8"
  },
  "toc": {
   "base_numbering": 1,
   "nav_menu": {},
   "number_sections": true,
   "sideBar": true,
   "skip_h1_title": false,
   "title_cell": "Table of Contents",
   "title_sidebar": "Contents",
   "toc_cell": false,
   "toc_position": {},
   "toc_section_display": true,
   "toc_window_display": false
  }
 },
 "nbformat": 4,
 "nbformat_minor": 5
}
