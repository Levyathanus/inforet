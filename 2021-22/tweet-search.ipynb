{
 "cells": [
  {
   "cell_type": "markdown",
   "id": "e53f0828",
   "metadata": {},
   "source": [
    "# Use tweets for evaluating the performances of an IR system"
   ]
  },
  {
   "cell_type": "code",
   "execution_count": 1,
   "id": "f3c078cc",
   "metadata": {},
   "outputs": [],
   "source": [
    "import pandas as pd\n",
    "import numpy as np\n",
    "from tqdm.notebook import tqdm"
   ]
  },
  {
   "cell_type": "code",
   "execution_count": 2,
   "id": "d0f2bb94",
   "metadata": {},
   "outputs": [],
   "source": [
    "import pymongo"
   ]
  },
  {
   "cell_type": "markdown",
   "id": "8a7e0d37",
   "metadata": {},
   "source": [
    "## Create dataset and ground truth"
   ]
  },
  {
   "cell_type": "code",
   "execution_count": 3,
   "id": "3e685959",
   "metadata": {},
   "outputs": [],
   "source": [
    "db = pymongo.MongoClient()['twitter']['tweets']"
   ]
  },
  {
   "cell_type": "code",
   "execution_count": 4,
   "id": "02d22059",
   "metadata": {},
   "outputs": [],
   "source": [
    "tweets = list(db.find())"
   ]
  },
  {
   "cell_type": "code",
   "execution_count": 6,
   "id": "422b2561",
   "metadata": {},
   "outputs": [],
   "source": [
    "corpus = dict([(tweet['id'], tweet['text']) for tweet in tweets])"
   ]
  },
  {
   "cell_type": "code",
   "execution_count": 12,
   "id": "6a51de53",
   "metadata": {},
   "outputs": [],
   "source": [
    "entities, domains = {}, {}\n",
    "metadata = []\n",
    "for i, tweet in enumerate(tweets):\n",
    "    if 'context_annotations' in tweet.keys():\n",
    "        for annotation in tweet['context_annotations']:\n",
    "            domain, entity = annotation['domain'], annotation['entity']\n",
    "            if domain['id'] not in domains:\n",
    "                domains[domain['id']] = domain\n",
    "            if entity['id'] not in entities:\n",
    "                entities[entity['id']] = entity\n",
    "            metadata.append({\n",
    "                'entity': entity['id'], 'domain': domain['id'], 'tweet': tweet['id']\n",
    "            })\n",
    "M = pd.DataFrame(metadata)"
   ]
  },
  {
   "cell_type": "code",
   "execution_count": 19,
   "id": "7bca4b5c",
   "metadata": {},
   "outputs": [],
   "source": [
    "E = pd.DataFrame(entities).T\n",
    "D = pd.DataFrame(domains).T"
   ]
  },
  {
   "cell_type": "code",
   "execution_count": 20,
   "id": "2fe5ca36",
   "metadata": {},
   "outputs": [
    {
     "data": {
      "text/html": [
       "<div>\n",
       "<style scoped>\n",
       "    .dataframe tbody tr th:only-of-type {\n",
       "        vertical-align: middle;\n",
       "    }\n",
       "\n",
       "    .dataframe tbody tr th {\n",
       "        vertical-align: top;\n",
       "    }\n",
       "\n",
       "    .dataframe thead th {\n",
       "        text-align: right;\n",
       "    }\n",
       "</style>\n",
       "<table border=\"1\" class=\"dataframe\">\n",
       "  <thead>\n",
       "    <tr style=\"text-align: right;\">\n",
       "      <th></th>\n",
       "      <th>id</th>\n",
       "      <th>name</th>\n",
       "      <th>description</th>\n",
       "    </tr>\n",
       "  </thead>\n",
       "  <tbody>\n",
       "    <tr>\n",
       "      <th>1220701888179359745</th>\n",
       "      <td>1220701888179359745</td>\n",
       "      <td>COVID-19</td>\n",
       "      <td>NaN</td>\n",
       "    </tr>\n",
       "    <tr>\n",
       "      <th>10000277815</th>\n",
       "      <td>10000277815</td>\n",
       "      <td>English Premier League Soccer</td>\n",
       "      <td>Action from English Premier League Soccer matc...</td>\n",
       "    </tr>\n",
       "  </tbody>\n",
       "</table>\n",
       "</div>"
      ],
      "text/plain": [
       "                                      id                           name  \\\n",
       "1220701888179359745  1220701888179359745                       COVID-19   \n",
       "10000277815                  10000277815  English Premier League Soccer   \n",
       "\n",
       "                                                           description  \n",
       "1220701888179359745                                                NaN  \n",
       "10000277815          Action from English Premier League Soccer matc...  "
      ]
     },
     "execution_count": 20,
     "metadata": {},
     "output_type": "execute_result"
    }
   ],
   "source": [
    "E.head(2)"
   ]
  },
  {
   "cell_type": "code",
   "execution_count": 21,
   "id": "907536f6",
   "metadata": {},
   "outputs": [
    {
     "data": {
      "text/html": [
       "<div>\n",
       "<style scoped>\n",
       "    .dataframe tbody tr th:only-of-type {\n",
       "        vertical-align: middle;\n",
       "    }\n",
       "\n",
       "    .dataframe tbody tr th {\n",
       "        vertical-align: top;\n",
       "    }\n",
       "\n",
       "    .dataframe thead th {\n",
       "        text-align: right;\n",
       "    }\n",
       "</style>\n",
       "<table border=\"1\" class=\"dataframe\">\n",
       "  <thead>\n",
       "    <tr style=\"text-align: right;\">\n",
       "      <th></th>\n",
       "      <th>id</th>\n",
       "      <th>name</th>\n",
       "      <th>description</th>\n",
       "    </tr>\n",
       "  </thead>\n",
       "  <tbody>\n",
       "    <tr>\n",
       "      <th>123</th>\n",
       "      <td>123</td>\n",
       "      <td>Ongoing News Story</td>\n",
       "      <td>Ongoing News Stories like 'Brexit'</td>\n",
       "    </tr>\n",
       "    <tr>\n",
       "      <th>3</th>\n",
       "      <td>3</td>\n",
       "      <td>TV Shows</td>\n",
       "      <td>Television shows from around the world</td>\n",
       "    </tr>\n",
       "  </tbody>\n",
       "</table>\n",
       "</div>"
      ],
      "text/plain": [
       "      id                name                             description\n",
       "123  123  Ongoing News Story      Ongoing News Stories like 'Brexit'\n",
       "3      3            TV Shows  Television shows from around the world"
      ]
     },
     "execution_count": 21,
     "metadata": {},
     "output_type": "execute_result"
    }
   ],
   "source": [
    "D.head(2)"
   ]
  },
  {
   "cell_type": "code",
   "execution_count": 22,
   "id": "2b5b336c",
   "metadata": {},
   "outputs": [
    {
     "data": {
      "text/html": [
       "<div>\n",
       "<style scoped>\n",
       "    .dataframe tbody tr th:only-of-type {\n",
       "        vertical-align: middle;\n",
       "    }\n",
       "\n",
       "    .dataframe tbody tr th {\n",
       "        vertical-align: top;\n",
       "    }\n",
       "\n",
       "    .dataframe thead th {\n",
       "        text-align: right;\n",
       "    }\n",
       "</style>\n",
       "<table border=\"1\" class=\"dataframe\">\n",
       "  <thead>\n",
       "    <tr style=\"text-align: right;\">\n",
       "      <th></th>\n",
       "      <th>entity</th>\n",
       "      <th>domain</th>\n",
       "      <th>tweet</th>\n",
       "    </tr>\n",
       "  </thead>\n",
       "  <tbody>\n",
       "    <tr>\n",
       "      <th>0</th>\n",
       "      <td>1220701888179359745</td>\n",
       "      <td>123</td>\n",
       "      <td>1463847474049789952</td>\n",
       "    </tr>\n",
       "    <tr>\n",
       "      <th>1</th>\n",
       "      <td>10000277815</td>\n",
       "      <td>3</td>\n",
       "      <td>1463839920204787716</td>\n",
       "    </tr>\n",
       "  </tbody>\n",
       "</table>\n",
       "</div>"
      ],
      "text/plain": [
       "                entity domain                tweet\n",
       "0  1220701888179359745    123  1463847474049789952\n",
       "1          10000277815      3  1463839920204787716"
      ]
     },
     "execution_count": 22,
     "metadata": {},
     "output_type": "execute_result"
    }
   ],
   "source": [
    "M.head(2)"
   ]
  },
  {
   "cell_type": "markdown",
   "id": "0e878b7e",
   "metadata": {},
   "source": [
    "## Expected results"
   ]
  },
  {
   "cell_type": "code",
   "execution_count": 26,
   "id": "614b0838",
   "metadata": {},
   "outputs": [],
   "source": [
    "entity_queries = list(set(E.name.values))\n",
    "domain_queries = list(set(D.name.values))"
   ]
  },
  {
   "cell_type": "code",
   "execution_count": 31,
   "id": "41d0358f",
   "metadata": {},
   "outputs": [],
   "source": [
    "def get_entity_results(query):\n",
    "    etweets = set()\n",
    "    entity_ids = E[E.name==query].id.values\n",
    "    for eid in entity_ids:\n",
    "        etweets = etweets.union(set(M[M.entity==eid].tweet.values))\n",
    "    return etweets\n",
    "\n",
    "def get_domain_results(query):\n",
    "    etweets = set()\n",
    "    domain_ids = D[D.name==query].id.values\n",
    "    for eid in domain_ids:\n",
    "        etweets = etweets.union(set(M[M.domain==eid].tweet.values))\n",
    "    return etweets"
   ]
  },
  {
   "cell_type": "code",
   "execution_count": 35,
   "id": "f8c5d9fb",
   "metadata": {},
   "outputs": [
    {
     "data": {
      "text/plain": [
       "2042"
      ]
     },
     "execution_count": 35,
     "metadata": {},
     "output_type": "execute_result"
    }
   ],
   "source": [
    "len(get_domain_results('TV Shows'))"
   ]
  },
  {
   "cell_type": "code",
   "execution_count": 36,
   "id": "db459007",
   "metadata": {},
   "outputs": [],
   "source": [
    "search_base = [(x, corpus[x]) for x in M.tweet.values]"
   ]
  },
  {
   "cell_type": "code",
   "execution_count": 37,
   "id": "a5670eb4",
   "metadata": {},
   "outputs": [
    {
     "data": {
      "text/plain": [
       "63005"
      ]
     },
     "execution_count": 37,
     "metadata": {},
     "output_type": "execute_result"
    }
   ],
   "source": [
    "len(search_base)"
   ]
  },
  {
   "cell_type": "code",
   "execution_count": null,
   "id": "86488b7e",
   "metadata": {},
   "outputs": [],
   "source": []
  }
 ],
 "metadata": {
  "kernelspec": {
   "display_name": "Python 3 (ipykernel)",
   "language": "python",
   "name": "python3"
  },
  "language_info": {
   "codemirror_mode": {
    "name": "ipython",
    "version": 3
   },
   "file_extension": ".py",
   "mimetype": "text/x-python",
   "name": "python",
   "nbconvert_exporter": "python",
   "pygments_lexer": "ipython3",
   "version": "3.8.8"
  },
  "toc": {
   "base_numbering": 1,
   "nav_menu": {},
   "number_sections": true,
   "sideBar": true,
   "skip_h1_title": false,
   "title_cell": "Table of Contents",
   "title_sidebar": "Contents",
   "toc_cell": false,
   "toc_position": {},
   "toc_section_display": true,
   "toc_window_display": false
  }
 },
 "nbformat": 4,
 "nbformat_minor": 5
}
