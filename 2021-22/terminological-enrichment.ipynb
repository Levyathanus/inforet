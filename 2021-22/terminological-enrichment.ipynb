{
 "cells": [
  {
   "cell_type": "markdown",
   "id": "a7804892",
   "metadata": {},
   "source": [
    "# Terminological enrichment\n",
    "The goal of terminological enrichment is to associate a set of known terms with new terms that are semantically similar. This can be used for expanding the queries."
   ]
  },
  {
   "cell_type": "markdown",
   "id": "dc87c351",
   "metadata": {},
   "source": [
    "## The IR system with relevance feedback"
   ]
  },
  {
   "cell_type": "code",
   "execution_count": 63,
   "id": "215ebb8a",
   "metadata": {},
   "outputs": [],
   "source": [
    "import pandas as pd\n",
    "import numpy as np\n",
    "from tqdm.notebook import tqdm"
   ]
  },
  {
   "cell_type": "code",
   "execution_count": 64,
   "id": "c1099747",
   "metadata": {},
   "outputs": [],
   "source": [
    "import pymongo\n",
    "from twitter import TwitterDataset, ENTITY, DOMAIN\n",
    "from nltk.tokenize import TweetTokenizer\n",
    "from nltk.corpus import stopwords\n",
    "from string import punctuation"
   ]
  },
  {
   "cell_type": "code",
   "execution_count": 65,
   "id": "b4344557",
   "metadata": {},
   "outputs": [],
   "source": [
    "db = pymongo.MongoClient()['twitter']['tweets']\n",
    "tdata = TwitterDataset(db)"
   ]
  },
  {
   "cell_type": "code",
   "execution_count": 66,
   "id": "e607dfa8",
   "metadata": {},
   "outputs": [],
   "source": [
    "estats = tdata.entity_queries_stats\n",
    "dstats = tdata.domain_queries_stats"
   ]
  },
  {
   "cell_type": "code",
   "execution_count": 90,
   "id": "79fc40a4",
   "metadata": {},
   "outputs": [
    {
     "data": {
      "text/html": [
       "<div>\n",
       "<style scoped>\n",
       "    .dataframe tbody tr th:only-of-type {\n",
       "        vertical-align: middle;\n",
       "    }\n",
       "\n",
       "    .dataframe tbody tr th {\n",
       "        vertical-align: top;\n",
       "    }\n",
       "\n",
       "    .dataframe thead th {\n",
       "        text-align: right;\n",
       "    }\n",
       "</style>\n",
       "<table border=\"1\" class=\"dataframe\">\n",
       "  <thead>\n",
       "    <tr style=\"text-align: right;\">\n",
       "      <th></th>\n",
       "      <th>domain</th>\n",
       "      <th>tweet</th>\n",
       "      <th>query</th>\n",
       "    </tr>\n",
       "    <tr>\n",
       "      <th>entity</th>\n",
       "      <th></th>\n",
       "      <th></th>\n",
       "      <th></th>\n",
       "    </tr>\n",
       "  </thead>\n",
       "  <tbody>\n",
       "    <tr>\n",
       "      <th>781974596148793345</th>\n",
       "      <td>4427</td>\n",
       "      <td>4427</td>\n",
       "      <td>Business &amp; finance</td>\n",
       "    </tr>\n",
       "    <tr>\n",
       "      <th>1220701888179359745</th>\n",
       "      <td>3985</td>\n",
       "      <td>3985</td>\n",
       "      <td>COVID-19</td>\n",
       "    </tr>\n",
       "    <tr>\n",
       "      <th>1066114840832356353</th>\n",
       "      <td>3074</td>\n",
       "      <td>3074</td>\n",
       "      <td>The Telegraph</td>\n",
       "    </tr>\n",
       "    <tr>\n",
       "      <th>1113138554496942080</th>\n",
       "      <td>3071</td>\n",
       "      <td>3071</td>\n",
       "      <td>The Daily Telegraph</td>\n",
       "    </tr>\n",
       "    <tr>\n",
       "      <th>1113097508572426242</th>\n",
       "      <td>2983</td>\n",
       "      <td>2983</td>\n",
       "      <td>Daily Mirror</td>\n",
       "    </tr>\n",
       "    <tr>\n",
       "      <th>1066122339568386048</th>\n",
       "      <td>2819</td>\n",
       "      <td>2819</td>\n",
       "      <td>The Guardian</td>\n",
       "    </tr>\n",
       "    <tr>\n",
       "      <th>857212166100754432</th>\n",
       "      <td>1964</td>\n",
       "      <td>1964</td>\n",
       "      <td>Boris Johnson</td>\n",
       "    </tr>\n",
       "    <tr>\n",
       "      <th>825047692124442624</th>\n",
       "      <td>1661</td>\n",
       "      <td>1661</td>\n",
       "      <td>Food</td>\n",
       "    </tr>\n",
       "    <tr>\n",
       "      <th>864931126132985856</th>\n",
       "      <td>1198</td>\n",
       "      <td>1198</td>\n",
       "      <td>Vladimir Putin</td>\n",
       "    </tr>\n",
       "    <tr>\n",
       "      <th>826817907946450944</th>\n",
       "      <td>714</td>\n",
       "      <td>714</td>\n",
       "      <td>Food Blogs</td>\n",
       "    </tr>\n",
       "    <tr>\n",
       "      <th>781974597310615553</th>\n",
       "      <td>677</td>\n",
       "      <td>677</td>\n",
       "      <td>Entertainment</td>\n",
       "    </tr>\n",
       "    <tr>\n",
       "      <th>10040395078</th>\n",
       "      <td>580</td>\n",
       "      <td>580</td>\n",
       "      <td>Joe Biden</td>\n",
       "    </tr>\n",
       "    <tr>\n",
       "      <th>781974597105094656</th>\n",
       "      <td>548</td>\n",
       "      <td>548</td>\n",
       "      <td>TV/Movies Related</td>\n",
       "    </tr>\n",
       "    <tr>\n",
       "      <th>834828264786898945</th>\n",
       "      <td>529</td>\n",
       "      <td>529</td>\n",
       "      <td>Drinks</td>\n",
       "    </tr>\n",
       "    <tr>\n",
       "      <th>781974596157181956</th>\n",
       "      <td>516</td>\n",
       "      <td>516</td>\n",
       "      <td>Online Site</td>\n",
       "    </tr>\n",
       "    <tr>\n",
       "      <th>1250078501849280512</th>\n",
       "      <td>474</td>\n",
       "      <td>474</td>\n",
       "      <td>Christmas</td>\n",
       "    </tr>\n",
       "    <tr>\n",
       "      <th>1065659570578612224</th>\n",
       "      <td>427</td>\n",
       "      <td>427</td>\n",
       "      <td>BBC</td>\n",
       "    </tr>\n",
       "    <tr>\n",
       "      <th>831530561680191490</th>\n",
       "      <td>415</td>\n",
       "      <td>415</td>\n",
       "      <td>Cooking</td>\n",
       "    </tr>\n",
       "    <tr>\n",
       "      <th>834828445238431744</th>\n",
       "      <td>411</td>\n",
       "      <td>411</td>\n",
       "      <td>Generic Drinks</td>\n",
       "    </tr>\n",
       "    <tr>\n",
       "      <th>781974596752842752</th>\n",
       "      <td>352</td>\n",
       "      <td>352</td>\n",
       "      <td>Services</td>\n",
       "    </tr>\n",
       "  </tbody>\n",
       "</table>\n",
       "</div>"
      ],
      "text/plain": [
       "                     domain  tweet                query\n",
       "entity                                                 \n",
       "781974596148793345     4427   4427   Business & finance\n",
       "1220701888179359745    3985   3985             COVID-19\n",
       "1066114840832356353    3074   3074        The Telegraph\n",
       "1113138554496942080    3071   3071  The Daily Telegraph\n",
       "1113097508572426242    2983   2983         Daily Mirror\n",
       "1066122339568386048    2819   2819         The Guardian\n",
       "857212166100754432     1964   1964        Boris Johnson\n",
       "825047692124442624     1661   1661                 Food\n",
       "864931126132985856     1198   1198       Vladimir Putin\n",
       "826817907946450944      714    714           Food Blogs\n",
       "781974597310615553      677    677        Entertainment\n",
       "10040395078             580    580            Joe Biden\n",
       "781974597105094656      548    548    TV/Movies Related\n",
       "834828264786898945      529    529               Drinks\n",
       "781974596157181956      516    516          Online Site\n",
       "1250078501849280512     474    474            Christmas\n",
       "1065659570578612224     427    427                  BBC\n",
       "831530561680191490      415    415              Cooking\n",
       "834828445238431744      411    411       Generic Drinks\n",
       "781974596752842752      352    352             Services"
      ]
     },
     "execution_count": 90,
     "metadata": {},
     "output_type": "execute_result"
    }
   ],
   "source": [
    "estats.head(20)"
   ]
  },
  {
   "cell_type": "code",
   "execution_count": 67,
   "id": "fdfd1432",
   "metadata": {},
   "outputs": [],
   "source": [
    "stopw = set(stopwords.words('english'))\n",
    "tokenizer = TweetTokenizer()\n",
    "tokenize = lambda text: [word for word in tokenizer.tokenize(text.lower()) \n",
    "                         if word not in punctuation and word not in stopw and not word.startswith('http')] "
   ]
  },
  {
   "cell_type": "markdown",
   "id": "ff603799",
   "metadata": {},
   "source": [
    "### Naive search engine"
   ]
  },
  {
   "cell_type": "code",
   "execution_count": 68,
   "id": "37eed332",
   "metadata": {},
   "outputs": [],
   "source": [
    "from search import TfIdfSearchEngine"
   ]
  },
  {
   "cell_type": "code",
   "execution_count": 69,
   "id": "11940ffd",
   "metadata": {},
   "outputs": [],
   "source": [
    "E = TfIdfSearchEngine(tdata.search_base, tokenize)"
   ]
  },
  {
   "cell_type": "code",
   "execution_count": 76,
   "id": "7693d194",
   "metadata": {},
   "outputs": [],
   "source": [
    "query = 'COVID-19'\n",
    "ground_truth = tdata.ground_truth(query, query_type=ENTITY)\n",
    "ranking = E.search('COVID-19 omicron vaccine pandemic')"
   ]
  },
  {
   "cell_type": "code",
   "execution_count": 87,
   "id": "7feda041",
   "metadata": {},
   "outputs": [],
   "source": [
    "tp, fp, fn, tn = TfIdfSearchEngine.feedback(ranking, \n",
    "                                            ground_truth, top_k=4500)"
   ]
  },
  {
   "cell_type": "code",
   "execution_count": 88,
   "id": "6bacf1ca",
   "metadata": {},
   "outputs": [
    {
     "name": "stdout",
     "output_type": "stream",
     "text": [
      "3209 1291 771 17079\n",
      "precision 0.7131111111111111\n",
      "recall 0.8062814070351759\n"
     ]
    }
   ],
   "source": [
    "print(len(tp), len(fp), len(fn), len(tn))\n",
    "print('precision', len(tp) / (len(tp) + len(fp)))\n",
    "print('recall', len(tp) / (len(tp) + len(fn)))"
   ]
  },
  {
   "cell_type": "code",
   "execution_count": null,
   "id": "be52cb1d",
   "metadata": {},
   "outputs": [],
   "source": []
  },
  {
   "cell_type": "markdown",
   "id": "94c0a36a",
   "metadata": {},
   "source": [
    "## Global methods\n",
    "Do not use releance feedback but global external sources"
   ]
  },
  {
   "cell_type": "markdown",
   "id": "aabad020",
   "metadata": {},
   "source": [
    "### Wordnet"
   ]
  },
  {
   "cell_type": "code",
   "execution_count": 2,
   "id": "75340890",
   "metadata": {},
   "outputs": [],
   "source": [
    "from nltk.corpus import wordnet as wn"
   ]
  },
  {
   "cell_type": "code",
   "execution_count": 8,
   "id": "b44ad778",
   "metadata": {},
   "outputs": [
    {
     "name": "stdout",
     "output_type": "stream",
     "text": [
      "any of various games played with a ball (round or oval) in which two teams try to kick or carry or propel the ball into each other's goal\n",
      "[]\n",
      "football\n",
      "football_game\n",
      "the inflated oblong ball used in playing American football\n",
      "[]\n",
      "football\n"
     ]
    }
   ],
   "source": [
    "syns = wn.synsets('football', pos=wn.NOUN)\n",
    "for syn in syns:\n",
    "    lemmas = syn.lemmas()\n",
    "    print(syn.definition())\n",
    "    print(syn.examples())\n",
    "    for lemma in lemmas:\n",
    "        print(lemma.name())"
   ]
  },
  {
   "cell_type": "markdown",
   "id": "1e8c08f4",
   "metadata": {},
   "source": [
    "### Wikidata\n",
    "Check also [ConceptNet](https://conceptnet.io/)"
   ]
  },
  {
   "cell_type": "code",
   "execution_count": 9,
   "id": "8cc30637",
   "metadata": {},
   "outputs": [],
   "source": [
    "import requests"
   ]
  },
  {
   "cell_type": "code",
   "execution_count": 10,
   "id": "df77d5f8",
   "metadata": {},
   "outputs": [],
   "source": [
    "endpoint = 'https://query.wikidata.org/sparql'"
   ]
  },
  {
   "cell_type": "code",
   "execution_count": 13,
   "id": "2e51c758",
   "metadata": {},
   "outputs": [],
   "source": [
    "sparql = \"\"\"\n",
    "select ?lexemeId ?lemma WHERE {\n",
    "  ?lexemeId dct:language wd:Q1860;\n",
    "            wikibase:lemma ?lemma.\n",
    "  FILTER (regex(?lemma, '^pandemic.*'))\n",
    "}\n",
    "\"\"\""
   ]
  },
  {
   "cell_type": "code",
   "execution_count": 14,
   "id": "5558db7e",
   "metadata": {},
   "outputs": [],
   "source": [
    "r = requests.get(endpoint, params={'query' : sparql}, \n",
    "                 headers={'Accept' : 'application/sparql-results+json'})\n",
    "data = r.json()\n",
    "statements = data['results']['bindings']"
   ]
  },
  {
   "cell_type": "code",
   "execution_count": 15,
   "id": "59358791",
   "metadata": {},
   "outputs": [
    {
     "data": {
      "text/plain": [
       "[{'lexemeId': {'type': 'uri',\n",
       "   'value': 'http://www.wikidata.org/entity/L196546'},\n",
       "  'lemma': {'xml:lang': 'en', 'type': 'literal', 'value': 'pandemically'}},\n",
       " {'lexemeId': {'type': 'uri',\n",
       "   'value': 'http://www.wikidata.org/entity/L227058'},\n",
       "  'lemma': {'xml:lang': 'en', 'type': 'literal', 'value': 'pandemic'}},\n",
       " {'lexemeId': {'type': 'uri',\n",
       "   'value': 'http://www.wikidata.org/entity/L299289'},\n",
       "  'lemma': {'xml:lang': 'en', 'type': 'literal', 'value': 'pandemic'}}]"
      ]
     },
     "execution_count": 15,
     "metadata": {},
     "output_type": "execute_result"
    }
   ],
   "source": [
    "statements"
   ]
  },
  {
   "cell_type": "markdown",
   "id": "b4d0b19a",
   "metadata": {},
   "source": [
    "## Local methods\n",
    "Exploits relevance feedback in order to learn new terminology"
   ]
  },
  {
   "cell_type": "markdown",
   "id": "24324165",
   "metadata": {},
   "source": [
    "### Specificity score\n",
    "$$\n",
    "\\delta(w) = p(w) \\log \\frac{p(w)}{q(w)}\n",
    "$$"
   ]
  },
  {
   "cell_type": "code",
   "execution_count": 93,
   "id": "9ea9f6c3",
   "metadata": {},
   "outputs": [],
   "source": [
    "import nltk\n",
    "from collections import defaultdict"
   ]
  },
  {
   "cell_type": "code",
   "execution_count": 94,
   "id": "1841288e",
   "metadata": {},
   "outputs": [],
   "source": [
    "def ngram(tokens):\n",
    "    ng = list(nltk.ngrams(tokens, n=2))\n",
    "    skip = []\n",
    "    for i, (a, b) in enumerate(ng):\n",
    "        skip.append((a, b))\n",
    "        if i < len(ng) - 1:\n",
    "            skip.append((a, ng[i+1][1]))\n",
    "    return skip"
   ]
  },
  {
   "cell_type": "code",
   "execution_count": 95,
   "id": "c59498d8",
   "metadata": {},
   "outputs": [],
   "source": [
    "tweets = list(db.find())"
   ]
  },
  {
   "cell_type": "code",
   "execution_count": 96,
   "id": "7f5ad2fa",
   "metadata": {},
   "outputs": [
    {
     "data": {
      "application/vnd.jupyter.widget-view+json": {
       "model_id": "dae444b976bd4732b4e8933966255e65",
       "version_major": 2,
       "version_minor": 0
      },
      "text/plain": [
       "  0%|          | 0/33053 [00:00<?, ?it/s]"
      ]
     },
     "metadata": {},
     "output_type": "display_data"
    }
   ],
   "source": [
    "G = defaultdict(lambda: 0)\n",
    "D = defaultdict(lambda: defaultdict(lambda: 0))\n",
    "E = defaultdict(lambda: defaultdict(lambda: 0))\n",
    "\n",
    "for tweet in tqdm(tweets):\n",
    "    try:\n",
    "        text = tweet['text']\n",
    "        annotations = tweet['context_annotations']\n",
    "        tokens = tokenize(text)\n",
    "        ngr = ngram(tokens)\n",
    "        for token in tokens:\n",
    "            G[token] += 1\n",
    "            for annotation in annotations:\n",
    "                domain_name = annotation['domain']['name']\n",
    "                D[domain_name][token] += 1\n",
    "                entity_name = annotation['entity']['name']\n",
    "                E[entity_name][token] += 1\n",
    "        for (a, b) in ngr:\n",
    "            bgram_key = \"{}_{}\".format(a, b)\n",
    "            G[bgram_key] += 1\n",
    "            for annotation in annotations:\n",
    "                domain_name = annotation['domain']['name']\n",
    "                D[domain_name][bgram_key] += 1\n",
    "                entity_name = annotation['entity']['name']\n",
    "                E[entity_name][bgram_key] += 1\n",
    "    except KeyError:\n",
    "        pass\n"
   ]
  },
  {
   "cell_type": "code",
   "execution_count": 101,
   "id": "fdbdb65a",
   "metadata": {},
   "outputs": [
    {
     "data": {
      "text/html": [
       "<div>\n",
       "<style scoped>\n",
       "    .dataframe tbody tr th:only-of-type {\n",
       "        vertical-align: middle;\n",
       "    }\n",
       "\n",
       "    .dataframe tbody tr th {\n",
       "        vertical-align: top;\n",
       "    }\n",
       "\n",
       "    .dataframe thead th {\n",
       "        text-align: right;\n",
       "    }\n",
       "</style>\n",
       "<table border=\"1\" class=\"dataframe\">\n",
       "  <thead>\n",
       "    <tr style=\"text-align: right;\">\n",
       "      <th></th>\n",
       "      <th>tweet</th>\n",
       "      <th>query</th>\n",
       "    </tr>\n",
       "    <tr>\n",
       "      <th>domain</th>\n",
       "      <th></th>\n",
       "      <th></th>\n",
       "    </tr>\n",
       "  </thead>\n",
       "  <tbody>\n",
       "    <tr>\n",
       "      <th>47</th>\n",
       "      <td>10721</td>\n",
       "      <td>Brand</td>\n",
       "    </tr>\n",
       "    <tr>\n",
       "      <th>10</th>\n",
       "      <td>6368</td>\n",
       "      <td>Person</td>\n",
       "    </tr>\n",
       "    <tr>\n",
       "      <th>65</th>\n",
       "      <td>5525</td>\n",
       "      <td>Interests and Hobbies Vertical</td>\n",
       "    </tr>\n",
       "    <tr>\n",
       "      <th>123</th>\n",
       "      <td>3980</td>\n",
       "      <td>Ongoing News Story</td>\n",
       "    </tr>\n",
       "    <tr>\n",
       "      <th>45</th>\n",
       "      <td>3331</td>\n",
       "      <td>Brand Vertical</td>\n",
       "    </tr>\n",
       "    <tr>\n",
       "      <th>35</th>\n",
       "      <td>2961</td>\n",
       "      <td>Politician</td>\n",
       "    </tr>\n",
       "    <tr>\n",
       "      <th>66</th>\n",
       "      <td>2681</td>\n",
       "      <td>Interests and Hobbies Category</td>\n",
       "    </tr>\n",
       "    <tr>\n",
       "      <th>67</th>\n",
       "      <td>2573</td>\n",
       "      <td>Interests and Hobbies</td>\n",
       "    </tr>\n",
       "    <tr>\n",
       "      <th>3</th>\n",
       "      <td>2042</td>\n",
       "      <td>TV Shows</td>\n",
       "    </tr>\n",
       "    <tr>\n",
       "      <th>46</th>\n",
       "      <td>1988</td>\n",
       "      <td>Brand Category</td>\n",
       "    </tr>\n",
       "    <tr>\n",
       "      <th>30</th>\n",
       "      <td>1015</td>\n",
       "      <td>Entities [Entity Service]</td>\n",
       "    </tr>\n",
       "    <tr>\n",
       "      <th>119</th>\n",
       "      <td>827</td>\n",
       "      <td>Holiday</td>\n",
       "    </tr>\n",
       "    <tr>\n",
       "      <th>11</th>\n",
       "      <td>655</td>\n",
       "      <td>Sport</td>\n",
       "    </tr>\n",
       "    <tr>\n",
       "      <th>60</th>\n",
       "      <td>648</td>\n",
       "      <td>Athlete</td>\n",
       "    </tr>\n",
       "    <tr>\n",
       "      <th>56</th>\n",
       "      <td>615</td>\n",
       "      <td>Actor</td>\n",
       "    </tr>\n",
       "    <tr>\n",
       "      <th>88</th>\n",
       "      <td>573</td>\n",
       "      <td>Political Body</td>\n",
       "    </tr>\n",
       "    <tr>\n",
       "      <th>26</th>\n",
       "      <td>566</td>\n",
       "      <td>Sports League</td>\n",
       "    </tr>\n",
       "    <tr>\n",
       "      <th>58</th>\n",
       "      <td>493</td>\n",
       "      <td>Entertainment Personality</td>\n",
       "    </tr>\n",
       "    <tr>\n",
       "      <th>6</th>\n",
       "      <td>473</td>\n",
       "      <td>Sports Event</td>\n",
       "    </tr>\n",
       "    <tr>\n",
       "      <th>12</th>\n",
       "      <td>460</td>\n",
       "      <td>Sports Team</td>\n",
       "    </tr>\n",
       "  </tbody>\n",
       "</table>\n",
       "</div>"
      ],
      "text/plain": [
       "        tweet                           query\n",
       "domain                                       \n",
       "47      10721                           Brand\n",
       "10       6368                          Person\n",
       "65       5525  Interests and Hobbies Vertical\n",
       "123      3980              Ongoing News Story\n",
       "45       3331                  Brand Vertical\n",
       "35       2961                      Politician\n",
       "66       2681  Interests and Hobbies Category\n",
       "67       2573           Interests and Hobbies\n",
       "3        2042                        TV Shows\n",
       "46       1988                  Brand Category\n",
       "30       1015       Entities [Entity Service]\n",
       "119       827                         Holiday\n",
       "11        655                           Sport\n",
       "60        648                         Athlete\n",
       "56        615                           Actor\n",
       "88        573                  Political Body\n",
       "26        566                   Sports League\n",
       "58        493       Entertainment Personality\n",
       "6         473                    Sports Event\n",
       "12        460                     Sports Team"
      ]
     },
     "execution_count": 101,
     "metadata": {},
     "output_type": "execute_result"
    }
   ],
   "source": [
    "dstats.head(20)"
   ]
  },
  {
   "cell_type": "code",
   "execution_count": 102,
   "id": "a98d0bd1",
   "metadata": {},
   "outputs": [],
   "source": [
    "entity = 'Joe Biden'\n",
    "domain = 'Sport'"
   ]
  },
  {
   "cell_type": "code",
   "execution_count": 103,
   "id": "162dbff0",
   "metadata": {},
   "outputs": [],
   "source": [
    "Etot = sum(E[entity].values())\n",
    "Dtot = sum(D[domain].values())\n",
    "Gtot = sum(G.values())\n",
    "terms = {}\n",
    "for word, count in D[domain].items():\n",
    "    p_w = count / Dtot\n",
    "    q_w = G[word] / Gtot\n",
    "    terms[word] = p_w * np.log(p_w / q_w)"
   ]
  },
  {
   "cell_type": "code",
   "execution_count": 104,
   "id": "9ab8653a",
   "metadata": {},
   "outputs": [],
   "source": [
    "R = pd.Series(terms)"
   ]
  },
  {
   "cell_type": "code",
   "execution_count": 105,
   "id": "9cb377aa",
   "metadata": {},
   "outputs": [
    {
     "data": {
      "text/plain": [
       "league            0.021281\n",
       "premier_league    0.013681\n",
       "premier           0.013654\n",
       "hamilton          0.010031\n",
       "lewis             0.009412\n",
       "lewis_hamilton    0.009336\n",
       "v                 0.007966\n",
       "liverpool         0.007001\n",
       "f1                0.005917\n",
       "rugby             0.005907\n",
       "max               0.005632\n",
       "–_live            0.005488\n",
       "rt                0.005228\n",
       "league_–          0.005218\n",
       "league_live       0.005139\n",
       "manchester        0.005111\n",
       "tottenham         0.004991\n",
       "verstappen        0.004958\n",
       "klopp             0.004860\n",
       "champions         0.004683\n",
       "dtype: float64"
      ]
     },
     "execution_count": 105,
     "metadata": {},
     "output_type": "execute_result"
    }
   ],
   "source": [
    "R.sort_values(ascending=False).head(20)"
   ]
  },
  {
   "cell_type": "markdown",
   "id": "1b916f3c",
   "metadata": {},
   "source": [
    "### Rocchio"
   ]
  },
  {
   "cell_type": "code",
   "execution_count": null,
   "id": "4f9b9197",
   "metadata": {},
   "outputs": [],
   "source": []
  }
 ],
 "metadata": {
  "kernelspec": {
   "display_name": "Python 3 (ipykernel)",
   "language": "python",
   "name": "python3"
  },
  "language_info": {
   "codemirror_mode": {
    "name": "ipython",
    "version": 3
   },
   "file_extension": ".py",
   "mimetype": "text/x-python",
   "name": "python",
   "nbconvert_exporter": "python",
   "pygments_lexer": "ipython3",
   "version": "3.8.8"
  },
  "toc": {
   "base_numbering": 1,
   "nav_menu": {},
   "number_sections": true,
   "sideBar": true,
   "skip_h1_title": false,
   "title_cell": "Table of Contents",
   "title_sidebar": "Contents",
   "toc_cell": false,
   "toc_position": {},
   "toc_section_display": true,
   "toc_window_display": false
  }
 },
 "nbformat": 4,
 "nbformat_minor": 5
}
