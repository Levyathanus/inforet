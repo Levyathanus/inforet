{
 "cells": [
  {
   "cell_type": "markdown",
   "metadata": {},
   "source": [
    "# SVD step-by-step"
   ]
  },
  {
   "cell_type": "code",
   "execution_count": 1,
   "metadata": {},
   "outputs": [],
   "source": [
    "import numpy as np\n",
    "\n",
    "\n",
    "# Easy SVD\n",
    "k = 2\n",
    "A = np.array([\n",
    "    [1, 2, 1],\n",
    "    [3, 0, 1],\n",
    "    [1, 1, 3],\n",
    "    [8, 0, 12]\n",
    "])\n",
    "\n",
    "B = np.dot(A.T, A)"
   ]
  },
  {
   "cell_type": "code",
   "execution_count": 2,
   "metadata": {},
   "outputs": [
    {
     "name": "stdout",
     "output_type": "stream",
     "text": [
      "[[ 75   3 103]\n",
      " [  3   5   5]\n",
      " [103   5 155]]\n"
     ]
    }
   ],
   "source": [
    "print B"
   ]
  },
  {
   "cell_type": "code",
   "execution_count": 3,
   "metadata": {},
   "outputs": [],
   "source": [
    "lb, vb = np.linalg.eig(B)"
   ]
  },
  {
   "cell_type": "code",
   "execution_count": 4,
   "metadata": {},
   "outputs": [
    {
     "name": "stdout",
     "output_type": "stream",
     "text": [
      "[ 225.64788601    4.28842295    5.06369103]\n"
     ]
    }
   ],
   "source": [
    "print lb"
   ]
  },
  {
   "cell_type": "code",
   "execution_count": 5,
   "metadata": {},
   "outputs": [],
   "source": [
    "sigmas = np.array([np.sqrt(x) for x in lb])\n",
    "r = np.array([np.dot(A, vb.T[i]) / s for i, s in enumerate(sigmas)])"
   ]
  },
  {
   "cell_type": "code",
   "execution_count": 6,
   "metadata": {},
   "outputs": [],
   "source": [
    "# sort according to eigenvalues and get K\n",
    "lpos = [i for i, w in sorted(enumerate(lb), key=lambda j: -j[1])][:k]\n",
    "ssigmas = [sigmas[i] for i in lpos]\n",
    "sr = np.array([r[i] for i in lpos])\n",
    "svb = np.array([vb.T[i] for i in lpos])\n",
    "\n",
    "Sigma = np.diag(ssigmas)\n",
    "U = sr.T\n",
    "V = svb\n",
    "\n",
    "P1 = np.dot(U, Sigma)\n",
    "P2 = np.dot(P1, V)\n"
   ]
  },
  {
   "cell_type": "code",
   "execution_count": 7,
   "metadata": {},
   "outputs": [
    {
     "name": "stdout",
     "output_type": "stream",
     "text": [
      "[[ 15.02158068   0.        ]\n",
      " [  0.           2.25026466]]\n",
      "[[-0.0960134  -0.67869231]\n",
      " [-0.16766974  0.47458576]\n",
      " [-0.20409543 -0.55109303]\n",
      " [-0.9596944   0.10218404]]\n",
      "[[-0.56456597 -0.02637021 -0.82496659]\n",
      " [ 0.44947791 -0.84811253 -0.28049018]]\n",
      "[[  0.12779879   1.33330216   1.6182021 ]\n",
      " [  1.9019693   -0.8393186    1.77826639]\n",
      " [  1.17346677   1.13259546   2.87704956]\n",
      " [  8.24220809   0.18514032  11.82832683]]\n"
     ]
    }
   ],
   "source": [
    "print Sigma\n",
    "print U\n",
    "print V\n",
    "print P2"
   ]
  },
  {
   "cell_type": "code",
   "execution_count": 8,
   "metadata": {},
   "outputs": [
    {
     "name": "stdout",
     "output_type": "stream",
     "text": [
      "False\n",
      "[[  0.12779879   1.33330216   1.6182021 ]\n",
      " [  1.9019693   -0.8393186    1.77826639]\n",
      " [  1.17346677   1.13259546   2.87704956]\n",
      " [  8.24220809   0.18514032  11.82832683]]\n",
      "[[ 1  2  1]\n",
      " [ 3  0  1]\n",
      " [ 1  1  3]\n",
      " [ 8  0 12]]\n"
     ]
    }
   ],
   "source": [
    "print np.allclose(P2, A) # for K = A.shape[1]\n",
    "print P2\n",
    "print A"
   ]
  },
  {
   "cell_type": "code",
   "execution_count": 9,
   "metadata": {},
   "outputs": [
    {
     "name": "stdout",
     "output_type": "stream",
     "text": [
      "True\n",
      "[[  1.00000000e+00   2.00000000e+00   1.00000000e+00]\n",
      " [  3.00000000e+00  -1.66871435e-15   1.00000000e+00]\n",
      " [  1.00000000e+00   1.00000000e+00   3.00000000e+00]\n",
      " [  8.00000000e+00   1.05199601e-15   1.20000000e+01]]\n"
     ]
    }
   ],
   "source": [
    "# numpy version\n",
    "Unp, snp, Vnp = np.linalg.svd(A, full_matrices=False)\n",
    "Snp = np.diag(snp)\n",
    "Pn2 = np.dot(np.dot(Unp, Snp), Vnp)\n",
    "\n",
    "print np.allclose(Pn2, A)\n",
    "\n",
    "print Pn2\n",
    "\n",
    "\n",
    "\n"
   ]
  },
  {
   "cell_type": "markdown",
   "metadata": {},
   "source": [
    "full_matrices : bool, optional\n",
    "\n",
    "If True (default), u and v have the shapes (M, M) and (N, N), respectively. Otherwise, the shapes are (M, K) and (K, N), respectively, where K = min(M, N)."
   ]
  },
  {
   "cell_type": "code",
   "execution_count": null,
   "metadata": {},
   "outputs": [],
   "source": []
  }
 ],
 "metadata": {
  "kernelspec": {
   "display_name": "Python 2",
   "language": "python",
   "name": "python2"
  },
  "language_info": {
   "codemirror_mode": {
    "name": "ipython",
    "version": 2
   },
   "file_extension": ".py",
   "mimetype": "text/x-python",
   "name": "python",
   "nbconvert_exporter": "python",
   "pygments_lexer": "ipython2",
   "version": "2.7.14"
  },
  "toc": {
   "base_numbering": 1,
   "nav_menu": {},
   "number_sections": true,
   "sideBar": true,
   "skip_h1_title": true,
   "title_cell": "Table of Contents",
   "title_sidebar": "Contents",
   "toc_cell": false,
   "toc_position": {},
   "toc_section_display": true,
   "toc_window_display": false
  }
 },
 "nbformat": 4,
 "nbformat_minor": 2
}
