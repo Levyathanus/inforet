{
 "cells": [
  {
   "cell_type": "markdown",
   "metadata": {},
   "source": [
    "# Expectation-Maximization Clustering\n",
    "\n",
    "### Maximization\n",
    "$$\n",
    "q_{mk} = \\frac{\\sum\\limits_{n=1}^{N} r_{nk}I(t_m \\in d_n)}{\\sum\\limits_{n=1}^{N}r_{nk}};\n",
    "\\alpha_{k} = \\frac{1}{N} \\sum\\limits_{n=1}^{N} r_{nk}\n",
    "$$\n",
    "\n",
    "### Expectation\n",
    "$$\n",
    "r_{nk} = \\frac{\\alpha_k\\left(\\prod_{t_m \\in d_n}q_{mk}\\right)\n",
    "\\left(\\prod_{t_m \\not\\in d_n}(1-q_{mk})\\right)}\n",
    "{\\sum\\limits_{k=1}^{K}\\alpha_k\\left(\\prod_{t_m \\in d_n}q_{mk}\\right)\n",
    "\\left(\\prod_{t_m \\not\\in d_n}(1-q_{mk})\\right)}\n",
    "$$\n",
    "\n",
    "### Example\n",
    "<table>\n",
    "    <tr>\n",
    "        <th>DocID</th>\n",
    "        <th>Tokens</th>\n",
    "        <th>Class</th>\n",
    "    </tr>\n",
    "    <tr>\n",
    "        <td>0</td>\n",
    "        <td>apple ios mac book fruit</td>\n",
    "        <td>A</td>\n",
    "    </tr>\n",
    "    <tr>\n",
    "        <td>1</td>\n",
    "        <td>apple mac book apple store fruit</td>\n",
    "        <td>A</td>\n",
    "    </tr>\n",
    "    <tr>\n",
    "        <td>2</td>\n",
    "        <td>microsoft ibm apple oracle</td>\n",
    "        <td>A</td>\n",
    "    </tr>\n",
    "    <tr>\n",
    "        <td>3</td>\n",
    "        <td>apple banana mango fruit</td>\n",
    "        <td>B</td>\n",
    "    </tr>\n",
    "    <tr>\n",
    "        <td>4</td>\n",
    "        <td>apple fruit</td>\n",
    "        <td>B</td>\n",
    "    </tr>\n",
    "</table>"
   ]
  },
  {
   "cell_type": "code",
   "execution_count": 1,
   "metadata": {},
   "outputs": [],
   "source": [
    "import numpy as np\n",
    "from IPython.core.display import display, HTML, Image\n",
    "\n",
    "docs = [\n",
    "    ['apple', 'ios', 'mac', 'book', 'fruit'],\n",
    "    ['apple', 'mac', 'book', 'apple', 'store'],\n",
    "    ['microsoft', 'ibm', 'apple', 'oracle'],\n",
    "    ['apple', 'banana', 'mango', 'fruit'],\n",
    "    ['apple', 'fruit', 'mango']\n",
    "]\n",
    "terms = list(set([x for y in docs for x in y]))\n",
    "M = np.array([[1 if x in y else 0 for x in terms] for y in docs])\n",
    "N, K, m = len(docs), 2, len(terms)\n",
    "A = np.zeros(K)\n",
    "Q = np.zeros((m, K))"
   ]
  },
  {
   "cell_type": "markdown",
   "metadata": {},
   "source": [
    "## Random init $r_{nk}$"
   ]
  },
  {
   "cell_type": "code",
   "execution_count": 2,
   "metadata": {},
   "outputs": [],
   "source": [
    "R = np.zeros((N, K))\n",
    "for doc in range(N):\n",
    "    a = np.random.uniform()\n",
    "    R[doc] = [a, 1-a]"
   ]
  },
  {
   "cell_type": "code",
   "execution_count": 3,
   "metadata": {},
   "outputs": [
    {
     "data": {
      "text/plain": [
       "array([[0.05605402, 0.94394598],\n",
       "       [0.44017889, 0.55982111],\n",
       "       [0.44729537, 0.55270463],\n",
       "       [0.0036333 , 0.9963667 ],\n",
       "       [0.68571744, 0.31428256]])"
      ]
     },
     "execution_count": 3,
     "metadata": {},
     "output_type": "execute_result"
    }
   ],
   "source": [
    "R"
   ]
  },
  {
   "cell_type": "markdown",
   "metadata": {},
   "source": [
    "## Functions"
   ]
  },
  {
   "cell_type": "code",
   "execution_count": 4,
   "metadata": {},
   "outputs": [],
   "source": [
    "def maximization(K, R):\n",
    "    for k in range(K):\n",
    "        A[k] = R[:,k].sum() / N\n",
    "        for word in range(m):\n",
    "            sigma_doc = 0.0\n",
    "            for doc in range(N):\n",
    "                sigma_doc += R[doc,k] * M[doc,word]\n",
    "            Q[word][k] = sigma_doc / R[:,k].sum()"
   ]
  },
  {
   "cell_type": "code",
   "execution_count": 5,
   "metadata": {},
   "outputs": [],
   "source": [
    "def estimate(doc, k, Q, A):\n",
    "    q_doc = np.zeros(m)\n",
    "    for word in range(m):\n",
    "        if M[doc,word] > 0:\n",
    "            q_doc[word] = Q[word,k]\n",
    "        else:\n",
    "            q_doc[word] = 1 - Q[word,k]\n",
    "    return A[k] * q_doc.prod()\n",
    "    \n",
    "def expectation(K, Q, A):\n",
    "    for doc in range(N):\n",
    "        k_estimation = np.array([estimate(doc, k, Q, A) for k in range(K)])\n",
    "        for k in range(K):\n",
    "            R[doc][k] = k_estimation[k] / k_estimation.sum()"
   ]
  },
  {
   "cell_type": "code",
   "execution_count": 8,
   "metadata": {},
   "outputs": [],
   "source": [
    "def to_table(title, data, cols, rows):\n",
    "    header = \"<tr>\" + \"\".join([\"<th>{}</th>\".format(x) for x in [''] + list(cols)]) + \"</tr>\"\n",
    "    trs = []\n",
    "    for i, c in enumerate(rows):\n",
    "        tr = \"<tr>\" + \"<td>{}</td>\".format(c)\n",
    "        tr += \"\".join([\"<td>{}</td>\".format(round(x, 3)) for x in data[i]])\n",
    "        tr += \"</tr>\"\n",
    "        trs.append(tr)\n",
    "    table = \"<h3>{}</h3><table>{}{}</table>\".format(\n",
    "        title,\n",
    "        header,\n",
    "        \"\".join(trs)\n",
    "    )\n",
    "    return table\n",
    "\n",
    "def show(r, q, a):\n",
    "    table = \"<table><tr><td style='vertical-align: top;'>{}</td><td style='vertical-align: top;'>{}</td><td style='vertical-align: top;'>{}</td></tr></table>\".format(\n",
    "        r, q, a\n",
    "    )\n",
    "    display(HTML(table))"
   ]
  },
  {
   "cell_type": "markdown",
   "metadata": {},
   "source": [
    "## Start"
   ]
  },
  {
   "cell_type": "code",
   "execution_count": 9,
   "metadata": {},
   "outputs": [
    {
     "data": {
      "text/html": [
       "<table><tr><td style='vertical-align: top;'><h3>$r_{nk}$</h3><table><tr><th></th><th>0</th><th>1</th></tr><tr><td>0</td><td>0.056</td><td>0.944</td></tr><tr><td>1</td><td>0.44</td><td>0.56</td></tr><tr><td>2</td><td>0.447</td><td>0.553</td></tr><tr><td>3</td><td>0.004</td><td>0.996</td></tr><tr><td>4</td><td>0.686</td><td>0.314</td></tr></table></td><td style='vertical-align: top;'><h3>$q_{mk}$</h3><table><tr><th></th><th>0</th><th>1</th></tr><tr><td>mac</td><td>0.0</td><td>0.0</td></tr><tr><td>ibm</td><td>0.0</td><td>0.0</td></tr><tr><td>book</td><td>0.0</td><td>0.0</td></tr><tr><td>banana</td><td>0.0</td><td>0.0</td></tr><tr><td>store</td><td>0.0</td><td>0.0</td></tr><tr><td>microsoft</td><td>0.0</td><td>0.0</td></tr><tr><td>mango</td><td>0.0</td><td>0.0</td></tr><tr><td>oracle</td><td>0.0</td><td>0.0</td></tr><tr><td>fruit</td><td>0.0</td><td>0.0</td></tr><tr><td>ios</td><td>0.0</td><td>0.0</td></tr><tr><td>apple</td><td>0.0</td><td>0.0</td></tr></table></td><td style='vertical-align: top;'><h3>$a_{k}$</h3><table><tr><th></th><th>0</th><th>1</th></tr><tr><td>priors</td><td>0.0</td><td>0.0</td></tr></table></td></tr></table>"
      ],
      "text/plain": [
       "<IPython.core.display.HTML object>"
      ]
     },
     "metadata": {},
     "output_type": "display_data"
    }
   ],
   "source": [
    "TR = to_table('$r_{nk}$', R, range(K), range(N))\n",
    "TQ = to_table('$q_{mk}$', Q, range(K), terms)\n",
    "TA = to_table('$a_{k}$', [A], range(K), ['priors'])\n",
    "show(TR, TQ, TA)"
   ]
  },
  {
   "cell_type": "markdown",
   "metadata": {},
   "source": [
    "## Iterate"
   ]
  },
  {
   "cell_type": "code",
   "execution_count": 10,
   "metadata": {},
   "outputs": [
    {
     "data": {
      "text/html": [
       "<h2>ITERATION 1</h2>"
      ],
      "text/plain": [
       "<IPython.core.display.HTML object>"
      ]
     },
     "metadata": {},
     "output_type": "display_data"
    },
    {
     "data": {
      "text/html": [
       "<table><tr><td style='vertical-align: top;'><h3>$r_{nk}$</h3><table><tr><th></th><th>0</th><th>1</th></tr><tr><td>0</td><td>0.014</td><td>0.986</td></tr><tr><td>1</td><td>0.414</td><td>0.586</td></tr><tr><td>2</td><td>0.902</td><td>0.098</td></tr><tr><td>3</td><td>0.003</td><td>0.997</td></tr><tr><td>4</td><td>0.383</td><td>0.617</td></tr></table></td><td style='vertical-align: top;'><h3>$q_{mk}$</h3><table><tr><th></th><th>0</th><th>1</th></tr><tr><td>mac</td><td>0.304</td><td>0.447</td></tr><tr><td>ibm</td><td>0.274</td><td>0.164</td></tr><tr><td>book</td><td>0.304</td><td>0.447</td></tr><tr><td>banana</td><td>0.002</td><td>0.296</td></tr><tr><td>store</td><td>0.27</td><td>0.166</td></tr><tr><td>microsoft</td><td>0.274</td><td>0.164</td></tr><tr><td>mango</td><td>0.422</td><td>0.389</td></tr><tr><td>oracle</td><td>0.274</td><td>0.164</td></tr><tr><td>fruit</td><td>0.456</td><td>0.67</td></tr><tr><td>ios</td><td>0.034</td><td>0.28</td></tr><tr><td>apple</td><td>1.0</td><td>1.0</td></tr></table></td><td style='vertical-align: top;'><h3>$a_{k}$</h3><table><tr><th></th><th>0</th><th>1</th></tr><tr><td>priors</td><td>0.327</td><td>0.673</td></tr></table></td></tr></table>"
      ],
      "text/plain": [
       "<IPython.core.display.HTML object>"
      ]
     },
     "metadata": {},
     "output_type": "display_data"
    },
    {
     "data": {
      "text/html": [
       "<h2>ITERATION 2</h2>"
      ],
      "text/plain": [
       "<IPython.core.display.HTML object>"
      ]
     },
     "metadata": {},
     "output_type": "display_data"
    },
    {
     "data": {
      "text/html": [
       "<table><tr><td style='vertical-align: top;'><h3>$r_{nk}$</h3><table><tr><th></th><th>0</th><th>1</th></tr><tr><td>0</td><td>0.0</td><td>1.0</td></tr><tr><td>1</td><td>0.203</td><td>0.797</td></tr><tr><td>2</td><td>1.0</td><td>0.0</td></tr><tr><td>3</td><td>0.0</td><td>1.0</td></tr><tr><td>4</td><td>0.031</td><td>0.969</td></tr></table></td><td style='vertical-align: top;'><h3>$q_{mk}$</h3><table><tr><th></th><th>0</th><th>1</th></tr><tr><td>mac</td><td>0.249</td><td>0.479</td></tr><tr><td>ibm</td><td>0.526</td><td>0.03</td></tr><tr><td>book</td><td>0.249</td><td>0.479</td></tr><tr><td>banana</td><td>0.002</td><td>0.304</td></tr><tr><td>store</td><td>0.241</td><td>0.178</td></tr><tr><td>microsoft</td><td>0.526</td><td>0.03</td></tr><tr><td>mango</td><td>0.225</td><td>0.492</td></tr><tr><td>oracle</td><td>0.526</td><td>0.03</td></tr><tr><td>fruit</td><td>0.233</td><td>0.792</td></tr><tr><td>ios</td><td>0.008</td><td>0.3</td></tr><tr><td>apple</td><td>1.0</td><td>1.0</td></tr></table></td><td style='vertical-align: top;'><h3>$a_{k}$</h3><table><tr><th></th><th>0</th><th>1</th></tr><tr><td>priors</td><td>0.343</td><td>0.657</td></tr></table></td></tr></table>"
      ],
      "text/plain": [
       "<IPython.core.display.HTML object>"
      ]
     },
     "metadata": {},
     "output_type": "display_data"
    },
    {
     "data": {
      "text/html": [
       "<h2>ITERATION 3</h2>"
      ],
      "text/plain": [
       "<IPython.core.display.HTML object>"
      ]
     },
     "metadata": {},
     "output_type": "display_data"
    },
    {
     "data": {
      "text/html": [
       "<table><tr><td style='vertical-align: top;'><h3>$r_{nk}$</h3><table><tr><th></th><th>0</th><th>1</th></tr><tr><td>0</td><td>0.0</td><td>1.0</td></tr><tr><td>1</td><td>0.004</td><td>0.996</td></tr><tr><td>2</td><td>1.0</td><td>0.0</td></tr><tr><td>3</td><td>0.0</td><td>1.0</td></tr><tr><td>4</td><td>0.0</td><td>1.0</td></tr></table></td><td style='vertical-align: top;'><h3>$q_{mk}$</h3><table><tr><th></th><th>0</th><th>1</th></tr><tr><td>mac</td><td>0.165</td><td>0.477</td></tr><tr><td>ibm</td><td>0.81</td><td>0.0</td></tr><tr><td>book</td><td>0.165</td><td>0.477</td></tr><tr><td>banana</td><td>0.0</td><td>0.266</td></tr><tr><td>store</td><td>0.165</td><td>0.212</td></tr><tr><td>microsoft</td><td>0.81</td><td>0.0</td></tr><tr><td>mango</td><td>0.025</td><td>0.523</td></tr><tr><td>oracle</td><td>0.81</td><td>0.0</td></tr><tr><td>fruit</td><td>0.025</td><td>0.788</td></tr><tr><td>ios</td><td>0.0</td><td>0.266</td></tr><tr><td>apple</td><td>1.0</td><td>1.0</td></tr></table></td><td style='vertical-align: top;'><h3>$a_{k}$</h3><table><tr><th></th><th>0</th><th>1</th></tr><tr><td>priors</td><td>0.247</td><td>0.753</td></tr></table></td></tr></table>"
      ],
      "text/plain": [
       "<IPython.core.display.HTML object>"
      ]
     },
     "metadata": {},
     "output_type": "display_data"
    },
    {
     "data": {
      "text/html": [
       "<h2>ITERATION 4</h2>"
      ],
      "text/plain": [
       "<IPython.core.display.HTML object>"
      ]
     },
     "metadata": {},
     "output_type": "display_data"
    },
    {
     "data": {
      "text/html": [
       "<table><tr><td style='vertical-align: top;'><h3>$r_{nk}$</h3><table><tr><th></th><th>0</th><th>1</th></tr><tr><td>0</td><td>0.0</td><td>1.0</td></tr><tr><td>1</td><td>0.0</td><td>1.0</td></tr><tr><td>2</td><td>1.0</td><td>0.0</td></tr><tr><td>3</td><td>0.0</td><td>1.0</td></tr><tr><td>4</td><td>0.0</td><td>1.0</td></tr></table></td><td style='vertical-align: top;'><h3>$q_{mk}$</h3><table><tr><th></th><th>0</th><th>1</th></tr><tr><td>mac</td><td>0.004</td><td>0.5</td></tr><tr><td>ibm</td><td>0.996</td><td>0.0</td></tr><tr><td>book</td><td>0.004</td><td>0.5</td></tr><tr><td>banana</td><td>0.0</td><td>0.25</td></tr><tr><td>store</td><td>0.004</td><td>0.249</td></tr><tr><td>microsoft</td><td>0.996</td><td>0.0</td></tr><tr><td>mango</td><td>0.0</td><td>0.5</td></tr><tr><td>oracle</td><td>0.996</td><td>0.0</td></tr><tr><td>fruit</td><td>0.0</td><td>0.751</td></tr><tr><td>ios</td><td>0.0</td><td>0.25</td></tr><tr><td>apple</td><td>1.0</td><td>1.0</td></tr></table></td><td style='vertical-align: top;'><h3>$a_{k}$</h3><table><tr><th></th><th>0</th><th>1</th></tr><tr><td>priors</td><td>0.201</td><td>0.799</td></tr></table></td></tr></table>"
      ],
      "text/plain": [
       "<IPython.core.display.HTML object>"
      ]
     },
     "metadata": {},
     "output_type": "display_data"
    },
    {
     "data": {
      "text/html": [
       "<h2>ITERATION 5</h2>"
      ],
      "text/plain": [
       "<IPython.core.display.HTML object>"
      ]
     },
     "metadata": {},
     "output_type": "display_data"
    },
    {
     "data": {
      "text/html": [
       "<table><tr><td style='vertical-align: top;'><h3>$r_{nk}$</h3><table><tr><th></th><th>0</th><th>1</th></tr><tr><td>0</td><td>0.0</td><td>1.0</td></tr><tr><td>1</td><td>0.0</td><td>1.0</td></tr><tr><td>2</td><td>1.0</td><td>0.0</td></tr><tr><td>3</td><td>0.0</td><td>1.0</td></tr><tr><td>4</td><td>0.0</td><td>1.0</td></tr></table></td><td style='vertical-align: top;'><h3>$q_{mk}$</h3><table><tr><th></th><th>0</th><th>1</th></tr><tr><td>mac</td><td>0.0</td><td>0.5</td></tr><tr><td>ibm</td><td>1.0</td><td>0.0</td></tr><tr><td>book</td><td>0.0</td><td>0.5</td></tr><tr><td>banana</td><td>0.0</td><td>0.25</td></tr><tr><td>store</td><td>0.0</td><td>0.25</td></tr><tr><td>microsoft</td><td>1.0</td><td>0.0</td></tr><tr><td>mango</td><td>0.0</td><td>0.5</td></tr><tr><td>oracle</td><td>1.0</td><td>0.0</td></tr><tr><td>fruit</td><td>0.0</td><td>0.75</td></tr><tr><td>ios</td><td>0.0</td><td>0.25</td></tr><tr><td>apple</td><td>1.0</td><td>1.0</td></tr></table></td><td style='vertical-align: top;'><h3>$a_{k}$</h3><table><tr><th></th><th>0</th><th>1</th></tr><tr><td>priors</td><td>0.2</td><td>0.8</td></tr></table></td></tr></table>"
      ],
      "text/plain": [
       "<IPython.core.display.HTML object>"
      ]
     },
     "metadata": {},
     "output_type": "display_data"
    },
    {
     "data": {
      "text/html": [
       "<h2>ITERATION 6</h2>"
      ],
      "text/plain": [
       "<IPython.core.display.HTML object>"
      ]
     },
     "metadata": {},
     "output_type": "display_data"
    },
    {
     "data": {
      "text/html": [
       "<table><tr><td style='vertical-align: top;'><h3>$r_{nk}$</h3><table><tr><th></th><th>0</th><th>1</th></tr><tr><td>0</td><td>0.0</td><td>1.0</td></tr><tr><td>1</td><td>0.0</td><td>1.0</td></tr><tr><td>2</td><td>1.0</td><td>0.0</td></tr><tr><td>3</td><td>0.0</td><td>1.0</td></tr><tr><td>4</td><td>0.0</td><td>1.0</td></tr></table></td><td style='vertical-align: top;'><h3>$q_{mk}$</h3><table><tr><th></th><th>0</th><th>1</th></tr><tr><td>mac</td><td>0.0</td><td>0.5</td></tr><tr><td>ibm</td><td>1.0</td><td>0.0</td></tr><tr><td>book</td><td>0.0</td><td>0.5</td></tr><tr><td>banana</td><td>0.0</td><td>0.25</td></tr><tr><td>store</td><td>0.0</td><td>0.25</td></tr><tr><td>microsoft</td><td>1.0</td><td>0.0</td></tr><tr><td>mango</td><td>0.0</td><td>0.5</td></tr><tr><td>oracle</td><td>1.0</td><td>0.0</td></tr><tr><td>fruit</td><td>0.0</td><td>0.75</td></tr><tr><td>ios</td><td>0.0</td><td>0.25</td></tr><tr><td>apple</td><td>1.0</td><td>1.0</td></tr></table></td><td style='vertical-align: top;'><h3>$a_{k}$</h3><table><tr><th></th><th>0</th><th>1</th></tr><tr><td>priors</td><td>0.2</td><td>0.8</td></tr></table></td></tr></table>"
      ],
      "text/plain": [
       "<IPython.core.display.HTML object>"
      ]
     },
     "metadata": {},
     "output_type": "display_data"
    },
    {
     "data": {
      "text/html": [
       "<h2>ITERATION 7</h2>"
      ],
      "text/plain": [
       "<IPython.core.display.HTML object>"
      ]
     },
     "metadata": {},
     "output_type": "display_data"
    },
    {
     "data": {
      "text/html": [
       "<table><tr><td style='vertical-align: top;'><h3>$r_{nk}$</h3><table><tr><th></th><th>0</th><th>1</th></tr><tr><td>0</td><td>0.0</td><td>1.0</td></tr><tr><td>1</td><td>0.0</td><td>1.0</td></tr><tr><td>2</td><td>1.0</td><td>0.0</td></tr><tr><td>3</td><td>0.0</td><td>1.0</td></tr><tr><td>4</td><td>0.0</td><td>1.0</td></tr></table></td><td style='vertical-align: top;'><h3>$q_{mk}$</h3><table><tr><th></th><th>0</th><th>1</th></tr><tr><td>mac</td><td>0.0</td><td>0.5</td></tr><tr><td>ibm</td><td>1.0</td><td>0.0</td></tr><tr><td>book</td><td>0.0</td><td>0.5</td></tr><tr><td>banana</td><td>0.0</td><td>0.25</td></tr><tr><td>store</td><td>0.0</td><td>0.25</td></tr><tr><td>microsoft</td><td>1.0</td><td>0.0</td></tr><tr><td>mango</td><td>0.0</td><td>0.5</td></tr><tr><td>oracle</td><td>1.0</td><td>0.0</td></tr><tr><td>fruit</td><td>0.0</td><td>0.75</td></tr><tr><td>ios</td><td>0.0</td><td>0.25</td></tr><tr><td>apple</td><td>1.0</td><td>1.0</td></tr></table></td><td style='vertical-align: top;'><h3>$a_{k}$</h3><table><tr><th></th><th>0</th><th>1</th></tr><tr><td>priors</td><td>0.2</td><td>0.8</td></tr></table></td></tr></table>"
      ],
      "text/plain": [
       "<IPython.core.display.HTML object>"
      ]
     },
     "metadata": {},
     "output_type": "display_data"
    },
    {
     "data": {
      "text/html": [
       "<h2>ITERATION 8</h2>"
      ],
      "text/plain": [
       "<IPython.core.display.HTML object>"
      ]
     },
     "metadata": {},
     "output_type": "display_data"
    },
    {
     "data": {
      "text/html": [
       "<table><tr><td style='vertical-align: top;'><h3>$r_{nk}$</h3><table><tr><th></th><th>0</th><th>1</th></tr><tr><td>0</td><td>0.0</td><td>1.0</td></tr><tr><td>1</td><td>0.0</td><td>1.0</td></tr><tr><td>2</td><td>1.0</td><td>0.0</td></tr><tr><td>3</td><td>0.0</td><td>1.0</td></tr><tr><td>4</td><td>0.0</td><td>1.0</td></tr></table></td><td style='vertical-align: top;'><h3>$q_{mk}$</h3><table><tr><th></th><th>0</th><th>1</th></tr><tr><td>mac</td><td>0.0</td><td>0.5</td></tr><tr><td>ibm</td><td>1.0</td><td>0.0</td></tr><tr><td>book</td><td>0.0</td><td>0.5</td></tr><tr><td>banana</td><td>0.0</td><td>0.25</td></tr><tr><td>store</td><td>0.0</td><td>0.25</td></tr><tr><td>microsoft</td><td>1.0</td><td>0.0</td></tr><tr><td>mango</td><td>0.0</td><td>0.5</td></tr><tr><td>oracle</td><td>1.0</td><td>0.0</td></tr><tr><td>fruit</td><td>0.0</td><td>0.75</td></tr><tr><td>ios</td><td>0.0</td><td>0.25</td></tr><tr><td>apple</td><td>1.0</td><td>1.0</td></tr></table></td><td style='vertical-align: top;'><h3>$a_{k}$</h3><table><tr><th></th><th>0</th><th>1</th></tr><tr><td>priors</td><td>0.2</td><td>0.8</td></tr></table></td></tr></table>"
      ],
      "text/plain": [
       "<IPython.core.display.HTML object>"
      ]
     },
     "metadata": {},
     "output_type": "display_data"
    },
    {
     "data": {
      "text/html": [
       "<h2>ITERATION 9</h2>"
      ],
      "text/plain": [
       "<IPython.core.display.HTML object>"
      ]
     },
     "metadata": {},
     "output_type": "display_data"
    },
    {
     "data": {
      "text/html": [
       "<table><tr><td style='vertical-align: top;'><h3>$r_{nk}$</h3><table><tr><th></th><th>0</th><th>1</th></tr><tr><td>0</td><td>0.0</td><td>1.0</td></tr><tr><td>1</td><td>0.0</td><td>1.0</td></tr><tr><td>2</td><td>1.0</td><td>0.0</td></tr><tr><td>3</td><td>0.0</td><td>1.0</td></tr><tr><td>4</td><td>0.0</td><td>1.0</td></tr></table></td><td style='vertical-align: top;'><h3>$q_{mk}$</h3><table><tr><th></th><th>0</th><th>1</th></tr><tr><td>mac</td><td>0.0</td><td>0.5</td></tr><tr><td>ibm</td><td>1.0</td><td>0.0</td></tr><tr><td>book</td><td>0.0</td><td>0.5</td></tr><tr><td>banana</td><td>0.0</td><td>0.25</td></tr><tr><td>store</td><td>0.0</td><td>0.25</td></tr><tr><td>microsoft</td><td>1.0</td><td>0.0</td></tr><tr><td>mango</td><td>0.0</td><td>0.5</td></tr><tr><td>oracle</td><td>1.0</td><td>0.0</td></tr><tr><td>fruit</td><td>0.0</td><td>0.75</td></tr><tr><td>ios</td><td>0.0</td><td>0.25</td></tr><tr><td>apple</td><td>1.0</td><td>1.0</td></tr></table></td><td style='vertical-align: top;'><h3>$a_{k}$</h3><table><tr><th></th><th>0</th><th>1</th></tr><tr><td>priors</td><td>0.2</td><td>0.8</td></tr></table></td></tr></table>"
      ],
      "text/plain": [
       "<IPython.core.display.HTML object>"
      ]
     },
     "metadata": {},
     "output_type": "display_data"
    },
    {
     "data": {
      "text/html": [
       "<h2>ITERATION 10</h2>"
      ],
      "text/plain": [
       "<IPython.core.display.HTML object>"
      ]
     },
     "metadata": {},
     "output_type": "display_data"
    },
    {
     "data": {
      "text/html": [
       "<table><tr><td style='vertical-align: top;'><h3>$r_{nk}$</h3><table><tr><th></th><th>0</th><th>1</th></tr><tr><td>0</td><td>0.0</td><td>1.0</td></tr><tr><td>1</td><td>0.0</td><td>1.0</td></tr><tr><td>2</td><td>1.0</td><td>0.0</td></tr><tr><td>3</td><td>0.0</td><td>1.0</td></tr><tr><td>4</td><td>0.0</td><td>1.0</td></tr></table></td><td style='vertical-align: top;'><h3>$q_{mk}$</h3><table><tr><th></th><th>0</th><th>1</th></tr><tr><td>mac</td><td>0.0</td><td>0.5</td></tr><tr><td>ibm</td><td>1.0</td><td>0.0</td></tr><tr><td>book</td><td>0.0</td><td>0.5</td></tr><tr><td>banana</td><td>0.0</td><td>0.25</td></tr><tr><td>store</td><td>0.0</td><td>0.25</td></tr><tr><td>microsoft</td><td>1.0</td><td>0.0</td></tr><tr><td>mango</td><td>0.0</td><td>0.5</td></tr><tr><td>oracle</td><td>1.0</td><td>0.0</td></tr><tr><td>fruit</td><td>0.0</td><td>0.75</td></tr><tr><td>ios</td><td>0.0</td><td>0.25</td></tr><tr><td>apple</td><td>1.0</td><td>1.0</td></tr></table></td><td style='vertical-align: top;'><h3>$a_{k}$</h3><table><tr><th></th><th>0</th><th>1</th></tr><tr><td>priors</td><td>0.2</td><td>0.8</td></tr></table></td></tr></table>"
      ],
      "text/plain": [
       "<IPython.core.display.HTML object>"
      ]
     },
     "metadata": {},
     "output_type": "display_data"
    }
   ],
   "source": [
    "for iteration in range(10):\n",
    "    maximization(K, R)\n",
    "    expectation(K, Q, A)\n",
    "    TR = to_table('$r_{nk}$', R, range(K), range(N))\n",
    "    TQ = to_table('$q_{mk}$', Q, range(K), terms)\n",
    "    TA = to_table('$a_{k}$', [A], range(K), ['priors'])\n",
    "    display(HTML(\"<h2>ITERATION {}</h2>\".format(iteration+1)))\n",
    "    show(TR, TQ, TA)"
   ]
  },
  {
   "cell_type": "code",
   "execution_count": null,
   "metadata": {},
   "outputs": [],
   "source": []
  },
  {
   "cell_type": "code",
   "execution_count": null,
   "metadata": {},
   "outputs": [],
   "source": []
  },
  {
   "cell_type": "code",
   "execution_count": null,
   "metadata": {},
   "outputs": [],
   "source": []
  },
  {
   "cell_type": "code",
   "execution_count": null,
   "metadata": {},
   "outputs": [],
   "source": []
  }
 ],
 "metadata": {
  "kernelspec": {
   "display_name": "Python 3 (ipykernel)",
   "language": "python",
   "name": "python3"
  },
  "language_info": {
   "codemirror_mode": {
    "name": "ipython",
    "version": 3
   },
   "file_extension": ".py",
   "mimetype": "text/x-python",
   "name": "python",
   "nbconvert_exporter": "python",
   "pygments_lexer": "ipython3",
   "version": "3.8.8"
  },
  "toc": {
   "base_numbering": 1,
   "nav_menu": {},
   "number_sections": true,
   "sideBar": true,
   "skip_h1_title": false,
   "title_cell": "Table of Contents",
   "title_sidebar": "Contents",
   "toc_cell": false,
   "toc_position": {},
   "toc_section_display": true,
   "toc_window_display": false
  }
 },
 "nbformat": 4,
 "nbformat_minor": 2
}
