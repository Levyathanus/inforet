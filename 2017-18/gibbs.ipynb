{
 "cells": [
  {
   "cell_type": "markdown",
   "metadata": {},
   "source": [
    "# Tutorial on collapsed Gibbs sampling"
   ]
  },
  {
   "cell_type": "code",
   "execution_count": 1,
   "metadata": {},
   "outputs": [
    {
     "name": "stdout",
     "output_type": "stream",
     "text": [
      "importing Jupyter notebook from utils.ipynb\n"
     ]
    }
   ],
   "source": [
    "import numpy as np\n",
    "from IPython.core.display import display, HTML, Image\n",
    "import nbimporter\n",
    "from utils import to_table\n",
    "\n",
    "\n",
    "docs = [\n",
    "    ['apple', 'ios', 'mac', 'book'],\n",
    "    ['apple', 'mac', 'book', 'apple', 'store'],\n",
    "    ['mac', 'book', 'ios', 'store'],\n",
    "    ['banana', 'mango', 'fruit'],\n",
    "    ['apple', 'fruit'],\n",
    "    ['orange', 'strawberry', 'banana'],\n",
    "    ['orange', 'mango', 'banana'],\n",
    "    ['fruit', 'apple', 'mac', 'ios']\n",
    "]\n",
    "K = 2\n",
    "words = list(set([x for y in docs for x in y]))\n",
    "alpha = np.array([1]*K)\n",
    "beta = np.array([1]*len(words))"
   ]
  },
  {
   "cell_type": "markdown",
   "metadata": {},
   "source": [
    "## Init counters of assignments\n",
    "- $n_{d,k}$ number of words of the document $d$ assigned to $k$\n",
    "- $n_{k,w}$ number of times (instances of) word $w$ is assigned to $k$\n",
    "- $n_k$ number of word instances assignements to $k$\n",
    "- $z$ array of assignments to topics for each of the words instances"
   ]
  },
  {
   "cell_type": "code",
   "execution_count": 2,
   "metadata": {},
   "outputs": [],
   "source": [
    "N = sum([len(x) for x in docs])\n",
    "z = np.zeros(N)\n",
    "ndk = np.zeros((len(docs), K))\n",
    "nkw = np.zeros((K, len(words)))\n",
    "nk = np.zeros(K)"
   ]
  },
  {
   "cell_type": "markdown",
   "metadata": {},
   "source": [
    "### Randomly initialize"
   ]
  },
  {
   "cell_type": "code",
   "execution_count": 3,
   "metadata": {},
   "outputs": [],
   "source": [
    "instance = 0\n",
    "for i, doc in enumerate(docs):\n",
    "    for w in doc:\n",
    "        t = np.random.choice(range(0,K))\n",
    "        z[instance] = t\n",
    "        nk[t] += 1\n",
    "        ndk[i,t] += 1\n",
    "        nkw[t, words.index(w)] += 1\n",
    "        instance += 1"
   ]
  },
  {
   "cell_type": "code",
   "execution_count": 4,
   "metadata": {},
   "outputs": [],
   "source": [
    "initial_assignment = to_table(z, ['topic'], [x for y in docs for x in y])\n",
    "initial_ndk = to_table(ndk, range(0,len(docs)), range(0,K))\n",
    "initial_nkw = to_table(nkw, range(0,K), words)"
   ]
  },
  {
   "cell_type": "code",
   "execution_count": 5,
   "metadata": {},
   "outputs": [
    {
     "data": {
      "text/html": [
       "<table><tr><th></th><th>apple</th><th>ios</th><th>mac</th><th>book</th><th>apple</th><th>mac</th><th>book</th><th>apple</th><th>store</th><th>mac</th><th>book</th><th>ios</th><th>store</th><th>banana</th><th>mango</th><th>fruit</th><th>apple</th><th>fruit</th><th>orange</th><th>strawberry</th><th>banana</th><th>orange</th><th>mango</th><th>banana</th><th>fruit</th><th>apple</th><th>mac</th><th>ios</th></tr><tr><td><strong>topic</strong></td><td>1.0</td><td>1.0</td><td>1.0</td><td>0.0</td><td>1.0</td><td>1.0</td><td>0.0</td><td>0.0</td><td>0.0</td><td>1.0</td><td>0.0</td><td>1.0</td><td>1.0</td><td>0.0</td><td>0.0</td><td>1.0</td><td>0.0</td><td>1.0</td><td>1.0</td><td>0.0</td><td>0.0</td><td>1.0</td><td>0.0</td><td>0.0</td><td>0.0</td><td>0.0</td><td>0.0</td><td>0.0</td></tr></table>"
      ],
      "text/plain": [
       "<IPython.core.display.HTML object>"
      ]
     },
     "metadata": {},
     "output_type": "display_data"
    },
    {
     "data": {
      "text/html": [
       "<table><tr><th></th><th>0</th><th>1</th></tr><tr><td><strong>0</strong></td><td>1.0</td><td>3.0</td></tr><tr><td><strong>1</strong></td><td>3.0</td><td>2.0</td></tr><tr><td><strong>2</strong></td><td>1.0</td><td>3.0</td></tr><tr><td><strong>3</strong></td><td>2.0</td><td>1.0</td></tr><tr><td><strong>4</strong></td><td>1.0</td><td>1.0</td></tr><tr><td><strong>5</strong></td><td>2.0</td><td>1.0</td></tr><tr><td><strong>6</strong></td><td>2.0</td><td>1.0</td></tr><tr><td><strong>7</strong></td><td>4.0</td><td>0.0</td></tr></table>"
      ],
      "text/plain": [
       "<IPython.core.display.HTML object>"
      ]
     },
     "metadata": {},
     "output_type": "display_data"
    },
    {
     "data": {
      "text/html": [
       "<table><tr><th></th><th>apple</th><th>ios</th><th>fruit</th><th>mango</th><th>strawberry</th><th>mac</th><th>book</th><th>orange</th><th>banana</th><th>store</th></tr><tr><td><strong>0</strong></td><td>3.0</td><td>1.0</td><td>1.0</td><td>2.0</td><td>1.0</td><td>1.0</td><td>3.0</td><td>0.0</td><td>3.0</td><td>1.0</td></tr><tr><td><strong>1</strong></td><td>2.0</td><td>2.0</td><td>2.0</td><td>0.0</td><td>0.0</td><td>3.0</td><td>0.0</td><td>2.0</td><td>0.0</td><td>1.0</td></tr></table>"
      ],
      "text/plain": [
       "<IPython.core.display.HTML object>"
      ]
     },
     "metadata": {},
     "output_type": "display_data"
    }
   ],
   "source": [
    "display(HTML(initial_assignment))\n",
    "display(HTML(initial_ndk))\n",
    "display(HTML(initial_nkw))"
   ]
  },
  {
   "cell_type": "markdown",
   "metadata": {},
   "source": [
    "## Likelihood"
   ]
  },
  {
   "cell_type": "code",
   "execution_count": 6,
   "metadata": {},
   "outputs": [],
   "source": [
    "def theta(ndk, alpha, d_i, k_i):\n",
    "    return (ndk[d_i, k_i] + alpha[k_i]) / (np.sum(ndk[d_i,:]) + alpha[k_i])\n",
    "\n",
    "def phi(nkw, beta, w_i, k_i):\n",
    "    return (nkw[k_i, w_i] + beta[w_i]) / (np.sum(nkw[k_i,:] + beta))"
   ]
  },
  {
   "cell_type": "code",
   "execution_count": 7,
   "metadata": {},
   "outputs": [
    {
     "name": "stdout",
     "output_type": "stream",
     "text": [
      "0.666666666667\n"
     ]
    }
   ],
   "source": [
    "print phi(ndk, alpha, 1, 0)"
   ]
  },
  {
   "cell_type": "markdown",
   "metadata": {},
   "source": [
    "# Gibbs Sampling"
   ]
  },
  {
   "cell_type": "code",
   "execution_count": 8,
   "metadata": {},
   "outputs": [],
   "source": [
    "def gibbs(docs, words, topics, ndk, nkw, nk, alpha, beta, iterations=10):\n",
    "    for it in range(0, iterations):\n",
    "        w_i = 0\n",
    "        for doc_i, doc in enumerate(docs):\n",
    "            for w in doc:\n",
    "                word = [x for y in docs for x in y][w_i]\n",
    "                topic = int(topics[w_i])\n",
    "                # Remove current assignment\n",
    "                ndk[doc_i, topic] -= 1\n",
    "                nkw[topic, words.index(word)] -= 1\n",
    "                nk[topic] -= 1\n",
    "                p_z = np.zeros(len(alpha))\n",
    "                for k_i in range(0, len(alpha)):\n",
    "                    p_z[k_i] = theta(ndk, alpha, doc_i, k_i) * phi(nkw, beta, words.index(word), k_i)\n",
    "                p_z = p_z / np.sum(p_z)\n",
    "                # Sample from p_z\n",
    "                new_topic = np.random.choice(len(p_z), 1, p=p_z)[0]\n",
    "                # Update\n",
    "                topics[w_i] = new_topic\n",
    "                ndk[doc_i, new_topic] += 1\n",
    "                nkw[new_topic, words.index(word)] += 1\n",
    "                nk[new_topic] += 1\n",
    "                w_i += 1"
   ]
  },
  {
   "cell_type": "code",
   "execution_count": 9,
   "metadata": {},
   "outputs": [],
   "source": [
    "gibbs(docs, words, z, ndk, nkw, nk, alpha, beta, iterations=100)"
   ]
  },
  {
   "cell_type": "code",
   "execution_count": 10,
   "metadata": {},
   "outputs": [],
   "source": [
    "final_assignment = to_table(z, ['topic'], [x for y in docs for x in y])\n",
    "final_ndk = to_table(ndk, range(0,len(docs)), range(0,K))\n",
    "final_nkw = to_table(nkw, range(0,K), words)"
   ]
  },
  {
   "cell_type": "code",
   "execution_count": 11,
   "metadata": {},
   "outputs": [
    {
     "data": {
      "text/html": [
       "<table><tr><th></th><th>apple</th><th>ios</th><th>mac</th><th>book</th><th>apple</th><th>mac</th><th>book</th><th>apple</th><th>store</th><th>mac</th><th>book</th><th>ios</th><th>store</th><th>banana</th><th>mango</th><th>fruit</th><th>apple</th><th>fruit</th><th>orange</th><th>strawberry</th><th>banana</th><th>orange</th><th>mango</th><th>banana</th><th>fruit</th><th>apple</th><th>mac</th><th>ios</th></tr><tr><td><strong>topic</strong></td><td>1.0</td><td>1.0</td><td>1.0</td><td>0.0</td><td>1.0</td><td>1.0</td><td>0.0</td><td>0.0</td><td>0.0</td><td>1.0</td><td>0.0</td><td>1.0</td><td>1.0</td><td>0.0</td><td>0.0</td><td>1.0</td><td>0.0</td><td>1.0</td><td>1.0</td><td>0.0</td><td>0.0</td><td>1.0</td><td>0.0</td><td>0.0</td><td>0.0</td><td>0.0</td><td>0.0</td><td>0.0</td></tr></table>"
      ],
      "text/plain": [
       "<IPython.core.display.HTML object>"
      ]
     },
     "metadata": {},
     "output_type": "display_data"
    },
    {
     "data": {
      "text/html": [
       "<table><tr><th></th><th>apple</th><th>ios</th><th>mac</th><th>book</th><th>apple</th><th>mac</th><th>book</th><th>apple</th><th>store</th><th>mac</th><th>book</th><th>ios</th><th>store</th><th>banana</th><th>mango</th><th>fruit</th><th>apple</th><th>fruit</th><th>orange</th><th>strawberry</th><th>banana</th><th>orange</th><th>mango</th><th>banana</th><th>fruit</th><th>apple</th><th>mac</th><th>ios</th></tr><tr><td><strong>topic</strong></td><td>1.0</td><td>0.0</td><td>0.0</td><td>0.0</td><td>1.0</td><td>0.0</td><td>0.0</td><td>0.0</td><td>0.0</td><td>0.0</td><td>0.0</td><td>1.0</td><td>1.0</td><td>1.0</td><td>1.0</td><td>1.0</td><td>1.0</td><td>1.0</td><td>0.0</td><td>0.0</td><td>0.0</td><td>1.0</td><td>0.0</td><td>0.0</td><td>1.0</td><td>1.0</td><td>1.0</td><td>1.0</td></tr></table>"
      ],
      "text/plain": [
       "<IPython.core.display.HTML object>"
      ]
     },
     "metadata": {},
     "output_type": "display_data"
    }
   ],
   "source": [
    "display(HTML(initial_assignment))\n",
    "display(HTML(final_assignment))"
   ]
  },
  {
   "cell_type": "code",
   "execution_count": 12,
   "metadata": {},
   "outputs": [
    {
     "data": {
      "text/html": [
       "<table><tr><th></th><th>0</th><th>1</th></tr><tr><td><strong>0</strong></td><td>1.0</td><td>3.0</td></tr><tr><td><strong>1</strong></td><td>3.0</td><td>2.0</td></tr><tr><td><strong>2</strong></td><td>1.0</td><td>3.0</td></tr><tr><td><strong>3</strong></td><td>2.0</td><td>1.0</td></tr><tr><td><strong>4</strong></td><td>1.0</td><td>1.0</td></tr><tr><td><strong>5</strong></td><td>2.0</td><td>1.0</td></tr><tr><td><strong>6</strong></td><td>2.0</td><td>1.0</td></tr><tr><td><strong>7</strong></td><td>4.0</td><td>0.0</td></tr></table>"
      ],
      "text/plain": [
       "<IPython.core.display.HTML object>"
      ]
     },
     "metadata": {},
     "output_type": "display_data"
    },
    {
     "data": {
      "text/html": [
       "<table><tr><th></th><th>0</th><th>1</th></tr><tr><td><strong>0</strong></td><td>3.0</td><td>1.0</td></tr><tr><td><strong>1</strong></td><td>4.0</td><td>1.0</td></tr><tr><td><strong>2</strong></td><td>2.0</td><td>2.0</td></tr><tr><td><strong>3</strong></td><td>0.0</td><td>3.0</td></tr><tr><td><strong>4</strong></td><td>0.0</td><td>2.0</td></tr><tr><td><strong>5</strong></td><td>3.0</td><td>0.0</td></tr><tr><td><strong>6</strong></td><td>2.0</td><td>1.0</td></tr><tr><td><strong>7</strong></td><td>0.0</td><td>4.0</td></tr></table>"
      ],
      "text/plain": [
       "<IPython.core.display.HTML object>"
      ]
     },
     "metadata": {},
     "output_type": "display_data"
    }
   ],
   "source": [
    "display(HTML(initial_ndk))\n",
    "display(HTML(final_ndk))"
   ]
  },
  {
   "cell_type": "code",
   "execution_count": 13,
   "metadata": {},
   "outputs": [
    {
     "data": {
      "text/html": [
       "<table><tr><th></th><th>apple</th><th>ios</th><th>fruit</th><th>mango</th><th>strawberry</th><th>mac</th><th>book</th><th>orange</th><th>banana</th><th>store</th></tr><tr><td><strong>0</strong></td><td>3.0</td><td>1.0</td><td>1.0</td><td>2.0</td><td>1.0</td><td>1.0</td><td>3.0</td><td>0.0</td><td>3.0</td><td>1.0</td></tr><tr><td><strong>1</strong></td><td>2.0</td><td>2.0</td><td>2.0</td><td>0.0</td><td>0.0</td><td>3.0</td><td>0.0</td><td>2.0</td><td>0.0</td><td>1.0</td></tr></table>"
      ],
      "text/plain": [
       "<IPython.core.display.HTML object>"
      ]
     },
     "metadata": {},
     "output_type": "display_data"
    },
    {
     "data": {
      "text/html": [
       "<table><tr><th></th><th>apple</th><th>ios</th><th>fruit</th><th>mango</th><th>strawberry</th><th>mac</th><th>book</th><th>orange</th><th>banana</th><th>store</th></tr><tr><td><strong>0</strong></td><td>1.0</td><td>1.0</td><td>0.0</td><td>1.0</td><td>1.0</td><td>3.0</td><td>3.0</td><td>1.0</td><td>2.0</td><td>1.0</td></tr><tr><td><strong>1</strong></td><td>4.0</td><td>2.0</td><td>3.0</td><td>1.0</td><td>0.0</td><td>1.0</td><td>0.0</td><td>1.0</td><td>1.0</td><td>1.0</td></tr></table>"
      ],
      "text/plain": [
       "<IPython.core.display.HTML object>"
      ]
     },
     "metadata": {},
     "output_type": "display_data"
    }
   ],
   "source": [
    "display(HTML(initial_nkw))\n",
    "display(HTML(final_nkw))"
   ]
  },
  {
   "cell_type": "markdown",
   "metadata": {},
   "source": [
    "# Sklearn implementation"
   ]
  },
  {
   "cell_type": "code",
   "execution_count": 14,
   "metadata": {},
   "outputs": [
    {
     "name": "stderr",
     "output_type": "stream",
     "text": [
      "/usr/local/lib/python2.7/site-packages/sklearn/decomposition/online_lda.py:294: DeprecationWarning: n_topics has been renamed to n_components in version 0.19 and will be removed in 0.21\n",
      "  DeprecationWarning)\n"
     ]
    }
   ],
   "source": [
    "from sklearn.decomposition import LatentDirichletAllocation\n",
    "from collections import Counter\n",
    "\n",
    "\n",
    "M = np.zeros((len(words), len(docs)))\n",
    "for i, doc in enumerate(docs):\n",
    "    for k, w in Counter(doc).most_common():\n",
    "        M[words.index(k), i] = w\n",
    "LDA = LatentDirichletAllocation(n_topics=2, learning_method='batch', max_iter=100).fit(M.T)"
   ]
  },
  {
   "cell_type": "code",
   "execution_count": 15,
   "metadata": {},
   "outputs": [],
   "source": [
    "A = LDA.components_"
   ]
  },
  {
   "cell_type": "markdown",
   "metadata": {},
   "source": [
    "Topic word distribution. components_[i, j] represents word j in topic i."
   ]
  },
  {
   "cell_type": "code",
   "execution_count": 16,
   "metadata": {},
   "outputs": [
    {
     "data": {
      "text/html": [
       "<table><tr><th></th><th>apple</th><th>ios</th><th>fruit</th><th>mango</th><th>strawberry</th><th>mac</th><th>book</th><th>orange</th><th>banana</th><th>store</th></tr><tr><td><strong>0</strong></td><td>0.513</td><td>0.51</td><td>1.586</td><td>2.495</td><td>1.496</td><td>0.509</td><td>0.509</td><td>2.496</td><td>3.496</td><td>0.508</td></tr><tr><td><strong>1</strong></td><td>5.487</td><td>3.49</td><td>2.414</td><td>0.505</td><td>0.504</td><td>4.491</td><td>3.491</td><td>0.504</td><td>0.504</td><td>2.492</td></tr></table>"
      ],
      "text/plain": [
       "<IPython.core.display.HTML object>"
      ]
     },
     "metadata": {},
     "output_type": "display_data"
    }
   ],
   "source": [
    "display(HTML(to_table(A, range(0,K), words)))"
   ]
  },
  {
   "cell_type": "code",
   "execution_count": 17,
   "metadata": {},
   "outputs": [],
   "source": [
    "Terms = np.zeros((len(words), K))\n",
    "Docs = np.zeros((len(docs), K))\n",
    "\n",
    "for w_i, w in enumerate(words):\n",
    "    Terms[w_i] = A.T[w_i] / np.sum(A.T[w_i])\n",
    "\n",
    "for d_i, d in enumerate(docs):\n",
    "    dM = np.zeros((len(d), K))\n",
    "    for j, w in enumerate(d):\n",
    "        dM[j] = Terms[words.index(w)]\n",
    "    Docs[d_i] = np.sum(dM, axis=0) / np.array([len(d)]*K)"
   ]
  },
  {
   "cell_type": "code",
   "execution_count": 18,
   "metadata": {},
   "outputs": [
    {
     "data": {
      "text/html": [
       "<table><tr><th></th><th>0</th><th>1</th></tr><tr><td><strong>apple</strong></td><td>0.086</td><td>0.914</td></tr><tr><td><strong>ios</strong></td><td>0.128</td><td>0.872</td></tr><tr><td><strong>fruit</strong></td><td>0.397</td><td>0.603</td></tr><tr><td><strong>mango</strong></td><td>0.832</td><td>0.168</td></tr><tr><td><strong>strawberry</strong></td><td>0.748</td><td>0.252</td></tr><tr><td><strong>mac</strong></td><td>0.102</td><td>0.898</td></tr><tr><td><strong>book</strong></td><td>0.127</td><td>0.873</td></tr><tr><td><strong>orange</strong></td><td>0.832</td><td>0.168</td></tr><tr><td><strong>banana</strong></td><td>0.874</td><td>0.126</td></tr><tr><td><strong>store</strong></td><td>0.169</td><td>0.831</td></tr></table>"
      ],
      "text/plain": [
       "<IPython.core.display.HTML object>"
      ]
     },
     "metadata": {},
     "output_type": "display_data"
    },
    {
     "data": {
      "text/html": [
       "<table><tr><th></th><th>0</th><th>1</th></tr><tr><td><strong>0</strong></td><td>0.111</td><td>0.889</td></tr><tr><td><strong>1</strong></td><td>0.114</td><td>0.886</td></tr><tr><td><strong>2</strong></td><td>0.131</td><td>0.869</td></tr><tr><td><strong>3</strong></td><td>0.701</td><td>0.299</td></tr><tr><td><strong>4</strong></td><td>0.241</td><td>0.759</td></tr><tr><td><strong>5</strong></td><td>0.818</td><td>0.182</td></tr><tr><td><strong>6</strong></td><td>0.846</td><td>0.154</td></tr><tr><td><strong>7</strong></td><td>0.178</td><td>0.822</td></tr></table>"
      ],
      "text/plain": [
       "<IPython.core.display.HTML object>"
      ]
     },
     "metadata": {},
     "output_type": "display_data"
    }
   ],
   "source": [
    "display(HTML(to_table(Terms, words, range(0,K))))\n",
    "display(HTML(to_table(Docs, range(0, len(docs)), range(0,K))))"
   ]
  },
  {
   "cell_type": "code",
   "execution_count": 19,
   "metadata": {},
   "outputs": [
    {
     "name": "stdout",
     "output_type": "stream",
     "text": [
      "topic 0\n",
      "['banana', 'orange', 'mango', 'strawberry']\n",
      "[['orange', 'mango', 'banana'], ['orange', 'strawberry', 'banana'], ['banana', 'mango', 'fruit']]\n",
      "\n",
      "topic 1\n",
      "['apple', 'mac', 'book', 'ios']\n",
      "[['apple', 'ios', 'mac', 'book'], ['apple', 'mac', 'book', 'apple', 'store'], ['mac', 'book', 'ios', 'store']]\n",
      "\n"
     ]
    }
   ],
   "source": [
    "sigma_w, sigma_d = 4, 3\n",
    "for t_k in range(0, K):\n",
    "    print 'topic', t_k\n",
    "    top_w = sorted([(i, wk) for i, wk in enumerate(Terms.T[t_k])], key=lambda y: -y[1])[:sigma_w]\n",
    "    top_d = sorted([(i, dk) for i, dk in enumerate(Docs.T[t_k])], key=lambda y: -y[1])[:sigma_d]\n",
    "    print [words[x[0]] for x in top_w]\n",
    "    print [docs[x[0]] for x in top_d]\n",
    "    print \"\""
   ]
  },
  {
   "cell_type": "code",
   "execution_count": null,
   "metadata": {
    "collapsed": true
   },
   "outputs": [],
   "source": []
  }
 ],
 "metadata": {
  "kernelspec": {
   "display_name": "Python 2",
   "language": "python",
   "name": "python2"
  },
  "language_info": {
   "codemirror_mode": {
    "name": "ipython",
    "version": 2
   },
   "file_extension": ".py",
   "mimetype": "text/x-python",
   "name": "python",
   "nbconvert_exporter": "python",
   "pygments_lexer": "ipython2",
   "version": "2.7.14"
  },
  "toc": {
   "base_numbering": 1,
   "nav_menu": {},
   "number_sections": true,
   "sideBar": true,
   "skip_h1_title": true,
   "title_cell": "Table of Contents",
   "title_sidebar": "Contents",
   "toc_cell": false,
   "toc_position": {},
   "toc_section_display": true,
   "toc_window_display": false
  }
 },
 "nbformat": 4,
 "nbformat_minor": 2
}
